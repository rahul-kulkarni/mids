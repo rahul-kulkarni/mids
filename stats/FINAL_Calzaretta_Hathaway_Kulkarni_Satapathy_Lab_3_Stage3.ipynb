{
 "cells": [
  {
   "cell_type": "markdown",
   "metadata": {},
   "source": [
    "# <center>An Analysis of the Determinants of Crime in North Carolina</center>\n",
    "<center><font size=\"3\">By Radhika Satapathy, Rahul Kulkarni,  Xander Hathaway, and Robert Calzaretta</font></center>\n",
    "<center><font size=\"3\">W203 Penner Section 2</font></center>\n",
    "<center><font size=\"3\">Final Report</font></center>"
   ]
  },
  {
   "cell_type": "markdown",
   "metadata": {},
   "source": [
    "## <font color='blue'>1.0 Introduction</font>\n",
    "RRXR Consulting has been tasked by the 1988 Gubernatorial re-election campaign of Governor James Martin to identify the key determinants of crime across the state of North Carolina and recommend crime-reduction policies for the Governor.  Specifically, the governor's campaign has asked our team, what is the relationship between crime rates and efficiency in law enforcement or the justice system?  To answer this question, our team focuses on understanding 'crime rate' and factors that could contribute to or reduce the crime based on  data such as U.S. Census demographic information, law enforcement statistics, and wage data. \n",
    "\n",
    "It is our primary assumption that creating policy suggestions focused on law enforcement and the justice system in North Carolina will allow for the most immediate impact on crime rate.  We also examine what other contributors to crimes committed per person might form a basis to help lower the crime rate across the state of North Carolina.  We proceed to identify such factors and incorporate them into a linear model applying ordinary least squares (OLS) estimates for the covariates of crime rates in North Carolinian counties.  We critique our models through analyses of residuals and through the econometric framework of classic linear models (CLM).  We consider potential sources of omitted variable bias in our analysis before finally making policy suggestions based on our findings."
   ]
  },
  {
   "cell_type": "markdown",
   "metadata": {},
   "source": [
    "## <font color='blue'>2.0 Initial Data Loading & Data Cleaning</font>\n",
    "The data relied upon in this report is derived from the paper C. Cornwell and W. Trumball (1994), “Estimating the Economic Model of Crime with Panel Data,” Review of Economics and Statistics 76, 360-366.  It contains county-level data for the state of North Carolina in 1987.  The following sections outline the details of data loading and data cleaning conducted for our analysis."
   ]
  },
  {
   "cell_type": "code",
   "execution_count": 93,
   "metadata": {},
   "outputs": [],
   "source": [
    "###\n",
    "#Load Packages\n",
    "###\n",
    "library(car)\n",
    "library(lmtest)\n",
    "library(ggcorrplot)\n",
    "library(sandwich)\n",
    "library(stargazer)\n",
    "\n",
    "###\n",
    "#Load Data\n",
    "###\n",
    "crimeData = read.csv(\"crime_v2.csv\", header = TRUE)"
   ]
  },
  {
   "cell_type": "markdown",
   "metadata": {},
   "source": [
    "The data set contains 25 fields and 90 observations after excluding records where all fields contain missing values and a duplicate entry for county 193.  The variables most immediately relevant to law enforcement and the policies of the justice system are 'prbarr', 'prbconv', 'prbpris', 'avgsen', and 'polpc' which measure the probabilities of arrest, conviction, and prison sentence, average sentencing time, and police per capita, respectively.  We consider these fields as potential candidates for key variables of interest against crime rates."
   ]
  },
  {
   "cell_type": "code",
   "execution_count": 94,
   "metadata": {},
   "outputs": [
    {
     "name": "stdout",
     "output_type": "stream",
     "text": [
      "Number of Observations"
     ]
    },
    {
     "data": {
      "text/html": [
       "91"
      ],
      "text/latex": [
       "91"
      ],
      "text/markdown": [
       "91"
      ],
      "text/plain": [
       "[1] 91"
      ]
     },
     "metadata": {},
     "output_type": "display_data"
    },
    {
     "name": "stdout",
     "output_type": "stream",
     "text": [
      "Duplicate County-Year Combinations"
     ]
    },
    {
     "data": {
      "text/html": [
       "<table>\n",
       "<thead><tr><th></th><th scope=col>county</th><th scope=col>year</th></tr></thead>\n",
       "<tbody>\n",
       "\t<tr><th scope=row>89</th><td>193</td><td>87 </td></tr>\n",
       "</tbody>\n",
       "</table>\n"
      ],
      "text/latex": [
       "\\begin{tabular}{r|ll}\n",
       "  & county & year\\\\\n",
       "\\hline\n",
       "\t89 & 193 & 87 \\\\\n",
       "\\end{tabular}\n"
      ],
      "text/markdown": [
       "\n",
       "| <!--/--> | county | year | \n",
       "|---|\n",
       "| 89 | 193 | 87  | \n",
       "\n",
       "\n"
      ],
      "text/plain": [
       "   county year\n",
       "89 193    87  "
      ]
     },
     "metadata": {},
     "output_type": "display_data"
    },
    {
     "name": "stdout",
     "output_type": "stream",
     "text": [
      "Number of Observations After Dropping Duplicates"
     ]
    },
    {
     "data": {
      "text/html": [
       "90"
      ],
      "text/latex": [
       "90"
      ],
      "text/markdown": [
       "90"
      ],
      "text/plain": [
       "[1] 90"
      ]
     },
     "metadata": {},
     "output_type": "display_data"
    },
    {
     "name": "stdout",
     "output_type": "stream",
     "text": [
      "Number of Fields"
     ]
    },
    {
     "data": {
      "text/html": [
       "25"
      ],
      "text/latex": [
       "25"
      ],
      "text/markdown": [
       "25"
      ],
      "text/plain": [
       "[1] 25"
      ]
     },
     "metadata": {},
     "output_type": "display_data"
    }
   ],
   "source": [
    "#eliminate last six rows of data that are empty\n",
    "crimeData = na.omit(crimeData)\n",
    "cat(\"Number of Observations\")\n",
    "length(crimeData$year)\n",
    "\n",
    "#Identify any duplicate observations\n",
    "cat(\"Duplicate County-Year Combinations\")\n",
    "crimeData[duplicated(crimeData$county),c('county','year')]\n",
    "\n",
    "#Eliminate duplicate entry for county 193\n",
    "crimeData <- unique(crimeData)\n",
    "cat(\"Number of Observations After Dropping Duplicates\")\n",
    "length(crimeData$year)\n",
    "\n",
    "cat('Number of Fields')\n",
    "length(colnames(crimeData))"
   ]
  },
  {
   "cell_type": "markdown",
   "metadata": {},
   "source": [
    "According to the U.S. Census Bureau's [Population of States and Counties of the United States: 1790 to 1990](https://www.census.gov/population/www/censusdata/pop1790-1990.html) there were 100 counties in North Carolina in 1987, indicating that our dataset is missing information for 10 counties.  This omission could potentially be a source of bias in our results.  Further investigation outside of this report is necessary to determine the extent of the bias.\n",
    "\n",
    "Next, we examine the summary statistics of the data fields."
   ]
  },
  {
   "cell_type": "code",
   "execution_count": 95,
   "metadata": {},
   "outputs": [
    {
     "name": "stdout",
     "output_type": "stream",
     "text": [
      "Summary Statistics by Field"
     ]
    },
    {
     "data": {
      "text/plain": [
       "     county           year        crmrte             prbarr       \n",
       " Min.   :  1.0   Min.   :87   Min.   :0.005533   Min.   :0.09277  \n",
       " 1st Qu.: 51.5   1st Qu.:87   1st Qu.:0.020604   1st Qu.:0.20495  \n",
       " Median :103.0   Median :87   Median :0.030002   Median :0.27146  \n",
       " Mean   :100.6   Mean   :87   Mean   :0.033510   Mean   :0.29524  \n",
       " 3rd Qu.:150.5   3rd Qu.:87   3rd Qu.:0.040249   3rd Qu.:0.34487  \n",
       " Max.   :197.0   Max.   :87   Max.   :0.098966   Max.   :1.09091  \n",
       "                                                                  \n",
       "        prbconv      prbpris           avgsen           polpc          \n",
       " 0.068376102: 1   Min.   :0.1500   Min.   : 5.380   Min.   :0.0007459  \n",
       " 0.140350997: 1   1st Qu.:0.3642   1st Qu.: 7.375   1st Qu.:0.0012378  \n",
       " 0.154451996: 1   Median :0.4222   Median : 9.110   Median :0.0014897  \n",
       " 0.203724995: 1   Mean   :0.4106   Mean   : 9.689   Mean   :0.0017080  \n",
       " 0.207830995: 1   3rd Qu.:0.4576   3rd Qu.:11.465   3rd Qu.:0.0018856  \n",
       " 0.220339   : 1   Max.   :0.6000   Max.   :20.700   Max.   :0.0090543  \n",
       " (Other)    :84                                                        \n",
       "    density            taxpc             west           central      \n",
       " Min.   :0.00002   Min.   : 25.69   Min.   :0.0000   Min.   :0.0000  \n",
       " 1st Qu.:0.54718   1st Qu.: 30.73   1st Qu.:0.0000   1st Qu.:0.0000  \n",
       " Median :0.97925   Median : 34.92   Median :0.0000   Median :0.0000  \n",
       " Mean   :1.43567   Mean   : 38.16   Mean   :0.2444   Mean   :0.3778  \n",
       " 3rd Qu.:1.56926   3rd Qu.: 41.01   3rd Qu.:0.0000   3rd Qu.:1.0000  \n",
       " Max.   :8.82765   Max.   :119.76   Max.   :1.0000   Max.   :1.0000  \n",
       "                                                                     \n",
       "     urban            pctmin80           wcon            wtuc      \n",
       " Min.   :0.00000   Min.   : 1.284   Min.   :193.6   Min.   :187.6  \n",
       " 1st Qu.:0.00000   1st Qu.:10.024   1st Qu.:250.8   1st Qu.:374.3  \n",
       " Median :0.00000   Median :24.852   Median :281.2   Median :404.8  \n",
       " Mean   :0.08889   Mean   :25.713   Mean   :285.4   Mean   :410.9  \n",
       " 3rd Qu.:0.00000   3rd Qu.:38.183   3rd Qu.:315.0   3rd Qu.:440.7  \n",
       " Max.   :1.00000   Max.   :64.348   Max.   :436.8   Max.   :613.2  \n",
       "                                                                   \n",
       "      wtrd            wfir            wser             wmfg      \n",
       " Min.   :154.2   Min.   :170.9   Min.   : 133.0   Min.   :157.4  \n",
       " 1st Qu.:190.7   1st Qu.:285.6   1st Qu.: 229.3   1st Qu.:288.6  \n",
       " Median :203.0   Median :317.1   Median : 253.1   Median :321.1  \n",
       " Mean   :210.9   Mean   :321.6   Mean   : 275.3   Mean   :336.0  \n",
       " 3rd Qu.:224.3   3rd Qu.:342.6   3rd Qu.: 277.6   3rd Qu.:359.9  \n",
       " Max.   :354.7   Max.   :509.5   Max.   :2177.1   Max.   :646.9  \n",
       "                                                                 \n",
       "      wfed            wsta            wloc            mix         \n",
       " Min.   :326.1   Min.   :258.3   Min.   :239.2   Min.   :0.01961  \n",
       " 1st Qu.:398.8   1st Qu.:329.3   1st Qu.:297.2   1st Qu.:0.08060  \n",
       " Median :448.9   Median :358.4   Median :307.6   Median :0.10095  \n",
       " Mean   :442.6   Mean   :357.7   Mean   :312.3   Mean   :0.12905  \n",
       " 3rd Qu.:478.3   3rd Qu.:383.2   3rd Qu.:328.8   3rd Qu.:0.15206  \n",
       " Max.   :598.0   Max.   :499.6   Max.   :388.1   Max.   :0.46512  \n",
       "                                                                  \n",
       "    pctymle       \n",
       " Min.   :0.06216  \n",
       " 1st Qu.:0.07437  \n",
       " Median :0.07770  \n",
       " Mean   :0.08403  \n",
       " 3rd Qu.:0.08352  \n",
       " Max.   :0.24871  \n",
       "                  "
      ]
     },
     "metadata": {},
     "output_type": "display_data"
    }
   ],
   "source": [
    "cat(\"Summary Statistics by Field\")\n",
    "summary(crimeData)"
   ]
  },
  {
   "cell_type": "markdown",
   "metadata": {},
   "source": [
    "The cleaned data set contains 90 observations and 25 fields.\n",
    "\n",
    "Summary statistics confirm that there are no missing values, however several variables stand out for additional cleaning/correction before they can be used for analysis:\n",
    "\n",
    "__'prbconv':__ needs to be recast as a numeric value and divided by one hundred to be defined as a decimal consistent with the other probability fields. Similarly, the field 'pctmin80' must be divided by one hundred to be consistent with other fields defined as percentages.\n",
    "\n",
    "__'prbarr':__ field is operationalized as the percent of offenses resulting in arrests. It therefore should take values between 0 and 1 as there should not be more arrests than offenses. A box plot shows that in one county this is not the case  - the field takes a value of 1.09. This stands out as erroneous and one that could have great leverage on any analysis relying upon the field. We therefore opt to replace it with the median value for the field across all rows of the data.\n",
    "\n",
    "__'wser':__ Our summary statistics also reveal a potential outlier for the wser field which captures weekly average service sector wages. One county has a reported service sector wage greater than $2,177 -this is almost ten times greater than the mean wage and also substantially larger than the average wage in higher paying sectors(e.g. financial services or manufacturing). A box plot confirms that this is a significant outlier. It is possible that this observation stems from a single job or a set of jobs classified as service sector jobs in a county, but which is unrepresentive of a general service sector job in North Carolina. It is also possible that this is erroneous data. Either way, since it could greatly skew our analysis, we opt to replace this value with the median value for the field across all rows of the data from the same Western region of the state as indicated by the field 'west'.\n",
    "\n",
    "__'density':__ The documentation of the data indicates that the population density field 'density' is measured as the \"number of people\" per square mile. If this were true, the maximum value of 8.82 implies that the densest county has less than 9 people per square mile. Given that there are urban counties in the data and that the 2018 estimate for population density for the state of North Carolina was 214 according to statistica.com, it appears that the values native to the data may actually be reflecting values corresponding to \"hundreds of people\" per square mile. Since this rule applies universally to all data points, we leave density as is, and choose to just interpret the metric in terms of hundreds of people per square mile.\n",
    "\n",
    "__'pctmin80':__ There are two percentage fields in the data ('pctymle', 'pctmin80') whose values are represented differently - one is expressed as a decimal fraction and the other as a percentage. Expressing both these values in the same system would ensure consistency and ease in interpretation. Therefore, 'pctmin80' is divided by 100 to model 'pctymle'.\n",
    "\n",
    "The section below details the corrections made to the above fields. The remaining fields in the data require no corrections at this time."
   ]
  },
  {
   "cell_type": "code",
   "execution_count": 96,
   "metadata": {},
   "outputs": [
    {
     "name": "stdout",
     "output_type": "stream",
     "text": [
      "Summary of recasted prbconv:"
     ]
    },
    {
     "data": {
      "text/plain": [
       "   Min. 1st Qu.  Median    Mean 3rd Qu.    Max. \n",
       " 0.0300  0.2525  0.4750  0.4750  0.6975  0.9200 "
      ]
     },
     "metadata": {},
     "output_type": "display_data"
    },
    {
     "name": "stdout",
     "output_type": "stream",
     "text": [
      "Summary of Arrest Probability After Revision:"
     ]
    },
    {
     "data": {
      "text/plain": [
       "   Min. 1st Qu.  Median    Mean 3rd Qu.    Max. \n",
       "0.09277 0.20495 0.27120 0.28613 0.34331 0.68902 "
      ]
     },
     "metadata": {},
     "output_type": "display_data"
    },
    {
     "data": {
      "image/png": "[encoded data removed]",
      "text/plain": [
       "Plot with title \"Histogram of Arrest Probability\""
      ]
     },
     "metadata": {},
     "output_type": "display_data"
    },
    {
     "name": "stdout",
     "output_type": "stream",
     "text": [
      "Region of Outlier"
     ]
    },
    {
     "data": {
      "text/html": [
       "<table>\n",
       "<thead><tr><th></th><th scope=col>west</th><th scope=col>central</th><th scope=col>urban</th></tr></thead>\n",
       "<tbody>\n",
       "\t<tr><th scope=row>84</th><td>0</td><td>1</td><td>0</td></tr>\n",
       "</tbody>\n",
       "</table>\n"
      ],
      "text/latex": [
       "\\begin{tabular}{r|lll}\n",
       "  & west & central & urban\\\\\n",
       "\\hline\n",
       "\t84 & 0 & 1 & 0\\\\\n",
       "\\end{tabular}\n"
      ],
      "text/markdown": [
       "\n",
       "| <!--/--> | west | central | urban | \n",
       "|---|\n",
       "| 84 | 0 | 1 | 0 | \n",
       "\n",
       "\n"
      ],
      "text/plain": [
       "   west central urban\n",
       "84 0    1       0    "
      ]
     },
     "metadata": {},
     "output_type": "display_data"
    },
    {
     "name": "stdout",
     "output_type": "stream",
     "text": [
      "Summary of Service Sector Wages After Revision:"
     ]
    },
    {
     "data": {
      "text/plain": [
       "   Min. 1st Qu.  Median    Mean 3rd Qu.    Max. \n",
       "  133.0   229.3   252.2   253.9   275.9   391.3 "
      ]
     },
     "metadata": {},
     "output_type": "display_data"
    },
    {
     "name": "stdout",
     "output_type": "stream",
     "text": [
      "Summary of Density"
     ]
    },
    {
     "data": {
      "text/plain": [
       "   Min. 1st Qu.  Median    Mean 3rd Qu.    Max. \n",
       "0.00002 0.54718 0.97925 1.43567 1.56926 8.82765 "
      ]
     },
     "metadata": {},
     "output_type": "display_data"
    },
    {
     "name": "stdout",
     "output_type": "stream",
     "text": [
      "Summary of Percent Minorities"
     ]
    },
    {
     "data": {
      "text/plain": [
       "   Min. 1st Qu.  Median    Mean 3rd Qu.    Max. \n",
       "0.01284 0.10024 0.24852 0.25713 0.38183 0.64348 "
      ]
     },
     "metadata": {},
     "output_type": "display_data"
    },
    {
     "data": {
      "image/png": "[encoded data removed]",
      "text/plain": [
       "Plot with title \"Histogram of Service Sector Wages\""
      ]
     },
     "metadata": {},
     "output_type": "display_data"
    }
   ],
   "source": [
    "# Probability of conviction, 'prbconv' is stored as string; recasting as numeric\n",
    "crimeData$prbconv = as.numeric(crimeData$prbconv)/100\n",
    "cat('Summary of recasted prbconv:')\n",
    "summary(crimeData$prbconv)\n",
    "\n",
    "# Probability of arrest, 'prbarr' greater than 1; set to median value\n",
    "boxplot(crimeData$prbarr, main=\"Histogram of Arrest Probability\", ylab=\"Probability\", cex=.5)\n",
    "med = median(crimeData[, c('prbarr')])\n",
    "crimeData[crimeData$prbarr>1, c('prbarr')] <- med\n",
    "cat(\"Summary of Arrest Probability After Revision:\")\n",
    "summary(crimeData$prbarr)\n",
    "\n",
    "# Large outlier for service industry wage, 'wser'.  \n",
    "# Very unlikely to be a true value.  Capture median and replace.\n",
    "boxplot(crimeData$wser, main=\"Histogram of Service Sector Wages\", ylab=\"Wage\", cex=.5)\n",
    "cat(\"Region of Outlier\")\n",
    "crimeData[crimeData$wser>500, c('west','central','urban')]\n",
    "med = median(crimeData[crimeData$west==1, c('wser')])\n",
    "crimeData[crimeData$wser>500,c('wser')] <- med\n",
    "cat(\"Summary of Service Sector Wages After Revision:\")\n",
    "summary(crimeData$wser)\n",
    "\n",
    "# Summarize Density\n",
    "cat(\"Summary of Density\")\n",
    "summary(crimeData$density)\n",
    "\n",
    "# Standardize percentage of minorities field, 'pctmin80' to be decimal\n",
    "crimeData$pctmin80 = crimeData$pctmin80/100\n",
    "cat(\"Summary of Percent Minorities\")\n",
    "summary(crimeData$pctmin80)"
   ]
  },
  {
   "cell_type": "markdown",
   "metadata": {},
   "source": [
    "## <font color='blue'>3.0 Exploratory Data Analysis</font>\n"
   ]
  },
  {
   "cell_type": "markdown",
   "metadata": {},
   "source": [
    "As a first step, we construct plots to analyze the relationship between various variables provided in the data against crime rate.  These include comparing crime rate with fields related to crime enforcement, county demographics, and economic data such as tax rate and wages. Below we produce a correlation matrix of these potential covariates to better elucidate their relationship with crime rate and each other."
   ]
  },
  {
   "cell_type": "code",
   "execution_count": 97,
   "metadata": {},
   "outputs": [
    {
     "data": {},
     "metadata": {},
     "output_type": "display_data"
    },
    {
     "data": {
      "image/png": "[encoded data removed]",
      "text/plain": [
       "plot without title"
      ]
     },
     "metadata": {},
     "output_type": "display_data"
    }
   ],
   "source": [
    "# Overall Correlogram\n",
    "corr <- cor(crimeData[ ,c('crmrte','prbarr','prbconv', 'prbpris','polpc','density','taxpc','pctmin80','pctymle','west', 'urban', 'central','wcon','wtuc','wtrd','wfir','wser','wmfg','wfed','wsta','wloc')],use=\"complete.obs\")\n",
    "corr = round(corr,2)\n",
    "ggcorrplot(corr, hc.order = F, type = \"lower\", lab=T, lab_size=2.25,\n",
    "          legend.title=\"Coefficient\",\n",
    "          title=\"Correlation Matrix of Covariates of Crime Rate\")"
   ]
  },
  {
   "cell_type": "markdown",
   "metadata": {},
   "source": [
    "As the goal of our study is to evaluate policy decisions on law enforcement and the justice system, we take a more narrow look at some of the metrics reflcting these areas and their effect on crime rate: \n",
    "\n",
    "- 'prbarr': The probability that a reported crime results in arrest<br><br>\n",
    "- 'prbconv': The probability that an arrest results in a sentence conviction<br><br>\n",
    "- 'prbpris': The probability that a conviction results in prison time<br><br>\n",
    "- 'avgsen': The average sentence for a prison conviction<br><br>\n",
    "- 'polpc': The number of police per capita which reflects the density of police within a population<br><br>"
   ]
  },
  {
   "cell_type": "code",
   "execution_count": 98,
   "metadata": {},
   "outputs": [
    {
     "data": {},
     "metadata": {},
     "output_type": "display_data"
    },
    {
     "data": {
      "image/png": "[encoded data removed]",
      "text/plain": [
       "plot without title"
      ]
     },
     "metadata": {},
     "output_type": "display_data"
    },
    {
     "data": {
      "image/png": "[encoded data removed]",
      "text/plain": [
       "plot without title"
      ]
     },
     "metadata": {},
     "output_type": "display_data"
    }
   ],
   "source": [
    "scatterplotMatrix(crimeData[,c('crmrte','prbarr','prbconv','prbpris','avgsen','polpc')], \n",
    "                  main='Scatter Matrix of Crime Rate and Law Enforcement Efficiency')\n",
    "\n",
    "corr=round(cor(crimeData[c('crmrte','prbarr','prbconv','prbpris','avgsen','polpc')],use=\"complete.obs\"),2)\n",
    "ggcorrplot(corr, hc.order = F, type = \"lower\", lab = T, \n",
    "          title = \"Correlation Matrix Among Law Enforcement Efficiency Categories\")"
   ]
  },
  {
   "cell_type": "markdown",
   "metadata": {},
   "source": [
    "The correlation matrix above shows prbarr and prbconv to be the items with the highest correlation with crime rate. The scatter matrix also conveys that these two metrics have the most obvious pattern in relation to crime rate. We can hypothesize that these two metrics measure the chances of a criminal being caught. Being caught with enough evidence to be convicted, manifests itself as more of a deterrent to crime than the resulting punishments of crime captured by 'prbpris' and 'avgsen'. This indicates the possibility that the accepted use of prison as a deterrent for crime may be an ineffective form of punishment. "
   ]
  },
  {
   "cell_type": "markdown",
   "metadata": {},
   "source": [
    "The 'polpc' metric represents the density of police in an area with respect to the population size. Although high police density may seem to indicate a higher detterence to crime (as law enforcement folks are the ones who can actually stop crime in the act), the data indicates the contrary, showing a slightly positive correlation with crime rate. In fact police density and crime rate may represent a chicken and the egg situation - local governments may supply areas with higher crime more police in an effort to combat the existing crime, or it may be the case where a high police presence is still not able to deter the high crime that is prevalent in the area.\n",
    "\n",
    "Another rationale could be that areas seeming to reflect high crime numbers may just have more officers to report and catch crimes, resulting in higher reported crime rates, when compared to areas with the same number of crimes but with a lower police density numbers. Without any time series data it is difficult to establish the effect of police numbers on crime rates therefore we choose to exclude the police density variable from our causal model."
   ]
  },
  {
   "cell_type": "markdown",
   "metadata": {},
   "source": [
    "## <font color='blue'>4.0 Regression Models</font>\n",
    "\n",
    "In this section, we implement three models of crime rate applying the research from our EDA.  \n",
    "\n",
    "At the outset, we log transform our dependent variable, 'crmrte' variable for two reasons: \n",
    " - First, a histogram of crmrte demonstrates a negative skew.  By taking the log-transformed version of crmrte,  we are able to better normalize the distribution of our dependent variable and thereby potentially reduce the risk of a non-normal distribution in our residuals as well as mitigate the risk of creating biased estimates.   \n",
    " <br>\n",
    " - Second, the transformed variable log(crmrte) allows for the interpretation in terms of a percentage increase or decrease in crime rate.  A 3% increase in the crime rate is more meaningful than a variation in crimes committed measured as 0.03 crimes per person. As there are no counties with zero or negative rates of crime, this log transformation will not cause any observations to be excluded due to undefined values or create any difficluties in interpretation. \n"
   ]
  },
  {
   "cell_type": "code",
   "execution_count": 99,
   "metadata": {
    "scrolled": true
   },
   "outputs": [
    {
     "name": "stdout",
     "output_type": "stream",
     "text": [
      "Number of observations with zero crime rate"
     ]
    },
    {
     "data": {
      "text/html": [
       "0"
      ],
      "text/latex": [
       "0"
      ],
      "text/markdown": [
       "0"
      ],
      "text/plain": [
       "[1] 0"
      ]
     },
     "metadata": {},
     "output_type": "display_data"
    },
    {
     "name": "stderr",
     "output_type": "stream",
     "text": [
      "Warning message in plot.window(xlim, ylim, \"\", ...):\n",
      "\"\"bins\" is not a graphical parameter\"Warning message in title(main = main, sub = sub, xlab = xlab, ylab = ylab, ...):\n",
      "\"\"bins\" is not a graphical parameter\"Warning message in axis(1, ...):\n",
      "\"\"bins\" is not a graphical parameter\"Warning message in axis(2, ...):\n",
      "\"\"bins\" is not a graphical parameter\""
     ]
    },
    {
     "data": {
      "image/png": "[encoded data removed]",
      "text/plain": [
       "Plot with title \"Histogram of Log Crime Rate\""
      ]
     },
     "metadata": {},
     "output_type": "display_data"
    }
   ],
   "source": [
    "cat(\"Number of observations with zero crime rate\")\n",
    "length(crimeData[crimeData$crmrte<=0, c('crmrte')])\n",
    "\n",
    "par(mfrow=c(1,2), cex=.75, cex.axis=.75)\n",
    "hist(crimeData$crmrte, \n",
    "     main=\"Histogram of Crime Rate\",\n",
    "     xlab= \"Crime Rate\")\n",
    "hist(log(crimeData$crmrte), bins=10,\n",
    "     main=\"Histogram of Log Crime Rate\",\n",
    "     xlab= \"Log Crime Rate\")"
   ]
  },
  {
   "cell_type": "markdown",
   "metadata": {},
   "source": [
    "### 4.1 Regression Model 1\n",
    "#### 4.1.0 Model Design and Results\n",
    "The baseline regression is specified as follows:<br><br>\n",
    "$$\n",
    "\\begin{align}\n",
    "{log(crmrte)} = \\beta_{0} \n",
    "    + \\beta_{1} \\mathrm{prbarr}  \n",
    "    + \\beta_{2} \\mathrm{prbconv}  \n",
    "    + \\beta_{3} \\mathrm{prbpris}     \n",
    "    + u\n",
    "\\end{align}\n",
    "$$ <br>\n",
    "where\n",
    "\n",
    "$ \\beta_{0} $ is the constant effect on crime rate, \n",
    "\n",
    "$ \\beta_{1} $ is the coefficient associated with a single percentage point increase in the probability of arrest, \n",
    "\n",
    "$ \\beta_{2} $is the coefficient associated with a single percentage point increase in the probability of conviction, \n",
    "\n",
    "$ \\beta_{3} $ is the coefficient associated with a single percentage point increase in the probability of sentencing, and\n",
    "\n",
    "__u__ is the error term for the regression.\n",
    "\n",
    "We omit the related variable 'avgsen'.  While it can be argued that this field can serve as a metric for the efficiency of law enforcement, with higher sentencing durations associated with law enforcement making better cases against criminals, the inclusion of this field count introduce several problems.  \n",
    "\n",
    "First, it is not clear that a higher average sentencing alone would have an impact on crime rates as the nature of crimes will differ by county with certain crimes meriting higher sentencing.  Thus, a county might have a very high average sentence, but a low crime rate due to the nature of the few crimes committed in the county being more severe. \n",
    "\n",
    "Furthermore, as documented in [The North Carolina Sentencing and Policy Advisory Commission: A History of its Creation and its Development of Structured Sentencing](https://www.nccourts.gov/assets/documents/publications/commission_history_aug2009.pdf?O7ZRQnnfMS8XX67WIOodhh7g8.UPWR3_), sentencing standardization is still underway in North Carolina at this time.  Therefore, sentencing structures and the extent of judges discretion in sentencing still differ widely by county. A better metric related to sentencing might be the average ratio of sentence duration to maximum allowable sentence for given crimes.  However, such information is not readily available.  \n",
    "\n",
    "Third, well documented racial bias in sentencing durations creates a potential distortion in interpretation with counties with higher populations of racial minority groups being characterized with higher sentencing durations, despite having comparable crime rates, than a county with fewer minority groups.  \n",
    "\n",
    "Lastly, there could be countervailing forces determining the relationship between crime rate and average sentencing duration.  The prospect of a high average sentencing might deter criminals; however, average sentencing might be lowered in a given county just because crime rates are high and lower sentencing durations help speed up the legal process by reducing appeals or being an artifact of encouraging plea deals facilitating convictions.  \n",
    "\n",
    "A more detailed data set would be necessary to more reliably examine the relationship between sentencing durations and crime rates."
   ]
  },
  {
   "cell_type": "code",
   "execution_count": 100,
   "metadata": {},
   "outputs": [
    {
     "name": "stdout",
     "output_type": "stream",
     "text": [
      "\n",
      "Baseline Linear Model Predicting Crime Rate\n",
      "==========================================\n",
      "                  Dependent variable:     \n",
      "             -----------------------------\n",
      "                      log(crmrte)         \n",
      "------------------------------------------\n",
      "prbarr                 -2.308***          \n",
      "                        (0.455)           \n",
      "                                          \n",
      "prbconv                -1.025***          \n",
      "                        (0.189)           \n",
      "                                          \n",
      "prbpris                  0.155            \n",
      "                        (0.595)           \n",
      "                                          \n",
      "Constant               -2.458***          \n",
      "                        (0.305)           \n",
      "                                          \n",
      "------------------------------------------\n",
      "Observations              90              \n",
      "R2                       0.344            \n",
      "Adjusted R2              0.321            \n",
      "F Statistic     15.000*** (df = 3; 86)    \n",
      "==========================================\n",
      "Note:        *p<0.05; **p<0.01; ***p<0.001\n"
     ]
    }
   ],
   "source": [
    "# Model 1 - Base Model\n",
    "model1 = lm(log(crmrte) ~ \n",
    "              prbarr \n",
    "            + prbconv \n",
    "            + prbpris\n",
    "            , data=crimeData)\n",
    "model1table <- stargazer(model1, type = \"text\", \n",
    "                 title = \"Baseline Linear Model Predicting Crime Rate\",\n",
    "                 keep.stat = c(\"rsq\", \"adj.rsq\", \"n\", \"F\"),\n",
    "                 star.cutoffs = c(0.05, 0.01, 0.001))"
   ]
  },
  {
   "cell_type": "markdown",
   "metadata": {},
   "source": [
    "The results from the base model indicate that the largest factor on crime rate is the probability of arrest, with a negative regression coefficient of 2.3, which implies that a percentage point increase in the probability of arrest is associated with a 2.3% reduction in crime rates.  This results is statistically significant to the 0.001 signifcance level using normal standard errors.  That is, we can strongly reject the null hypothesis that the probability of arrest has no effect on crime rate.  The coefficient for the probability of conviction is negative 1.0, implying that a percentage point increase in the probability of convictions is associated with a 1% reduction in crime.  This result is also statistically significant at the 0.001 level.  Lastly, the probability of a prison sentence is associated with a 0.2% _increase_ in crime rates.  The coefficient is not statistically significant; thus, we cannot reject the hypothesis that $B_3$ is zero or the probability of a prison sentence has no effect on crime rates.  The direction and relative size of these effects are in line with expectations.  Arrests, being the most immediate consequence of crime, have the largest negative impact on crime as their likelihood increases, while convictions also have a negative impact on crime, but the effect is smaller as might be expected as the consequence less immediately impacts criminals.  The effect of prison sentencing is nominally, although barely positive and statistically indistinguishable from zero which likely reflects the countervailing forces of a higher likelihood of receiving a prison sentence serving as a deterrent of crime, and a prison sentence increasing the likelihood of recidivism (_i.e._, the likelihood of a criminal reoffending).  This latter effect ([well documented](https://www.ncbi.nlm.nih.gov/pmc/articles/PMC4788463/) in the literature) appears to offset the former, suggesting that the psychological impact of prison and poor economic and social opportunities available to ex-inmates may be associated with repeated criminal behavior that outweighs the discouragement factor that a prison sentence might have for initial offenders.  \n",
    "\n",
    "While the our $R^2$ of our baseline model is modest, suggesting that only 34% of the variation in crime rate is explained by our three covariates, the F-statistic for the model's overall signficance indicates that three covariates are jointly statistically signficant explanatory variables for crime rate at the 0.001 significance level.\n"
   ]
  },
  {
   "cell_type": "markdown",
   "metadata": {},
   "source": [
    "#### 4.1.2 Evaluation Summary\n",
    "An analysis of residuals and consideration for the assumptions of the CLM framework reveal that the results of our baseline model are unreliable.  Violations of the zero conditional mean and homoskedasticity of errors assumptions, along with the likely presence of endogeneity means that our estimates are likely biased and not consistent.  We will go into more details on these issues in the context of the CLM framework in Section 4.4."
   ]
  },
  {
   "cell_type": "code",
   "execution_count": 101,
   "metadata": {},
   "outputs": [
    {
     "data": {
      "image/png": "[encoded data removed]",
      "text/plain": [
       "Plot with title \"\""
      ]
     },
     "metadata": {},
     "output_type": "display_data"
    }
   ],
   "source": [
    "par(mfrow=c(1,2), cex=.75, cex.axis=.75)\n",
    "plot(model1, which=1) #Residuals vs. Fitted\n",
    "plot(model1, which=3) #Scale-Location"
   ]
  },
  {
   "cell_type": "markdown",
   "metadata": {},
   "source": [
    "To account for the apparent heteroskedasticity in the error term, we revise our baseline model to apply robust standard errors.  The interpretation of the statistical significance of our coefficients remain the same after this adjustment; _i.e._, prbarr and prbconv remain significant at the 0.001 level.  In the next phase of our analysis, we will consider additional covariates of crime rate that can be added to our baseline model in an effort to enhance its reliability."
   ]
  },
  {
   "cell_type": "code",
   "execution_count": 102,
   "metadata": {},
   "outputs": [
    {
     "name": "stdout",
     "output_type": "stream",
     "text": [
      "\n",
      "Baseline Model with Robust S.E.s\n",
      "==========================================\n",
      "                  Dependent variable:     \n",
      "             -----------------------------\n",
      "                      log(crmrte)         \n",
      "------------------------------------------\n",
      "prbarr                 -2.308***          \n",
      "                        (0.554)           \n",
      "                                          \n",
      "prbconv                -1.025***          \n",
      "                        (0.246)           \n",
      "                                          \n",
      "prbpris                  0.155            \n",
      "                        (0.707)           \n",
      "                                          \n",
      "Constant               -2.458***          \n",
      "                        (0.384)           \n",
      "                                          \n",
      "------------------------------------------\n",
      "Observations              90              \n",
      "R2                       0.344            \n",
      "Adjusted R2              0.321            \n",
      "F Statistic     15.000*** (df = 3; 86)    \n",
      "==========================================\n",
      "Note:        *p<0.05; **p<0.01; ***p<0.001\n"
     ]
    }
   ],
   "source": [
    "#coeftest(model1, vcov = vcovHC)\n",
    "se.model1.robust = sqrt(diag(vcovHC(model1)))\n",
    "model1table <- stargazer(model1, type = \"text\", \n",
    "                         title = \"Baseline Model with Robust S.E.s\",\n",
    "                         keep.stat = c(\"rsq\", \"adj.rsq\", \"n\", \"F\"),\n",
    "                         se = list(se.model1.robust),\n",
    "                         star.cutoffs = c(0.05, 0.01, 0.001))"
   ]
  },
  {
   "cell_type": "markdown",
   "metadata": {},
   "source": [
    "### 4.2 Regression Model 2\n",
    "\n"
   ]
  },
  {
   "cell_type": "markdown",
   "metadata": {},
   "source": [
    "We next construct a second model to improve over the base model with potential additional covariates and transformations.\n",
    "\n",
    "The overall correlogram from section 3.0 reveals that crime rate is highly correlated with __density (0.73)__. Intuitively, greater the number of people, greater the number of crimes. This is one of the top reasons cited for significantly higher crime rates in urban areas. Crime rates generally follow a decreasing pattern across urban, suburban and rural regions for the very reason therefore any anomaly in this expected trend could call for a reform in resource allocation or improvement in efficiency of law enforcement agencies.\n",
    "\n",
    "There also seems to be a slight correlation between crime rate and __percent minorities (0.18)__ and crime rate and __percentage of young males (0.29)__. Population in this demographic is most vulnerable to social problems such as alcohol and drug abuse, and in the backdrop of poverty, homelessness, parental neglect, unemployment, discrimination and feelings of racial bias, individuals from this demographic find most motivation for crime. Studies reveal that the greatest number of crimes are committed by those between the ages of 15-24. Therefore assessing the influence of percent minorities and young males on crime rate, might help form the basis for recommending correctional programs targeted  at this specific demographic.\n"
   ]
  },
  {
   "cell_type": "code",
   "execution_count": 103,
   "metadata": {},
   "outputs": [
    {
     "data": {
      "image/png": "[encoded data removed]",
      "text/plain": [
       "Plot with title \"Variation of Crime Rate w/- % Young Males \""
      ]
     },
     "metadata": {},
     "output_type": "display_data"
    },
    {
     "data": {
      "image/png": "[encoded data removed]",
      "text/plain": [
       "Plot with title \"Histogram of Percent Minorities\""
      ]
     },
     "metadata": {},
     "output_type": "display_data"
    }
   ],
   "source": [
    "# Analysis of crime rate with socio-economic and demographic indicators\n",
    "\n",
    "par(mfrow=c(2,2))\n",
    "\n",
    "plot(crimeData$prbarr,crimeData$crmrte, main = 'Variation of Crime Rate w/- Density ', ylab = 'Crime Rate', xlab = 'Density' )\n",
    "abline(lm(crimeData$crmrte ~ crimeData$density), col = \"red\" , lwd = 2 )\n",
    "\n",
    "plot(crimeData$prbarr,crimeData$crmrte, main = 'Variation of Crime Rate w/- Tax Per Capita ', ylab = 'Crime Rate', xlab = 'Tax per capita' )\n",
    "abline(lm(crimeData$crmrte ~ crimeData$taxpc), col = \"red\" , lwd = 2 )\n",
    "\n",
    "plot(crimeData$prbconv, crimeData$crmrte, main = 'Variation of Crime Rate w/- % Minorities ', ylab = 'Crime Rate', xlab = '% Minorities')\n",
    "abline(lm(crimeData$crmrte~crimeData$pctmin80), col=\"red\") \n",
    "\n",
    "plot(crimeData$prbpris, crimeData$crmrte, main = 'Variation of Crime Rate w/- % Young Males ', ylab = 'Crime Rate', xlab = '% Young Males')\n",
    "abline(lm(crimeData$crmrte~crimeData$pctymle), col=\"red\")\n",
    "\n",
    "hist(crimeData$density, main = 'Histogram of Density', xlab = 'Density')\n",
    "hist(crimeData$taxpc, main = 'Histogram of Tax Per Capita', xlab = 'Tax per capita')\n",
    "hist(crimeData$pctymle, main = 'Histogram of Percent Young Males', xlab = '% Young Males')\n",
    "hist(crimeData$pctmin80, main = 'Histogram of Percent Minorities', xlab = '% Minorities')"
   ]
  },
  {
   "cell_type": "markdown",
   "metadata": {},
   "source": [
    "Lastly, we also observe correlation between crime rate and __wage gap__.  [Outside research](https://www.economist.com/graphic-detail/2018/06/07/the-stark-relationship-between-income-inequality-and-crime) suggests that economic inequality could be cause for crime as the wider the gap, the greater the incentive to try and even the gap outside of legal means.  Our EDA suggests a non-linear relationship between the wage gap and crime rate and so we include wgap.sq to account for the apparent nonlinear relationship of the wage gap as it scales as demonstrated by the middle dotted-line in the scatter plot below."
   ]
  },
  {
   "cell_type": "code",
   "execution_count": 104,
   "metadata": {},
   "outputs": [
    {
     "name": "stdout",
     "output_type": "stream",
     "text": [
      "Correlation between Crime Rate and Wage Gap"
     ]
    },
    {
     "data": {
      "text/html": [
       "<table>\n",
       "<thead><tr><th></th><th scope=col>crmrte</th><th scope=col>wgap</th></tr></thead>\n",
       "<tbody>\n",
       "\t<tr><th scope=row>crmrte</th><td>1.0000000</td><td>0.1542737</td></tr>\n",
       "\t<tr><th scope=row>wgap</th><td>0.1542737</td><td>1.0000000</td></tr>\n",
       "</tbody>\n",
       "</table>\n"
      ],
      "text/latex": [
       "\\begin{tabular}{r|ll}\n",
       "  & crmrte & wgap\\\\\n",
       "\\hline\n",
       "\tcrmrte & 1.0000000 & 0.1542737\\\\\n",
       "\twgap & 0.1542737 & 1.0000000\\\\\n",
       "\\end{tabular}\n"
      ],
      "text/markdown": [
       "\n",
       "| <!--/--> | crmrte | wgap | \n",
       "|---|---|\n",
       "| crmrte | 1.0000000 | 0.1542737 | \n",
       "| wgap | 0.1542737 | 1.0000000 | \n",
       "\n",
       "\n"
      ],
      "text/plain": [
       "       crmrte    wgap     \n",
       "crmrte 1.0000000 0.1542737\n",
       "wgap   0.1542737 1.0000000"
      ]
     },
     "metadata": {},
     "output_type": "display_data"
    },
    {
     "data": {
      "image/png": "[encoded data removed]",
      "text/plain": [
       "plot without title"
      ]
     },
     "metadata": {},
     "output_type": "display_data"
    }
   ],
   "source": [
    "crimeData$wage.min <- apply(crimeData[15:23], 1, min)\n",
    "crimeData$wage.max <- apply(crimeData[15:23], 1, max)\n",
    "crimeData$wgap <- crimeData$wage.max-crimeData$wage.min\n",
    "\n",
    "cat(\"Correlation between Crime Rate and Wage Gap\")\n",
    "cor(crimeData[c('crmrte','wgap')])\n",
    "\n",
    "scatterplotMatrix(crimeData[,c('crmrte','wgap')], \n",
    "                  main='Scatter Plot of Crime Rate and Wage Gap')\n",
    "\n",
    "crimeData$wgap.sq <- crimeData$wgap^2"
   ]
  },
  {
   "cell_type": "markdown",
   "metadata": {},
   "source": [
    "#### 4.2.1 Model Design and Results\n",
    "\n",
    "Based on the prior discussion on the correlation between density, percent minorities and percent young males on crime rate, we explore a model constructed by adding these variables to the base model. \n",
    "\n",
    "__Base Model__:\n",
    "$$\n",
    "\\begin{align}\n",
    "{log(crmrte)} = \\beta_{0} \n",
    "    + \\beta_{1} \\mathrm{prbarr}  \n",
    "    + \\beta_{2} \\mathrm{prbconv}  \n",
    "    + \\beta_{3} \\mathrm{prbpris}  \n",
    "    + u\n",
    "\\end{align}\n",
    "$$\n",
    "\n",
    "__Model 2:__\n",
    "$$\n",
    "\\begin{align}\n",
    "{log(crmrte)} = \\beta_{0} \n",
    "    + \\beta_{1} \\mathrm{prbarr}  \n",
    "    + \\beta_{2} \\mathrm{prbconv}  \n",
    "    + \\beta_{3} \\mathrm{prbpris}  \n",
    "    + \\beta_{4} \\mathrm{pctymle}  \n",
    "    + \\beta_{5} \\mathrm{pctmin80}  \n",
    "    + \\beta_{6} \\mathrm{wgap}      \n",
    "    + \\beta_{7} \\mathrm{wgap.sq}      \n",
    "    + \\beta_{8} \\mathrm{density}   \n",
    "    + u\n",
    "\\end{align}\n",
    "$$"
   ]
  },
  {
   "cell_type": "code",
   "execution_count": 105,
   "metadata": {},
   "outputs": [
    {
     "name": "stdout",
     "output_type": "stream",
     "text": [
      "\n",
      "Supplemental Linear Model Predicting Crime Rate\n",
      "==========================================\n",
      "                  Dependent variable:     \n",
      "             -----------------------------\n",
      "                      log(crmrte)         \n",
      "------------------------------------------\n",
      "prbarr                 -1.547**           \n",
      "                        (0.473)           \n",
      "                                          \n",
      "prbconv                -0.719**           \n",
      "                        (0.237)           \n",
      "                                          \n",
      "prbpris                 -0.238            \n",
      "                        (0.509)           \n",
      "                                          \n",
      "pctymle                  3.225            \n",
      "                        (2.224)           \n",
      "                                          \n",
      "wgap                    0.011*            \n",
      "                        (0.005)           \n",
      "                                          \n",
      "wgap.sq                -0.00002*          \n",
      "                       (0.00001)          \n",
      "                                          \n",
      "pctmin80               1.103***           \n",
      "                        (0.301)           \n",
      "                                          \n",
      "density                0.149***           \n",
      "                        (0.032)           \n",
      "                                          \n",
      "Constant               -5.092***          \n",
      "                        (0.966)           \n",
      "                                          \n",
      "------------------------------------------\n",
      "Observations              90              \n",
      "R2                       0.665            \n",
      "Adjusted R2              0.632            \n",
      "F Statistic     20.121*** (df = 8; 81)    \n",
      "==========================================\n",
      "Note:        *p<0.05; **p<0.01; ***p<0.001\n"
     ]
    }
   ],
   "source": [
    "model2 = lm(log(crmrte) ~ \n",
    "              prbarr \n",
    "            + prbconv \n",
    "            + prbpris\n",
    "            + pctymle\n",
    "            + wgap\n",
    "            + wgap.sq\n",
    "            + pctmin80\n",
    "            + density\n",
    "\n",
    "            , data=crimeData)\n",
    "\n",
    "se.model2.robust = sqrt(diag(vcovHC(model2)))\n",
    "\n",
    "stargazer(list(model2), type = \"text\", \n",
    "                 font.size='small',\n",
    "                 column.sep.width = \"1pt\",\n",
    "                 title = \"Supplemental Linear Model Predicting Crime Rate\",\n",
    "                 se = list(se.model2.robust),\n",
    "                 keep.stat = c(\"rsq\", \"adj.rsq\", \"n\", \"F\"),\n",
    "                 star.cutoffs = c(0.05, 0.01, 0.001))"
   ]
  },
  {
   "cell_type": "markdown",
   "metadata": {},
   "source": [
    "__4.2.3 Evaluation Summary__\n",
    "\n",
    "The results above show that our baseline model results are fairly robust to the inclusion of additional controls; however, the inclusion of additional variables clearly impacts the results. Specifically, we see the effects of 'prbarr' and 'prbconv' diminish. This model suggests that a percentage point increase in the probabilities of arrest or conviction decrease crime by about 1.5% and 0.7% respectively. Moreover, with robust standard errors, the significance of these fields declines to the 0.01 level. We continue to see an effect of 'prbpris' that is statistically indistinguishable from zero, although the sign of the coefficient changes to be negative.\n",
    "\n",
    "Next, we consider the new variables included in the regression. We find that the 'pctymle' effect is to increase crime rates by 3.2% as the percentage of young males in the county increases by a percentage point. While this value is not statistically significant at the 0.05 level, it is practically quite large, suggesting that it could merit further investigation by policymakers. \n",
    "\n",
    "We also find that 'pctmin80' has a positive 1.1% effect on crime rates per percentage point increase. This result is statistically significant at the 0.001 level suggesting strong evidence for racial bias in law enforcement or systemic racism driving crime rates in areas with larger minority populations. Additionally, density has a positive and statistically significant effect on crime rate with an increase in population density of 100 people per square mile associated with a large 15% increase in crime rates.\n",
    "\n",
    "Lastly, we consider the more complicated effect of wage gap on crime rates. The regression result show that both the wgap and wgap.sq variables have a statistically significant effect at the 0.05 level. While the coefficient on wgap indicates the expected positive effect on crime rates, squared-term indicates that this effect diminishes as the wage gap increases. Per the equations below, while nominally an increase in the wage gap by one only dollar suggests a 1.1% increase in crime rates, factoring in the diminishing effect of negative 0.002% per dollar, we find that the wage gap only increase crime rate by 0.2% at the wage gap's mean value of $258.11. Restated, a one dollar increase from the mean value of wage gap only has a marginal effect on crime rate of 0.2%."
   ]
  },
  {
   "cell_type": "code",
   "execution_count": 106,
   "metadata": {},
   "outputs": [
    {
     "name": "stdout",
     "output_type": "stream",
     "text": [
      "Marginal Effect of Wage Gap:"
     ]
    },
    {
     "data": {
      "text/html": [
       "<strong>wgap:</strong> 1.13"
      ],
      "text/latex": [
       "\\textbf{wgap:} 1.13"
      ],
      "text/markdown": [
       "**wgap:** 1.13"
      ],
      "text/plain": [
       "wgap \n",
       "1.13 "
      ]
     },
     "metadata": {},
     "output_type": "display_data"
    },
    {
     "name": "stdout",
     "output_type": "stream",
     "text": [
      "Mean Value of Wage Gap"
     ]
    },
    {
     "data": {
      "text/html": [
       "258.11"
      ],
      "text/latex": [
       "258.11"
      ],
      "text/markdown": [
       "258.11"
      ],
      "text/plain": [
       "[1] 258.11"
      ]
     },
     "metadata": {},
     "output_type": "display_data"
    },
    {
     "name": "stdout",
     "output_type": "stream",
     "text": [
      "Marginal Effect of Wage Gap at Mean Value:"
     ]
    },
    {
     "data": {
      "text/html": [
       "<strong>wgap:</strong> 0.2"
      ],
      "text/latex": [
       "\\textbf{wgap:} 0.2"
      ],
      "text/markdown": [
       "**wgap:** 0.2"
      ],
      "text/plain": [
       "wgap \n",
       " 0.2 "
      ]
     },
     "metadata": {},
     "output_type": "display_data"
    }
   ],
   "source": [
    "cat(\"Marginal Effect of Wage Gap:\")\n",
    "round(model2$coefficients[c('wgap')] *100,2)\n",
    "cat(\"Mean Value of Wage Gap\")\n",
    "round(mean(crimeData$wgap),2)\n",
    "cat(\"Marginal Effect of Wage Gap at Mean Value:\")\n",
    "round((model2$coefficients[c('wgap')] + 2*mean(crimeData$wgap)*model2$coefficients[c('wgap.sq')])*100,2)"
   ]
  },
  {
   "cell_type": "markdown",
   "metadata": {},
   "source": [
    "There are a few other interesting items of note for our second model. We can see that the combination of our original three items from the first model still hold statistical significance."
   ]
  },
  {
   "cell_type": "code",
   "execution_count": 107,
   "metadata": {},
   "outputs": [
    {
     "data": {
      "text/html": [
       "<table>\n",
       "<thead><tr><th scope=col>Res.Df</th><th scope=col>Df</th><th scope=col>F</th><th scope=col>Pr(&gt;F)</th></tr></thead>\n",
       "<tbody>\n",
       "\t<tr><td>84         </td><td>NA         </td><td>      NA   </td><td>         NA</td></tr>\n",
       "\t<tr><td>81         </td><td> 3         </td><td>4.310584   </td><td>0.007145739</td></tr>\n",
       "</tbody>\n",
       "</table>\n"
      ],
      "text/latex": [
       "\\begin{tabular}{r|llll}\n",
       " Res.Df & Df & F & Pr(>F)\\\\\n",
       "\\hline\n",
       "\t 84          & NA          &       NA    &          NA\\\\\n",
       "\t 81          &  3          & 4.310584    & 0.007145739\\\\\n",
       "\\end{tabular}\n"
      ],
      "text/markdown": [
       "\n",
       "Res.Df | Df | F | Pr(>F) | \n",
       "|---|---|\n",
       "| 84          | NA          |       NA    |          NA | \n",
       "| 81          |  3          | 4.310584    | 0.007145739 | \n",
       "\n",
       "\n"
      ],
      "text/plain": [
       "  Res.Df Df F        Pr(>F)     \n",
       "1 84     NA       NA          NA\n",
       "2 81      3 4.310584 0.007145739"
      ]
     },
     "metadata": {},
     "output_type": "display_data"
    }
   ],
   "source": [
    "#Test to verify key variables of interest are jointly significant\n",
    "linearHypothesis(model2, c(\"prbarr = 0\", \"prbconv = 0\", \"prbpris = 0\"), vcov = vcovHC)"
   ]
  },
  {
   "cell_type": "markdown",
   "metadata": {},
   "source": [
    "We also note that Model 2 strikes a good level of parsimony and fit as both the $R^2$ and adjusted $R^2$ almost double when compared to our first model. We will further evaluate the model's implications in the context of the CLM framework later."
   ]
  },
  {
   "cell_type": "markdown",
   "metadata": {},
   "source": [
    "### 4.3 Regression Model 3\n",
    "\n",
    "Within model 3 we start to sacrifice some parsimony for additional explanatory power. \n",
    "\n",
    "Looking back at section 3.0, we can see that the __wage data__ across different sectors all has a relatively high correlation with crime rate. We suspected that higher wages would have provided better alternatives to crime and thus lower crime rate, but the data shows otherwise. While the wgap variable measures inequality, we add in wages across all sectors to measure economic viability in a more absolute sense.\n",
    "\n",
    "The next significant factor correlated with crime rate appears to be __tax per capita (0.45)__. Police departments generally get funding through municipal and county taxes. Although other funding including state and federal funds exists in the form of grants, these are unsustainable. So in theory, counties with higher tax per capita may be able to better fund their law enforcement agencies which would directly result in better law enforcement which would in turn better be able to curtail  crime rates. We also see the tax per capita as a representation of economic strength. Areas with higher earning individuals will pump up the tax per capita and so this variable also helps us capture how well economic policies could effect crime rate. \n",
    "\n",
    "Also, a higher per capita tax also indicates the relative wealth of the people in the county. The relative wealth in the county results in greater investment in education and training programs for youth which translates to  gainful employment and therefore lesser motivation for crime. Although our scatter plot does not reveal a directional trend between crime rate and taxes per capita, it would be worthwhile to include it in our model to evaluate its effects."
   ]
  },
  {
   "cell_type": "markdown",
   "metadata": {},
   "source": [
    "__Base Model__:\n",
    "$$\n",
    "\\begin{align}\n",
    "{log(crmrte)} = \\beta_{0} \n",
    "    + \\beta_{1} \\mathrm{prbarr}  \n",
    "    + \\beta_{2} \\mathrm{prbconv}  \n",
    "    + \\beta_{3} \\mathrm{prbpris}  \n",
    "    + u\n",
    "\\end{align}\n",
    "$$\n",
    "\n",
    "__Model 2:__\n",
    "$$\n",
    "\\begin{align}\n",
    "{log(crmrte)} = \\beta_{0} \n",
    "    + \\beta_{1} \\mathrm{prbarr}  \n",
    "    + \\beta_{2} \\mathrm{prbconv}  \n",
    "    + \\beta_{3} \\mathrm{prbpris}  \n",
    "    + \\beta_{4} \\mathrm{pctymle}  \n",
    "    + \\beta_{5} \\mathrm{pctmin80}  \n",
    "    + \\beta_{6} \\mathrm{wgap}      \n",
    "    + \\beta_{7} \\mathrm{wgap.sq}      \n",
    "    + \\beta_{8} \\mathrm{density}   \n",
    "    + u\n",
    "\\end{align}\n",
    "$$\n",
    "\n",
    "__Model 3:__\n",
    "$$\n",
    "\\begin{align}\n",
    "{log(crmrte)} = \\beta_{0} \n",
    "    + \\beta_{1} \\mathrm{prbarr}  \n",
    "    + \\beta_{2} \\mathrm{prbconv}  \n",
    "    + \\beta_{3} \\mathrm{prbpris}  \n",
    "    + \\beta_{4} \\mathrm{pctymle}  \n",
    "    + \\beta_{5} \\mathrm{wgap} \n",
    "    + \\beta_{6} \\mathrm{wgap.sq}  \n",
    "    + \\beta_{7} \\mathrm{pctmin80}      \n",
    "    + \\beta_{8} \\mathrm{density}   \n",
    "    + \\beta_{9} \\mathrm{taxpc}      \n",
    "    + \\beta_{10} \\mathrm{wcon}  \n",
    "    + \\beta_{11} \\mathrm{wtuc}  \n",
    "    + \\beta_{12} \\mathrm{wfir}  \n",
    "    + \\beta_{13} \\mathrm{wser}  \n",
    "    + \\beta_{14} \\mathrm{wmfg}  \n",
    "    + \\beta_{15} \\mathrm{wfed}  \n",
    "    + \\beta_{16} \\mathrm{wsta}  \n",
    "    + \\beta_{17} \\mathrm{wloc}  \n",
    "    + u\n",
    "\\end{align}\n",
    "$$\n",
    "\n",
    "#### 4.3.1 Model Design and Results\n",
    "\n",
    "The advanced regression is specified as follows:"
   ]
  },
  {
   "cell_type": "code",
   "execution_count": 108,
   "metadata": {},
   "outputs": [
    {
     "name": "stdout",
     "output_type": "stream",
     "text": [
      "\n",
      "Advanced Linear Model Predicting Crime Rate\n",
      "==========================================\n",
      "                  Dependent variable:     \n",
      "             -----------------------------\n",
      "                      log(crmrte)         \n",
      "------------------------------------------\n",
      "prbarr                 -1.494***          \n",
      "                        (0.446)           \n",
      "                                          \n",
      "prbconv                -0.666**           \n",
      "                        (0.220)           \n",
      "                                          \n",
      "prbpris                 -0.131            \n",
      "                        (0.486)           \n",
      "                                          \n",
      "pctymle                 4.761**           \n",
      "                        (1.788)           \n",
      "                                          \n",
      "wgap                     0.004            \n",
      "                        (0.010)           \n",
      "                                          \n",
      "wgap.sq                -0.00001           \n",
      "                       (0.00002)          \n",
      "                                          \n",
      "pctmin80                1.024**           \n",
      "                        (0.343)           \n",
      "                                          \n",
      "density                  0.097            \n",
      "                        (0.050)           \n",
      "                                          \n",
      "taxpc                    0.007            \n",
      "                        (0.011)           \n",
      "                                          \n",
      "wcon                     0.002            \n",
      "                        (0.001)           \n",
      "                                          \n",
      "wtuc                    -0.0001           \n",
      "                        (0.001)           \n",
      "                                          \n",
      "wfir                    -0.001            \n",
      "                        (0.001)           \n",
      "                                          \n",
      "wser                    -0.002            \n",
      "                        (0.002)           \n",
      "                                          \n",
      "wmfg                    0.0002            \n",
      "                        (0.001)           \n",
      "                                          \n",
      "wfed                     0.003            \n",
      "                        (0.002)           \n",
      "                                          \n",
      "wsta                    -0.001            \n",
      "                        (0.001)           \n",
      "                                          \n",
      "wloc                    -0.0004           \n",
      "                        (0.004)           \n",
      "                                          \n",
      "Constant               -4.983**           \n",
      "                        (1.911)           \n",
      "                                          \n",
      "------------------------------------------\n",
      "Observations              90              \n",
      "R2                       0.742            \n",
      "Adjusted R2              0.681            \n",
      "F Statistic     12.194*** (df = 17; 72)   \n",
      "==========================================\n",
      "Note:        *p<0.05; **p<0.01; ***p<0.001\n"
     ]
    },
    {
     "data": {
      "text/plain": [
       "\n",
       "t test of coefficients:\n",
       "\n",
       "               Estimate  Std. Error t value Pr(>|t|)   \n",
       "(Intercept) -4.9834e+00  1.9106e+00 -2.6083 0.011057 * \n",
       "prbarr      -1.4939e+00  4.4587e-01 -3.3505 0.001287 **\n",
       "prbconv     -6.6576e-01  2.1973e-01 -3.0300 0.003396 **\n",
       "prbpris     -1.3112e-01  4.8576e-01 -0.2699 0.787990   \n",
       "pctymle      4.7605e+00  1.7883e+00  2.6621 0.009572 **\n",
       "wgap         4.1420e-03  1.0116e-02  0.4094 0.683437   \n",
       "wgap.sq     -7.1128e-06  1.7590e-05 -0.4044 0.687146   \n",
       "pctmin80     1.0242e+00  3.4265e-01  2.9892 0.003825 **\n",
       "density      9.7294e-02  5.0177e-02  1.9390 0.056420 . \n",
       "taxpc        6.8650e-03  1.0573e-02  0.6493 0.518228   \n",
       "wcon         1.5044e-03  1.4159e-03  1.0625 0.291556   \n",
       "wtuc        -1.4375e-04  7.2294e-04 -0.1988 0.842943   \n",
       "wfir        -1.1802e-03  1.3169e-03 -0.8962 0.373112   \n",
       "wser        -1.5327e-03  1.8122e-03 -0.8458 0.400487   \n",
       "wmfg         2.4700e-04  9.4552e-04  0.2612 0.794657   \n",
       "wfed         3.1731e-03  1.7095e-03  1.8562 0.067519 . \n",
       "wsta        -1.0497e-03  1.0941e-03 -0.9595 0.340541   \n",
       "wloc        -3.5698e-04  3.5043e-03 -0.1019 0.919146   \n",
       "---\n",
       "Signif. codes:  0 '***' 0.001 '**' 0.01 '*' 0.05 '.' 0.1 ' ' 1\n"
      ]
     },
     "metadata": {},
     "output_type": "display_data"
    }
   ],
   "source": [
    "model3 = lm(log(crmrte) ~ \n",
    "              prbarr \n",
    "            + prbconv \n",
    "            + prbpris          \n",
    "            + pctymle\n",
    "            + wgap\n",
    "            + wgap.sq           \n",
    "            + pctmin80           \n",
    "            + density           \n",
    "            + taxpc\n",
    "            + wcon\n",
    "            + wtuc\n",
    "            + wfir\n",
    "            + wser\n",
    "            + wmfg\n",
    "            + wfed\n",
    "            + wsta\n",
    "            + wloc\n",
    "            \n",
    "            , data=crimeData)\n",
    "\n",
    "se.model3.robust = sqrt(diag(vcovHC(model3)))\n",
    "model3table <- stargazer(model3, type = \"text\", \n",
    "                 title = \"Advanced Linear Model Predicting Crime Rate\",\n",
    "                 se = list(se.model3.robust),\n",
    "                 keep.stat = c(\"rsq\", \"adj.rsq\", \"n\", \"F\"),\n",
    "                 star.cutoffs = c(0.05, 0.01, 0.001))\n",
    "coeftest(model3, vcov = vcovHC)\n"
   ]
  },
  {
   "cell_type": "markdown",
   "metadata": {},
   "source": [
    "\n"
   ]
  },
  {
   "cell_type": "markdown",
   "metadata": {},
   "source": [
    "#### 4.3.2 Evaluation Summary\n",
    "\n",
    "The first thing we see out of our third model is a significantly higher $R^2$ value. This additional explantory value, however, comes at a cost of statistical significance. Below we can see that while our original three variables are still significant as a whole, the wage values in aggregate do not hold joing statistical significance. "
   ]
  },
  {
   "cell_type": "code",
   "execution_count": 109,
   "metadata": {},
   "outputs": [
    {
     "data": {
      "text/html": [
       "'Law Enforcement Significance'"
      ],
      "text/latex": [
       "'Law Enforcement Significance'"
      ],
      "text/markdown": [
       "'Law Enforcement Significance'"
      ],
      "text/plain": [
       "[1] \"Law Enforcement Significance\""
      ]
     },
     "metadata": {},
     "output_type": "display_data"
    },
    {
     "data": {
      "text/html": [
       "<table>\n",
       "<thead><tr><th scope=col>Res.Df</th><th scope=col>Df</th><th scope=col>F</th><th scope=col>Pr(&gt;F)</th></tr></thead>\n",
       "<tbody>\n",
       "\t<tr><td>75         </td><td>NA         </td><td>      NA   </td><td>         NA</td></tr>\n",
       "\t<tr><td>72         </td><td> 3         </td><td>5.044466   </td><td>0.003147309</td></tr>\n",
       "</tbody>\n",
       "</table>\n"
      ],
      "text/latex": [
       "\\begin{tabular}{r|llll}\n",
       " Res.Df & Df & F & Pr(>F)\\\\\n",
       "\\hline\n",
       "\t 75          & NA          &       NA    &          NA\\\\\n",
       "\t 72          &  3          & 5.044466    & 0.003147309\\\\\n",
       "\\end{tabular}\n"
      ],
      "text/markdown": [
       "\n",
       "Res.Df | Df | F | Pr(>F) | \n",
       "|---|---|\n",
       "| 75          | NA          |       NA    |          NA | \n",
       "| 72          |  3          | 5.044466    | 0.003147309 | \n",
       "\n",
       "\n"
      ],
      "text/plain": [
       "  Res.Df Df F        Pr(>F)     \n",
       "1 75     NA       NA          NA\n",
       "2 72      3 5.044466 0.003147309"
      ]
     },
     "metadata": {},
     "output_type": "display_data"
    },
    {
     "data": {
      "text/html": [
       "'Wage Significance'"
      ],
      "text/latex": [
       "'Wage Significance'"
      ],
      "text/markdown": [
       "'Wage Significance'"
      ],
      "text/plain": [
       "[1] \"Wage Significance\""
      ]
     },
     "metadata": {},
     "output_type": "display_data"
    },
    {
     "data": {
      "text/html": [
       "<table>\n",
       "<thead><tr><th scope=col>Res.Df</th><th scope=col>Df</th><th scope=col>F</th><th scope=col>Pr(&gt;F)</th></tr></thead>\n",
       "<tbody>\n",
       "\t<tr><td>80       </td><td>NA       </td><td>      NA </td><td>       NA</td></tr>\n",
       "\t<tr><td>72       </td><td> 8       </td><td>1.666501 </td><td>0.1215431</td></tr>\n",
       "</tbody>\n",
       "</table>\n"
      ],
      "text/latex": [
       "\\begin{tabular}{r|llll}\n",
       " Res.Df & Df & F & Pr(>F)\\\\\n",
       "\\hline\n",
       "\t 80        & NA        &       NA  &        NA\\\\\n",
       "\t 72        &  8        & 1.666501  & 0.1215431\\\\\n",
       "\\end{tabular}\n"
      ],
      "text/markdown": [
       "\n",
       "Res.Df | Df | F | Pr(>F) | \n",
       "|---|---|\n",
       "| 80        | NA        |       NA  |        NA | \n",
       "| 72        |  8        | 1.666501  | 0.1215431 | \n",
       "\n",
       "\n"
      ],
      "text/plain": [
       "  Res.Df Df F        Pr(>F)   \n",
       "1 80     NA       NA        NA\n",
       "2 72      8 1.666501 0.1215431"
      ]
     },
     "metadata": {},
     "output_type": "display_data"
    }
   ],
   "source": [
    "#Evaluate key coefficeints\n",
    "paste('Law Enforcement Significance')\n",
    "linearHypothesis(model3, c(\"prbarr = 0\", \"prbconv = 0\", \"prbpris = 0\"), vcov = vcovHC)\n",
    "\n",
    "#Are separate wage variables good indicators of different sectors of the economy?\n",
    "paste('Wage Significance')\n",
    "linearHypothesis(model3, c(\"wcon = 0\", \"wtuc = 0\", \"wfir = 0\", \"wser = 0\", \"wmfg = 0\", \"wfed = 0\", \"wsta = 0\", \"wloc = 0\"), vcov = vcovHC)"
   ]
  },
  {
   "cell_type": "markdown",
   "metadata": {},
   "source": [
    "Practically speaking, each of the wage variables increases or decreases crime rate by around a tenth of a percent, and thus holds little value outside of better fitting the regression line to the dataset. Between the unexpected associated of higher wages and higher crime rate and this lack of significance, the wage variables likely require additional research into their effects.\n",
    "\n",
    "Our predictions for taxpc as both an economic indicator and as a helper for law enforcement also appears to be over estimated as the robust standard error for taxpc is greater than its small, positive coefficient. If anything, our model shows that a greater tax per capita results in slightly higher crime rate. This may be due to areas, like cities, of higher taxpc also being the same areas with higher density, minority levels, and young males."
   ]
  },
  {
   "cell_type": "markdown",
   "metadata": {},
   "source": [
    "### 4.4 Evaluating CLM Assumptions\n",
    "\n",
    "We further evaluate the validity of our model through an analysis of the model's residuals below and a more in-depth consideration of the CLM assumptions typically applied in econometric framework adopted here. In this section we take a detailed look at the 6 CLM assumptions for __Model 2__ while mentioning a few highlights for the other two models. \n",
    "\n",
    "\n",
    "_4.4.1 Linearity in Parameters_\n",
    "\n",
    "Our model is structured as a linear model of the ${\\beta}$ parameters.  While some variables are higher order terms of the independent variables, the estimated coefficients share a linear relationship with the dependent variable. This holds for all three models.\n",
    "\n",
    "\n",
    "_4.4.2 Random Sampling and \"iid\" Condition_\n",
    "\n",
    "As discussed above, our sample contains 90 counties from North Carolina and the U.S. Census Bureau indicates that there are 100 total counties in North Carolina as of the 1980 Census.  The sampling regiment used to select these 90 counties is unknown; thus, we cannot be absolutely be certain that the sample was randomly selected, nor whether the included counties are independent and identically distributed (\"iid\"). While composing 90% of all counties in North Carolina, our data may disproportionally exclude rural counties, metropolitan counties, counties with the most extreme rates of crime, or _vice versa_.  We are unable to verify with certainty if such sampling biases persist.  Instead, we examine the counts of counties by region as denoted in the data with the total counts from  [NCPedia](https://www.ncpedia.org/geography/regions).  This reference indicates that there are 22 counties in the state's western region, 35 counties in the central region, and 43 counties in the coastal region.  The tabulations below reveal that our data has 22 counties in the western region, 34 counties in the central region (although one county is classified as both central and western), and 35 counties in the coastal region (defined as those counties where both the native central and west indicators are equal to zero).  This would suggest that the sample we rely upon under-represents coastal counties, possibly indicated a biased sample.  Given that 90% of the counties are represented in the sample, roughly 80% of the coastal counties are represented, and the largest population centers of the state are located in the western and central parts of the state, the impact of this bias is likely limited.  Nonetheless, further research should be conducted to ensure the sample is unbaised and iid. These conclusions apply to all three of our models."
   ]
  },
  {
   "cell_type": "code",
   "execution_count": 110,
   "metadata": {},
   "outputs": [
    {
     "name": "stdout",
     "output_type": "stream",
     "text": [
      "Tabulation of counties by region"
     ]
    },
    {
     "data": {
      "text/plain": [
       "coast\n",
       " 0  1 \n",
       "55 35 "
      ]
     },
     "metadata": {},
     "output_type": "display_data"
    },
    {
     "data": {
      "text/plain": [
       "west\n",
       " 0  1 \n",
       "68 22 "
      ]
     },
     "metadata": {},
     "output_type": "display_data"
    },
    {
     "data": {
      "text/plain": [
       "central\n",
       " 0  1 \n",
       "56 34 "
      ]
     },
     "metadata": {},
     "output_type": "display_data"
    },
    {
     "name": "stdout",
     "output_type": "stream",
     "text": [
      "Identify if counties with multiple classifications"
     ]
    },
    {
     "data": {
      "text/plain": [
       "   \n",
       "     0  1\n",
       "  0 35 21\n",
       "  1 33  1"
      ]
     },
     "metadata": {},
     "output_type": "display_data"
    }
   ],
   "source": [
    "crimeData$coast <- ifelse((crimeData$west!=1) & (crimeData$central!=1),1, 0)\n",
    "cat(\"Tabulation of counties by region\")\n",
    "with(crimeData,\n",
    "     table(coast)\n",
    "     )\n",
    "\n",
    "with(crimeData,\n",
    "     table(west)\n",
    "     )\n",
    "\n",
    "with(crimeData,\n",
    "     table(central)\n",
    "     )\n",
    "cat(\"Identify if counties with multiple classifications\")\n",
    "table(crimeData$central, crimeData$west)"
   ]
  },
  {
   "cell_type": "markdown",
   "metadata": {},
   "source": [
    "_4.4.3 No Perfect Collinearity_<br>\n",
    "\n",
    "None of the parameters included in this model are linear transformations of one another, therefore there is no issue of perfect collinearity among variables. Strong multicollinearity among parameters can increase the variance and thus reduce the precision of our estimates.  Given that the denominator of 'prbconv' is the numerator of 'prbarr', and the denominator of 'prbpris' is the numerator of 'prbconv', there is a possibility of the model potentially being susceptible to this issue.\n",
    "\n",
    "We analyze variance inflation factors (\"VIFs\") as a diagnostic for testing strong multicollinearity among regressors.  VIFs measure the degree to which the variance of an estimated coefficient is inflated due to collinearity with another included parameter. Generally, a VIF greater than 10 indicates strong multicollinearity among regressors, a VIF of 4 indicates modest multicollinearity that merits attention, and a VIF of 1 indicates no correlation among a given regressor and other parameters.  \n",
    "\n",
    "Focusing in on Model 2, we can see that all but two of the VIF scores fall under the 4 mark indicating none of these variables add significant multicollinearity. \n",
    "\n",
    "The high VIF score for wgap and wgap.sq is due to the inclusion of powers during the quadratic transformation which is an acceptable explanation. This suggests that multicollinearity is not a concern for Model2."
   ]
  },
  {
   "cell_type": "code",
   "execution_count": 111,
   "metadata": {},
   "outputs": [
    {
     "name": "stdout",
     "output_type": "stream",
     "text": [
      "VIFs for Model 1 Regressors"
     ]
    },
    {
     "data": {
      "text/html": [
       "<dl class=dl-horizontal>\n",
       "\t<dt>prbarr</dt>\n",
       "\t\t<dd>1.058</dd>\n",
       "\t<dt>prbconv</dt>\n",
       "\t\t<dd>1.058</dd>\n",
       "\t<dt>prbpris</dt>\n",
       "\t\t<dd>1.002</dd>\n",
       "</dl>\n"
      ],
      "text/latex": [
       "\\begin{description*}\n",
       "\\item[prbarr] 1.058\n",
       "\\item[prbconv] 1.058\n",
       "\\item[prbpris] 1.002\n",
       "\\end{description*}\n"
      ],
      "text/markdown": [
       "prbarr\n",
       ":   1.058prbconv\n",
       ":   1.058prbpris\n",
       ":   1.002\n",
       "\n"
      ],
      "text/plain": [
       " prbarr prbconv prbpris \n",
       "  1.058   1.058   1.002 "
      ]
     },
     "metadata": {},
     "output_type": "display_data"
    },
    {
     "name": "stdout",
     "output_type": "stream",
     "text": [
      "VIFs for Model 2 Regressors"
     ]
    },
    {
     "data": {
      "text/html": [
       "<dl class=dl-horizontal>\n",
       "\t<dt>prbarr</dt>\n",
       "\t\t<dd>1.478</dd>\n",
       "\t<dt>prbconv</dt>\n",
       "\t\t<dd>1.417</dd>\n",
       "\t<dt>prbpris</dt>\n",
       "\t\t<dd>1.033</dd>\n",
       "\t<dt>pctymle</dt>\n",
       "\t\t<dd>1.22</dd>\n",
       "\t<dt>wgap</dt>\n",
       "\t\t<dd>52.229</dd>\n",
       "\t<dt>wgap.sq</dt>\n",
       "\t\t<dd>51.691</dd>\n",
       "\t<dt>pctmin80</dt>\n",
       "\t\t<dd>1.121</dd>\n",
       "\t<dt>density</dt>\n",
       "\t\t<dd>1.394</dd>\n",
       "</dl>\n"
      ],
      "text/latex": [
       "\\begin{description*}\n",
       "\\item[prbarr] 1.478\n",
       "\\item[prbconv] 1.417\n",
       "\\item[prbpris] 1.033\n",
       "\\item[pctymle] 1.22\n",
       "\\item[wgap] 52.229\n",
       "\\item[wgap.sq] 51.691\n",
       "\\item[pctmin80] 1.121\n",
       "\\item[density] 1.394\n",
       "\\end{description*}\n"
      ],
      "text/markdown": [
       "prbarr\n",
       ":   1.478prbconv\n",
       ":   1.417prbpris\n",
       ":   1.033pctymle\n",
       ":   1.22wgap\n",
       ":   52.229wgap.sq\n",
       ":   51.691pctmin80\n",
       ":   1.121density\n",
       ":   1.394\n",
       "\n"
      ],
      "text/plain": [
       "  prbarr  prbconv  prbpris  pctymle     wgap  wgap.sq pctmin80  density \n",
       "   1.478    1.417    1.033    1.220   52.229   51.691    1.121    1.394 "
      ]
     },
     "metadata": {},
     "output_type": "display_data"
    },
    {
     "name": "stdout",
     "output_type": "stream",
     "text": [
      "VIFs for Model 3 Regressors"
     ]
    },
    {
     "data": {
      "text/html": [
       "<dl class=dl-horizontal>\n",
       "\t<dt>prbarr</dt>\n",
       "\t\t<dd>1.549</dd>\n",
       "\t<dt>prbconv</dt>\n",
       "\t\t<dd>1.691</dd>\n",
       "\t<dt>prbpris</dt>\n",
       "\t\t<dd>1.122</dd>\n",
       "\t<dt>pctymle</dt>\n",
       "\t\t<dd>1.364</dd>\n",
       "\t<dt>wgap</dt>\n",
       "\t\t<dd>104.238</dd>\n",
       "\t<dt>wgap.sq</dt>\n",
       "\t\t<dd>99.995</dd>\n",
       "\t<dt>pctmin80</dt>\n",
       "\t\t<dd>1.232</dd>\n",
       "\t<dt>density</dt>\n",
       "\t\t<dd>2.616</dd>\n",
       "\t<dt>taxpc</dt>\n",
       "\t\t<dd>1.563</dd>\n",
       "\t<dt>wcon</dt>\n",
       "\t\t<dd>1.968</dd>\n",
       "\t<dt>wtuc</dt>\n",
       "\t\t<dd>2.138</dd>\n",
       "\t<dt>wfir</dt>\n",
       "\t\t<dd>2.244</dd>\n",
       "\t<dt>wser</dt>\n",
       "\t\t<dd>2.486</dd>\n",
       "\t<dt>wmfg</dt>\n",
       "\t\t<dd>3.121</dd>\n",
       "\t<dt>wfed</dt>\n",
       "\t\t<dd>4.752</dd>\n",
       "\t<dt>wsta</dt>\n",
       "\t\t<dd>1.487</dd>\n",
       "\t<dt>wloc</dt>\n",
       "\t\t<dd>2.073</dd>\n",
       "</dl>\n"
      ],
      "text/latex": [
       "\\begin{description*}\n",
       "\\item[prbarr] 1.549\n",
       "\\item[prbconv] 1.691\n",
       "\\item[prbpris] 1.122\n",
       "\\item[pctymle] 1.364\n",
       "\\item[wgap] 104.238\n",
       "\\item[wgap.sq] 99.995\n",
       "\\item[pctmin80] 1.232\n",
       "\\item[density] 2.616\n",
       "\\item[taxpc] 1.563\n",
       "\\item[wcon] 1.968\n",
       "\\item[wtuc] 2.138\n",
       "\\item[wfir] 2.244\n",
       "\\item[wser] 2.486\n",
       "\\item[wmfg] 3.121\n",
       "\\item[wfed] 4.752\n",
       "\\item[wsta] 1.487\n",
       "\\item[wloc] 2.073\n",
       "\\end{description*}\n"
      ],
      "text/markdown": [
       "prbarr\n",
       ":   1.549prbconv\n",
       ":   1.691prbpris\n",
       ":   1.122pctymle\n",
       ":   1.364wgap\n",
       ":   104.238wgap.sq\n",
       ":   99.995pctmin80\n",
       ":   1.232density\n",
       ":   2.616taxpc\n",
       ":   1.563wcon\n",
       ":   1.968wtuc\n",
       ":   2.138wfir\n",
       ":   2.244wser\n",
       ":   2.486wmfg\n",
       ":   3.121wfed\n",
       ":   4.752wsta\n",
       ":   1.487wloc\n",
       ":   2.073\n",
       "\n"
      ],
      "text/plain": [
       "  prbarr  prbconv  prbpris  pctymle     wgap  wgap.sq pctmin80  density \n",
       "   1.549    1.691    1.122    1.364  104.238   99.995    1.232    2.616 \n",
       "   taxpc     wcon     wtuc     wfir     wser     wmfg     wfed     wsta \n",
       "   1.563    1.968    2.138    2.244    2.486    3.121    4.752    1.487 \n",
       "    wloc \n",
       "   2.073 "
      ]
     },
     "metadata": {},
     "output_type": "display_data"
    }
   ],
   "source": [
    "#Model 2: testing for multicollinearity\n",
    "cat(\"VIFs for Model 1 Regressors\")\n",
    "round(vif(model1),3)\n",
    "\n",
    "cat(\"VIFs for Model 2 Regressors\")\n",
    "round(vif(model2),3)\n",
    "\n",
    "cat(\"VIFs for Model 3 Regressors\")\n",
    "round(vif(model3),3)"
   ]
  },
  {
   "cell_type": "markdown",
   "metadata": {},
   "source": [
    "_4.4.4 Zero Conditional Mean and Exogeneity_\n",
    "\n",
    "The next key assumption in the CLM framework is that the expected value of our errors conditional upon the included parameters is equal to zero; that is, $E(u|x_1,...,x_k)=0$. We can examine the extent to which this assumption holds using a __residuals vs. fitted value__ plot. \n",
    "\n",
    "The red line displayed on the plot for Model 2 below roughly tracks the horizontal line through zero however it trails off towards the right. This represents that the model has violated the zero conditional mean assumption, and this may be attributed to the many variables omitted from the model, details of which are discussed in section 5.0.\n",
    "\n",
    "We can also see that in Model 3 the red line better follows the 0 mark, and Model 1, with far less parameters, exhibits a significant convex curve demonstrating that the zero conditional mean assumption is violated in first model\n",
    "\n",
    "While the strong assumption of zero condition mean for errors may be slightly violated in our second model, the weaker assumption of exogeneity would still allow for our estimates to still be consistent.  That is, if the errors are uncorrelated with our parameters, we can claim that our estimates approach the population coefficients of our parameter as the sample size increases.  While it is not possible to test absolutely whether this assumption is violated, we can theorize the extent to which this assumption is valid in our model.\n",
    "\n",
    "As Section 5.0 of this report will detail, it is very likely that the second model along with the other two models are susceptible to endogeneity as there are a plethora of omitted variables that are likely correlated with our parameters and unavailable in our data.  Such omitted factors include racial bias which can be correlated with probability of arrest.  For example, an area with a large population of African Americans might have a higher arrest rate all else equal due to police discrimination where people of color are more likely to face arrest rather than be given a warning.  That is, a county could have the exact same number of offenses, rate of convictions, and rate of prison sentencing, but an inflated arrest rate due to having a higher population of a group that is subject to biased policing.\n"
   ]
  },
  {
   "cell_type": "code",
   "execution_count": 112,
   "metadata": {},
   "outputs": [
    {
     "data": {
      "image/png": "[encoded data removed]",
      "text/plain": [
       "Plot with title \"Model 3\""
      ]
     },
     "metadata": {},
     "output_type": "display_data"
    }
   ],
   "source": [
    "#Diagnostic plots for CLM4 & CLM5\n",
    "par(mfrow=c(2,2), cex=.75, cex.axis=.75)\n",
    "plot(model1, which=1, main='Model 1') #Residuals vs. Fitted\n",
    "plot(model2, which=1, main='Model 2') #Residuals vs. Fitted\n",
    "plot(model3, which=1, main='Model 3') #Residuals vs. Fitted"
   ]
  },
  {
   "cell_type": "markdown",
   "metadata": {},
   "source": [
    "_4.4.5 Homoskedasticity of Errors_\n",
    "\n",
    "The fifth key assumption in the CLM framework is the homoskedasticity, or constant variance, of errors.  The plot of __residuals vs. fitted values__ above reveals heteroskedasticity for Model 2 as is evidenced by the increase in variance of residuals along the red line.  \n",
    "\n",
    "Heteroskedasticity is further confirmed by the __scale-location plot__ below where the red fit line takes a convex shape.  \n",
    "\n",
    "Additionally, as demonstrated by the __residuals vs. leverage plot__ below, these findings do not appear to be driven by outliers in the data.  There are several outliers that have leverage, and none of them pass the Cooks threshold of 1. If the model continues to still exhibit heteroskedasticity, then we could choose to apply suitable transformations or add more variables to the model in order to reduce the variance in error.\n",
    "\n",
    "The finding of heteroskedasticity has implications for the type of standard errors we should apply when guaging the precision of our OLS estimates.  The implication of heteroskedasticity is that our estimates cannot be considered BLUE (or the \"best linear unbiased estimators\").  We make our estimates robust to heteroskedasticity by applying White standard errors (or \"robust standard errors\").  It is generally best practice to apply robust standard errors when there is no overwhelming theoretical or empirical support for homoskedasticity.  Heteroskedasticity generally leads to overestimating hence robust standard errors are applied to more accurately interpret the estimated parameters. "
   ]
  },
  {
   "cell_type": "code",
   "execution_count": 113,
   "metadata": {},
   "outputs": [
    {
     "data": {
      "text/html": [
       "'Model 2'"
      ],
      "text/latex": [
       "'Model 2'"
      ],
      "text/markdown": [
       "'Model 2'"
      ],
      "text/plain": [
       "[1] \"Model 2\""
      ]
     },
     "metadata": {},
     "output_type": "display_data"
    },
    {
     "data": {
      "image/png": "[encoded data removed]",
      "text/plain": [
       "Plot with title \"\""
      ]
     },
     "metadata": {},
     "output_type": "display_data"
    }
   ],
   "source": [
    "#Model 2 diagnostic plots for CLM5\n",
    "paste('Model 2')\n",
    "par(mfrow=c(1,2), cex=.75, cex.axis=.75)\n",
    "plot(model2, which=3) #Scale-Location\n",
    "plot(model2, which=5) #Residuals vs. Leverage\n"
   ]
  },
  {
   "cell_type": "markdown",
   "metadata": {},
   "source": [
    "Models 1 and 2 shown below mirror Model 2 in that they also show heteroskedasticity."
   ]
  },
  {
   "cell_type": "code",
   "execution_count": 114,
   "metadata": {},
   "outputs": [
    {
     "data": {
      "text/html": [
       "'Model 1'"
      ],
      "text/latex": [
       "'Model 1'"
      ],
      "text/markdown": [
       "'Model 1'"
      ],
      "text/plain": [
       "[1] \"Model 1\""
      ]
     },
     "metadata": {},
     "output_type": "display_data"
    },
    {
     "data": {
      "image/png": "[encoded data removed]",
      "text/plain": [
       "Plot with title \"\""
      ]
     },
     "metadata": {},
     "output_type": "display_data"
    }
   ],
   "source": [
    "#Model 1\n",
    "paste('Model 1')\n",
    "par(mfrow=c(1,2), cex=.75, cex.axis=.75)\n",
    "plot(model1, which=3) #Scale-Location\n",
    "plot(model1, which=5) #Residuals vs. Leverage"
   ]
  },
  {
   "cell_type": "markdown",
   "metadata": {},
   "source": [
    "Model 3 does contain 1 observation, point 25, that appears to exercise substanial influence as revealed by the residual's location beyond the dotted line indicating a Cook's distance of 0.5. This may mean that this point should be considered for exlusion for our model, but because it never crosses the threshold of 1 we choose to leave it in."
   ]
  },
  {
   "cell_type": "code",
   "execution_count": 115,
   "metadata": {},
   "outputs": [
    {
     "data": {
      "text/html": [
       "'Model 3'"
      ],
      "text/latex": [
       "'Model 3'"
      ],
      "text/markdown": [
       "'Model 3'"
      ],
      "text/plain": [
       "[1] \"Model 3\""
      ]
     },
     "metadata": {},
     "output_type": "display_data"
    },
    {
     "data": {
      "image/png": "[encoded data removed]",
      "text/plain": [
       "Plot with title \"\""
      ]
     },
     "metadata": {},
     "output_type": "display_data"
    }
   ],
   "source": [
    "#Model 3\n",
    "paste('Model 3')\n",
    "par(mfrow=c(1,2), cex=.75, cex.axis=.75)\n",
    "plot(model3, which=3) #Scale-Location\n",
    "plot(model3, which=5) #Residuals vs. Leverage"
   ]
  },
  {
   "cell_type": "markdown",
   "metadata": {},
   "source": [
    "_4.4.6 Normal Distribution of Errors_\n",
    "\n",
    "The final assumption to consider in the CLM framework is the normal distribution of errors.  This assumption allows us to reliably conduct hypothesis tests against the value of our estimates and guage the statistical significance of our findings.  A histogram of the distribution of our second model's residuals indicate an approximately normal distribution.  While there is a slight skew with a longer lower-bound tail and the Normal Q-Q plot demonstrates deviation from normality at the tails, an observation count of 90 allows us to invoke the central limit theorem; that is, we can reasonably assume the distribution of these errors is approaching normal as the sample size increases.\n",
    "\n",
    "We further test the normality of this distribution using the Shapiro-Wilk test.  The null hypothesis of this test is that the distribution of our population (in this case, the population model's errors) are normally distributed.  The resulting p-value when conducting this test our model's errors is [0.003] indicating that we reject the null hypothesis. Given the  tests tendency to reject even trivial deviations from normality in large samples and given our sufficiently large sample size, we choose to assume reliability from the results of the Q-Q plot and invoking the CLT."
   ]
  },
  {
   "cell_type": "code",
   "execution_count": 116,
   "metadata": {},
   "outputs": [
    {
     "data": {
      "text/html": [
       "'Shapiro Test for Model 2 Residuals'"
      ],
      "text/latex": [
       "'Shapiro Test for Model 2 Residuals'"
      ],
      "text/markdown": [
       "'Shapiro Test for Model 2 Residuals'"
      ],
      "text/plain": [
       "[1] \"Shapiro Test for Model 2 Residuals\""
      ]
     },
     "metadata": {},
     "output_type": "display_data"
    },
    {
     "data": {
      "text/plain": [
       "\n",
       "\tShapiro-Wilk normality test\n",
       "\n",
       "data:  model2$residuals\n",
       "W = 0.9543, p-value = 0.003114\n"
      ]
     },
     "metadata": {},
     "output_type": "display_data"
    },
    {
     "data": {
      "image/png": "[encoded data removed]",
      "text/plain": [
       "Plot with title \"\""
      ]
     },
     "metadata": {},
     "output_type": "display_data"
    }
   ],
   "source": [
    "# Model 2\n",
    "par(mfrow=c(1,2), cex=.75, cex.axis=.75)\n",
    "hist(model2$residuals, breaks=15, \n",
    "     main='Histogram of Model 2 Residuals',\n",
    "    xlab=\"Residual Value\")\n",
    "plot(model2, which=2)\n",
    "\n",
    "paste('Shapiro Test for Model 2 Residuals')\n",
    "shapiro.test(model2$residuals)"
   ]
  },
  {
   "cell_type": "markdown",
   "metadata": {},
   "source": [
    "Models 1 shows less normality as shown by the deviations from the Normal Q-Q plot and the slightly larger p-value, but we still  reject the null hypothesis with the shapiro-wilk test."
   ]
  },
  {
   "cell_type": "code",
   "execution_count": 117,
   "metadata": {},
   "outputs": [
    {
     "data": {
      "text/html": [
       "'Shapiro Test for Model 1 Residuals'"
      ],
      "text/latex": [
       "'Shapiro Test for Model 1 Residuals'"
      ],
      "text/markdown": [
       "'Shapiro Test for Model 1 Residuals'"
      ],
      "text/plain": [
       "[1] \"Shapiro Test for Model 1 Residuals\""
      ]
     },
     "metadata": {},
     "output_type": "display_data"
    },
    {
     "data": {
      "text/plain": [
       "\n",
       "\tShapiro-Wilk normality test\n",
       "\n",
       "data:  model1$residuals\n",
       "W = 0.96494, p-value = 0.01575\n"
      ]
     },
     "metadata": {},
     "output_type": "display_data"
    },
    {
     "data": {
      "image/png": "[encoded data removed]",
      "text/plain": [
       "Plot with title \"\""
      ]
     },
     "metadata": {},
     "output_type": "display_data"
    }
   ],
   "source": [
    "# Model 1\n",
    "par(mfrow=c(1,2), cex=.75, cex.axis=.75)\n",
    "hist(model1$residuals, breaks=15, \n",
    "     main='Histogram of Model 1 Residuals',\n",
    "    xlab=\"Residual Value\")\n",
    "plot(model1, which=2)\n",
    "\n",
    "paste('Shapiro Test for Model 1 Residuals')\n",
    "shapiro.test(model1$residuals)"
   ]
  },
  {
   "cell_type": "markdown",
   "metadata": {},
   "source": [
    "Only with Model 3 is the p-value large enough to fail to reject the null hypothesis of normality."
   ]
  },
  {
   "cell_type": "code",
   "execution_count": 118,
   "metadata": {},
   "outputs": [
    {
     "data": {
      "text/html": [
       "'Shapiro Test for Model 3 Residuals'"
      ],
      "text/latex": [
       "'Shapiro Test for Model 3 Residuals'"
      ],
      "text/markdown": [
       "'Shapiro Test for Model 3 Residuals'"
      ],
      "text/plain": [
       "[1] \"Shapiro Test for Model 3 Residuals\""
      ]
     },
     "metadata": {},
     "output_type": "display_data"
    },
    {
     "data": {
      "text/plain": [
       "\n",
       "\tShapiro-Wilk normality test\n",
       "\n",
       "data:  model3$residuals\n",
       "W = 0.97215, p-value = 0.05017\n"
      ]
     },
     "metadata": {},
     "output_type": "display_data"
    },
    {
     "data": {
      "image/png": "[encoded data removed]",
      "text/plain": [
       "Plot with title \"\""
      ]
     },
     "metadata": {},
     "output_type": "display_data"
    }
   ],
   "source": [
    "# Model 3\n",
    "par(mfrow=c(1,2), cex=.75, cex.axis=.75)\n",
    "hist(model3$residuals, breaks=15, \n",
    "     main='Histogram of Model 3 Residuals',\n",
    "    xlab=\"Residual Value\")\n",
    "plot(model3, which=2)\n",
    "\n",
    "paste('Shapiro Test for Model 3 Residuals')\n",
    "shapiro.test(model3$residuals)"
   ]
  },
  {
   "cell_type": "markdown",
   "metadata": {},
   "source": [
    "### 4.5 Comparison of Linear Models\n",
    "\n",
    "#### 4.5.1 Regression Table\n",
    "\n",
    "In the below regression table we evaluate included coefficents and their effects on crime rate amongst our 3 different models."
   ]
  },
  {
   "cell_type": "code",
   "execution_count": 119,
   "metadata": {},
   "outputs": [
    {
     "name": "stdout",
     "output_type": "stream",
     "text": [
      "\n",
      "Comparison of Linear Models Predicting Crime Rate\n",
      "==================================================================================\n",
      "                                      Dependent variable:                         \n",
      "             ---------------------------------------------------------------------\n",
      "                                          log(crmrte)                             \n",
      "                      (1)                    (2)                     (3)          \n",
      "----------------------------------------------------------------------------------\n",
      "prbarr             -2.308***               -1.547**               -1.494***       \n",
      "                    (0.554)                (0.473)                 (0.446)        \n",
      "                                                                                  \n",
      "prbconv            -1.025***               -0.719**               -0.666**        \n",
      "                    (0.246)                (0.237)                 (0.220)        \n",
      "                                                                                  \n",
      "prbpris              0.155                  -0.238                 -0.131         \n",
      "                    (0.707)                (0.509)                 (0.486)        \n",
      "                                                                                  \n",
      "pctymle                                     3.225                  4.761**        \n",
      "                                           (2.224)                 (1.788)        \n",
      "                                                                                  \n",
      "wgap                                        0.011*                  0.004         \n",
      "                                           (0.005)                 (0.010)        \n",
      "                                                                                  \n",
      "wgap.sq                                   -0.00002*               -0.00001        \n",
      "                                          (0.00001)               (0.00002)       \n",
      "                                                                                  \n",
      "pctmin80                                   1.103***                1.024**        \n",
      "                                           (0.301)                 (0.343)        \n",
      "                                                                                  \n",
      "density                                    0.149***                 0.097         \n",
      "                                           (0.032)                 (0.050)        \n",
      "                                                                                  \n",
      "taxpc                                                               0.007         \n",
      "                                                                   (0.011)        \n",
      "                                                                                  \n",
      "wcon                                                                0.002         \n",
      "                                                                   (0.001)        \n",
      "                                                                                  \n",
      "wtuc                                                               -0.0001        \n",
      "                                                                   (0.001)        \n",
      "                                                                                  \n",
      "wfir                                                               -0.001         \n",
      "                                                                   (0.001)        \n",
      "                                                                                  \n",
      "wser                                                               -0.002         \n",
      "                                                                   (0.002)        \n",
      "                                                                                  \n",
      "wmfg                                                               0.0002         \n",
      "                                                                   (0.001)        \n",
      "                                                                                  \n",
      "wfed                                                                0.003         \n",
      "                                                                   (0.002)        \n",
      "                                                                                  \n",
      "wsta                                                               -0.001         \n",
      "                                                                   (0.001)        \n",
      "                                                                                  \n",
      "wloc                                                               -0.0004        \n",
      "                                                                   (0.004)        \n",
      "                                                                                  \n",
      "Constant           -2.458***              -5.092***               -4.983**        \n",
      "                    (0.384)                (0.966)                 (1.911)        \n",
      "                                                                                  \n",
      "----------------------------------------------------------------------------------\n",
      "Observations           90                     90                     90           \n",
      "R2                   0.344                  0.665                   0.742         \n",
      "Adjusted R2          0.321                  0.632                   0.681         \n",
      "F Statistic  15.000*** (df = 3; 86) 20.121*** (df = 8; 81) 12.194*** (df = 17; 72)\n",
      "==================================================================================\n",
      "Note:                                                *p<0.05; **p<0.01; ***p<0.001\n"
     ]
    }
   ],
   "source": [
    "regressionTable <- stargazer(model1, model2, model3, type = \"text\", \n",
    "                 title = \"Comparison of Linear Models Predicting Crime Rate\",\n",
    "                 se = list(se.model1.robust, se.model2.robust, se.model3.robust),\n",
    "                 keep.stat = c(\"rsq\", \"adj.rsq\", \"n\", \"F\"),\n",
    "                 star.cutoffs = c(0.05, 0.01, 0.001))"
   ]
  },
  {
   "cell_type": "markdown",
   "metadata": {},
   "source": [
    "We can measure the AIC for each model to measure the parsimony, goodness of fit, and benefit of adding in additional variables for each model. We can see a significant jump between Model 1 and Model 2 below, but Models 2 and 3 see a very small difference. This may be an indication that the overall explanatory power of model 3 is largely balanced out by the lack of explanatory power of each additional individual coefficient. "
   ]
  },
  {
   "cell_type": "code",
   "execution_count": 120,
   "metadata": {},
   "outputs": [
    {
     "name": "stdout",
     "output_type": "stream",
     "text": [
      "AIC for Model 1"
     ]
    },
    {
     "data": {
      "text/html": [
       "118.505"
      ],
      "text/latex": [
       "118.505"
      ],
      "text/markdown": [
       "118.505"
      ],
      "text/plain": [
       "[1] 118.505"
      ]
     },
     "metadata": {},
     "output_type": "display_data"
    },
    {
     "name": "stdout",
     "output_type": "stream",
     "text": [
      "AIC for Model 2"
     ]
    },
    {
     "data": {
      "text/html": [
       "67.889"
      ],
      "text/latex": [
       "67.889"
      ],
      "text/markdown": [
       "67.889"
      ],
      "text/plain": [
       "[1] 67.889"
      ]
     },
     "metadata": {},
     "output_type": "display_data"
    },
    {
     "name": "stdout",
     "output_type": "stream",
     "text": [
      "AIC for Model 3"
     ]
    },
    {
     "data": {
      "text/html": [
       "62.374"
      ],
      "text/latex": [
       "62.374"
      ],
      "text/markdown": [
       "62.374"
      ],
      "text/plain": [
       "[1] 62.374"
      ]
     },
     "metadata": {},
     "output_type": "display_data"
    }
   ],
   "source": [
    "#Evaluate AIC\n",
    "cat(\"AIC for Model 1\")\n",
    "aic1 <- round(AIC(model1),3)\n",
    "aic1\n",
    "\n",
    "cat(\"AIC for Model 2\")\n",
    "aic2 <- round(AIC(model2),3)\n",
    "aic2\n",
    "\n",
    "cat(\"AIC for Model 3\")\n",
    "aic3 <- round(AIC(model3),3)\n",
    "aic3"
   ]
  },
  {
   "cell_type": "markdown",
   "metadata": {},
   "source": [
    "These findings are further mirrored in a set of __Wald tests__ testing the statistical significance between the three models. We choose the Wald test as our models exhibit some heteroskedasticity and as the Wald test allows for including a robust covariance matrix . \n",
    "\n",
    "We see that there is a statistically significant difference in the __Power__ of Model 2 over Model 1 as shown by the incredibly small p-value. The second test, however, shows that there is no statistically significant difference between the Model 2 and Model 3. In our attempt to model crime rate, these findings suggest that while Model 2 has a lower __R^2__ value, its value may be greater due to itssimplicity, despite a similar explanatory power."
   ]
  },
  {
   "cell_type": "code",
   "execution_count": 121,
   "metadata": {},
   "outputs": [
    {
     "data": {
      "text/html": [
       "<table>\n",
       "<thead><tr><th scope=col>Res.Df</th><th scope=col>Df</th><th scope=col>F</th><th scope=col>Pr(&gt;F)</th></tr></thead>\n",
       "<tbody>\n",
       "\t<tr><td>86          </td><td>NA          </td><td>      NA    </td><td>          NA</td></tr>\n",
       "\t<tr><td>81          </td><td> 5          </td><td>17.09207    </td><td>1.653298e-11</td></tr>\n",
       "</tbody>\n",
       "</table>\n"
      ],
      "text/latex": [
       "\\begin{tabular}{r|llll}\n",
       " Res.Df & Df & F & Pr(>F)\\\\\n",
       "\\hline\n",
       "\t 86           & NA           &       NA     &           NA\\\\\n",
       "\t 81           &  5           & 17.09207     & 1.653298e-11\\\\\n",
       "\\end{tabular}\n"
      ],
      "text/markdown": [
       "\n",
       "Res.Df | Df | F | Pr(>F) | \n",
       "|---|---|\n",
       "| 86           | NA           |       NA     |           NA | \n",
       "| 81           |  5           | 17.09207     | 1.653298e-11 | \n",
       "\n",
       "\n"
      ],
      "text/plain": [
       "  Res.Df Df F        Pr(>F)      \n",
       "1 86     NA       NA           NA\n",
       "2 81      5 17.09207 1.653298e-11"
      ]
     },
     "metadata": {},
     "output_type": "display_data"
    },
    {
     "data": {
      "text/html": [
       "<table>\n",
       "<thead><tr><th scope=col>Res.Df</th><th scope=col>Df</th><th scope=col>F</th><th scope=col>Pr(&gt;F)</th></tr></thead>\n",
       "<tbody>\n",
       "\t<tr><td>81        </td><td>NA        </td><td>     NA   </td><td>        NA</td></tr>\n",
       "\t<tr><td>72        </td><td> 9        </td><td>1.73927   </td><td>0.09562474</td></tr>\n",
       "</tbody>\n",
       "</table>\n"
      ],
      "text/latex": [
       "\\begin{tabular}{r|llll}\n",
       " Res.Df & Df & F & Pr(>F)\\\\\n",
       "\\hline\n",
       "\t 81         & NA         &      NA    &         NA\\\\\n",
       "\t 72         &  9         & 1.73927    & 0.09562474\\\\\n",
       "\\end{tabular}\n"
      ],
      "text/markdown": [
       "\n",
       "Res.Df | Df | F | Pr(>F) | \n",
       "|---|---|\n",
       "| 81         | NA         |      NA    |         NA | \n",
       "| 72         |  9         | 1.73927    | 0.09562474 | \n",
       "\n",
       "\n"
      ],
      "text/plain": [
       "  Res.Df Df F       Pr(>F)    \n",
       "1 81     NA      NA         NA\n",
       "2 72      9 1.73927 0.09562474"
      ]
     },
     "metadata": {},
     "output_type": "display_data"
    }
   ],
   "source": [
    "# Model 1 vs Model 2 Wald Test\n",
    "waldtest(model1, model2, vcov = vcovHC)\n",
    "\n",
    "# Model 2 vs Model 3 Wald Test\n",
    "waldtest(model2, model3, vcov = vcovHC)"
   ]
  },
  {
   "cell_type": "markdown",
   "metadata": {},
   "source": [
    "## <font color='blue'>5.0 Consideration of Omitted Variables</font>\n",
    "\n",
    "Next, we consider variables that are not included within the data set that may bias our results. Within each omitted variable section we present the linear model for a single major variable affecting crime rate and how the omitted variable may bias a given included variable.\n",
    "\n",
    "### 5.1 Metrics of Economic Inequality\n",
    "Regression: ${log(crmrte)} = \\beta_{0} + \\beta_{1} \\mathrm{taxpc}  + \\epsilon$ \n",
    "\n",
    "__Omitted Variable: $\\beta_{2} \\mathrm{econIneq}$__ where econIneq tracks underlying inequality of income in a community. \n",
    "\n",
    "We attempt to capture inequality with wgap and wgap.sq, but these may be incomplete representations. A higher score for the econIneq would indicate more disparity between the wealthiest and poorest, while a lower score would indicate a last drastic distribution of wealth.\n",
    "\n",
    "$$\n",
    "\\begin{align}\n",
    "{log(crmrte)} = \\beta_{0} \n",
    "    + \\beta_{1} \\mathrm{taxpc}  \n",
    "    + \\beta_{2} \\mathrm{econIneq}\n",
    "    + \\epsilon\n",
    "\\end{align}\n",
    "$$\n",
    "\n",
    "$$\n",
    "\\begin{align}\n",
    "{econIneq} = \\alpha_{0} \n",
    "    + \\alpha_{1} \\mathrm{taxpc}  \n",
    "    + \\epsilon\n",
    "\\end{align}\n",
    "$$\n",
    "\n",
    "If $\\beta_{2} > 0$ and $\\alpha_{1} > 0$ then $OMVB = \\beta_{2}\\alpha_{1} > 0$ and if $\\beta_{1}$ > 0 then the OLS coefficient on taxpc will be scaled positively away from zero gaining statistical significance.\n",
    "\n",
    "If the coefficient for income inequality ($\\beta_{2}$) is positivily correlated with crime rate, say from poorer residents feeling the need to steal from wealthier residents for lack of financial support and structure, and if the coefficient for the tax revenue per capita ($\\alpha_{1}$) is positively correlated with income inequality, say from the communities with the highest incomes to be taxed being in urban areas where poorer residences are also located, and if the coefficient for the tax revenue per capita($\\beta_{1}$) is negatively correlated with crime rate, then the affects of taxpc on crime rate may not be biased strongly enough with the data that we do have. Including income inequality data may increase the statistical significance of taxpc on crmrte.\n",
    "\n",
    "Including the enconomic inequality omitted variable would help to correct an overly confident score for taxpc by moving the taxpc coefficent towards zero losing statistical significance.\n",
    "\n"
   ]
  },
  {
   "cell_type": "markdown",
   "metadata": {},
   "source": [
    "### 5.2 Measures of Racial or Other Demographic Bias\n",
    "Regression: ${log(crmrte)} = \\beta_{0} + \\beta_{1} \\mathrm{prbarr}  + \\epsilon$ \n",
    "\n",
    "Omitted: $\\beta_{2} \\mathrm{racialBias}$ where racialBias tracks underlying racial bias in a community towards minorities. A higher value indicates more racism in the community.\n",
    "\n",
    "$$\n",
    "\\begin{align}\n",
    "{log(crmrte)} = \\beta_{0} \n",
    "    + \\beta_{1} \\mathrm{prbarr}  \n",
    "    + \\beta_{2} \\mathrm{racialBias}\n",
    "    + \\epsilon\n",
    "\\end{align}\n",
    "$$\n",
    "\n",
    "$$\n",
    "\\begin{align}\n",
    "{racialBias} = \\alpha_{0} \n",
    "    + \\alpha_{1} \\mathrm{prbarr}  \n",
    "    + \\epsilon\n",
    "\\end{align}\n",
    "$$\n",
    "\n",
    "If $\\beta_{2} > 0$ and $\\alpha_{1} > 0$ then $OMVB = \\beta_{2}\\alpha_{1} > 0$ and if $\\beta_{1}$ < 0 then the OLS coefficient on prbarr will be scaled towards zero losing statistical significance.\n",
    "\n",
    "If the coefficient for racial bias ($\\beta_{2}$) is positivily correlated with crime rate, say from systemic racism in the area, and if the coefficient for the probability of arrest ($\\alpha_{1}$) is positively correlated with racial bias, say from officers being more likely to arrest minorities, and if the coefficient for the probability of arrest ($\\beta_{1}$) is negatively correlated with crime rate, then the affects of prbarr on crime rate may be undervalues while excluding racial and demographic bias. Including racial bias data may increase the statistical significance of prbarr on crmrte moving it farther from zero in a negative direction.\n"
   ]
  },
  {
   "cell_type": "markdown",
   "metadata": {},
   "source": [
    "### 5.3 Job Availability\n",
    "Regression: ${log(crmrte)} = \\beta_{0} + \\beta_{1} \\mathrm{density}  + \\epsilon$ \n",
    "\n",
    "Omitted: $\\beta_{2} \\mathrm{jobAvail}$ where jobAvail tracks the availability of jobs in the area. A higher value indicates more more job opportunities for those within the community. More job availability may also coincide with a stronger economy, and those who are working have less time and incentive to commit crimes.\n",
    "$$\n",
    "\\begin{align}\n",
    "{log(crmrte)} = \\beta_{0} \n",
    "    + \\beta_{1} \\mathrm{density}  \n",
    "    + \\beta_{2} \\mathrm{jobAvail}\n",
    "    + \\epsilon\n",
    "\\end{align}\n",
    "$$\n",
    "\n",
    "$$\n",
    "\\begin{align}\n",
    "{jobAvail} = \\alpha_{0} \n",
    "    + \\alpha_{1} \\mathrm{density}  \n",
    "    + \\epsilon\n",
    "\\end{align}\n",
    "$$\n",
    "\n",
    "If $\\beta_{2} < 0$ and $\\alpha_{1} > 0$ then $OMVB = \\beta_{2}\\alpha_{1} < 0$ and if $\\beta_{1}$ > 0 then the OLS coefficient on density will be scaled positively away from zero gaining statistical significance.\n",
    "\n",
    "If the coefficient for job availability ($\\beta_{2}$) is negatively correlated with crime rate, perhaps because job opportunities indicate that residents are not forced to resort to crime, and if the coefficient for the density ($\\alpha_{1}$) is positively correlated with job availability, say because more people creates a greater diversity of businesses, and if the coefficient for density ($\\beta_{1}$) is positively correlated with crime rate, then the affects of density on crime rate may be biased too weakly with the data that we do have. Including job availability data may increase the statistical significance of density in a positive direction on crmrte.\n"
   ]
  },
  {
   "cell_type": "markdown",
   "metadata": {},
   "source": [
    "### 5.4 Education Levels\n",
    "Regression: ${log(crmrte)} = \\beta_{0} + \\beta_{1} \\mathrm{pctymle}  + \\epsilon$ \n",
    "\n",
    "Omitted: $\\beta_{2} \\mathrm{educLevel}$ where educLevel tracks the total level of education. This could be a combination of years in school, plus some weights for key years of education for graduation points from high school, associate's degree, bachelor's etc.\n",
    "$$\n",
    "\\begin{align}\n",
    "{log(crmrte)} = \\beta_{0} \n",
    "    + \\beta_{1} \\mathrm{pctymle}  \n",
    "    + \\beta_{2} \\mathrm{educLevel}\n",
    "    + \\epsilon\n",
    "\\end{align}\n",
    "$$\n",
    "\n",
    "$$\n",
    "\\begin{align}\n",
    "{educLevel} = \\alpha_{0} \n",
    "    + \\alpha_{1} \\mathrm{pctymle}  \n",
    "    + \\epsilon\n",
    "\\end{align}\n",
    "$$\n",
    "\n",
    "If $\\beta_{2} < 0$ and $\\alpha_{1} < 0$ then $OMVB = \\beta_{2}\\alpha_{1} > 0$ and if $\\beta_{1}$ > 0 then the OLS coefficient on prbarr will be scaled away from zero gaining statistical significance.\n",
    "\n",
    "If the coefficient for education level ($\\beta_{2}$) is negatively correlated with crime rate, perhaps because people with better education have more job opportunities and may come from more privilidged backgrounds, and if the coefficient for the percent young males ($\\alpha_{1}$) is negatively correlated with education, perhaps because young males have had less time to gain education levels - particularly those of associate and bachelor degrees, and if the coefficient for the percent of young males ($\\beta_{1}$) is positively correlated with crime rate, then the affects of pctymle on crime rate may be biased too strongly with the data that we do have. Including education levels data may decrease the statistical significance of pctymle on crmrte moving it negatively towards zero."
   ]
  },
  {
   "cell_type": "markdown",
   "metadata": {},
   "source": [
    "### 5.5 Willingness to Report\n",
    "\n",
    "Regression: ${log(crmrte)} = \\beta_{0} + \\beta_{1} \\mathrm{prbarr}  + \\epsilon$ \n",
    "\n",
    "Omitted: $\\beta_{2} \\mathrm{wReport}$ where wReport tracks the willingness to report crimes. A rougher community in parts of Charlotte maybe be less likely to report pettier crimes like graffiti when compared to a small town in rural Carolina where there is less crime in the first place. Citizens may become desensitized to certain times of crime thus lowering the total number crimes reported.\n",
    "$$\n",
    "\\begin{align}\n",
    "{log(crmrte)} = \\beta_{0} \n",
    "    + \\beta_{1} \\mathrm{prbarr}  \n",
    "    + \\beta_{2} \\mathrm{wReport}\n",
    "    + \\epsilon\n",
    "\\end{align}\n",
    "$$\n",
    "\n",
    "$$\n",
    "\\begin{align}\n",
    "{wReport} = \\alpha_{0} \n",
    "    + \\alpha_{1} \\mathrm{prbarr}  \n",
    "    + \\epsilon\n",
    "\\end{align}\n",
    "$$\n",
    "\n",
    "If $\\beta_{2} < 0$ and $\\alpha_{1} > 0$ then $OMVB = \\beta_{2}\\alpha_{1} < 0$ and if $\\beta_{1}$ < 0 then the OLS coefficient on prbarr will be scaled more negatively and away from zero gaining statistical significance.\n",
    "\n",
    "If the coefficient for willingness to report crimes ($\\beta_{2}$) is negatively correlated with crime rate, which could be due to criminals being more fearful of being reported, and if the coefficient for the probability of arrest ($\\alpha_{1}$) is postively correlated with willingness to report crimes, say because people are more likely to report crimes if they believe police will be able to act on the report, and if the coefficient for the probability of arrest($\\beta_{1}$) is negatively correlated with crime rate, then the affects of prbarr on crime rate may be overestimated with the data that we do have. Including the willingness to report crimes may decrease the statistical significance of prbarr on crmrte and correct an overly confident model moving prbarr positvely towards zero.\n"
   ]
  },
  {
   "cell_type": "markdown",
   "metadata": {},
   "source": [
    "### 5.6 Drug Use\n",
    "\n",
    "Regression: ${log(crmrte)} = \\beta_{0} + \\beta_{1} \\mathrm{prbarr}  + \\epsilon$ \n",
    "\n",
    "Omitted: $\\beta_{2} \\mathrm{drugUse}$ where drugUse reflects the extent of substance abuse in a given area. Generally speaking, areas of high substance abuse are associated with more crime, and statistics of drug use provide a great indicator to potential crime. There is also a greater probability of substance abuse and associated crime in areas with higher percentage of vulnerable young males.\n",
    "$$\n",
    "\\begin{align}\n",
    "{log(crmrte)} = \\beta_{0} \n",
    "    + \\beta_{1} \\mathrm{prbarr}  \n",
    "    + \\beta_{2} \\mathrm{drugUse}\n",
    "    + \\epsilon\n",
    "\\end{align}\n",
    "$$\n",
    "\n",
    "$$\n",
    "\\begin{align}\n",
    "{drugUse} = \\alpha_{0} \n",
    "    + \\alpha_{1} \\mathrm{prbarr}  \n",
    "    + \\epsilon\n",
    "\\end{align}\n",
    "$$\n",
    "\n",
    "If $\\beta_{2} > 0$ and $\\alpha_{1} > 0$ then $OMVB = \\beta_{2}\\alpha_{1} > 0$ and if $\\beta_{1}$ < 0 then the OLS coefficient on prbarr will be scaled towards zero losing statistical significance.\n",
    "\n",
    "If the coefficient for drug use ($\\beta_{2}$) is positively correlated with crime rate, given more drugs and addictions result in additional crimes to feed said additions, and if the coefficient for the probability of arrest ($\\alpha_{1}$) is positively correlated with drugUse, caused by the war on drugs targeting drug users with more veracity, and if the coefficient for the probability of arrest ($\\beta_{1}$) is negatively correlated with crime rate, then the affects of prbarr on crime rate may be too conservative when absorbing the effects of drug use. Including drug use may increase the statistical significance of prbarr more negatively.\n"
   ]
  },
  {
   "cell_type": "markdown",
   "metadata": {},
   "source": [
    "#### 5.7 Additional Omitted Variable Consideration\n",
    "\n",
    "Below we introduce a matrix covering a multitude of omitted variable biases on key coefficents."
   ]
  },
  {
   "cell_type": "code",
   "execution_count": 122,
   "metadata": {
    "scrolled": false
   },
   "outputs": [
    {
     "name": "stdout",
     "output_type": "stream",
     "text": [
      "[1] \"Omitted Variable: Economic Inequality Matrix\"\n"
     ]
    },
    {
     "data": {
      "text/html": [
       "<table>\n",
       "<thead><tr><th scope=col>IndpVar</th><th scope=col>OMV</th><th scope=col>IndpVar.Coeff.Sign</th><th scope=col>OMV.sign</th><th scope=col>OMV.Cor.with.IndpVar</th><th scope=col>Expected.Direction.Size.of.Bias</th><th scope=col>Proxy.Variable</th></tr></thead>\n",
       "<tbody>\n",
       "\t<tr><td>prbarr                </td><td>EconIneq              </td><td>Negative              </td><td>Positive              </td><td>Positive              </td><td>Underestimate/Moderate</td><td>wgap                  </td></tr>\n",
       "\t<tr><td>prbconv               </td><td>EconIneq              </td><td>Negative              </td><td>Positive              </td><td>Positive              </td><td>Underestimate/Moderate</td><td>                      </td></tr>\n",
       "\t<tr><td>prbpris               </td><td>EconIneq              </td><td>                      </td><td>Positive              </td><td>                      </td><td>                      </td><td>                      </td></tr>\n",
       "\t<tr><td>taxpc                 </td><td>EconIneq              </td><td>Positive              </td><td>Positive              </td><td>                      </td><td>                      </td><td>                      </td></tr>\n",
       "\t<tr><td>pctymle               </td><td>EconIneq              </td><td>Positive              </td><td>Positive              </td><td>Positive              </td><td>Overestimate/Small    </td><td>                      </td></tr>\n",
       "\t<tr><td>wgap(wgap^2)          </td><td>EconIneq              </td><td>Positive              </td><td>Positive              </td><td>Positive              </td><td>Overestimate/Small    </td><td>                      </td></tr>\n",
       "\t<tr><td>pctmin80              </td><td>EconIneq              </td><td>Positive              </td><td>Positive              </td><td>Negative              </td><td>Underestimate/Moderate</td><td>                      </td></tr>\n",
       "\t<tr><td>west                  </td><td>EconIneq              </td><td>Negative              </td><td>Positive              </td><td>Positive              </td><td>Underestimate/Small   </td><td>                      </td></tr>\n",
       "\t<tr><td>Density               </td><td>EconIneq              </td><td>Positive              </td><td>Positive              </td><td>Positive              </td><td>Overestimate/Small    </td><td>                      </td></tr>\n",
       "</tbody>\n",
       "</table>\n"
      ],
      "text/latex": [
       "\\begin{tabular}{r|lllllll}\n",
       " IndpVar & OMV & IndpVar.Coeff.Sign & OMV.sign & OMV.Cor.with.IndpVar & Expected.Direction.Size.of.Bias & Proxy.Variable\\\\\n",
       "\\hline\n",
       "\t prbarr                 & EconIneq               & Negative               & Positive               & Positive               & Underestimate/Moderate & wgap                  \\\\\n",
       "\t prbconv                & EconIneq               & Negative               & Positive               & Positive               & Underestimate/Moderate &                       \\\\\n",
       "\t prbpris                & EconIneq               &                        & Positive               &                        &                        &                       \\\\\n",
       "\t taxpc                  & EconIneq               & Positive               & Positive               &                        &                        &                       \\\\\n",
       "\t pctymle                & EconIneq               & Positive               & Positive               & Positive               & Overestimate/Small     &                       \\\\\n",
       "\t wgap(wgap\\textasciicircum{}2) & EconIneq                       & Positive                       & Positive                       & Positive                       & Overestimate/Small             &                               \\\\\n",
       "\t pctmin80               & EconIneq               & Positive               & Positive               & Negative               & Underestimate/Moderate &                       \\\\\n",
       "\t west                   & EconIneq               & Negative               & Positive               & Positive               & Underestimate/Small    &                       \\\\\n",
       "\t Density                & EconIneq               & Positive               & Positive               & Positive               & Overestimate/Small     &                       \\\\\n",
       "\\end{tabular}\n"
      ],
      "text/markdown": [
       "\n",
       "IndpVar | OMV | IndpVar.Coeff.Sign | OMV.sign | OMV.Cor.with.IndpVar | Expected.Direction.Size.of.Bias | Proxy.Variable | \n",
       "|---|---|---|---|---|---|---|---|---|\n",
       "| prbarr                 | EconIneq               | Negative               | Positive               | Positive               | Underestimate/Moderate | wgap                   | \n",
       "| prbconv                | EconIneq               | Negative               | Positive               | Positive               | Underestimate/Moderate |                        | \n",
       "| prbpris                | EconIneq               |                        | Positive               |                        |                        |                        | \n",
       "| taxpc                  | EconIneq               | Positive               | Positive               |                        |                        |                        | \n",
       "| pctymle                | EconIneq               | Positive               | Positive               | Positive               | Overestimate/Small     |                        | \n",
       "| wgap(wgap^2)           | EconIneq               | Positive               | Positive               | Positive               | Overestimate/Small     |                        | \n",
       "| pctmin80               | EconIneq               | Positive               | Positive               | Negative               | Underestimate/Moderate |                        | \n",
       "| west                   | EconIneq               | Negative               | Positive               | Positive               | Underestimate/Small    |                        | \n",
       "| Density                | EconIneq               | Positive               | Positive               | Positive               | Overestimate/Small     |                        | \n",
       "\n",
       "\n"
      ],
      "text/plain": [
       "  IndpVar      OMV      IndpVar.Coeff.Sign OMV.sign OMV.Cor.with.IndpVar\n",
       "1 prbarr       EconIneq Negative           Positive Positive            \n",
       "2 prbconv      EconIneq Negative           Positive Positive            \n",
       "3 prbpris      EconIneq                    Positive                     \n",
       "4 taxpc        EconIneq Positive           Positive                     \n",
       "5 pctymle      EconIneq Positive           Positive Positive            \n",
       "6 wgap(wgap^2) EconIneq Positive           Positive Positive            \n",
       "7 pctmin80     EconIneq Positive           Positive Negative            \n",
       "8 west         EconIneq Negative           Positive Positive            \n",
       "9 Density      EconIneq Positive           Positive Positive            \n",
       "  Expected.Direction.Size.of.Bias Proxy.Variable\n",
       "1 Underestimate/Moderate          wgap          \n",
       "2 Underestimate/Moderate                        \n",
       "3                                               \n",
       "4                                               \n",
       "5 Overestimate/Small                            \n",
       "6 Overestimate/Small                            \n",
       "7 Underestimate/Moderate                        \n",
       "8 Underestimate/Small                           \n",
       "9 Overestimate/Small                            "
      ]
     },
     "metadata": {},
     "output_type": "display_data"
    },
    {
     "name": "stdout",
     "output_type": "stream",
     "text": [
      "[1] \"Omitted Variable: Demographic Bias Matrix\"\n"
     ]
    },
    {
     "data": {
      "text/html": [
       "<table>\n",
       "<thead><tr><th></th><th scope=col>IndpVar</th><th scope=col>OMV</th><th scope=col>IndpVar.Coeff.Sign</th><th scope=col>OMV.sign</th><th scope=col>OMV.Cor.with.IndpVar</th><th scope=col>Expected.Direction.Size.of.Bias</th><th scope=col>Proxy.Variable</th></tr></thead>\n",
       "<tbody>\n",
       "\t<tr><th scope=row>10</th><td>prbarr                </td><td>DemoBias              </td><td>Negative              </td><td>Positive              </td><td>Positive              </td><td>Underestimate/Large   </td><td>west                  </td></tr>\n",
       "\t<tr><th scope=row>11</th><td>prbconv               </td><td>DemoBias              </td><td>Negative              </td><td>Positive              </td><td>Positive              </td><td>Underestimate/Large   </td><td>                      </td></tr>\n",
       "\t<tr><th scope=row>12</th><td>prbpris               </td><td>DemoBias              </td><td>                      </td><td>Positive              </td><td>                      </td><td>                      </td><td>                      </td></tr>\n",
       "\t<tr><th scope=row>13</th><td>taxpc                 </td><td>DemoBias              </td><td>Positive              </td><td>Positive              </td><td>                      </td><td>                      </td><td>                      </td></tr>\n",
       "\t<tr><th scope=row>14</th><td>pctymle               </td><td>DemoBias              </td><td>Positive              </td><td>Positive              </td><td>Positive              </td><td>Overestimate/Large    </td><td>                      </td></tr>\n",
       "\t<tr><th scope=row>15</th><td>wgap(wgap^2)          </td><td>DemoBias              </td><td>Positive              </td><td>Positive              </td><td>Positive              </td><td>Overestimate/Moderate </td><td>                      </td></tr>\n",
       "\t<tr><th scope=row>16</th><td>pctmin80              </td><td>DemoBias              </td><td>Positive              </td><td>Positive              </td><td>Negative              </td><td>Overestimate/Moderate </td><td>                      </td></tr>\n",
       "\t<tr><th scope=row>17</th><td>west                  </td><td>DemoBias              </td><td>Negative              </td><td>Positive              </td><td>Positive              </td><td>Underestimate/Moderate</td><td>                      </td></tr>\n",
       "\t<tr><th scope=row>18</th><td>Density               </td><td>DemoBias              </td><td>Positive              </td><td>Positive              </td><td>                      </td><td>                      </td><td>                      </td></tr>\n",
       "</tbody>\n",
       "</table>\n"
      ],
      "text/latex": [
       "\\begin{tabular}{r|lllllll}\n",
       "  & IndpVar & OMV & IndpVar.Coeff.Sign & OMV.sign & OMV.Cor.with.IndpVar & Expected.Direction.Size.of.Bias & Proxy.Variable\\\\\n",
       "\\hline\n",
       "\t10 & prbarr                 & DemoBias               & Negative               & Positive               & Positive               & Underestimate/Large    & west                  \\\\\n",
       "\t11 & prbconv                & DemoBias               & Negative               & Positive               & Positive               & Underestimate/Large    &                       \\\\\n",
       "\t12 & prbpris                & DemoBias               &                        & Positive               &                        &                        &                       \\\\\n",
       "\t13 & taxpc                  & DemoBias               & Positive               & Positive               &                        &                        &                       \\\\\n",
       "\t14 & pctymle                & DemoBias               & Positive               & Positive               & Positive               & Overestimate/Large     &                       \\\\\n",
       "\t15 & wgap(wgap\\textasciicircum{}2) & DemoBias                       & Positive                       & Positive                       & Positive                       & Overestimate/Moderate          &                               \\\\\n",
       "\t16 & pctmin80               & DemoBias               & Positive               & Positive               & Negative               & Overestimate/Moderate  &                       \\\\\n",
       "\t17 & west                   & DemoBias               & Negative               & Positive               & Positive               & Underestimate/Moderate &                       \\\\\n",
       "\t18 & Density                & DemoBias               & Positive               & Positive               &                        &                        &                       \\\\\n",
       "\\end{tabular}\n"
      ],
      "text/markdown": [
       "\n",
       "| <!--/--> | IndpVar | OMV | IndpVar.Coeff.Sign | OMV.sign | OMV.Cor.with.IndpVar | Expected.Direction.Size.of.Bias | Proxy.Variable | \n",
       "|---|---|---|---|---|---|---|---|---|\n",
       "| 10 | prbarr                 | DemoBias               | Negative               | Positive               | Positive               | Underestimate/Large    | west                   | \n",
       "| 11 | prbconv                | DemoBias               | Negative               | Positive               | Positive               | Underestimate/Large    |                        | \n",
       "| 12 | prbpris                | DemoBias               |                        | Positive               |                        |                        |                        | \n",
       "| 13 | taxpc                  | DemoBias               | Positive               | Positive               |                        |                        |                        | \n",
       "| 14 | pctymle                | DemoBias               | Positive               | Positive               | Positive               | Overestimate/Large     |                        | \n",
       "| 15 | wgap(wgap^2)           | DemoBias               | Positive               | Positive               | Positive               | Overestimate/Moderate  |                        | \n",
       "| 16 | pctmin80               | DemoBias               | Positive               | Positive               | Negative               | Overestimate/Moderate  |                        | \n",
       "| 17 | west                   | DemoBias               | Negative               | Positive               | Positive               | Underestimate/Moderate |                        | \n",
       "| 18 | Density                | DemoBias               | Positive               | Positive               |                        |                        |                        | \n",
       "\n",
       "\n"
      ],
      "text/plain": [
       "   IndpVar      OMV      IndpVar.Coeff.Sign OMV.sign OMV.Cor.with.IndpVar\n",
       "10 prbarr       DemoBias Negative           Positive Positive            \n",
       "11 prbconv      DemoBias Negative           Positive Positive            \n",
       "12 prbpris      DemoBias                    Positive                     \n",
       "13 taxpc        DemoBias Positive           Positive                     \n",
       "14 pctymle      DemoBias Positive           Positive Positive            \n",
       "15 wgap(wgap^2) DemoBias Positive           Positive Positive            \n",
       "16 pctmin80     DemoBias Positive           Positive Negative            \n",
       "17 west         DemoBias Negative           Positive Positive            \n",
       "18 Density      DemoBias Positive           Positive                     \n",
       "   Expected.Direction.Size.of.Bias Proxy.Variable\n",
       "10 Underestimate/Large             west          \n",
       "11 Underestimate/Large                           \n",
       "12                                               \n",
       "13                                               \n",
       "14 Overestimate/Large                            \n",
       "15 Overestimate/Moderate                         \n",
       "16 Overestimate/Moderate                         \n",
       "17 Underestimate/Moderate                        \n",
       "18                                               "
      ]
     },
     "metadata": {},
     "output_type": "display_data"
    },
    {
     "name": "stdout",
     "output_type": "stream",
     "text": [
      "[1] \"Omitted Variable: Job Availability Matrix\"\n"
     ]
    },
    {
     "data": {
      "text/html": [
       "<table>\n",
       "<thead><tr><th></th><th scope=col>IndpVar</th><th scope=col>OMV</th><th scope=col>IndpVar.Coeff.Sign</th><th scope=col>OMV.sign</th><th scope=col>OMV.Cor.with.IndpVar</th><th scope=col>Expected.Direction.Size.of.Bias</th><th scope=col>Proxy.Variable</th></tr></thead>\n",
       "<tbody>\n",
       "\t<tr><th scope=row>19</th><td>prbarr                                                                       </td><td>JobAvail                                                                     </td><td>Negative                                                                     </td><td>Negative                                                                     </td><td>                                                                             </td><td>                                                                             </td><td>wage variables (higher wages could be an indication of competition for labor)</td></tr>\n",
       "\t<tr><th scope=row>20</th><td>prbconv                                                                      </td><td>JobAvail                                                                     </td><td>Negative                                                                     </td><td>Negative                                                                     </td><td>                                                                             </td><td>                                                                             </td><td>                                                                             </td></tr>\n",
       "\t<tr><th scope=row>21</th><td>prbpris                                                                      </td><td>JobAvail                                                                     </td><td>                                                                             </td><td>Negative                                                                     </td><td>                                                                             </td><td>                                                                             </td><td>                                                                             </td></tr>\n",
       "\t<tr><th scope=row>22</th><td>taxpc                                                                        </td><td>JobAvail                                                                     </td><td>Positive                                                                     </td><td>Negative                                                                     </td><td>Positive                                                                     </td><td>Underestimate/Moderate                                                       </td><td>                                                                             </td></tr>\n",
       "\t<tr><th scope=row>23</th><td>pctymle                                                                      </td><td>JobAvail                                                                     </td><td>Positive                                                                     </td><td>Negative                                                                     </td><td>                                                                             </td><td>                                                                             </td><td>                                                                             </td></tr>\n",
       "\t<tr><th scope=row>24</th><td>wgap(wgap^2)                                                                 </td><td>JobAvail                                                                     </td><td>Positive                                                                     </td><td>Negative                                                                     </td><td>Negative                                                                     </td><td>Overestimate/Small                                                           </td><td>                                                                             </td></tr>\n",
       "\t<tr><th scope=row>25</th><td>pctmin80                                                                     </td><td>JobAvail                                                                     </td><td>Positive                                                                     </td><td>Negative                                                                     </td><td>Negative                                                                     </td><td>Overestimate/Small                                                           </td><td>                                                                             </td></tr>\n",
       "\t<tr><th scope=row>26</th><td>west                                                                         </td><td>JobAvail                                                                     </td><td>Negative                                                                     </td><td>Negative                                                                     </td><td>Negative                                                                     </td><td>Underestimate/Large                                                          </td><td>                                                                             </td></tr>\n",
       "\t<tr><th scope=row>27</th><td>Density                                                                      </td><td>JobAvail                                                                     </td><td>Positive                                                                     </td><td>Negative                                                                     </td><td>Positive                                                                     </td><td>Underestimate/Moderate                                                       </td><td>                                                                             </td></tr>\n",
       "</tbody>\n",
       "</table>\n"
      ],
      "text/latex": [
       "\\begin{tabular}{r|lllllll}\n",
       "  & IndpVar & OMV & IndpVar.Coeff.Sign & OMV.sign & OMV.Cor.with.IndpVar & Expected.Direction.Size.of.Bias & Proxy.Variable\\\\\n",
       "\\hline\n",
       "\t19 & prbarr                                                                        & JobAvail                                                                      & Negative                                                                      & Negative                                                                      &                                                                               &                                                                               & wage variables (higher wages could be an indication of competition for labor)\\\\\n",
       "\t20 & prbconv                                                                       & JobAvail                                                                      & Negative                                                                      & Negative                                                                      &                                                                               &                                                                               &                                                                              \\\\\n",
       "\t21 & prbpris                                                                       & JobAvail                                                                      &                                                                               & Negative                                                                      &                                                                               &                                                                               &                                                                              \\\\\n",
       "\t22 & taxpc                                                                         & JobAvail                                                                      & Positive                                                                      & Negative                                                                      & Positive                                                                      & Underestimate/Moderate                                                        &                                                                              \\\\\n",
       "\t23 & pctymle                                                                       & JobAvail                                                                      & Positive                                                                      & Negative                                                                      &                                                                               &                                                                               &                                                                              \\\\\n",
       "\t24 & wgap(wgap\\textasciicircum{}2)                                                & JobAvail                                                                      & Positive                                                                      & Negative                                                                      & Negative                                                                      & Overestimate/Small                                                            &                                                                              \\\\\n",
       "\t25 & pctmin80                                                                      & JobAvail                                                                      & Positive                                                                      & Negative                                                                      & Negative                                                                      & Overestimate/Small                                                            &                                                                              \\\\\n",
       "\t26 & west                                                                          & JobAvail                                                                      & Negative                                                                      & Negative                                                                      & Negative                                                                      & Underestimate/Large                                                           &                                                                              \\\\\n",
       "\t27 & Density                                                                       & JobAvail                                                                      & Positive                                                                      & Negative                                                                      & Positive                                                                      & Underestimate/Moderate                                                        &                                                                              \\\\\n",
       "\\end{tabular}\n"
      ],
      "text/markdown": [
       "\n",
       "| <!--/--> | IndpVar | OMV | IndpVar.Coeff.Sign | OMV.sign | OMV.Cor.with.IndpVar | Expected.Direction.Size.of.Bias | Proxy.Variable | \n",
       "|---|---|---|---|---|---|---|---|---|\n",
       "| 19 | prbarr                                                                        | JobAvail                                                                      | Negative                                                                      | Negative                                                                      |                                                                               |                                                                               | wage variables (higher wages could be an indication of competition for labor) | \n",
       "| 20 | prbconv                                                                       | JobAvail                                                                      | Negative                                                                      | Negative                                                                      |                                                                               |                                                                               |                                                                               | \n",
       "| 21 | prbpris                                                                       | JobAvail                                                                      |                                                                               | Negative                                                                      |                                                                               |                                                                               |                                                                               | \n",
       "| 22 | taxpc                                                                         | JobAvail                                                                      | Positive                                                                      | Negative                                                                      | Positive                                                                      | Underestimate/Moderate                                                        |                                                                               | \n",
       "| 23 | pctymle                                                                       | JobAvail                                                                      | Positive                                                                      | Negative                                                                      |                                                                               |                                                                               |                                                                               | \n",
       "| 24 | wgap(wgap^2)                                                                  | JobAvail                                                                      | Positive                                                                      | Negative                                                                      | Negative                                                                      | Overestimate/Small                                                            |                                                                               | \n",
       "| 25 | pctmin80                                                                      | JobAvail                                                                      | Positive                                                                      | Negative                                                                      | Negative                                                                      | Overestimate/Small                                                            |                                                                               | \n",
       "| 26 | west                                                                          | JobAvail                                                                      | Negative                                                                      | Negative                                                                      | Negative                                                                      | Underestimate/Large                                                           |                                                                               | \n",
       "| 27 | Density                                                                       | JobAvail                                                                      | Positive                                                                      | Negative                                                                      | Positive                                                                      | Underestimate/Moderate                                                        |                                                                               | \n",
       "\n",
       "\n"
      ],
      "text/plain": [
       "   IndpVar      OMV      IndpVar.Coeff.Sign OMV.sign OMV.Cor.with.IndpVar\n",
       "19 prbarr       JobAvail Negative           Negative                     \n",
       "20 prbconv      JobAvail Negative           Negative                     \n",
       "21 prbpris      JobAvail                    Negative                     \n",
       "22 taxpc        JobAvail Positive           Negative Positive            \n",
       "23 pctymle      JobAvail Positive           Negative                     \n",
       "24 wgap(wgap^2) JobAvail Positive           Negative Negative            \n",
       "25 pctmin80     JobAvail Positive           Negative Negative            \n",
       "26 west         JobAvail Negative           Negative Negative            \n",
       "27 Density      JobAvail Positive           Negative Positive            \n",
       "   Expected.Direction.Size.of.Bias\n",
       "19                                \n",
       "20                                \n",
       "21                                \n",
       "22 Underestimate/Moderate         \n",
       "23                                \n",
       "24 Overestimate/Small             \n",
       "25 Overestimate/Small             \n",
       "26 Underestimate/Large            \n",
       "27 Underestimate/Moderate         \n",
       "   Proxy.Variable                                                               \n",
       "19 wage variables (higher wages could be an indication of competition for labor)\n",
       "20                                                                              \n",
       "21                                                                              \n",
       "22                                                                              \n",
       "23                                                                              \n",
       "24                                                                              \n",
       "25                                                                              \n",
       "26                                                                              \n",
       "27                                                                              "
      ]
     },
     "metadata": {},
     "output_type": "display_data"
    },
    {
     "name": "stdout",
     "output_type": "stream",
     "text": [
      "[1] \"Omitted Variable: Education Level Matrix\"\n"
     ]
    },
    {
     "data": {
      "text/html": [
       "<table>\n",
       "<thead><tr><th></th><th scope=col>IndpVar</th><th scope=col>OMV</th><th scope=col>IndpVar.Coeff.Sign</th><th scope=col>OMV.sign</th><th scope=col>OMV.Cor.with.IndpVar</th><th scope=col>Expected.Direction.Size.of.Bias</th><th scope=col>Proxy.Variable</th></tr></thead>\n",
       "<tbody>\n",
       "\t<tr><th scope=row>28</th><td>prbarr                </td><td>EduLevel              </td><td>Negative              </td><td>Negative              </td><td>                      </td><td>                      </td><td>                      </td></tr>\n",
       "\t<tr><th scope=row>29</th><td>prbconv               </td><td>EduLevel              </td><td>Negative              </td><td>Negative              </td><td>Negative              </td><td>Underestimate/Small   </td><td>                      </td></tr>\n",
       "\t<tr><th scope=row>30</th><td>prbpris               </td><td>EduLevel              </td><td>                      </td><td>                      </td><td>                      </td><td>                      </td><td>                      </td></tr>\n",
       "\t<tr><th scope=row>31</th><td>taxpc                 </td><td>EduLevel              </td><td>Positive              </td><td>Negative              </td><td>Positive              </td><td>Underestimate/Small   </td><td>                      </td></tr>\n",
       "\t<tr><th scope=row>32</th><td>pctymle               </td><td>EduLevel              </td><td>Positive              </td><td>Negative              </td><td>Negative              </td><td>Overestimate/Small    </td><td>                      </td></tr>\n",
       "\t<tr><th scope=row>33</th><td>wgap(wgap^2)          </td><td>EduLevel              </td><td>Positive              </td><td>Negative              </td><td>Negative              </td><td>Overestimate/Small    </td><td>                      </td></tr>\n",
       "\t<tr><th scope=row>34</th><td>pctmin80              </td><td>EduLevel              </td><td>Positive              </td><td>Negative              </td><td>Negative              </td><td>Overestimate/Small    </td><td>                      </td></tr>\n",
       "\t<tr><th scope=row>35</th><td>west                  </td><td>EduLevel              </td><td>Negative              </td><td>Negative              </td><td>Negative              </td><td>Underestimate/Small   </td><td>                      </td></tr>\n",
       "\t<tr><th scope=row>36</th><td>Density               </td><td>EduLevel              </td><td>Positive              </td><td>Negative              </td><td>Positive              </td><td>Underestimate/Moderate</td><td>                      </td></tr>\n",
       "</tbody>\n",
       "</table>\n"
      ],
      "text/latex": [
       "\\begin{tabular}{r|lllllll}\n",
       "  & IndpVar & OMV & IndpVar.Coeff.Sign & OMV.sign & OMV.Cor.with.IndpVar & Expected.Direction.Size.of.Bias & Proxy.Variable\\\\\n",
       "\\hline\n",
       "\t28 & prbarr                 & EduLevel               & Negative               & Negative               &                        &                        &                       \\\\\n",
       "\t29 & prbconv                & EduLevel               & Negative               & Negative               & Negative               & Underestimate/Small    &                       \\\\\n",
       "\t30 & prbpris                & EduLevel               &                        &                        &                        &                        &                       \\\\\n",
       "\t31 & taxpc                  & EduLevel               & Positive               & Negative               & Positive               & Underestimate/Small    &                       \\\\\n",
       "\t32 & pctymle                & EduLevel               & Positive               & Negative               & Negative               & Overestimate/Small     &                       \\\\\n",
       "\t33 & wgap(wgap\\textasciicircum{}2) & EduLevel                       & Positive                       & Negative                       & Negative                       & Overestimate/Small             &                               \\\\\n",
       "\t34 & pctmin80               & EduLevel               & Positive               & Negative               & Negative               & Overestimate/Small     &                       \\\\\n",
       "\t35 & west                   & EduLevel               & Negative               & Negative               & Negative               & Underestimate/Small    &                       \\\\\n",
       "\t36 & Density                & EduLevel               & Positive               & Negative               & Positive               & Underestimate/Moderate &                       \\\\\n",
       "\\end{tabular}\n"
      ],
      "text/markdown": [
       "\n",
       "| <!--/--> | IndpVar | OMV | IndpVar.Coeff.Sign | OMV.sign | OMV.Cor.with.IndpVar | Expected.Direction.Size.of.Bias | Proxy.Variable | \n",
       "|---|---|---|---|---|---|---|---|---|\n",
       "| 28 | prbarr                 | EduLevel               | Negative               | Negative               |                        |                        |                        | \n",
       "| 29 | prbconv                | EduLevel               | Negative               | Negative               | Negative               | Underestimate/Small    |                        | \n",
       "| 30 | prbpris                | EduLevel               |                        |                        |                        |                        |                        | \n",
       "| 31 | taxpc                  | EduLevel               | Positive               | Negative               | Positive               | Underestimate/Small    |                        | \n",
       "| 32 | pctymle                | EduLevel               | Positive               | Negative               | Negative               | Overestimate/Small     |                        | \n",
       "| 33 | wgap(wgap^2)           | EduLevel               | Positive               | Negative               | Negative               | Overestimate/Small     |                        | \n",
       "| 34 | pctmin80               | EduLevel               | Positive               | Negative               | Negative               | Overestimate/Small     |                        | \n",
       "| 35 | west                   | EduLevel               | Negative               | Negative               | Negative               | Underestimate/Small    |                        | \n",
       "| 36 | Density                | EduLevel               | Positive               | Negative               | Positive               | Underestimate/Moderate |                        | \n",
       "\n",
       "\n"
      ],
      "text/plain": [
       "   IndpVar      OMV      IndpVar.Coeff.Sign OMV.sign OMV.Cor.with.IndpVar\n",
       "28 prbarr       EduLevel Negative           Negative                     \n",
       "29 prbconv      EduLevel Negative           Negative Negative            \n",
       "30 prbpris      EduLevel                                                 \n",
       "31 taxpc        EduLevel Positive           Negative Positive            \n",
       "32 pctymle      EduLevel Positive           Negative Negative            \n",
       "33 wgap(wgap^2) EduLevel Positive           Negative Negative            \n",
       "34 pctmin80     EduLevel Positive           Negative Negative            \n",
       "35 west         EduLevel Negative           Negative Negative            \n",
       "36 Density      EduLevel Positive           Negative Positive            \n",
       "   Expected.Direction.Size.of.Bias Proxy.Variable\n",
       "28                                               \n",
       "29 Underestimate/Small                           \n",
       "30                                               \n",
       "31 Underestimate/Small                           \n",
       "32 Overestimate/Small                            \n",
       "33 Overestimate/Small                            \n",
       "34 Overestimate/Small                            \n",
       "35 Underestimate/Small                           \n",
       "36 Underestimate/Moderate                        "
      ]
     },
     "metadata": {},
     "output_type": "display_data"
    },
    {
     "name": "stdout",
     "output_type": "stream",
     "text": [
      "[1] \"Omitted Variable: Survey Density Matrix\"\n"
     ]
    },
    {
     "data": {
      "text/html": [
       "<table>\n",
       "<thead><tr><th></th><th scope=col>IndpVar</th><th scope=col>OMV</th><th scope=col>IndpVar.Coeff.Sign</th><th scope=col>OMV.sign</th><th scope=col>OMV.Cor.with.IndpVar</th><th scope=col>Expected.Direction.Size.of.Bias</th><th scope=col>Proxy.Variable</th></tr></thead>\n",
       "<tbody>\n",
       "\t<tr><th scope=row>37</th><td>prbarr                </td><td>Surv.Density          </td><td>Negative              </td><td>Negative              </td><td>Positive              </td><td>Overestimate/Small    </td><td>                      </td></tr>\n",
       "\t<tr><th scope=row>38</th><td>prbconv               </td><td>Surv.Density          </td><td>Negative              </td><td>Negative              </td><td>Positive              </td><td>Overestimate/Small    </td><td>                      </td></tr>\n",
       "\t<tr><th scope=row>39</th><td>prbpris               </td><td>Surv.Density          </td><td>                      </td><td>                      </td><td>                      </td><td>                      </td><td>                      </td></tr>\n",
       "\t<tr><th scope=row>40</th><td>taxpc                 </td><td>Surv.Density          </td><td>Positive              </td><td>Negative              </td><td>Positive              </td><td>Underestimate/Moderate</td><td>                      </td></tr>\n",
       "\t<tr><th scope=row>41</th><td>pctymle               </td><td>Surv.Density          </td><td>Positive              </td><td>Negative              </td><td>                      </td><td>                      </td><td>                      </td></tr>\n",
       "\t<tr><th scope=row>42</th><td>wgap(wgap^2)          </td><td>Surv.Density          </td><td>Positive              </td><td>Negative              </td><td>                      </td><td>                      </td><td>                      </td></tr>\n",
       "\t<tr><th scope=row>43</th><td>pctmin80              </td><td>Surv.Density          </td><td>Positive              </td><td>Negative              </td><td>                      </td><td>                      </td><td>                      </td></tr>\n",
       "\t<tr><th scope=row>44</th><td>west                  </td><td>Surv.Density          </td><td>Negative              </td><td>Negative              </td><td>                      </td><td>                      </td><td>                      </td></tr>\n",
       "\t<tr><th scope=row>45</th><td>Density               </td><td>Surv.Density          </td><td>Positive              </td><td>Negative              </td><td>Positive              </td><td>Underestimate/Small   </td><td>                      </td></tr>\n",
       "</tbody>\n",
       "</table>\n"
      ],
      "text/latex": [
       "\\begin{tabular}{r|lllllll}\n",
       "  & IndpVar & OMV & IndpVar.Coeff.Sign & OMV.sign & OMV.Cor.with.IndpVar & Expected.Direction.Size.of.Bias & Proxy.Variable\\\\\n",
       "\\hline\n",
       "\t37 & prbarr                 & Surv.Density           & Negative               & Negative               & Positive               & Overestimate/Small     &                       \\\\\n",
       "\t38 & prbconv                & Surv.Density           & Negative               & Negative               & Positive               & Overestimate/Small     &                       \\\\\n",
       "\t39 & prbpris                & Surv.Density           &                        &                        &                        &                        &                       \\\\\n",
       "\t40 & taxpc                  & Surv.Density           & Positive               & Negative               & Positive               & Underestimate/Moderate &                       \\\\\n",
       "\t41 & pctymle                & Surv.Density           & Positive               & Negative               &                        &                        &                       \\\\\n",
       "\t42 & wgap(wgap\\textasciicircum{}2) & Surv.Density                   & Positive                       & Negative                       &                                &                                &                               \\\\\n",
       "\t43 & pctmin80               & Surv.Density           & Positive               & Negative               &                        &                        &                       \\\\\n",
       "\t44 & west                   & Surv.Density           & Negative               & Negative               &                        &                        &                       \\\\\n",
       "\t45 & Density                & Surv.Density           & Positive               & Negative               & Positive               & Underestimate/Small    &                       \\\\\n",
       "\\end{tabular}\n"
      ],
      "text/markdown": [
       "\n",
       "| <!--/--> | IndpVar | OMV | IndpVar.Coeff.Sign | OMV.sign | OMV.Cor.with.IndpVar | Expected.Direction.Size.of.Bias | Proxy.Variable | \n",
       "|---|---|---|---|---|---|---|---|---|\n",
       "| 37 | prbarr                 | Surv.Density           | Negative               | Negative               | Positive               | Overestimate/Small     |                        | \n",
       "| 38 | prbconv                | Surv.Density           | Negative               | Negative               | Positive               | Overestimate/Small     |                        | \n",
       "| 39 | prbpris                | Surv.Density           |                        |                        |                        |                        |                        | \n",
       "| 40 | taxpc                  | Surv.Density           | Positive               | Negative               | Positive               | Underestimate/Moderate |                        | \n",
       "| 41 | pctymle                | Surv.Density           | Positive               | Negative               |                        |                        |                        | \n",
       "| 42 | wgap(wgap^2)           | Surv.Density           | Positive               | Negative               |                        |                        |                        | \n",
       "| 43 | pctmin80               | Surv.Density           | Positive               | Negative               |                        |                        |                        | \n",
       "| 44 | west                   | Surv.Density           | Negative               | Negative               |                        |                        |                        | \n",
       "| 45 | Density                | Surv.Density           | Positive               | Negative               | Positive               | Underestimate/Small    |                        | \n",
       "\n",
       "\n"
      ],
      "text/plain": [
       "   IndpVar      OMV          IndpVar.Coeff.Sign OMV.sign OMV.Cor.with.IndpVar\n",
       "37 prbarr       Surv.Density Negative           Negative Positive            \n",
       "38 prbconv      Surv.Density Negative           Negative Positive            \n",
       "39 prbpris      Surv.Density                                                 \n",
       "40 taxpc        Surv.Density Positive           Negative Positive            \n",
       "41 pctymle      Surv.Density Positive           Negative                     \n",
       "42 wgap(wgap^2) Surv.Density Positive           Negative                     \n",
       "43 pctmin80     Surv.Density Positive           Negative                     \n",
       "44 west         Surv.Density Negative           Negative                     \n",
       "45 Density      Surv.Density Positive           Negative Positive            \n",
       "   Expected.Direction.Size.of.Bias Proxy.Variable\n",
       "37 Overestimate/Small                            \n",
       "38 Overestimate/Small                            \n",
       "39                                               \n",
       "40 Underestimate/Moderate                        \n",
       "41                                               \n",
       "42                                               \n",
       "43                                               \n",
       "44                                               \n",
       "45 Underestimate/Small                           "
      ]
     },
     "metadata": {},
     "output_type": "display_data"
    },
    {
     "name": "stdout",
     "output_type": "stream",
     "text": [
      "[1] \"Omitted Variable: Community Unity Matrix\"\n"
     ]
    },
    {
     "data": {
      "text/html": [
       "<table>\n",
       "<thead><tr><th></th><th scope=col>IndpVar</th><th scope=col>OMV</th><th scope=col>IndpVar.Coeff.Sign</th><th scope=col>OMV.sign</th><th scope=col>OMV.Cor.with.IndpVar</th><th scope=col>Expected.Direction.Size.of.Bias</th><th scope=col>Proxy.Variable</th></tr></thead>\n",
       "<tbody>\n",
       "\t<tr><th scope=row>46</th><td>prbarr               </td><td>Com.Unity            </td><td>Negative             </td><td>Negative             </td><td>                     </td><td>                     </td><td>                     </td></tr>\n",
       "\t<tr><th scope=row>47</th><td>prbconv              </td><td>Com.Unity            </td><td>Negative             </td><td>Negative             </td><td>                     </td><td>                     </td><td>                     </td></tr>\n",
       "\t<tr><th scope=row>48</th><td>prbpris              </td><td>Com.Unity            </td><td>                     </td><td>Negative             </td><td>                     </td><td>                     </td><td>                     </td></tr>\n",
       "\t<tr><th scope=row>49</th><td>taxpc                </td><td>Com.Unity            </td><td>Positive             </td><td>Negative             </td><td>                     </td><td>                     </td><td>                     </td></tr>\n",
       "\t<tr><th scope=row>50</th><td>pctymle              </td><td>Com.Unity            </td><td>Positive             </td><td>Negative             </td><td>                     </td><td>                     </td><td>                     </td></tr>\n",
       "\t<tr><th scope=row>51</th><td>wgap(wgap^2)         </td><td>Com.Unity            </td><td>Positive             </td><td>Negative             </td><td>Negative             </td><td>Overestimate/Moderate</td><td>                     </td></tr>\n",
       "\t<tr><th scope=row>52</th><td>pctmin80             </td><td>Com.Unity            </td><td>Positive             </td><td>Negative             </td><td>Positive             </td><td>Underestimate/Small  </td><td>                     </td></tr>\n",
       "\t<tr><th scope=row>53</th><td>west                 </td><td>Com.Unity            </td><td>Negative             </td><td>Negative             </td><td>Negative             </td><td>Underestimate/Small  </td><td>                     </td></tr>\n",
       "\t<tr><th scope=row>54</th><td>Density              </td><td>Com.Unity            </td><td>Positive             </td><td>Negative             </td><td>                     </td><td>                     </td><td>                     </td></tr>\n",
       "</tbody>\n",
       "</table>\n"
      ],
      "text/latex": [
       "\\begin{tabular}{r|lllllll}\n",
       "  & IndpVar & OMV & IndpVar.Coeff.Sign & OMV.sign & OMV.Cor.with.IndpVar & Expected.Direction.Size.of.Bias & Proxy.Variable\\\\\n",
       "\\hline\n",
       "\t46 & prbarr                & Com.Unity             & Negative              & Negative              &                       &                       &                      \\\\\n",
       "\t47 & prbconv               & Com.Unity             & Negative              & Negative              &                       &                       &                      \\\\\n",
       "\t48 & prbpris               & Com.Unity             &                       & Negative              &                       &                       &                      \\\\\n",
       "\t49 & taxpc                 & Com.Unity             & Positive              & Negative              &                       &                       &                      \\\\\n",
       "\t50 & pctymle               & Com.Unity             & Positive              & Negative              &                       &                       &                      \\\\\n",
       "\t51 & wgap(wgap\\textasciicircum{}2) & Com.Unity                      & Positive                       & Negative                       & Negative                       & Overestimate/Moderate          &                               \\\\\n",
       "\t52 & pctmin80              & Com.Unity             & Positive              & Negative              & Positive              & Underestimate/Small   &                      \\\\\n",
       "\t53 & west                  & Com.Unity             & Negative              & Negative              & Negative              & Underestimate/Small   &                      \\\\\n",
       "\t54 & Density               & Com.Unity             & Positive              & Negative              &                       &                       &                      \\\\\n",
       "\\end{tabular}\n"
      ],
      "text/markdown": [
       "\n",
       "| <!--/--> | IndpVar | OMV | IndpVar.Coeff.Sign | OMV.sign | OMV.Cor.with.IndpVar | Expected.Direction.Size.of.Bias | Proxy.Variable | \n",
       "|---|---|---|---|---|---|---|---|---|\n",
       "| 46 | prbarr                | Com.Unity             | Negative              | Negative              |                       |                       |                       | \n",
       "| 47 | prbconv               | Com.Unity             | Negative              | Negative              |                       |                       |                       | \n",
       "| 48 | prbpris               | Com.Unity             |                       | Negative              |                       |                       |                       | \n",
       "| 49 | taxpc                 | Com.Unity             | Positive              | Negative              |                       |                       |                       | \n",
       "| 50 | pctymle               | Com.Unity             | Positive              | Negative              |                       |                       |                       | \n",
       "| 51 | wgap(wgap^2)          | Com.Unity             | Positive              | Negative              | Negative              | Overestimate/Moderate |                       | \n",
       "| 52 | pctmin80              | Com.Unity             | Positive              | Negative              | Positive              | Underestimate/Small   |                       | \n",
       "| 53 | west                  | Com.Unity             | Negative              | Negative              | Negative              | Underestimate/Small   |                       | \n",
       "| 54 | Density               | Com.Unity             | Positive              | Negative              |                       |                       |                       | \n",
       "\n",
       "\n"
      ],
      "text/plain": [
       "   IndpVar      OMV       IndpVar.Coeff.Sign OMV.sign OMV.Cor.with.IndpVar\n",
       "46 prbarr       Com.Unity Negative           Negative                     \n",
       "47 prbconv      Com.Unity Negative           Negative                     \n",
       "48 prbpris      Com.Unity                    Negative                     \n",
       "49 taxpc        Com.Unity Positive           Negative                     \n",
       "50 pctymle      Com.Unity Positive           Negative                     \n",
       "51 wgap(wgap^2) Com.Unity Positive           Negative Negative            \n",
       "52 pctmin80     Com.Unity Positive           Negative Positive            \n",
       "53 west         Com.Unity Negative           Negative Negative            \n",
       "54 Density      Com.Unity Positive           Negative                     \n",
       "   Expected.Direction.Size.of.Bias Proxy.Variable\n",
       "46                                               \n",
       "47                                               \n",
       "48                                               \n",
       "49                                               \n",
       "50                                               \n",
       "51 Overestimate/Moderate                         \n",
       "52 Underestimate/Small                           \n",
       "53 Underestimate/Small                           \n",
       "54                                               "
      ]
     },
     "metadata": {},
     "output_type": "display_data"
    },
    {
     "name": "stdout",
     "output_type": "stream",
     "text": [
      "[1] \"Omitted Variable: Willingness to Report Matrix\"\n"
     ]
    },
    {
     "data": {
      "text/html": [
       "<table>\n",
       "<thead><tr><th></th><th scope=col>IndpVar</th><th scope=col>OMV</th><th scope=col>IndpVar.Coeff.Sign</th><th scope=col>OMV.sign</th><th scope=col>OMV.Cor.with.IndpVar</th><th scope=col>Expected.Direction.Size.of.Bias</th><th scope=col>Proxy.Variable</th></tr></thead>\n",
       "<tbody>\n",
       "\t<tr><th scope=row>55</th><td>prbarr               </td><td>wReport              </td><td>Negative             </td><td>Negative             </td><td>Positive             </td><td>Overestimate/Moderate</td><td>mix                  </td></tr>\n",
       "\t<tr><th scope=row>56</th><td>prbconv              </td><td>wReport              </td><td>Negative             </td><td>Negative             </td><td>Positive             </td><td>Overestimate/Moderate</td><td>                     </td></tr>\n",
       "\t<tr><th scope=row>57</th><td>prbpris              </td><td>wReport              </td><td>                     </td><td>Negative             </td><td>                     </td><td>                     </td><td>                     </td></tr>\n",
       "\t<tr><th scope=row>58</th><td>taxpc                </td><td>wReport              </td><td>Positive             </td><td>Negative             </td><td>                     </td><td>                     </td><td>                     </td></tr>\n",
       "\t<tr><th scope=row>59</th><td>pctymle              </td><td>wReport              </td><td>Positive             </td><td>Negative             </td><td>                     </td><td>                     </td><td>                     </td></tr>\n",
       "\t<tr><th scope=row>60</th><td>wgap(wgap^2)         </td><td>wReport              </td><td>Positive             </td><td>Negative             </td><td>                     </td><td>                     </td><td>                     </td></tr>\n",
       "\t<tr><th scope=row>61</th><td>pctmin80             </td><td>wReport              </td><td>Positive             </td><td>Negative             </td><td>                     </td><td>                     </td><td>                     </td></tr>\n",
       "\t<tr><th scope=row>62</th><td>west                 </td><td>wReport              </td><td>Negative             </td><td>Negative             </td><td>                     </td><td>                     </td><td>                     </td></tr>\n",
       "\t<tr><th scope=row>63</th><td>Density              </td><td>wReport              </td><td>Positive             </td><td>Negative             </td><td>                     </td><td>                     </td><td>                     </td></tr>\n",
       "</tbody>\n",
       "</table>\n"
      ],
      "text/latex": [
       "\\begin{tabular}{r|lllllll}\n",
       "  & IndpVar & OMV & IndpVar.Coeff.Sign & OMV.sign & OMV.Cor.with.IndpVar & Expected.Direction.Size.of.Bias & Proxy.Variable\\\\\n",
       "\\hline\n",
       "\t55 & prbarr                & wReport               & Negative              & Negative              & Positive              & Overestimate/Moderate & mix                  \\\\\n",
       "\t56 & prbconv               & wReport               & Negative              & Negative              & Positive              & Overestimate/Moderate &                      \\\\\n",
       "\t57 & prbpris               & wReport               &                       & Negative              &                       &                       &                      \\\\\n",
       "\t58 & taxpc                 & wReport               & Positive              & Negative              &                       &                       &                      \\\\\n",
       "\t59 & pctymle               & wReport               & Positive              & Negative              &                       &                       &                      \\\\\n",
       "\t60 & wgap(wgap\\textasciicircum{}2) & wReport                        & Positive                       & Negative                       &                                &                                &                               \\\\\n",
       "\t61 & pctmin80              & wReport               & Positive              & Negative              &                       &                       &                      \\\\\n",
       "\t62 & west                  & wReport               & Negative              & Negative              &                       &                       &                      \\\\\n",
       "\t63 & Density               & wReport               & Positive              & Negative              &                       &                       &                      \\\\\n",
       "\\end{tabular}\n"
      ],
      "text/markdown": [
       "\n",
       "| <!--/--> | IndpVar | OMV | IndpVar.Coeff.Sign | OMV.sign | OMV.Cor.with.IndpVar | Expected.Direction.Size.of.Bias | Proxy.Variable | \n",
       "|---|---|---|---|---|---|---|---|---|\n",
       "| 55 | prbarr                | wReport               | Negative              | Negative              | Positive              | Overestimate/Moderate | mix                   | \n",
       "| 56 | prbconv               | wReport               | Negative              | Negative              | Positive              | Overestimate/Moderate |                       | \n",
       "| 57 | prbpris               | wReport               |                       | Negative              |                       |                       |                       | \n",
       "| 58 | taxpc                 | wReport               | Positive              | Negative              |                       |                       |                       | \n",
       "| 59 | pctymle               | wReport               | Positive              | Negative              |                       |                       |                       | \n",
       "| 60 | wgap(wgap^2)          | wReport               | Positive              | Negative              |                       |                       |                       | \n",
       "| 61 | pctmin80              | wReport               | Positive              | Negative              |                       |                       |                       | \n",
       "| 62 | west                  | wReport               | Negative              | Negative              |                       |                       |                       | \n",
       "| 63 | Density               | wReport               | Positive              | Negative              |                       |                       |                       | \n",
       "\n",
       "\n"
      ],
      "text/plain": [
       "   IndpVar      OMV     IndpVar.Coeff.Sign OMV.sign OMV.Cor.with.IndpVar\n",
       "55 prbarr       wReport Negative           Negative Positive            \n",
       "56 prbconv      wReport Negative           Negative Positive            \n",
       "57 prbpris      wReport                    Negative                     \n",
       "58 taxpc        wReport Positive           Negative                     \n",
       "59 pctymle      wReport Positive           Negative                     \n",
       "60 wgap(wgap^2) wReport Positive           Negative                     \n",
       "61 pctmin80     wReport Positive           Negative                     \n",
       "62 west         wReport Negative           Negative                     \n",
       "63 Density      wReport Positive           Negative                     \n",
       "   Expected.Direction.Size.of.Bias Proxy.Variable\n",
       "55 Overestimate/Moderate           mix           \n",
       "56 Overestimate/Moderate                         \n",
       "57                                               \n",
       "58                                               \n",
       "59                                               \n",
       "60                                               \n",
       "61                                               \n",
       "62                                               \n",
       "63                                               "
      ]
     },
     "metadata": {},
     "output_type": "display_data"
    },
    {
     "name": "stdout",
     "output_type": "stream",
     "text": [
      "[1] \"Omitted Variable: Violent Crime Matrix\"\n"
     ]
    },
    {
     "data": {
      "text/html": [
       "<table>\n",
       "<thead><tr><th></th><th scope=col>IndpVar</th><th scope=col>OMV</th><th scope=col>IndpVar.Coeff.Sign</th><th scope=col>OMV.sign</th><th scope=col>OMV.Cor.with.IndpVar</th><th scope=col>Expected.Direction.Size.of.Bias</th><th scope=col>Proxy.Variable</th></tr></thead>\n",
       "<tbody>\n",
       "\t<tr><th scope=row>64</th><td>prbarr             </td><td>pViolent           </td><td>Negative           </td><td>Positive           </td><td>Negative           </td><td>Overestimate/Small </td><td>mix                </td></tr>\n",
       "\t<tr><th scope=row>65</th><td>prbconv            </td><td>pViolent           </td><td>Negative           </td><td>Positive           </td><td>Positive           </td><td>Underestimate/Small</td><td>                   </td></tr>\n",
       "\t<tr><th scope=row>66</th><td>prbpris            </td><td>pViolent           </td><td>                   </td><td>Positive           </td><td>                   </td><td>                   </td><td>                   </td></tr>\n",
       "\t<tr><th scope=row>67</th><td>taxpc              </td><td>pViolent           </td><td>Positive           </td><td>Positive           </td><td>Negative           </td><td>Underestimate/Small</td><td>                   </td></tr>\n",
       "\t<tr><th scope=row>68</th><td>pctymle            </td><td>pViolent           </td><td>Positive           </td><td>Positive           </td><td>Positive           </td><td>Overestimate/Small </td><td>                   </td></tr>\n",
       "\t<tr><th scope=row>69</th><td>wgap(wgap^2)       </td><td>pViolent           </td><td>Positive           </td><td>Positive           </td><td>                   </td><td>                   </td><td>                   </td></tr>\n",
       "\t<tr><th scope=row>70</th><td>pctmin80           </td><td>pViolent           </td><td>Positive           </td><td>Positive           </td><td>                   </td><td>                   </td><td>                   </td></tr>\n",
       "\t<tr><th scope=row>71</th><td>west               </td><td>pViolent           </td><td>Negative           </td><td>Positive           </td><td>                   </td><td>                   </td><td>                   </td></tr>\n",
       "\t<tr><th scope=row>72</th><td>Density            </td><td>pViolent           </td><td>Positive           </td><td>Positive           </td><td>                   </td><td>                   </td><td>                   </td></tr>\n",
       "</tbody>\n",
       "</table>\n"
      ],
      "text/latex": [
       "\\begin{tabular}{r|lllllll}\n",
       "  & IndpVar & OMV & IndpVar.Coeff.Sign & OMV.sign & OMV.Cor.with.IndpVar & Expected.Direction.Size.of.Bias & Proxy.Variable\\\\\n",
       "\\hline\n",
       "\t64 & prbarr              & pViolent            & Negative            & Positive            & Negative            & Overestimate/Small  & mix                \\\\\n",
       "\t65 & prbconv             & pViolent            & Negative            & Positive            & Positive            & Underestimate/Small &                    \\\\\n",
       "\t66 & prbpris             & pViolent            &                     & Positive            &                     &                     &                    \\\\\n",
       "\t67 & taxpc               & pViolent            & Positive            & Positive            & Negative            & Underestimate/Small &                    \\\\\n",
       "\t68 & pctymle             & pViolent            & Positive            & Positive            & Positive            & Overestimate/Small  &                    \\\\\n",
       "\t69 & wgap(wgap\\textasciicircum{}2) & pViolent                       & Positive                       & Positive                       &                                &                                &                               \\\\\n",
       "\t70 & pctmin80            & pViolent            & Positive            & Positive            &                     &                     &                    \\\\\n",
       "\t71 & west                & pViolent            & Negative            & Positive            &                     &                     &                    \\\\\n",
       "\t72 & Density             & pViolent            & Positive            & Positive            &                     &                     &                    \\\\\n",
       "\\end{tabular}\n"
      ],
      "text/markdown": [
       "\n",
       "| <!--/--> | IndpVar | OMV | IndpVar.Coeff.Sign | OMV.sign | OMV.Cor.with.IndpVar | Expected.Direction.Size.of.Bias | Proxy.Variable | \n",
       "|---|---|---|---|---|---|---|---|---|\n",
       "| 64 | prbarr              | pViolent            | Negative            | Positive            | Negative            | Overestimate/Small  | mix                 | \n",
       "| 65 | prbconv             | pViolent            | Negative            | Positive            | Positive            | Underestimate/Small |                     | \n",
       "| 66 | prbpris             | pViolent            |                     | Positive            |                     |                     |                     | \n",
       "| 67 | taxpc               | pViolent            | Positive            | Positive            | Negative            | Underestimate/Small |                     | \n",
       "| 68 | pctymle             | pViolent            | Positive            | Positive            | Positive            | Overestimate/Small  |                     | \n",
       "| 69 | wgap(wgap^2)        | pViolent            | Positive            | Positive            |                     |                     |                     | \n",
       "| 70 | pctmin80            | pViolent            | Positive            | Positive            |                     |                     |                     | \n",
       "| 71 | west                | pViolent            | Negative            | Positive            |                     |                     |                     | \n",
       "| 72 | Density             | pViolent            | Positive            | Positive            |                     |                     |                     | \n",
       "\n",
       "\n"
      ],
      "text/plain": [
       "   IndpVar      OMV      IndpVar.Coeff.Sign OMV.sign OMV.Cor.with.IndpVar\n",
       "64 prbarr       pViolent Negative           Positive Negative            \n",
       "65 prbconv      pViolent Negative           Positive Positive            \n",
       "66 prbpris      pViolent                    Positive                     \n",
       "67 taxpc        pViolent Positive           Positive Negative            \n",
       "68 pctymle      pViolent Positive           Positive Positive            \n",
       "69 wgap(wgap^2) pViolent Positive           Positive                     \n",
       "70 pctmin80     pViolent Positive           Positive                     \n",
       "71 west         pViolent Negative           Positive                     \n",
       "72 Density      pViolent Positive           Positive                     \n",
       "   Expected.Direction.Size.of.Bias Proxy.Variable\n",
       "64 Overestimate/Small              mix           \n",
       "65 Underestimate/Small                           \n",
       "66                                               \n",
       "67 Underestimate/Small                           \n",
       "68 Overestimate/Small                            \n",
       "69                                               \n",
       "70                                               \n",
       "71                                               \n",
       "72                                               "
      ]
     },
     "metadata": {},
     "output_type": "display_data"
    },
    {
     "name": "stdout",
     "output_type": "stream",
     "text": [
      "[1] \"Omitted Variable: DrugUse Matrix\"\n"
     ]
    },
    {
     "data": {
      "text/html": [
       "<table>\n",
       "<thead><tr><th></th><th scope=col>IndpVar</th><th scope=col>OMV</th><th scope=col>IndpVar.Coeff.Sign</th><th scope=col>OMV.sign</th><th scope=col>OMV.Cor.with.IndpVar</th><th scope=col>Expected.Direction.Size.of.Bias</th><th scope=col>Proxy.Variable</th></tr></thead>\n",
       "<tbody>\n",
       "\t<tr><th scope=row>73</th><td>prbarr                </td><td>drugUse               </td><td>Negative              </td><td>Positive              </td><td>Positive              </td><td>Underestimate/Moderate</td><td>mix                   </td></tr>\n",
       "\t<tr><th scope=row>74</th><td>prbconv               </td><td>drugUse               </td><td>Negative              </td><td>Positive              </td><td>Positive              </td><td>Underestimate/Moderate</td><td>                      </td></tr>\n",
       "\t<tr><th scope=row>75</th><td>prbpris               </td><td>drugUse               </td><td>                      </td><td>Positive              </td><td>                      </td><td>                      </td><td>                      </td></tr>\n",
       "\t<tr><th scope=row>76</th><td>taxpc                 </td><td>drugUse               </td><td>Positive              </td><td>Positive              </td><td>Negative              </td><td>Underestimate/Moderate</td><td>                      </td></tr>\n",
       "\t<tr><th scope=row>77</th><td>pctymle               </td><td>drugUse               </td><td>Positive              </td><td>Positive              </td><td>Positive              </td><td>Overestimate/Small    </td><td>                      </td></tr>\n",
       "\t<tr><th scope=row>78</th><td>wgap(wgap^2)          </td><td>drugUse               </td><td>Positive              </td><td>Positive              </td><td>                      </td><td>                      </td><td>                      </td></tr>\n",
       "\t<tr><th scope=row>79</th><td>pctmin80              </td><td>drugUse               </td><td>Positive              </td><td>Positive              </td><td>                      </td><td>                      </td><td>                      </td></tr>\n",
       "\t<tr><th scope=row>80</th><td>west                  </td><td>drugUse               </td><td>Negative              </td><td>Positive              </td><td>                      </td><td>                      </td><td>                      </td></tr>\n",
       "\t<tr><th scope=row>81</th><td>Density               </td><td>drugUse               </td><td>Positive              </td><td>Positive              </td><td>                      </td><td>                      </td><td>                      </td></tr>\n",
       "</tbody>\n",
       "</table>\n"
      ],
      "text/latex": [
       "\\begin{tabular}{r|lllllll}\n",
       "  & IndpVar & OMV & IndpVar.Coeff.Sign & OMV.sign & OMV.Cor.with.IndpVar & Expected.Direction.Size.of.Bias & Proxy.Variable\\\\\n",
       "\\hline\n",
       "\t73 & prbarr                 & drugUse                & Negative               & Positive               & Positive               & Underestimate/Moderate & mix                   \\\\\n",
       "\t74 & prbconv                & drugUse                & Negative               & Positive               & Positive               & Underestimate/Moderate &                       \\\\\n",
       "\t75 & prbpris                & drugUse                &                        & Positive               &                        &                        &                       \\\\\n",
       "\t76 & taxpc                  & drugUse                & Positive               & Positive               & Negative               & Underestimate/Moderate &                       \\\\\n",
       "\t77 & pctymle                & drugUse                & Positive               & Positive               & Positive               & Overestimate/Small     &                       \\\\\n",
       "\t78 & wgap(wgap\\textasciicircum{}2) & drugUse                        & Positive                       & Positive                       &                                &                                &                               \\\\\n",
       "\t79 & pctmin80               & drugUse                & Positive               & Positive               &                        &                        &                       \\\\\n",
       "\t80 & west                   & drugUse                & Negative               & Positive               &                        &                        &                       \\\\\n",
       "\t81 & Density                & drugUse                & Positive               & Positive               &                        &                        &                       \\\\\n",
       "\\end{tabular}\n"
      ],
      "text/markdown": [
       "\n",
       "| <!--/--> | IndpVar | OMV | IndpVar.Coeff.Sign | OMV.sign | OMV.Cor.with.IndpVar | Expected.Direction.Size.of.Bias | Proxy.Variable | \n",
       "|---|---|---|---|---|---|---|---|---|\n",
       "| 73 | prbarr                 | drugUse                | Negative               | Positive               | Positive               | Underestimate/Moderate | mix                    | \n",
       "| 74 | prbconv                | drugUse                | Negative               | Positive               | Positive               | Underestimate/Moderate |                        | \n",
       "| 75 | prbpris                | drugUse                |                        | Positive               |                        |                        |                        | \n",
       "| 76 | taxpc                  | drugUse                | Positive               | Positive               | Negative               | Underestimate/Moderate |                        | \n",
       "| 77 | pctymle                | drugUse                | Positive               | Positive               | Positive               | Overestimate/Small     |                        | \n",
       "| 78 | wgap(wgap^2)           | drugUse                | Positive               | Positive               |                        |                        |                        | \n",
       "| 79 | pctmin80               | drugUse                | Positive               | Positive               |                        |                        |                        | \n",
       "| 80 | west                   | drugUse                | Negative               | Positive               |                        |                        |                        | \n",
       "| 81 | Density                | drugUse                | Positive               | Positive               |                        |                        |                        | \n",
       "\n",
       "\n"
      ],
      "text/plain": [
       "   IndpVar      OMV     IndpVar.Coeff.Sign OMV.sign OMV.Cor.with.IndpVar\n",
       "73 prbarr       drugUse Negative           Positive Positive            \n",
       "74 prbconv      drugUse Negative           Positive Positive            \n",
       "75 prbpris      drugUse                    Positive                     \n",
       "76 taxpc        drugUse Positive           Positive Negative            \n",
       "77 pctymle      drugUse Positive           Positive Positive            \n",
       "78 wgap(wgap^2) drugUse Positive           Positive                     \n",
       "79 pctmin80     drugUse Positive           Positive                     \n",
       "80 west         drugUse Negative           Positive                     \n",
       "81 Density      drugUse Positive           Positive                     \n",
       "   Expected.Direction.Size.of.Bias Proxy.Variable\n",
       "73 Underestimate/Moderate          mix           \n",
       "74 Underestimate/Moderate                        \n",
       "75                                               \n",
       "76 Underestimate/Moderate                        \n",
       "77 Overestimate/Small                            \n",
       "78                                               \n",
       "79                                               \n",
       "80                                               \n",
       "81                                               "
      ]
     },
     "metadata": {},
     "output_type": "display_data"
    }
   ],
   "source": [
    "omv <- read.csv(\"OMV.csv\", sep = ',', header=T)\n",
    "\n",
    "OVEconIneq <- omv[omv$OMV == 'EconIneq',]\n",
    "print(paste(\"Omitted Variable: Economic Inequality Matrix\"))\n",
    "OVEconIneq\n",
    "\n",
    "OVDemoBias <- omv[omv$OMV == 'DemoBias',]\n",
    "print(paste(\"Omitted Variable: Demographic Bias Matrix\"))\n",
    "OVDemoBias\n",
    "\n",
    "OVJobAvail <- omv[omv$OMV == 'JobAvail',]\n",
    "print(paste(\"Omitted Variable: Job Availability Matrix\"))\n",
    "OVJobAvail\n",
    "\n",
    "OVEduLevel <- omv[omv$OMV == 'EduLevel',]\n",
    "print(paste(\"Omitted Variable: Education Level Matrix\"))\n",
    "OVEduLevel\n",
    "\n",
    "OVSurvDensity <- omv[omv$OMV == 'Surv.Density',]\n",
    "print(paste(\"Omitted Variable: Survey Density Matrix\"))\n",
    "OVSurvDensity\n",
    "\n",
    "OVComUnity <- omv[omv$OMV == 'Com.Unity',]\n",
    "print(paste(\"Omitted Variable: Community Unity Matrix\"))\n",
    "OVComUnity\n",
    "\n",
    "OVWReport <- omv[omv$OMV == 'wReport',]\n",
    "print(paste(\"Omitted Variable: Willingness to Report Matrix\"))\n",
    "OVWReport\n",
    "\n",
    "OVPVoilent <- omv[omv$OMV == 'pViolent',]\n",
    "print(paste(\"Omitted Variable: Violent Crime Matrix\"))\n",
    "OVPVoilent\n",
    "\n",
    "OVDrugUse <- omv[omv$OMV == 'drugUse',]\n",
    "print(paste(\"Omitted Variable: DrugUse Matrix\"))\n",
    "OVDrugUse\n"
   ]
  },
  {
   "cell_type": "markdown",
   "metadata": {},
   "source": [
    "## <font color='blue'>6.0 Conclusion</font>\n",
    "We were tasked to answer the question, what is the relationship between crime rates and efficiency in law enforcement or the justice system?  Our research indicates that law enforcement factors such as probability of arrest and probability of conviction are among the largest contributors to crime rates in North Carolina.  Specifically, we find that higher probabilities of arrest or conviction are associated with declines in crime.  Increased probability in receiving a prison sentence, however, has no statistically significant impact on crime.  Together these results suggest that policies focused on increasing the immediate legal consequences to crime can have a meaningful impact on reducing crime, while more severe punishments such as prison sentencing likely contribute to recidivism or exacerbate conditions that incentivize crime. \n",
    "\n",
    "We also identify factors outside of law enforcement and the legal system that also contribute to the crime rate.  Specifically, we find that counties with larger discrepancies in the average wages for the highest and lowest paying sectors have higher crime.  We take this effect to be an imperfect proxy for the level of economic inequality in a county, demonstrating that areas with greater economic inequality are susceptible to greater crime.  Additionally, areas with higher proportion of minority groups are associated with greater crime.  We theorize that this effect is driven by racial bias in law enforcement and the persistence of structural inequality that can exacerbate crime in these regions including discriminatory hiring practices, fewer nearby employers, school closures and racial discrimination in school discipline, poor environmental conditions coupled with deficient health services, and a dearth of recreational resources. \n",
    "\n",
    "Our results suggest that policies improving convictions or arrest probability merit the most attention for the Governor’s campaign.  \n",
    " - We recommend that the Governor consider short term solutions such as providing police with more technology to improve evidence gathering or surveillance and call for greater cooperation among private businesses and law enforcement.  \n",
    "\n",
    " - The Governor should also push for additional resources to the judiciary such as increasing the number of public defendants to improve efficiency and improved salaries to attract more effective prosecutors.  \n",
    "\n",
    " - In the longer term, the Governor should consider reforming mandatory minimum sentencing guidelines, and develop alternatives to prison sentencing such as community service, drug rehabilitation centers, and halfway homes to reduce the stigma and economic burden associated with prison sentences thereby reducing instances of recidivism.  \n",
    "\n",
    " - We also suggest the Governor support an investigation into racial bias among st law enforcement and judges in the immediate term, and consider training to reduce such biases in the long term if evidence of discriminatory law enforcement is found.\n",
    " \n",
    "Our results indicate that population density has a strong association with crime rate.  Thus, we believe that Governor consider focusing these policy changes in areas of higher density.  \n",
    "\n",
    "Lastly, in consideration for factors outside of law enforcement and the judicial system, we recommend that the Governor endorse state and local candidates that support measures to reduce economic inequality such as higher minimum wages, resources for schools in lower-income areas, and private-sector unionization.   \n",
    "\n",
    "Notably, we find that each of our models violate a key assumption in CLM analyses, the zero conditional mean assumption.  That is, the error term in our regression is correlated with our controls and our estimates are likely biased.  We theorize the violation of the zero conditional mean assumption is driven by the omission of key variables such as racial/demographic bias among members of law enforcement and the court system, economic inequality, education levels, and rates of drug use.  While the relationship between the factors discussed above and crime rate should be considered associative rather than causal, absent inclusion of omitted variables. We also note that the direction of the biases on our key indicators of arrest and conviction probability likely cause our estimates to be conservative.  That is, after controlling for key omitted variables such as demographic biases and rates of drug use, we expect the effects of these key variables to be greater (_i.e._, more negative and statistically significant) than indicated by our models.\n",
    "\n",
    "Further research should focus on accounting for these potential omitted variables in the analyses.  Including more accurate controls for economic inequality such as differences in population-weighted income by certain sectors or skill level, or Gini coefficients by county might capture the economic drivers of crime better than the difference in minimum and maximum average wage across sectors examined in this report.  \n",
    "\n",
    "Lastly, our research largely does not account for the discriminatory reporting or enforcement of crime.  Metrics that may help capture potential racial bias in crime reporting or enforcement include percentage of police officers that identify with a minority group, percentage of traffic stops that are made of minority suspects, or subjective metrics from observer groups.\n",
    "\n",
    "Signed,<br>\n",
    "RRXR Consulting"
   ]
  },
  {
   "cell_type": "code",
   "execution_count": null,
   "metadata": {},
   "outputs": [],
   "source": []
  }
 ],
 "metadata": {
  "kernelspec": {
   "display_name": "R",
   "language": "R",
   "name": "ir"
  },
  "language_info": {
   "codemirror_mode": "r",
   "file_extension": ".r",
   "mimetype": "text/x-r-source",
   "name": "R",
   "pygments_lexer": "r",
   "version": "3.5.1"
  }
 },
 "nbformat": 4,
 "nbformat_minor": 2
}
