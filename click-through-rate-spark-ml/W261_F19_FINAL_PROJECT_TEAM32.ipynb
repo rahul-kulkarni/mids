{
 "cells": [
  {
   "cell_type": "markdown",
   "metadata": {},
   "source": [
    "# w261 Final Project - Clickthrough Rate Prediction\n"
   ]
  },
  {
   "cell_type": "markdown",
   "metadata": {},
   "source": [
    "T32 <br>\n",
    "Matthew Brimmer, Will Hawkins, Rahul Kulkarni, Dan Price <br>\n",
    "Summer 2019, section 6   "
   ]
  },
  {
   "cell_type": "markdown",
   "metadata": {},
   "source": [
    "## Table of Contents\n",
    "\n",
    "* __Section 1__ - Question Formulation\n",
    "* __Section 2__ - Algorithm Explanation\n",
    "* __Section 3__ - EDA & Challenges\n",
    "* __Section 4__ - Algorithm Implementation\n",
    "* __Section 5__ - Course Concepts"
   ]
  },
  {
   "cell_type": "markdown",
   "metadata": {},
   "source": [
    "# __Section 1__ - Question Formulation"
   ]
  },
  {
   "cell_type": "markdown",
   "metadata": {},
   "source": [
    "### Introduction\n",
    "\n",
    "In the online advertising industry, one of the greatest challenges is to develop systems that effectively serve ads to their intended audience. Targeted advertisement systems use vast amounts of data about user behavior and preferences to determine which ads are most relevant to each user. The task of predicting advertisement click-throughs requires a solution that is (1) fast enough to handle the real-time nature of serving ads, (2) predictive enough to select ads that users will click on, and (3) scalable enough to handle vasts amounts of user data for model training and prediction. \n",
    "\n",
    "### Problem Statement\n",
    "\n",
    "For this project, we’ll be exploring the targeted advertising space by developing our own supervised model to predict advertisement click-through rate (CTR). We’ll be using a large advertising dataset by Criteo that includes several anonymized fields related to the user, the webpage, and the advertisement being served at a given time. Using this data, our goal is to develop a supervised model to accurately and scalably predict the likelihood a user will click on a given ad.\n",
    "\n",
    "This problem can be described as a probabilistic binary classification problem where the predicted output ($\\hat{Y}$) is the probability that the user will click on the ad served to them. The response variable ($Y$) in our dataset is a binary variable encoded to 0 and 1 representing no-click and click, respectively. To evaluate our model’s accuracy, we will use a logarithmic loss function to compare the predicted probability that a user clicks on a given ad compared to the actual response variable (click or no-click). The logarithmic loss is averaged across all true values ($y_i$) and predicted probabilities ($\\hat{y}_i$) like so:\n",
    "\n",
    "$$LogLoss = - \\frac{1}{N} \\Sigma_{i=1}^N (y_i log(\\hat{y}_i) + (1-y_i)log(1-\\hat{y}_i))$$\n",
    "\n",
    "### Criteo Data\n",
    "\n",
    "The Criteo display ad data contains a train.txt file with over 45 Million records, each representing an instance that a user was targeted with an ad by Criteo. Each record consists of 38 total features that are all unlabeled and anonymized: 13 integer fields and 26 hashed categorical fields. Each record is also given a single target value encoded as 0 and 1 to represent no-click and click, respectively. \n",
    "\n",
    "The Criteo data is also sub-sampled so that records with a positive (\"click\") target value have greater representation in the dataset. \n",
    "\n",
    "We're also provided a test.txt file with true target values removed, although for this project we will be creating our own validation and test data subsets from the train.txt file to evaluate our model performance.   \n",
    "\n",
    "#### Limitations of Data \n",
    "\n",
    "In our EDA section, we identify several limitations with the Criteo dataset. Namely:\n",
    "\n",
    "1. Missing values in most features\n",
    "2. Extreme high cardinality in several categorical variables\n",
    "3. Anonymized/hashed fields, making interpretability of features difficult\n",
    "4. Target Imbalance: there is a 3-to-1 ratio of negative (\"no-click\") and positive (\"click\") target values\n",
    "5. Given the anonymity of data fields, it is possible that certain integer features may represent categories\n",
    "\n",
    "In future sections, we will discuss the design decisions that help us overcome these data limitations. \n",
    "\n",
    "\n",
    "### Evaluating Performance \n",
    "\n",
    "There are several ways we can estimate what level of performance our model would need to be practically useful. One way to evaluate performance is to create a baseline metric that our model must outperform. One baseline could be constructed by assuming a 50% probability of clicking for all points in our evaluation set, and using our logloss function this would result in a loss of 0.693. Using this baseline measure as a reference, we could imagine that a logloss closer to 0.5 will be practically useful. \n",
    "\n",
    "In addition to using the logloss metric, we will also use model evaluation metrics like F1-score, AUROC, precision, and recall as additional measures of model performance. \n",
    "\n",
    "### Questions To Investigate \n",
    "\n",
    "In an effort to guide our model development, we’ve created a list of questions that must be investigated along the way to guide our decision-making in areas related to data exploration, dimensionality reduction, and model selection. \n",
    "\n",
    "##### Data Exploration \n",
    "\n",
    "* How large is this dataset? What is the number of records and fields? What are the data types of features (integer, categorical, etc.)? This will help us gauge the magnitude and sparsity of data that our model must handle. \n",
    "* Missing values: How many missing values are there in each feature? What imputation techniques would best resolve the missing values for each feature? \n",
    "* Data cleaning: Do any features appear to have inaccurate data? If so, what data cleaning or filtering technique could address the problem? \n",
    "* For continuous variables: How are the continuous features distributed? This may impact how we decide to transform or normalize our data before training/testing our model. Certain models may need additional normalization before training. \n",
    "* For categorical variables: What is the cardinality of each feature (distinct category count)? This will help us decide which categorical encoding technique is most feasible. \n",
    "* Target Imbalance: What is the distribution of target labels? Is there a target imbalance that must be addressed? If we find that one class label is rare compared to another, we may want to rebalance the proportion of data points of each class type. \n",
    "* Feature correlation: Are any features highly correlated? Depending on our choice of model, we may need to reduce collinearity of features. \n",
    "* Target-Feature correlation: Which features are most/least correlated with the target variable? Features with low correlation with our target may want to be removed from the model. \n",
    "\n",
    "##### Data Preprocessing & Dimensionality Reduction\n",
    "* For categorical features with high cardinality, how can we encode or transform the labels to reduce dimensionality? One-hot encoding all categories may be infeasible if there is an extremely high dimensionality of categories. Two techniques we plan to investigate include (1) feature hashing and (2) binning rare categories. For the latter technique, if we find that a small percentage of categories make up the majority of the data, we may opt to reduce dimensionality by binning-together the least common categorical values. \n",
    "\n",
    "##### Model Selection\n",
    "* Given what we’ve learned about the data from data exploration and the need to build a model that scales well with this data, which model would achieve enough accuracy to be practically useful while maintaining scalability? \n",
    "\n",
    "\n",
    "### Sources\n",
    "\n",
    "[1] https://www.kaggle.com/c/criteo-display-ad-challenge/\n",
    "\n"
   ]
  },
  {
   "cell_type": "markdown",
   "metadata": {},
   "source": [
    "# __Section 2__ - Algorithm Explanation"
   ]
  },
  {
   "cell_type": "markdown",
   "metadata": {},
   "source": [
    "### Algorithm Selection\n",
    "\n",
    "When selecting our supervised model algorithm, we wanted to choose a model that serves our primary research question and achieves a fair balance of three qualities: (1) fast to train/test to account for the real-time nature of serving ads, (2) predictive enough to be practically useful, (3) scalable enough to handle the large size of the Criteo dataset. Furthermore, we wanted to choose algorithms that are well designed for predicting probabilities of class assignment (probabilistic classification). \n",
    "\n",
    "The model we ultimately chose is the widely used Logistic Regression model. Logistic Regression has several benefits that help us achieve our three aims: \n",
    "1. It is lightweight compared to other models and is less computationally expensive.\n",
    "2. It's highly interpretable. Although the Criteo data fields are anonymized and hashed, we have the added benefit of being able to understand which fields impact the log odds of prediction the most. \n",
    "3. It scales well with large datasets. \n",
    "4. It requires minimal hyperparameter tuning. \n",
    "5. It requires minimal scaling of features (although scaling features does help with convergence).\n",
    "\n",
    "That said, the Logistic Regression model does come with disadvantages. Namely:\n",
    "1. We inherently assume that independent variables have a linear relationship with the log odds, while this is likely an imperfect assumption. Any non-linear relationships with the response variable will be lost. \n",
    "3. We must be careful about multicollinearity. \n"
   ]
  },
  {
   "cell_type": "markdown",
   "metadata": {},
   "source": [
    "### Logistic Regression Theory\n",
    "\n",
    "Before we dive into the toy example, let’s first explain the math behind the Logistic Regression algorithm.\n",
    "\n",
    "Logistic Regression is a common classification algorithm that is heavily based on Linear Regression. In Linear Regression, we assume that the relationship between variables is linear and that our response variable $y$ can be estimated using our input $X$ as a linear combination with weights $\\theta$ like so:\n",
    "\n",
    "$$  \\hat{y}_{Linear} = Z_{Logistic} = \\theta_0 + \\theta_1 x_1 + … \\theta_j x_j $$\n",
    "\n",
    "Logistic regression builds on this by passing the output of this linear regression ($Z$) to a sigmoid function $g(Z)$ that smoothly maps $Z$ to values in a range between 0 and 1, representing the predicted probability of the target class ($Pr(Y==1)$). \n",
    "\n",
    "$$g(z) = \\frac{1}{1+e^{-z}}$$\n",
    "\n",
    "Simplifying these equations, we can represent our predicted probability ($h_{\\theta}(x)$) as a function of an input $X$ like so. Ultimately, our goal is to learn the weights $\\theta$ that best fit our predictor $h$ by minimizing logloss. \n",
    "\n",
    "$$h_{\\theta}(x) = g(\\theta^T x) = \\frac{1}{1+e^{-\\theta^T x}}$$\n",
    "\n",
    "#### Gradient Descent\n",
    "\n",
    "Next, we consider the process that we use to learn the ideal weights for $\\theta$: Gradient Descent. The main principle behind Gradient Descent is to iteratively update the weights of $\\theta$ in the direction that minimizes our loss function at each time step. \n",
    "\n",
    "$$ LogLoss = J(\\theta) = - \\frac{1}{N} \\Sigma_{i=1}^N (y_i log(\\hat{y}_i) + (1-y_i)log(1-\\hat{y}_i))$$"
   ]
  },
  {
   "cell_type": "markdown",
   "metadata": {},
   "source": [
    "We use the loss function to evaluate our model’s performance at each step, and we use the gradient of the loss function with respect to $\\theta$ to slightly update our weights, multiplied by a learning rate $\\alpha$.\n",
    "\n",
    "$$\\theta_{t+1} = \\theta_t - \\alpha \\frac{\\partial}{\\partial \\theta} J(\\theta)$$\n",
    "\n",
    "The gradient of our logloss function simplifies to the following:\n",
    "\n",
    "$$\\frac{\\partial}{\\partial \\theta} J(\\theta) = x (h_{\\theta}(x) - y)$$\n",
    "\n",
    "And we calculate the total amount that the weights are updated by averaging the gradient value across all points $x_j$ with true values $y_j$ at each iteration. Ultimately, we update $\\theta$ through enough iterations until convergence is achieved (either through a maximum number of iterations or until weights have stopped updating by some threshold)."
   ]
  },
  {
   "cell_type": "markdown",
   "metadata": {},
   "source": [
    "#### Toy Data Example\n",
    "\n",
    "Next, let's walk through the process of training a Logistic Regression model using a (very) simplified version of our Criteo dataset. Imagine we are given one integer variable \"I1\" and one category \"C1\" with the following datapoints: \n",
    "\n",
    "$$x_1 = \\{3, dog\\}$$"
   ]
  },
  {
   "cell_type": "markdown",
   "metadata": {},
   "source": [
    "$$x_2 = \\{1, cat\\}$$"
   ]
  },
  {
   "cell_type": "markdown",
   "metadata": {},
   "source": [
    "$$x_3 = \\{2, dog\\}$$"
   ]
  },
  {
   "cell_type": "markdown",
   "metadata": {},
   "source": [
    "$$y_1 = 1$$"
   ]
  },
  {
   "cell_type": "markdown",
   "metadata": {},
   "source": [
    "$$y_2 = 0$$"
   ]
  },
  {
   "cell_type": "markdown",
   "metadata": {},
   "source": [
    "$$y_3 = 0$$\n",
    "\n",
    "We can represent these data points as a 3-by-3 matrix $X$ and a 3-by-1 matrix $Y$. Notice that we remove on categorical column to prevent collinearity (in this case, we are removing the one-hot encoded column corresponding to \"cat\"), and we add one additional column to represent our bias term $\\theta_0$ with an initial value of $1$. \n",
    "\n",
    "$$ X = \\begin{bmatrix}\n",
    "1 & 3 & 1 \\\\\n",
    "1 & 1 & 0 \\\\\n",
    "1 & 2 & 1 \n",
    "\\end{bmatrix}$$"
   ]
  },
  {
   "cell_type": "markdown",
   "metadata": {},
   "source": [
    "$$ Y = \\begin{bmatrix}\n",
    "1 \\\\\n",
    "0 \\\\\n",
    "0 \n",
    "\\end{bmatrix}$$\n",
    "\n",
    "Next, we want to initialize our weights $\\theta$. Since there are two feature columns in $X$, our weights will have two dimensions plus one additional column to represent our bias term. \n",
    "\n",
    "$$\\theta_{init} = \\begin{bmatrix}\n",
    "0 \\\\\n",
    "0 \\\\\n",
    "0 \n",
    "\\end{bmatrix}$$\n",
    "\n",
    "Now that we've initialized our weights and prepped our data, we can begin the process of gradient descent to update our weights. Notice that each iteration requires the following steps of calculations. For the purpose of this exercise, we will perform one iteration of updating our weights with gradient descent, although in practice we would perform gradient descent until convergence (as explained above). Also note that we will be using a learning rate of value $\\alpha = 0.1$. Each iteration of gradient descent consists of the following steps:\n",
    "\n",
    "1. Calculate $Z$ using $X$ and $\\theta$.\n",
    "2. Calculate $h_{\\theta}(X)$ using $Z$. \n",
    "3. Calculate gradient using $h_{\\theta}(X)$, $X$, and $Y$.\n",
    "4. Update $\\theta$ using the gradient and learning rate $\\alpha$. \n",
    "\n",
    "#### Iteration #1 \n",
    "\n",
    "##### Step 1: Calculate $Z$ using $X$ and $\\theta$: \n",
    "\n",
    "$$ Z = X \\dot \\theta_{init} = \\begin{bmatrix}\n",
    "1 & 3 & 1 \\\\\n",
    "1 & 1 & 0 \\\\\n",
    "1 & 2 & 1 \n",
    "\\end{bmatrix}\n",
    "\\begin{bmatrix}\n",
    "0 \\\\\n",
    "0 \\\\\n",
    "0 \n",
    "\\end{bmatrix}\n",
    "= \\begin{bmatrix}\n",
    "0 \\\\\n",
    "0 \\\\\n",
    "0 \n",
    "\\end{bmatrix}$$\n",
    "\n",
    "##### Step 2: Calculate $h_{\\theta}(X)$ using $Z$. \n",
    "\n",
    "$$h_{\\theta}(X) = g(Z) = \\begin{bmatrix}\n",
    "\\frac{1}{1+e^{-Z}} \\\\\n",
    "\\frac{1}{1+e^{-Z}} \\\\\n",
    "\\frac{1}{1+e^{-Z}} \n",
    "\\end{bmatrix}\n",
    "=\n",
    "\\begin{bmatrix}\n",
    "\\frac{1}{1+e^{0}} \\\\\n",
    "\\frac{1}{1+e^{0}} \\\\\n",
    "\\frac{1}{1+e^{0}} \n",
    "\\end{bmatrix}\n",
    "= \n",
    "\\begin{bmatrix}\n",
    "0.5 \\\\\n",
    "0.5 \\\\\n",
    "0.5\n",
    "\\end{bmatrix}\n",
    "$$\n",
    "\n",
    "##### Step 3: Calculate gradient for each point in $X$ using $h_{\\theta}(X)$, $X$, and $Y$.\n",
    "\n",
    "$$\\nabla J_1 = (h_{\\theta}(x_1) - y_1)\n",
    "\\begin{bmatrix}\n",
    "x_{1,1}  \\\\\n",
    "x_{1,2}  \\\\\n",
    "x_{1,3} \n",
    "\\end{bmatrix}\n",
    "= \n",
    "(0.5 - 1)\n",
    "\\begin{bmatrix}\n",
    "1  \\\\\n",
    "3  \\\\\n",
    "1 \n",
    "\\end{bmatrix}\n",
    "=\n",
    "\\begin{bmatrix}\n",
    "-0.5  \\\\\n",
    "-1.5  \\\\\n",
    "-0.5 \n",
    "\\end{bmatrix}\n",
    "$$"
   ]
  },
  {
   "cell_type": "markdown",
   "metadata": {},
   "source": [
    "$$\\nabla J_2 = (h_{\\theta}(x_2) - y_2)\n",
    "\\begin{bmatrix}\n",
    "x_{2,1}  \\\\\n",
    "x_{2,2}  \\\\\n",
    "x_{2,3} \n",
    "\\end{bmatrix}\n",
    "= \n",
    "(0.5 - 0)\n",
    "\\begin{bmatrix}\n",
    "1  \\\\\n",
    "1  \\\\\n",
    "0 \n",
    "\\end{bmatrix}\n",
    "=\n",
    "\\begin{bmatrix}\n",
    "0.5  \\\\\n",
    "0.5  \\\\\n",
    "0 \n",
    "\\end{bmatrix}\n",
    "$$"
   ]
  },
  {
   "cell_type": "markdown",
   "metadata": {},
   "source": [
    "$$\\nabla J_3 = (h_{\\theta}(x_3) - y_3)\n",
    "\\begin{bmatrix}\n",
    "x_{3,1}  \\\\\n",
    "x_{3,2}  \\\\\n",
    "x_{3,3} \n",
    "\\end{bmatrix}\n",
    "= \n",
    "(0.5 - 0)\n",
    "\\begin{bmatrix}\n",
    "1  \\\\\n",
    "2  \\\\\n",
    "1 \n",
    "\\end{bmatrix}\n",
    "=\n",
    "\\begin{bmatrix}\n",
    "0.5  \\\\\n",
    "1  \\\\\n",
    "0.5 \n",
    "\\end{bmatrix}\n",
    "$$\n",
    "\n",
    "Average each gradient vector among the three points:\n",
    "\n",
    "$$ \\nabla J = \\frac{1}{3} ( \n",
    "\\begin{bmatrix}\n",
    "-0.5  \\\\\n",
    "-1.5  \\\\\n",
    "-0.5 \n",
    "\\end{bmatrix}\n",
    "+ \n",
    "\\begin{bmatrix}\n",
    "0.5  \\\\\n",
    "0.5  \\\\\n",
    "0 \n",
    "\\end{bmatrix} \n",
    "+ \n",
    "\\begin{bmatrix}\n",
    "0.5  \\\\\n",
    "1  \\\\\n",
    "0.5 \n",
    "\\end{bmatrix} )\n",
    "=\n",
    "\\begin{bmatrix}\n",
    "0.1666  \\\\\n",
    "0  \\\\\n",
    "0 \n",
    "\\end{bmatrix}\n",
    "$$\n",
    "\n",
    "##### Step 4: Update $\\theta$ using the gradient and learning rate $\\alpha$. \n",
    "\n",
    "$$ \\theta_{t=1} = \\theta_{init} - \\alpha \\nabla J(\\theta)\n",
    "= \n",
    "\\begin{bmatrix}\n",
    "0  \\\\\n",
    "0  \\\\\n",
    "0 \n",
    "\\end{bmatrix}\n",
    "- \n",
    "0.1\n",
    "\\begin{bmatrix}\n",
    "0.1666  \\\\\n",
    "0  \\\\\n",
    "0 \n",
    "\\end{bmatrix}\n",
    "= \n",
    "\\begin{bmatrix}\n",
    "-0.01666  \\\\\n",
    "0  \\\\\n",
    "0 \n",
    "\\end{bmatrix}\n",
    "$$\n",
    "\n",
    "At this point, we have updated our weights $\\theta$ through one iteration of gradient descent. In theory, this process will continue until convergence (as explained above), although we will stop iterating now for the sake of this exercise. \n",
    "\n",
    "#### Predicting with our toy model\n",
    "\n",
    "Let's now use our very basic toy model to make a test prediction. Let's use the following data point for testing purposes: \n",
    "\n",
    "$$x_4 = \\{4, dog\\}$$"
   ]
  },
  {
   "cell_type": "markdown",
   "metadata": {},
   "source": [
    "$$y_4 = 1$$\n",
    "\n",
    "Putting our test point in matrix X format (with a bias term and one-hot encoded categories) we have the following:\n",
    "\n",
    "$$X_{test} = \\begin{bmatrix}\n",
    "1 & 4 & 1 \n",
    "\\end{bmatrix}$$\n",
    "\n",
    "To make a prediction, we must calculate $h_{\\theta}(X_{test})$ like so:\n",
    "\n",
    "$$ Z_{test} = X_{test} \\theta_{t=1} = \n",
    "\\begin{bmatrix}\n",
    "1 & 4 & 1 \n",
    "\\end{bmatrix}\n",
    "\\begin{bmatrix}\n",
    "-0.01666 \\\\\n",
    "0 \\\\\n",
    "0\n",
    "\\end{bmatrix}\n",
    "= \n",
    "-0.01666\n",
    "$$"
   ]
  },
  {
   "cell_type": "markdown",
   "metadata": {},
   "source": [
    "$$ h_{\\theta}(X_{test}) = \\frac{1}{1+e^{-Z}} = \\frac{1}{1+e^{-0.01666}} = 0.5042$$\n",
    "\n",
    "This $h$ value demonstrates that our model, as it stands, predicts $x_4$ to map to class $y=1$ with probability 0.5042. In other words, $P(y=1|x_4)=0.5042$. "
   ]
  },
  {
   "cell_type": "markdown",
   "metadata": {},
   "source": [
    "# RDD Implementation"
   ]
  },
  {
   "cell_type": "markdown",
   "metadata": {},
   "source": [
    "Now that we've demonstrated the theory behind Logistic Regression, we will implement the algorithm using Spark RDDs and another toy dataset. \n",
    "\n",
    "First, initialize our Spark Session and context. "
   ]
  },
  {
   "cell_type": "code",
   "execution_count": 1,
   "metadata": {},
   "outputs": [],
   "source": [
    "# import libraries used in analysis\n",
    "import time\n",
    "import numpy as np\n",
    "import pandas as pd\n",
    "import seaborn as sns\n",
    "import matplotlib.pyplot as plt\n",
    "import math\n",
    "from pyspark.ml.tuning import TrainValidationSplit\n",
    "from pyspark.mllib.stat import Statistics\n",
    "from pyspark.sql import SparkSession\n",
    "from pyspark.sql import SQLContext\n",
    "\n",
    "# set up library autoreload\n",
    "%reload_ext autoreload\n",
    "%autoreload 2\n",
    "\n",
    "# store path to notebook\n",
    "PWD = !pwd\n",
    "PWD = PWD[0]\n",
    "\n",
    "# start Spark Session, Context and SQL Context\n",
    "app_name = \"final_project\"\n",
    "master = \"local[*]\"\n",
    "spark = SparkSession\\\n",
    "        .builder\\\n",
    "        .appName(app_name)\\\n",
    "        .master(master)\\\n",
    "        .getOrCreate()\n",
    "sc = spark.sparkContext\n",
    "sqlContext = SQLContext(sc)"
   ]
  },
  {
   "cell_type": "markdown",
   "metadata": {},
   "source": [
    "### Toy Data \n",
    "\n",
    "For this RDD implementation, consider a small dataset consisting of 5 points with three columns: a 0/1 encoded target value, a categorical feature, and an integer feature. \n"
   ]
  },
  {
   "cell_type": "code",
   "execution_count": 2,
   "metadata": {},
   "outputs": [
    {
     "name": "stdout",
     "output_type": "stream",
     "text": [
      "Overwriting data/toy_example.txt\n"
     ]
    }
   ],
   "source": [
    "%%writefile data/toy_example.txt\n",
    "0\tpersonA 2\n",
    "0\tpersonA 1\n",
    "1\tpersonA 3\n",
    "1\tpersonB 0\n",
    "0\tpersonB 1"
   ]
  },
  {
   "cell_type": "code",
   "execution_count": 3,
   "metadata": {},
   "outputs": [],
   "source": [
    "# load data \n",
    "toy_data = sc.textFile(\"data/toy_example.txt\")"
   ]
  },
  {
   "cell_type": "markdown",
   "metadata": {},
   "source": [
    "We begin by defining a mapper function that parses our toy data file. This generator function tokenizes each document and emits the parsed values to be used when initializing the RDD containing our dataset. "
   ]
  },
  {
   "cell_type": "code",
   "execution_count": 4,
   "metadata": {},
   "outputs": [],
   "source": [
    "# helper function\n",
    "def parse_feature(pair):\n",
    "    \"\"\"Mapper 2: tokenize each document and emit postings.\"\"\"\n",
    "    label, features = pair\n",
    "    person, intval = features.split(' ')\n",
    "    feature_lst = [int(intval)]\n",
    "    yield((int(label), feature_lst))\n"
   ]
  },
  {
   "cell_type": "markdown",
   "metadata": {},
   "source": [
    "Next, we define a logistic loss function (as defined in the theory section above) to help us evaluate our LR model performance through each step of gradient descent. "
   ]
  },
  {
   "cell_type": "code",
   "execution_count": 5,
   "metadata": {},
   "outputs": [],
   "source": [
    "def Logistic_Loss(dataRDD, W):\n",
    "    \"\"\"\n",
    "    Compute Loss Function of Logistic Regression\n",
    "    Args:\n",
    "        dataRDD - each record is a tuple of (y, features_array)\n",
    "        W   - (array) model coefficients with bias at index 0\n",
    "    \"\"\"\n",
    "    \n",
    "    # Append a bias term to the features\n",
    "    augmentedData = dataRDD.map(lambda x: (np.append([1.0], x[1]), x[0]))\n",
    "    \n",
    "    # Calculate log loss on entire dataset\n",
    "    log_loss = augmentedData.map(lambda x: ( x[1] * np.log( 1/(1+math.exp(-W.dot(x[0])))) +\n",
    "                    (1- x[1])*np.log(1-(1/(1+math.exp(-W.dot(x[0]))))))).mean()*-1\n",
    "\n",
    "    return log_loss"
   ]
  },
  {
   "cell_type": "markdown",
   "metadata": {},
   "source": [
    "Next, we define a function that performs an interation of gradient descent to update our model weights. This function first augments our data RDD to account for the bias term and reformats each data record to make our RDD in pair RDD format. Next, we call a map function that passes our model weights vector (W) and calculates the gradient value for each individual record. This is parallelized by performing this action on subsets of our RDD on different nodes, since each record's gradient calculation can be calculated separately. After the map call to calculate individual gradients, we calculate the mean value of all gradient values and update our model weights to be returned. "
   ]
  },
  {
   "cell_type": "code",
   "execution_count": 7,
   "metadata": {},
   "outputs": [],
   "source": [
    "def GDUpdate(dataRDD, W, learningRate = 1):\n",
    "    \"\"\"\n",
    "    Perform one gradient descent step/update.\n",
    "    Args:\n",
    "        dataRDD - records are tuples of (y, features_array)\n",
    "        W       - (array) model coefficients with bias at index 0\n",
    "    Returns:\n",
    "        new_model - (array) updated coefficients, bias at index 0\n",
    "    \"\"\"\n",
    "    \n",
    "    # bias term at index 0\n",
    "    augmentedData = dataRDD.map(lambda x: (np.append([1.0], x[1]), x[0])).cache()\n",
    "    \n",
    "    # Calculate mean gradient \n",
    "    grad = augmentedData.map(lambda x: (((1/(1+math.exp(-W.dot(x[0])))) - x[1])*x[0])).mean()\n",
    "    \n",
    "    # Update model \n",
    "    new_model = W - learningRate * grad\n",
    "    \n",
    "    return new_model"
   ]
  },
  {
   "cell_type": "markdown",
   "metadata": {},
   "source": [
    "### Running our RDD Implementation\n",
    "\n",
    "Below, we put the pieces together for our RDD implementation and perform gradient descent for 75 iterations on our toy dataset. "
   ]
  },
  {
   "cell_type": "code",
   "execution_count": 8,
   "metadata": {},
   "outputs": [
    {
     "name": "stdout",
     "output_type": "stream",
     "text": [
      "BASELINE:  Loss = 0.6931471805599452\n",
      "Final Values:\n",
      "Num Steps:  75\n",
      "Loss: 0.6698095194581317\n",
      "Model: [-0.629, 0.158]\n",
      "CPU times: user 1.48 s, sys: 360 ms, total: 1.84 s\n",
      "Wall time: 20.5 s\n"
     ]
    }
   ],
   "source": [
    "%%time\n",
    "# take a look at a few Gradient Descent steps\n",
    "VERBOSE = False\n",
    "\n",
    "# Initialize weights to zeros\n",
    "BASELINE_MODEL = np.zeros(2)\n",
    "\n",
    "# Parse and tokenize features to initialize data RDD\n",
    "result = toy_data.map(lambda line: line.split('\\t')) \\\n",
    "            .flatMap(parse_feature)\n",
    "\n",
    "# GD iterations\n",
    "nSteps = 75\n",
    "model = BASELINE_MODEL\n",
    "print(\"BASELINE:  Loss =\", Logistic_Loss(result,model))\n",
    "for idx in range(nSteps):\n",
    "    if VERBOSE:\n",
    "        print(\"----------\")\n",
    "        print(\"STEP:\", idx+1)\n",
    "        \n",
    "    # \n",
    "    model = GDUpdate(result, model)\n",
    "    loss = Logistic_Loss(result, model)\n",
    "    if VERBOSE:\n",
    "        print(\"Loss:\", loss)\n",
    "        print(\"Model:\", [round(w,3) for w in model])\n",
    "\n",
    "print('Final Values:')\n",
    "print('Num Steps: ', nSteps)\n",
    "print(\"Loss:\", loss)\n",
    "print(\"Model:\", [round(w,3) for w in model])"
   ]
  },
  {
   "cell_type": "markdown",
   "metadata": {},
   "source": [
    "### Sources\n",
    "\n",
    "[1] http://cs229.stanford.edu/notes/cs229-notes1.pdf\n",
    "\n",
    "[2] https://www.stat.cmu.edu/~cshalizi/uADA/12/lectures/ch12.pdf\n",
    "\n",
    "[3] https://ml-cheatsheet.readthedocs.io/en/latest/logistic_regression.html"
   ]
  },
  {
   "cell_type": "markdown",
   "metadata": {},
   "source": [
    "# __Section 3__ - EDA & Challenges"
   ]
  },
  {
   "cell_type": "markdown",
   "metadata": {},
   "source": [
    "### __Section 3.1__ Setup\n",
    "\n",
    "We start our analyis by importing the usual suspects of libraries from the data scientist toolbox. Our intent is to leverage the power of PySpark and its machine learning library to build our click through rate prediction pipeline. We make the pipeline design choice to adopt PySpark SQL as our data structure of choice because of the syntax parallels to the ubiquitious Pandas data model. As we explore below, we make use of the power of Pandas in our exploratory data analysis on subsets of the larger dataset. The final stage in our setup is initialization of our Spark session, context, and SQL context."
   ]
  },
  {
   "cell_type": "markdown",
   "metadata": {},
   "source": [
    "### __Section 3.2__ Command Line Exploration\n",
    "\n",
    "Even before we begin to examine our data with PySpark, the command line offers a convenient location to begin our data exploration. The wordcount command line utility offers a quick peek at statistics that will be used throughout our analysis. Specifically, we can see that the test.txt file has just over 6 million records while the train.txt file has well over 45 million records. \n",
    "\n",
    "The head command provides a visual reference for individual records in our data. The train data has 14 numeric columns followed by 26 hashed categorical values. The first of the numeric columns is the binary label where a value of 0 refers to not clicked while 1 is clicked. Thus, for our model we consider 13 integer features and 26 categorical features. The README file distributed with the data informs the first column is removed from the test data. Because the test data is meant for competition scoring purpose, we set it aside and focus our analysis on the train data."
   ]
  },
  {
   "cell_type": "code",
   "execution_count": 2,
   "metadata": {},
   "outputs": [
    {
     "name": "stdout",
     "output_type": "stream",
     "text": [
      "Wordcount of test.txt:\n",
      "   6042135  202864503 1460246311 data/test.txt\n",
      "\n",
      "First row of data from test.txt:\n",
      "\t29\t50\t5\t7260\t437\t1\t4\t14\t\t1\t0\t6\t5a9ed9b0\ta0e12995\ta1e14474\t08a40877\t25c83c98\t\t964d1fdd\t5b392875\ta73ee510\tde89c3d2\t59cd5ae7\t8d98db20\t8b216f7b\t1adce6ef\t78c64a1d\t3ecdadf7\t3486227d\t1616f155\t21ddcdc9\t5840adea\t2c277e62\t\t423fab69\t54c91918\t9b3e8820\te75c9ae9\n",
      "\n",
      "Wordcount of train.txt\n",
      "   45840617  1579300947 11147184845 data/train.txt\n",
      "\n",
      "First row of data from train.txt:\n",
      "0\t1\t1\t5\t0\t1382\t4\t15\t2\t181\t1\t2\t\t2\t68fd1e64\t80e26c9b\tfb936136\t7b4723c4\t25c83c98\t7e0ccccf\tde7995b8\t1f89b562\ta73ee510\ta8cd5504\tb2cb9c98\t37c9c164\t2824a5f6\t1adce6ef\t8ba8b39a\t891b62e7\te5ba7672\tf54016b9\t21ddcdc9\tb1252a9d\t07b5194c\t\t3a171ecb\tc5c50484\te8b83407\t9727dd16\n"
     ]
    }
   ],
   "source": [
    "!echo \"Wordcount of test.txt:\"\n",
    "!wc data/test.txt\n",
    "!echo \"\"\n",
    "\n",
    "!echo \"First row of data from test.txt:\"\n",
    "!head -n 1 data/test.txt\n",
    "!echo \"\"\n",
    "\n",
    "!echo \"Wordcount of train.txt\"\n",
    "!wc data/train.txt\n",
    "!echo \"\"\n",
    "\n",
    "!echo \"First row of data from train.txt:\"\n",
    "!head -n 1 data/train.txt"
   ]
  },
  {
   "cell_type": "markdown",
   "metadata": {},
   "source": [
    "### __Section 3.3__ Data Reading and Preprocessing\n",
    "\n",
    "PySpark offers convenient methods for ingesting our tab delimited data into dataframes. In order to conveniently query and reference data columns by name despite the absense of feature semantics, we increment the identifier \"i\" for integers and \"c\" for categorical columns. "
   ]
  },
  {
   "cell_type": "code",
   "execution_count": 3,
   "metadata": {},
   "outputs": [
    {
     "name": "stdout",
     "output_type": "stream",
     "text": [
      "Reading trainDF to Spark ...\n",
      "... completed job in 129.7505111694336 seconds.\n",
      "Reading testDF to Spark ...\n",
      "... completed job in 17.367038249969482 seconds.\n",
      "Relabeling dataframe column names ...\n",
      "... completed job in 0.5436818599700928 seconds.\n"
     ]
    }
   ],
   "source": [
    "start = time.time()\n",
    "print('Reading trainDF to Spark ...')\n",
    "trainDF = sqlContext.read.format('csv') \\\n",
    "    .options(header='false', inferschema='true') \\\n",
    "    .option(\"delimiter\", \"\\t\") \\\n",
    "    .load('data/train.txt')\n",
    "print(f'... completed job in {time.time() - start} seconds.')\n",
    "\n",
    "start = time.time()\n",
    "print('Reading testDF to Spark ...')\n",
    "testDF = sqlContext.read.format('csv') \\\n",
    "    .options(header='false', inferschema='true') \\\n",
    "    .option(\"delimiter\", \"\\t\") \\\n",
    "    .load('data/test.txt')\n",
    "print(f'... completed job in {time.time() - start} seconds.')\n",
    "\n",
    "start = time.time()\n",
    "print('Relabeling dataframe column names ...')\n",
    "base_integer_col_name = 'i'\n",
    "base_categorical_col_name = 'c'\n",
    "label_name = 'label'\n",
    "\n",
    "n_int_cols = 13\n",
    "n_cat_cols = 26\n",
    "\n",
    "int_col_names = [base_integer_col_name + str(i) for i in range(n_int_cols)]\n",
    "cat_col_names = [base_categorical_col_name + str(i) for i in range(n_cat_cols)]\n",
    "\n",
    "newColNames = [label_name] + int_col_names + cat_col_names\n",
    "#update column names on trainDF\n",
    "for old_col_name,new_col_name in zip(trainDF.columns,newColNames):\n",
    "    trainDF=trainDF.withColumnRenamed(old_col_name,new_col_name)\n",
    "\n",
    "testColNames = int_col_names + cat_col_names\n",
    "#do same for testDF\n",
    "for old_test_col_name,new_test_col_name in zip(testDF.columns,testColNames):\n",
    "    testDF=testDF.withColumnRenamed(old_test_col_name,new_test_col_name)\n",
    "    \n",
    "print(f'... completed job in {time.time() - start} seconds.')"
   ]
  },
  {
   "cell_type": "markdown",
   "metadata": {},
   "source": [
    "### __Section 3.4__ Data Storage\n",
    "\n",
    "We heed instructor recommendation and save our data to parquet files. We profit from the quick and convenient read of the parquet files at time of analysis. Parquet format is favorable for compression benefits and I/O reduction due to scanning only subset of columns when reading the data. \n",
    "\n",
    "As we validated our algorithms, we found it useful to partition the data into smaller chunks. We sampled the full dataset at sampling ratios of 0.006 and 0.3 to get smaller datasets useful for EDA and pipeline development. Data is chronologically ordered. To avoid a bias from sampling just a contingous time block, we do a random sample of the training dataset."
   ]
  },
  {
   "cell_type": "code",
   "execution_count": 4,
   "metadata": {},
   "outputs": [
    {
     "name": "stdout",
     "output_type": "stream",
     "text": [
      "Writing data/testDF.parquet ...\n",
      "... completed job in 40.52037239074707 seconds.\n",
      "Writing data/trainDF.parquet ...\n",
      "... completed job in 229.3202142715454 seconds.\n",
      "Writing data/trainDF_miniTrain.parquet ...\n",
      "... completed job in 87.97745990753174 seconds.\n",
      "Writing data/trainDF_miniValidation.parquet ...\n",
      "... completed job in 87.95877861976624 seconds.\n",
      "Writing data/trainDF_mediumTrain.parquet ...\n",
      "... completed job in 132.07092881202698 seconds.\n",
      "Writing data/trainDF_mediumValidation.parquet ...\n",
      "... completed job in 116.05112147331238 seconds.\n"
     ]
    }
   ],
   "source": [
    "# verify data not already written\n",
    "!rm -rf data/testDF.parquet\n",
    "!rm -rf data/trainDF.parquet\n",
    "!rm -rf data/trainDF_miniTrain.parquet\n",
    "!rm -rf data/trainDF_miniValidation.parquet\n",
    "!rm -rf data/trainDF_mediumTrain.parquet\n",
    "!rm -rf data/trainDF_mediumValidation.parquet\n",
    "\n",
    "# write to parquet\n",
    "start = time.time()\n",
    "print('Writing data/testDF.parquet ...')\n",
    "testDF.write.parquet(\"data/testDF.parquet\")\n",
    "print(f'... completed job in {time.time() - start} seconds.')\n",
    "\n",
    "start = time.time()\n",
    "print('Writing data/trainDF.parquet ...')\n",
    "trainDF.write.parquet(\"data/trainDF.parquet\")\n",
    "print(f'... completed job in {time.time() - start} seconds.')\n",
    "    \n",
    "# CREATE SMALL DATASETS FOR QUICK ITERATION\n",
    "train, validation = trainDF.sample(False, 0.006, seed=42).randomSplit([0.8, 0.2], seed=42)\n",
    "\n",
    "start = time.time()\n",
    "print('Writing data/trainDF_miniTrain.parquet ...')\n",
    "train.write.parquet(\"data/trainDF_miniTrain.parquet\")\n",
    "print(f'... completed job in {time.time() - start} seconds.')\n",
    "\n",
    "start = time.time()\n",
    "print('Writing data/trainDF_miniValidation.parquet ...')\n",
    "validation.write.parquet(\"data/trainDF_miniValidation.parquet\")\n",
    "print(f'... completed job in {time.time() - start} seconds.')\n",
    "\n",
    "# CREATE BIGGER DATASETS FOR TRAINING AND VALIDATION (OF ORIGINAL TRAINING SET)\n",
    "# WILL MAKE THIS FULL DATASET FOR RUNNING IN CLOUD\n",
    "train, validation= trainDF.sample(False, 0.3, seed=42).randomSplit([0.8, 0.2], seed=42)\n",
    "\n",
    "start = time.time()\n",
    "print('Writing data/trainDF_mediumTrain.parquet ...')\n",
    "train.write.parquet(\"data/trainDF_mediumTrain.parquet\")\n",
    "print(f'... completed job in {time.time() - start} seconds.')\n",
    "\n",
    "start = time.time()\n",
    "print('Writing data/trainDF_mediumValidation.parquet ...')\n",
    "validation.write.parquet(\"data/trainDF_mediumValidation.parquet\")\n",
    "print(f'... completed job in {time.time() - start} seconds.')"
   ]
  },
  {
   "cell_type": "code",
   "execution_count": 12,
   "metadata": {},
   "outputs": [
    {
     "name": "stdout",
     "output_type": "stream",
     "text": [
      "Reading trainDF from parquet for analysis ...\n"
     ]
    }
   ],
   "source": [
    "# INPUT_PARQUET_TRAIN_FILE = 'data/trainDF.parquet'\n",
    "INPUT_PARQUET_TRAIN_FILE, INPUT_PARQUET_VAL_FILE = 'data/trainDF_miniTrain.parquet', 'data/trainDF_miniValidation.parquet'\n",
    "# INPUT_PARQUET_TRAIN_FILE, INPUT_PARQUET_VAL_FILE = 'data/trainDF_mediumTrain.parquet', 'data/trainDF_mediumValidation.parquet'\n",
    "\n",
    "print('Reading trainDF from parquet for analysis ...')\n",
    "trainDF = sqlContext.read.parquet(INPUT_PARQUET_TRAIN_FILE)\n",
    "valDF = sqlContext.read.parquet(INPUT_PARQUET_VAL_FILE)\n",
    "\n",
    "# trainDF = trainDF.fillna(0)"
   ]
  },
  {
   "cell_type": "code",
   "execution_count": 13,
   "metadata": {},
   "outputs": [],
   "source": [
    "from pyspark.sql.functions import col, lit, when, isnull, broadcast\n",
    "\n",
    "for col in ['i' + str(i) for i in range(n_int_cols)]:\n",
    "    trainDF = trainDF.withColumn(col, trainDF[col].cast('float'))\n",
    "    valDF = valDF.withColumn(col, valDF[col].cast('float'))\n"
   ]
  },
  {
   "cell_type": "markdown",
   "metadata": {},
   "source": [
    "### __Section 3.5__ Click Through Rate Label Distribution\n",
    "\n",
    "A logical step in exploratory data analysis for the advertising dataset is to understand and visualize the distribution of the classes. The dataframe lends itself well to simple counting of the binary label column. From this knowledge, we assemble the step of counting, percentage tally, and visualization into a reusable function.\n",
    "\n",
    "A simple analysis of the click through rate reveals the skew of the data. Yet, despite a dataset that demonstrates clear bias for the \"no click\" class, it appears worth noting that oversampling of the click class was done in advance of our downloading of the data. A blog from an online advertising firm suggests the average click through rate across all industries is 1.91%[1]. From this statistic, we can see why it was in the interest of the data distributor to build oversampling of the click class into the dataset. Also, for this reason, we do not alter the sample distribution of the data for our model.\n",
    "\n",
    "Source:<br>\n",
    "[1] Average Click-Through Rates in Google Ads by Industry. https://www.wordstream.com/blog/ws/2010/04/26/good-click-through-rate."
   ]
  },
  {
   "cell_type": "code",
   "execution_count": 21,
   "metadata": {},
   "outputs": [],
   "source": [
    "def plt_clicks(inputDF):\n",
    "    \n",
    "    click_count = inputDF[inputDF['label'] == 1].count()\n",
    "    no_click_count = inputDF[inputDF['label'] == 0].count()\n",
    "    total_count = inputDF.count()\n",
    "    percent_click = click_count/total_count\n",
    "    percent_no_click = no_click_count/total_count\n",
    "    \n",
    "    action = ['click','no click']\n",
    "    action_axis = np.arange(len(action))\n",
    "    action_count = [inputDF[inputDF['label'] == 1].count(), inputDF[inputDF['label'] == 0].count()]\n",
    "    \n",
    "    plt.bar(action_axis, action_count, align='center', alpha=0.5)\n",
    "    plt.xticks(action_axis, action)\n",
    "    plt.ylabel('Count')\n",
    "    plt.title('Label Count')\n",
    "    plt.show()\n",
    "    \n",
    "    print(f'Total number of clicks:    {click_count}')\n",
    "    print(f'Total number of no clicks: {no_click_count}')\n",
    "    print(f'Total number of records:   {total_count}')    \n",
    "    print(f'Click percentage:          {percent_click*100:.2f}%')\n",
    "    print(f'No click percentage:       {percent_no_click*100:.2f}%')"
   ]
  },
  {
   "cell_type": "code",
   "execution_count": 22,
   "metadata": {},
   "outputs": [
    {
     "data": {
      "image/png": "[encoded data removed]",
      "text/plain": [
       "<Figure size 432x288 with 1 Axes>"
      ]
     },
     "metadata": {},
     "output_type": "display_data"
    },
    {
     "name": "stdout",
     "output_type": "stream",
     "text": [
      "Total number of clicks:    56146\n",
      "Total number of no clicks: 163984\n",
      "Total number of records:   220130\n",
      "Click percentage:          25.51%\n",
      "No click percentage:       74.49%\n",
      "... completed job in 4.985145568847656 seconds.\n"
     ]
    }
   ],
   "source": [
    "start = time.time()\n",
    "plt_clicks(trainDF)\n",
    "print(f'... completed job in {time.time() - start} seconds.')"
   ]
  },
  {
   "cell_type": "markdown",
   "metadata": {},
   "source": [
    "### __Section 3.6__ Click Through Rate Feature Distribution\n",
    "\n",
    "Despite undisclosed semantic understanding of the data columns, an understanding of the distribution of the features is a necessary step in our exploratory data analysis. We start by exploring the range of distinct values in each feature. Insight regarding conceivable characteristics of our features become apparent. For example, feature i9 is coded as an integer but it only has 10 distinct values according to our distinct value counting function. It may be that feature i9 is a categorical preprocessed to an integer because the categories reflect degree that can be appropriately coded on a scale containing 10 distinct values. Additionally, we might expect that integer valued features would have more distinct values in comparison to most categorical features. Yet, we note features like categorical feature c3 with 46,392 distinct value possibilities. Observations such as these, lead us to consider techniques meant to reduce feature space."
   ]
  },
  {
   "cell_type": "code",
   "execution_count": 23,
   "metadata": {},
   "outputs": [],
   "source": [
    "def get_distinct_counts(inputDF):\n",
    "    start = time.time()\n",
    "    distinct_counts = {}\n",
    "    for column_name in inputDF.schema.names:\n",
    "        #if column_name not in ['c2','c11','c15','c20']:\n",
    "        distinct_counts[column_name] = len(inputDF.select(column_name).distinct().collect())\n",
    "        print(column_name,distinct_counts[column_name])\n",
    "    print(f'... completed job in {time.time() - start} seconds.')"
   ]
  },
  {
   "cell_type": "code",
   "execution_count": 25,
   "metadata": {},
   "outputs": [
    {
     "name": "stdout",
     "output_type": "stream",
     "text": [
      "label 2\n",
      "c0 792\n",
      "c1 531\n",
      "c2 94114\n",
      "c3 46392\n",
      "c4 177\n",
      "c5 13\n",
      "c6 9478\n",
      "c7 347\n",
      "c8 3\n",
      "c9 17311\n",
      "c10 4363\n",
      "c11 85645\n",
      "c12 3046\n",
      "c13 26\n",
      "c14 6704\n",
      "c15 69542\n",
      "c16 10\n",
      "c17 3123\n",
      "c18 1503\n",
      "c19 4\n",
      "c20 78927\n",
      "c21 12\n",
      "c22 14\n",
      "c23 19347\n",
      "c24 59\n",
      "c25 14725\n",
      "i0_cast_to_float 191\n",
      "i1_cast_to_float 3393\n",
      "i2_cast_to_float 926\n",
      "i3_cast_to_float 112\n",
      "i4_cast_to_float 36829\n",
      "i5_cast_to_float 2402\n",
      "i6_cast_to_float 830\n",
      "i7_cast_to_float 148\n",
      "i8_cast_to_float 2022\n",
      "i9_cast_to_float 9\n",
      "i10_cast_to_float 105\n",
      "i11_cast_to_float 98\n",
      "i12_cast_to_float 208\n",
      "... completed job in 47.82199311256409 seconds.\n"
     ]
    }
   ],
   "source": [
    "get_distinct_counts(trainDF)"
   ]
  },
  {
   "cell_type": "markdown",
   "metadata": {},
   "source": [
    "### __Section 3.7__ Bins for Categorical Features\n",
    "\n",
    "To reduce dimensionality, we seek to determine if a small number of distinct values within categories make up a large percent of the data. For this stage of the analysis, we use a small subset of the original train data. We arbitrarily set 90% as the threshold of distinct values that we aim to include within our model."
   ]
  },
  {
   "cell_type": "code",
   "execution_count": 10,
   "metadata": {
    "scrolled": true
   },
   "outputs": [
    {
     "name": "stdout",
     "output_type": "stream",
     "text": [
      "Column c0 took 10 values\n",
      "Column c4 took 4 values\n",
      "Column c5 took 4 values\n",
      "Column c7 took 5 values\n",
      "Column c8 took 2 values\n",
      "Column c13 took 5 values\n",
      "Column c16 took 7 values\n",
      "Column c18 took 50 values\n",
      "Column c19 took 4 values\n",
      "Column c21 took 3 values\n",
      "Column c22 took 6 values\n",
      "Column c24 took 8 values\n",
      "Final Dictionary To Collapse Categoricals: {'c0': ['05db9164', '68fd1e64', '5a9ed9b0', '8cf07265', 'be589b51', '5bfa8ab5', '87552397', 'f473b8dc', '39af2607', 'ae82ea21'], 'c4': ['25c83c98', '4cf72387', '43b19349', '384874ce'], 'c5': ['7e0ccccf', 'fbad5c96', 'fe6b92e5', nan], 'c7': ['0b153874', '5b392875', '1f89b562', '37e4aa92', '062b5529'], 'c8': ['a73ee510', '7cc72ec2'], 'c13': ['b28479f6', '07d13a8f', '1adce6ef', '64c94865', 'cfef1c29'], 'c16': ['e5ba7672', '07c540c4', 'd4bb7bd8', '3486227d', '776ce399', '27c07bd6', '8efede7f'], 'c18': [nan, '21ddcdc9', '55dd3565', '5b885066', '9437f62f', '712d530c', 'cf99e5de', '1d1eb838', 'efa3470f', '4764bf77', '1d04f4a4', '3014a4b1', '04de9d96', 'a153cea2', '6f3756eb', '338f20de', '9653bb65', 'f30f7842', '2b558521', '064f1f80', 'e3b5ceb7', 'a34d2cf6', '083e89d9', '26e97973', '7a45f7f2', '315ba0e1', '2f4b9dd2', '0053530c', 'a18beb4f', 'b87498e2', '07995af6', '4632bcdc', '5b5de845', '75916440', '92524a76', 'd9aa05dc', 'fc134659', '0ec8d23c', 'e22752c5', '609029d1', 'c7dc6720', '8733cf72', 'd0289910', 'e5e1bbb7', '23a4bfcf', 'a8ac0fc0', '276c2365', '85684dc0', 'f44bef3c', '5d097c5a'], 'c19': [nan, 'b1252a9d', '5840adea', 'a458ea53'], 'c21': [nan, 'ad3062eb', 'c9d4222a'], 'c22': ['32c7478e', '3a171ecb', '423fab69', 'bcdee96c', 'be7c41b4', 'c7dc6720'], 'c24': [nan, '001f3601', 'e8b83407', 'ea9a246c', 'cb079c2d', '445bbe3b', '9b3e8820', '2bf691b1']}\n"
     ]
    }
   ],
   "source": [
    "pdf = trainDF.toPandas()\n",
    "cat_cols = ['c'+str(i) for i in range(n_cat_cols)]\n",
    "cat_top_90pct_vals = {}\n",
    "# {column: [values to get to 90%]}\n",
    "for col in cat_cols:\n",
    "    top_values = pdf[col].value_counts(dropna=False, normalize=True).cumsum().reset_index().iloc[0:100]\n",
    "    # how many distinct to get 90% of values?\n",
    "    if max(top_values[col].values >= 0.9):\n",
    "        num = top_values[top_values[col].values>0.9].index[0]+1\n",
    "        print(f'Column {col} took {num} values for 90%')\n",
    "        cat_top_90pct_vals[col] = top_values.iloc[0:num,0].values.tolist()\n",
    "\n",
    "print('Final Dictionary To Collapse Categoricals:', cat_top_90pct_vals)\n",
    "# If value is not in dictionary, aggregate and treat as separate group\n",
    "# pdf.shape"
   ]
  },
  {
   "cell_type": "code",
   "execution_count": 14,
   "metadata": {},
   "outputs": [],
   "source": [
    "cat_top_90pct_vals = {'c0': ['05db9164', '68fd1e64', '5a9ed9b0', '8cf07265', 'be589b51', '5bfa8ab5', '87552397', 'f473b8dc', '39af2607', 'ae82ea21'], 'c4': ['25c83c98', '4cf72387', '43b19349', '384874ce'], 'c5': ['7e0ccccf', 'fbad5c96', 'fe6b92e5', np.nan], 'c7': ['0b153874', '5b392875', '1f89b562', '37e4aa92', '062b5529'], 'c8': ['a73ee510', '7cc72ec2'], 'c13': ['b28479f6', '07d13a8f', '1adce6ef', '64c94865', 'cfef1c29'], 'c16': ['e5ba7672', '07c540c4', 'd4bb7bd8', '3486227d', '776ce399', '27c07bd6', '8efede7f'], 'c18': [np.nan, '21ddcdc9', '55dd3565', '5b885066', '9437f62f', '712d530c', 'cf99e5de', '1d1eb838', 'efa3470f', '4764bf77', '1d04f4a4', '3014a4b1', '04de9d96', 'a153cea2', '6f3756eb', '338f20de', '9653bb65', 'f30f7842', '2b558521', '064f1f80', 'e3b5ceb7', 'a34d2cf6', '083e89d9', '26e97973', '7a45f7f2', '315ba0e1', '2f4b9dd2', '0053530c', 'a18beb4f', 'b87498e2', '07995af6', '4632bcdc', '5b5de845', '75916440', '92524a76', 'd9aa05dc', 'fc134659', '0ec8d23c', 'e22752c5', '609029d1', 'c7dc6720', '8733cf72', 'd0289910', 'e5e1bbb7', '23a4bfcf', 'a8ac0fc0', '276c2365', '85684dc0', 'f44bef3c', '5d097c5a'], 'c19': [np.nan, 'b1252a9d', '5840adea', 'a458ea53'], 'c21': [np.nan, 'ad3062eb', 'c9d4222a'], 'c22': ['32c7478e', '3a171ecb', '423fab69', 'bcdee96c', 'be7c41b4', 'c7dc6720'], 'c24': [np.nan, '001f3601', 'e8b83407', 'ea9a246c', 'cb079c2d', '445bbe3b', '9b3e8820', '2bf691b1']}"
   ]
  },
  {
   "cell_type": "markdown",
   "metadata": {},
   "source": [
    "### __Section 3.8__ Correlation Matrix for Integer Features\n",
    "\n",
    "It is worth time spent taking a look at correlation between features as well as feature correlation with the label. Concerning the former, we aim to limit multicollinearity by eliminating features too closely related. We also evaluate the correlation coefficient of features with the label to access the value of including the feature in the model."
   ]
  },
  {
   "cell_type": "code",
   "execution_count": 4,
   "metadata": {},
   "outputs": [],
   "source": [
    "def build_corelation_matrix(inputDF):\n",
    "    col_names = inputDF.schema.names[0:12]\n",
    "    features = inputDF.rdd.map(lambda row: row[0:12])\n",
    "    corr_mat= Statistics.corr(features, method=\"pearson\")\n",
    "    corr_df = pd.DataFrame(corr_mat)\n",
    "    corr_df.index, corr_df.columns = col_names, col_names\n",
    "    # print(corr_df.to_string())\n",
    "    return corr_df\n",
    "\n",
    "def plot_correlation_heatmap(corr_mat):\n",
    "    # Generate a mask for the upper triangle\n",
    "    mask = np.zeros_like(corr_mat, dtype=np.bool)\n",
    "    mask[np.triu_indices_from(mask)] = True\n",
    "\n",
    "    # Set up the matplotlib figure\n",
    "    f, ax = plt.subplots(figsize=(11, 9))\n",
    "\n",
    "    # Generate a custom diverging colormap\n",
    "    cmap = sns.diverging_palette(220, 10, as_cmap=True)\n",
    "\n",
    "    # Draw the heatmap with the mask and correct aspect ratio\n",
    "    sns.heatmap(corr_mat, mask=mask, cmap=cmap, center=0,\n",
    "            square=True, linewidths=.5, annot=True, cbar_kws={\"shrink\": .5});"
   ]
  },
  {
   "cell_type": "code",
   "execution_count": 5,
   "metadata": {},
   "outputs": [
    {
     "name": "stdout",
     "output_type": "stream",
     "text": [
      "Calculating correlation matrix ...\n",
      "... completed job in 1138.8357419967651 seconds.\n"
     ]
    },
    {
     "data": {
      "image/png": "[encoded data removed]",
      "text/plain": [
       "<Figure size 792x648 with 2 Axes>"
      ]
     },
     "metadata": {},
     "output_type": "display_data"
    }
   ],
   "source": [
    "start = time.time()\n",
    "print('Calculating correlation matrix ...')\n",
    "plot_correlation_heatmap(build_corelation_matrix(trainDF)) # full train dataset\n",
    "print(f'... completed job in {time.time() - start} seconds.')"
   ]
  },
  {
   "cell_type": "markdown",
   "metadata": {},
   "source": [
    "### __Section 3.9__ Missing Values\n",
    "\n",
    "Missing values is another aspect of the dataset that requires our attention. We first take several steps to characterize the nature of the missing values. We see that missing values occur in high number (thousand to hundreds of thousands) in many of the columns. We note that missing values occur in the integer-valued and categorical columns. The percentage of missing values gives us further insight into the distribution of missing values among some of the columns. We consider several strategies for missing values including filling with default value, using a mean-strategy imputer, or using NumPy not-a-number as a known category. "
   ]
  },
  {
   "cell_type": "code",
   "execution_count": 14,
   "metadata": {},
   "outputs": [],
   "source": [
    "def plot_missing(inputDF):\n",
    "    missing_train = inputDF.isnull().sum()\n",
    "    missing_train = missing_train[missing_train > 0]\n",
    "    missing_train.sort_values(inplace=True)\n",
    "    missing_train.plot.bar()"
   ]
  },
  {
   "cell_type": "code",
   "execution_count": 15,
   "metadata": {},
   "outputs": [
    {
     "data": {
      "image/png": "[encoded data removed]",
      "text/plain": [
       "<Figure size 432x288 with 1 Axes>"
      ]
     },
     "metadata": {},
     "output_type": "display_data"
    }
   ],
   "source": [
    "plot_missing(pdf)"
   ]
  },
  {
   "cell_type": "code",
   "execution_count": 18,
   "metadata": {},
   "outputs": [],
   "source": [
    "def percent_missing(data):\n",
    "    # Find the total NA-valued data and sort by descending order.\n",
    "    total = data.isnull().sum()\n",
    "    total_sorted = total.sort_values(ascending=False)\n",
    "    \n",
    "    # Calculate the percent of missing data.\n",
    "    percent = (data.isnull().sum() / data.isnull().count())\n",
    "    percent_sorted = percent.sort_values(ascending=False)\n",
    "    \n",
    "    # find features with most missing values.\n",
    "    missing_data = pd.concat([total_sorted, percent_sorted], axis=1, keys=['Total Missing', 'Percent of Missing values'])\n",
    "    print(missing_data.head(10))  "
   ]
  },
  {
   "cell_type": "code",
   "execution_count": 19,
   "metadata": {},
   "outputs": [
    {
     "name": "stdout",
     "output_type": "stream",
     "text": [
      "     Total Missing  Percent of Missing values\n",
      "i11         168665                   0.766206\n",
      "c21         168029                   0.763317\n",
      "i0           99872                   0.453696\n",
      "i9           99872                   0.453696\n",
      "c25          96554                   0.438623\n",
      "c24          96554                   0.438623\n",
      "c19          96554                   0.438623\n",
      "c18          96554                   0.438623\n",
      "i5           49549                   0.225090\n",
      "i3           47595                   0.216213\n"
     ]
    }
   ],
   "source": [
    "percent_missing(pdf)"
   ]
  },
  {
   "cell_type": "markdown",
   "metadata": {},
   "source": [
    "### __Section 3.10__ Integer Variable Summary\n",
    "\n",
    "While we are working with the sampled dataset in Pandas, we would be remiss if we did not generate descriptive statistics of our integer-valued columns. An analysis of the distribution of values is helpful. We take an interesting interpretative note about column i1 in that it is the only numeric column it seems to have negative values. We are led to believe that most of the numeric values are counts. A negative value is reason to be suspicious of this column. We also note that i4 has consistently large values relative to the other values. Similarly, columns i9 and i11 have fractional mean values and zero-valued quartiles. \n",
    "\n",
    "We discussed several strategies for integer variables. We debated the possibility of taking log values for some or all columns to offset the right skew of many of the columns as evidenced in the histogram. We also discussed the possibility of eliminating extreme values to generate a more uniform distribution. We also considered the merits of binning the integers in quadrants - essentially converting them to categoricals to have a purely categorical model. Because of our lack of semantic understanding of the columns, we focused our efforts instead on a strategy to bin the categoricals."
   ]
  },
  {
   "cell_type": "code",
   "execution_count": 37,
   "metadata": {},
   "outputs": [
    {
     "data": {
      "text/html": [
       "<div>\n",
       "<style scoped>\n",
       "    .dataframe tbody tr th:only-of-type {\n",
       "        vertical-align: middle;\n",
       "    }\n",
       "\n",
       "    .dataframe tbody tr th {\n",
       "        vertical-align: top;\n",
       "    }\n",
       "\n",
       "    .dataframe thead th {\n",
       "        text-align: right;\n",
       "    }\n",
       "</style>\n",
       "<table border=\"1\" class=\"dataframe\">\n",
       "  <thead>\n",
       "    <tr style=\"text-align: right;\">\n",
       "      <th></th>\n",
       "      <th>i0</th>\n",
       "      <th>i1</th>\n",
       "      <th>i2</th>\n",
       "      <th>i3</th>\n",
       "      <th>i4</th>\n",
       "      <th>i5</th>\n",
       "      <th>i6</th>\n",
       "      <th>i7</th>\n",
       "      <th>i8</th>\n",
       "      <th>i9</th>\n",
       "      <th>i10</th>\n",
       "      <th>i11</th>\n",
       "      <th>i12</th>\n",
       "    </tr>\n",
       "  </thead>\n",
       "  <tbody>\n",
       "    <tr>\n",
       "      <th>count</th>\n",
       "      <td>120258.000000</td>\n",
       "      <td>220130.000000</td>\n",
       "      <td>173055.000000</td>\n",
       "      <td>172535.000000</td>\n",
       "      <td>2.145020e+05</td>\n",
       "      <td>170581.000000</td>\n",
       "      <td>210448.000000</td>\n",
       "      <td>220023.000000</td>\n",
       "      <td>210448.000000</td>\n",
       "      <td>120258.000000</td>\n",
       "      <td>210448.000000</td>\n",
       "      <td>51465.000000</td>\n",
       "      <td>172535.000000</td>\n",
       "    </tr>\n",
       "    <tr>\n",
       "      <th>mean</th>\n",
       "      <td>3.486837</td>\n",
       "      <td>105.664884</td>\n",
       "      <td>27.958060</td>\n",
       "      <td>7.332738</td>\n",
       "      <td>1.867433e+04</td>\n",
       "      <td>116.834753</td>\n",
       "      <td>15.791640</td>\n",
       "      <td>12.532890</td>\n",
       "      <td>104.991665</td>\n",
       "      <td>0.614412</td>\n",
       "      <td>2.692152</td>\n",
       "      <td>0.965044</td>\n",
       "      <td>8.257727</td>\n",
       "    </tr>\n",
       "    <tr>\n",
       "      <th>std</th>\n",
       "      <td>9.333972</td>\n",
       "      <td>390.383116</td>\n",
       "      <td>407.039227</td>\n",
       "      <td>8.774638</td>\n",
       "      <td>7.000240e+04</td>\n",
       "      <td>374.197020</td>\n",
       "      <td>58.900059</td>\n",
       "      <td>18.956486</td>\n",
       "      <td>216.746880</td>\n",
       "      <td>0.680082</td>\n",
       "      <td>5.081437</td>\n",
       "      <td>4.748035</td>\n",
       "      <td>18.478557</td>\n",
       "    </tr>\n",
       "    <tr>\n",
       "      <th>min</th>\n",
       "      <td>0.000000</td>\n",
       "      <td>-2.000000</td>\n",
       "      <td>0.000000</td>\n",
       "      <td>0.000000</td>\n",
       "      <td>0.000000e+00</td>\n",
       "      <td>0.000000</td>\n",
       "      <td>0.000000</td>\n",
       "      <td>0.000000</td>\n",
       "      <td>0.000000</td>\n",
       "      <td>0.000000</td>\n",
       "      <td>0.000000</td>\n",
       "      <td>0.000000</td>\n",
       "      <td>0.000000</td>\n",
       "    </tr>\n",
       "    <tr>\n",
       "      <th>25%</th>\n",
       "      <td>0.000000</td>\n",
       "      <td>0.000000</td>\n",
       "      <td>2.000000</td>\n",
       "      <td>2.000000</td>\n",
       "      <td>3.280000e+02</td>\n",
       "      <td>8.000000</td>\n",
       "      <td>1.000000</td>\n",
       "      <td>2.000000</td>\n",
       "      <td>10.000000</td>\n",
       "      <td>0.000000</td>\n",
       "      <td>1.000000</td>\n",
       "      <td>0.000000</td>\n",
       "      <td>2.000000</td>\n",
       "    </tr>\n",
       "    <tr>\n",
       "      <th>50%</th>\n",
       "      <td>1.000000</td>\n",
       "      <td>3.000000</td>\n",
       "      <td>6.000000</td>\n",
       "      <td>4.000000</td>\n",
       "      <td>2.819000e+03</td>\n",
       "      <td>33.000000</td>\n",
       "      <td>3.000000</td>\n",
       "      <td>7.000000</td>\n",
       "      <td>38.000000</td>\n",
       "      <td>1.000000</td>\n",
       "      <td>1.000000</td>\n",
       "      <td>0.000000</td>\n",
       "      <td>4.000000</td>\n",
       "    </tr>\n",
       "    <tr>\n",
       "      <th>75%</th>\n",
       "      <td>3.000000</td>\n",
       "      <td>35.000000</td>\n",
       "      <td>18.000000</td>\n",
       "      <td>10.000000</td>\n",
       "      <td>1.016200e+04</td>\n",
       "      <td>103.000000</td>\n",
       "      <td>11.000000</td>\n",
       "      <td>19.000000</td>\n",
       "      <td>109.000000</td>\n",
       "      <td>1.000000</td>\n",
       "      <td>3.000000</td>\n",
       "      <td>1.000000</td>\n",
       "      <td>10.000000</td>\n",
       "    </tr>\n",
       "    <tr>\n",
       "      <th>max</th>\n",
       "      <td>411.000000</td>\n",
       "      <td>16653.000000</td>\n",
       "      <td>65535.000000</td>\n",
       "      <td>370.000000</td>\n",
       "      <td>2.197840e+06</td>\n",
       "      <td>55134.000000</td>\n",
       "      <td>5257.000000</td>\n",
       "      <td>3998.000000</td>\n",
       "      <td>13533.000000</td>\n",
       "      <td>8.000000</td>\n",
       "      <td>134.000000</td>\n",
       "      <td>206.000000</td>\n",
       "      <td>3754.000000</td>\n",
       "    </tr>\n",
       "  </tbody>\n",
       "</table>\n",
       "</div>"
      ],
      "text/plain": [
       "                  i0             i1             i2             i3  \\\n",
       "count  120258.000000  220130.000000  173055.000000  172535.000000   \n",
       "mean        3.486837     105.664884      27.958060       7.332738   \n",
       "std         9.333972     390.383116     407.039227       8.774638   \n",
       "min         0.000000      -2.000000       0.000000       0.000000   \n",
       "25%         0.000000       0.000000       2.000000       2.000000   \n",
       "50%         1.000000       3.000000       6.000000       4.000000   \n",
       "75%         3.000000      35.000000      18.000000      10.000000   \n",
       "max       411.000000   16653.000000   65535.000000     370.000000   \n",
       "\n",
       "                 i4             i5             i6             i7  \\\n",
       "count  2.145020e+05  170581.000000  210448.000000  220023.000000   \n",
       "mean   1.867433e+04     116.834753      15.791640      12.532890   \n",
       "std    7.000240e+04     374.197020      58.900059      18.956486   \n",
       "min    0.000000e+00       0.000000       0.000000       0.000000   \n",
       "25%    3.280000e+02       8.000000       1.000000       2.000000   \n",
       "50%    2.819000e+03      33.000000       3.000000       7.000000   \n",
       "75%    1.016200e+04     103.000000      11.000000      19.000000   \n",
       "max    2.197840e+06   55134.000000    5257.000000    3998.000000   \n",
       "\n",
       "                  i8             i9            i10           i11  \\\n",
       "count  210448.000000  120258.000000  210448.000000  51465.000000   \n",
       "mean      104.991665       0.614412       2.692152      0.965044   \n",
       "std       216.746880       0.680082       5.081437      4.748035   \n",
       "min         0.000000       0.000000       0.000000      0.000000   \n",
       "25%        10.000000       0.000000       1.000000      0.000000   \n",
       "50%        38.000000       1.000000       1.000000      0.000000   \n",
       "75%       109.000000       1.000000       3.000000      1.000000   \n",
       "max     13533.000000       8.000000     134.000000    206.000000   \n",
       "\n",
       "                 i12  \n",
       "count  172535.000000  \n",
       "mean        8.257727  \n",
       "std        18.478557  \n",
       "min         0.000000  \n",
       "25%         2.000000  \n",
       "50%         4.000000  \n",
       "75%        10.000000  \n",
       "max      3754.000000  "
      ]
     },
     "execution_count": 37,
     "metadata": {},
     "output_type": "execute_result"
    }
   ],
   "source": [
    "pdf[int_col_names].describe()"
   ]
  },
  {
   "cell_type": "code",
   "execution_count": 20,
   "metadata": {},
   "outputs": [
    {
     "data": {
      "image/png": "[encoded data removed]",
      "text/plain": [
       "<Figure size 1440x1440 with 16 Axes>"
      ]
     },
     "metadata": {},
     "output_type": "display_data"
    }
   ],
   "source": [
    "col_names = [label_name] + int_col_names\n",
    "toyDFI = pdf[col_names]\n",
    "toyDFI.hist(figsize=(20,20))\n",
    "plt.show()"
   ]
  },
  {
   "cell_type": "markdown",
   "metadata": {},
   "source": [
    "# __Section 4__ - Algorithm Implementation"
   ]
  },
  {
   "cell_type": "markdown",
   "metadata": {},
   "source": [
    "### Spark Implementation\n",
    "* We are implementing the design in Spark, leveraging the pyspark library. We utilize dataframes which add a layer of abstraction to the spark RDDs and allow the data to be distributed among the worker nodes in the cluster, thus allowing us to process a file that is potentially larger than what would fit on a single machine. (Scaling out rather than up).\n",
    "* Note these subsequent cells work through a local implementation built to be run on a single node computer, but we have a single cell further down that is built to refence google cloud data files and be run on a dataproc cluster.\n",
    "\n",
    "### Categorical Binning\n",
    "* As discussed above, in order to eliminate some dimensionality while maintaining our interpretability goals, we chose to keep widly used categories within the categorical columns. Columns where a small subset of distinct values couldn't describe the column were removed. (see section 3.7 for more discussion of this methodology)\n",
    "* We considered a feature hashing approach to reducing the dimensionality, but this would have eliminated our ability to explain the categorical output so we ultimately decided against it.\n",
    "* The way we implement this in practice is via a map-side join, broadcasting the values for each column that we wish to keep within the dataframe (the remainder would be put into an \"other\" bin.\n",
    "\n",
    "### Integer Feature Preprocessing\n",
    "* As discussed above, because the data readme file indicated the integers were mostly count features, we are treating them as numeric in this iteration. Future enhancements may be made we may bin by treating them differently (binning, etc.). Missing values are being filled via imputation of the mean. We discussed either omitting the variables filling with zero, or imputing with median. The downside of the mean imputation is that it can be skewed by outliers which do exist in the dataframe. This is a known and understood concern and one that future iterations will delve into the impact of adjusting.\n",
    "    \n",
    "### Pipeline\n",
    "* Managing the complex operations being done for preprocessing and learning of the models is made simple via the use of pipelines. The transformations and estimations being applied to the training set could be easily\n",
    "* Becuase they simplify the bookkeeping of all the operations (transformations and estimations) being done to the data, pipelines facilitate quick iteration with new models, enhancements, feature selection techniques, normalization, etc.\n",
    "* Pipeline Component: STRING INDEXING / ONE-HOT ENCODING\n",
    " * Operating on the categories and columns that survived from the categorical binning, we leverage the spark StringIndexer and OneHotEncoder to first map these strings to label indices and then to one-hot encode the values into columns."
   ]
  },
  {
   "cell_type": "code",
   "execution_count": 18,
   "metadata": {},
   "outputs": [],
   "source": [
    "from pyspark.sql.types import StringType, FloatType\n",
    "from pyspark.sql.functions import udf\n",
    "from pyspark.sql import functions as F\n",
    "from pyspark.ml.pipeline import Transformer\n",
    "from pyspark.sql.functions import col, lit, when, isnull, broadcast\n",
    "\n",
    " # ADJUST CATEGORICAL VARIABLES (BIN / KEEP ONLY SPECIFIC COLS)\n",
    "\n",
    "def categorical_binning(df):\n",
    "    for c in cat_col_names:\n",
    "        if c not in cat_top_90pct_vals.keys():\n",
    "            df = df.drop(c)\n",
    "        else:\n",
    "            # bin only the top values, call rest 'other'\n",
    "            # broadcast (map-side join) makes this run significantly faster\n",
    "            vals = sqlContext.createDataFrame(cat_top_90pct_vals[c], StringType()).cache()\n",
    "            df = df.join(broadcast(vals), (df[c] == vals.value), how='left')\n",
    "\n",
    "            # keep matches -- convert non-match to 'other'\n",
    "            new_column_2 = when(\n",
    "                col(c).isNull() & col(\"value\").isNull(), 'null'\n",
    "            ).when(col(c) == col(\"value\"), col('value')).otherwise('other')\n",
    "            df = df.withColumn(c+\"_adj\", new_column_2).drop('value')\n",
    "    return df\n",
    "\n",
    "trainDF = categorical_binning(trainDF)\n",
    "valDF = categorical_binning(valDF)"
   ]
  },
  {
   "cell_type": "code",
   "execution_count": 6,
   "metadata": {},
   "outputs": [],
   "source": [
    "cat_top_90pct_vals = {'c0': ['05db9164', '68fd1e64', '5a9ed9b0', '8cf07265', 'be589b51', '5bfa8ab5', '87552397', 'f473b8dc', '39af2607', 'ae82ea21'], 'c4': ['25c83c98', '4cf72387', '43b19349', '384874ce'], 'c5': ['7e0ccccf', 'fbad5c96', 'fe6b92e5', np.nan], 'c7': ['0b153874', '5b392875', '1f89b562', '37e4aa92', '062b5529'], 'c8': ['a73ee510', '7cc72ec2'], 'c13': ['b28479f6', '07d13a8f', '1adce6ef', '64c94865', 'cfef1c29'], 'c16': ['e5ba7672', '07c540c4', 'd4bb7bd8', '3486227d', '776ce399', '27c07bd6', '8efede7f'], 'c18': [np.nan, '21ddcdc9', '55dd3565', '5b885066', '9437f62f', '712d530c', 'cf99e5de', '1d1eb838', 'efa3470f', '4764bf77', '1d04f4a4', '3014a4b1', '04de9d96', 'a153cea2', '6f3756eb', '338f20de', '9653bb65', 'f30f7842', '2b558521', '064f1f80', 'e3b5ceb7', 'a34d2cf6', '083e89d9', '26e97973', '7a45f7f2', '315ba0e1', '2f4b9dd2', '0053530c', 'a18beb4f', 'b87498e2', '07995af6', '4632bcdc', '5b5de845', '75916440', '92524a76', 'd9aa05dc', 'fc134659', '0ec8d23c', 'e22752c5', '609029d1', 'c7dc6720', '8733cf72', 'd0289910', 'e5e1bbb7', '23a4bfcf', 'a8ac0fc0', '276c2365', '85684dc0', 'f44bef3c', '5d097c5a'], 'c19': [np.nan, 'b1252a9d', '5840adea', 'a458ea53'], 'c21': [np.nan, 'ad3062eb', 'c9d4222a'], 'c22': ['32c7478e', '3a171ecb', '423fab69', 'bcdee96c', 'be7c41b4', 'c7dc6720'], 'c24': [np.nan, '001f3601', 'e8b83407', 'ea9a246c', 'cb079c2d', '445bbe3b', '9b3e8820', '2bf691b1']}"
   ]
  },
  {
   "cell_type": "code",
   "execution_count": 19,
   "metadata": {},
   "outputs": [],
   "source": [
    "# **********************************\n",
    "# ********* SET UP PIPELINE ********\n",
    "# **********************************\n",
    "\n",
    "stages = []\n",
    "# ********** PIPELINE FOR NUMERIC COLUMNS ************\n",
    "from pyspark.ml.feature import Imputer, OneHotEncoderEstimator, StringIndexer, VectorAssembler, FeatureHasher\n",
    "from pyspark.ml import Pipeline\n",
    "from pyspark.ml.classification import LogisticRegression\n",
    "from pyspark.sql.functions import udf\n",
    "from pyspark.sql.types import FloatType\n",
    "\n",
    "numerical_cols = ['i' + str(i) for i in range(n_int_cols)]\n",
    "numerical_imputed_cols = [var + '_imputed' for var in numerical_cols]\n",
    "\n",
    "imputer_for_cast_vars = Imputer(inputCols = numerical_cols, outputCols = numerical_imputed_cols, strategy='mean')\n",
    "stages += [imputer_for_cast_vars]\n",
    "\n",
    "# imputer_for_cast_vars.fit(trainDF).transform(trainDF).take(2)\n",
    "\n",
    "# ********** PIPELINE FOR CATEGORICAL COLUMNS ************\n",
    "categoricalColumns = cat_top_90pct_vals.keys()\n",
    "for categoricalCol in categoricalColumns:\n",
    "    stringIndexer = StringIndexer(inputCol = categoricalCol, outputCol = categoricalCol + 'Index', handleInvalid='keep')\n",
    "    encoder = OneHotEncoderEstimator(inputCols=[stringIndexer.getOutputCol()], outputCols=[categoricalCol + \"_classVec\"])\n",
    "    stages += [stringIndexer, encoder]\n",
    "    \n",
    "# hasher = FeatureHasher(inputCols=categoricalColumns, outputCol=\"features_hashed\", numFeatures = 2^10)\n",
    "\n",
    "# ********** PUT TOGETHER ************    \n",
    "features = numerical_imputed_cols +  [var + \"_classVec\" for var in categoricalColumns]\n",
    "vector_assembler = VectorAssembler(inputCols = features, outputCol= \"features\")\n",
    "stages+=[vector_assembler]\n",
    "\n",
    "# ********** GENERATE MODEL ************    \n",
    "lr = LogisticRegression(featuresCol = 'features', labelCol = 'label', maxIter=10)\n",
    "stages += [lr]\n",
    "\n",
    "pipeline = Pipeline(stages = stages)\n",
    "\n",
    "\n",
    "# **********************************\n",
    "# ********* FIT / TRAIN PIPELINE ********\n",
    "# **********************************\n",
    "\n",
    "lrModel = pipeline.fit(trainDF)\n",
    "\n",
    "# **********************************\n",
    "# ********* RUN ON OUT OF SAMPLE ********\n",
    "# **********************************\n",
    "predictions = lrModel.transform(valDF)\n",
    "\n",
    "\n",
    "# Calculate Log Loss\n",
    "firstelement=udf(lambda v:float(v[1]),FloatType())\n",
    "predictions = predictions.withColumn('prob_single_val', firstelement('probability'))\n",
    "predictions = (     \n",
    "    predictions.withColumn('logloss', \n",
    "         -F.col('label')*F.log(F.col('prob_single_val')) - (1.-F.col('label'))*F.log(1.-F.col('prob_single_val')))\n",
    "              )\n",
    "\n",
    "logloss = predictions.agg(F.mean('logloss').alias('ll')).collect()[0]['ll']"
   ]
  },
  {
   "cell_type": "code",
   "execution_count": 21,
   "metadata": {},
   "outputs": [
    {
     "name": "stdout",
     "output_type": "stream",
     "text": [
      "Area under ROC = 0.709744\n",
      "Area under PR = 0.443845\n",
      "[[39535.  1581.]\n",
      " [11941.  2111.]]\n",
      "[Overall]\tprecision = 0.7548941415313225 | recall = 0.7548941415313225 | F1 Measure = 0.7548941415313225\n",
      "Log Loss =  0.5248\n",
      "[Class 0.0]\tprecision = 0.7680278187893387 | recall = 0.9615478159354023 | F1 Measure = 0.8539614653533784\n",
      "[Class 1.0]\tprecision = 0.5717768147345612 | recall = 0.15022772559066325 | F1 Measure = 0.23793958521190262\n"
     ]
    },
    {
     "data": {
      "text/plain": [
       "{'AUROC': '0.709744',\n",
       " 'AUPR': '0.443845',\n",
       " 'precision': '0.7548941415313225',\n",
       " 'recall': '0.7548941415313225',\n",
       " 'F1 Measure': '0.7548941415313225',\n",
       " 'Log Loss:': 0.5248267170573159,\n",
       " 0.0: {'precision': '0.7680278187893387',\n",
       "  'recall': '0.9615478159354023',\n",
       "  'F1 Measure': '0.8539614653533784'},\n",
       " 1.0: {'precision': '0.5717768147345612',\n",
       "  'recall': '0.15022772559066325',\n",
       "  'F1 Measure': '0.23793958521190262'}}"
      ]
     },
     "execution_count": 21,
     "metadata": {},
     "output_type": "execute_result"
    }
   ],
   "source": [
    "# **********************************\n",
    "# ********* Evaluate Predictions ********\n",
    "# **********************************\n",
    "\n",
    "from pyspark.ml.evaluation import BinaryClassificationEvaluator\n",
    "from pyspark.mllib.evaluation import MulticlassMetrics\n",
    "\n",
    "def evaluate(predictionAndLabels):\n",
    "    log = {}\n",
    "\n",
    "    # Show Validation Score (AUROC)\n",
    "    evaluator = BinaryClassificationEvaluator(metricName='areaUnderROC')\n",
    "    log['AUROC'] = \"%f\" % evaluator.evaluate(predictionAndLabels)    \n",
    "    print(\"Area under ROC = {}\".format(log['AUROC']))\n",
    "\n",
    "    # Show Validation Score (AUPR)\n",
    "    evaluator = BinaryClassificationEvaluator(metricName='areaUnderPR')\n",
    "    log['AUPR'] = \"%f\" % evaluator.evaluate(predictionAndLabels)\n",
    "    print(\"Area under PR = {}\".format(log['AUPR']))\n",
    "\n",
    "    # Metrics\n",
    "    predictionRDD = predictionAndLabels.select(['label', 'prediction']) \\\n",
    "                            .rdd.map(lambda line: (line[1], float(line[0])))\n",
    "    metrics = MulticlassMetrics(predictionRDD)\n",
    "\n",
    "    # Confusion Matrix\n",
    "    print(metrics.confusionMatrix().toArray())\n",
    "\n",
    "    # Overall statistics\n",
    "    log['precision'] = \"%s\" % metrics.precision()\n",
    "    log['recall'] = \"%s\" % metrics.recall()\n",
    "    log['F1 Measure'] = \"%s\" % metrics.fMeasure()\n",
    "    print(\"[Overall]\\tprecision = %s | recall = %s | F1 Measure = %s\" % \\\n",
    "            (log['precision'], log['recall'], log['F1 Measure']))\n",
    "    log['Log Loss:'] = logloss\n",
    "    print('Log Loss =  {:.4f}'.format(logloss))\n",
    "\n",
    "    # Statistics by class\n",
    "    labels = [0.0, 1.0]\n",
    "    for label in sorted(labels):\n",
    "        log[label] = {}\n",
    "        log[label]['precision'] = \"%s\" % metrics.precision(label)\n",
    "        log[label]['recall'] = \"%s\" % metrics.recall(label)\n",
    "        log[label]['F1 Measure'] = \"%s\" % metrics.fMeasure(label, \n",
    "                                                           beta=1.0)\n",
    "        print(\"[Class %s]\\tprecision = %s | recall = %s | F1 Measure = %s\" \\\n",
    "                  % (label, log[label]['precision'], \n",
    "                    log[label]['recall'], log[label]['F1 Measure']))\n",
    "    \n",
    "    return log\n",
    "\n",
    "evaluate(predictions)"
   ]
  },
  {
   "cell_type": "markdown",
   "metadata": {},
   "source": [
    "The recall for the 'Clicked' or 1.0 value stands out as very low (although we don't have a true baramoter for what 'good' would be). A more complete discussion of this is below (in Results / Model Improvement section)."
   ]
  },
  {
   "cell_type": "code",
   "execution_count": 149,
   "metadata": {},
   "outputs": [
    {
     "data": {
      "image/png": "[encoded data removed]",
      "text/plain": [
       "<Figure size 432x288 with 1 Axes>"
      ]
     },
     "metadata": {},
     "output_type": "display_data"
    },
    {
     "name": "stdout",
     "output_type": "stream",
     "text": [
      "Training set areaUnderROC: 0.725589017617367\n"
     ]
    }
   ],
   "source": [
    "# **********************************\n",
    "# ********* ROC CURVE ********\n",
    "# **********************************\n",
    "trainingSummary = lrModel.stages[-1].summary\n",
    "roc = trainingSummary.roc.toPandas()\n",
    "plt.plot(roc['FPR'],roc['TPR'])\n",
    "plt.ylabel('False Positive Rate')\n",
    "plt.xlabel('True Positive Rate')\n",
    "plt.title('ROC Curve')\n",
    "plt.show()\n",
    "print('Training set areaUnderROC: ' + str(trainingSummary.areaUnderROC))"
   ]
  },
  {
   "cell_type": "code",
   "execution_count": 118,
   "metadata": {},
   "outputs": [
    {
     "data": {
      "image/png": "[encoded data removed]",
      "text/plain": [
       "<Figure size 432x288 with 1 Axes>"
      ]
     },
     "metadata": {},
     "output_type": "display_data"
    }
   ],
   "source": [
    "# **********************************\n",
    "# ********* PRECISION VS RECALL ********\n",
    "# **********************************\n",
    "pr = trainingSummary.pr.toPandas()\n",
    "plt.plot(pr['recall'],pr['precision'])\n",
    "plt.ylabel('Precision')\n",
    "plt.xlabel('Recall')\n",
    "plt.show()"
   ]
  },
  {
   "cell_type": "markdown",
   "metadata": {},
   "source": [
    "# __Scale Implementation for GCP__ "
   ]
  },
  {
   "cell_type": "markdown",
   "metadata": {},
   "source": [
    "Above this point we have a working spark pipeline tested on a smaller dataset. We take our model and convert it to a GCP pyspark job to run on a scaled cluster setup. To run this on GCP first we modified a few notable properties:\n",
    "1. Increased the memory on the spark driver and the executor to 26G and 8G respectively\n",
    "2. Used n1-highmem-4 machines that have 4 vCPUS and 26G of memory\n",
    "3. Used 4 worker and 1 master node\n",
    "\n",
    "We made a decision to copy the parquet files to the GCP bucket for our train and test data\n",
    "\n",
    "The code below writes out a file called gcpjob.py which we use to submit the job to a GCP cluster. Out implemetation below took 26 Minutes to complete on the cluster setup.\n"
   ]
  },
  {
   "cell_type": "code",
   "execution_count": 11,
   "metadata": {},
   "outputs": [
    {
     "name": "stdout",
     "output_type": "stream",
     "text": [
      "Overwriting gcpjob.py\n"
     ]
    }
   ],
   "source": [
    "%%writefile gcpjob.py\n",
    "###############\n",
    "#GCP JOB\n",
    "###############\n",
    "\n",
    "########## UPLOAD PARQUET ##################\n",
    "#To upload to GCP bucket use this command\n",
    "#gsutil -m cp -r data/trainDF.parquet  gs://ucb-w261-rk/\n",
    "############################################\n",
    "\n",
    "#!/usr/bin/env python\n",
    "\n",
    "import re\n",
    "import ast\n",
    "import time\n",
    "import math\n",
    "import numpy as np\n",
    "import pandas as pd\n",
    "import pyspark\n",
    "from pyspark.sql import SQLContext\n",
    "from pyspark.sql import SparkSession\n",
    "from pyspark.sql.types import StringType, FloatType\n",
    "from pyspark.sql.functions import col, lit, when, isnull, broadcast\n",
    "from pyspark.sql import functions as F\n",
    "from pyspark.ml.feature import Imputer, OneHotEncoderEstimator, StringIndexer, VectorAssembler, FeatureHasher\n",
    "from pyspark.ml import Pipeline\n",
    "from pyspark.ml.classification import LogisticRegression\n",
    "from pyspark.mllib.evaluation import MulticlassMetrics\n",
    "from pyspark.ml.evaluation import BinaryClassificationEvaluator\n",
    "from pyspark.sql.functions import udf\n",
    "\n",
    "## Create a Spark Session\n",
    "spark = SparkSession.builder \\\n",
    "        .getOrCreate()\n",
    "sc = pyspark.SparkContext()\n",
    "sqlContext = SQLContext(sc)\n",
    "\n",
    "############## YOUR BUCKET HERE ###############\n",
    "BUCKET=\"ucb-w261-rk\"\n",
    "############## (END) YOUR BUCKET ###############\n",
    "\n",
    "n_int_cols = 13\n",
    "n_cat_cols = 26\n",
    "\n",
    "\n",
    "int_col_names = ['i' + str(i) for i in range(n_int_cols)]\n",
    "cat_col_names = ['c' + str(i) for i in range(n_cat_cols)]\n",
    "\n",
    "#################### COPY these to your bucket ######################\n",
    "#gsutil -m cp -r data/trainDF_miniTrain.parquet gs://ucb-w261-rk/\n",
    "#gsutil -m cp -r data/trainDF_miniValidation.parquet gs://ucb-w261-rk/\n",
    "INPUT_PARQUET_TRAIN_FILE = \"gs://\"+BUCKET+\"/trainDFparquet\"\n",
    "#######################################################################\n",
    "\n",
    "# (HARD-CODED DICTIONARY IS FROM ABOVE EDA)\n",
    "cat_top_90pct_vals = {'c0': ['05db9164', '68fd1e64', '5a9ed9b0', '8cf07265', 'be589b51', '5bfa8ab5', '87552397', 'f473b8dc', '39af2607', 'ae82ea21'], 'c4': ['25c83c98', '4cf72387', '43b19349', '384874ce'], 'c5': ['7e0ccccf', 'fbad5c96', 'fe6b92e5', np.nan], 'c7': ['0b153874', '5b392875', '1f89b562', '37e4aa92', '062b5529'], 'c8': ['a73ee510', '7cc72ec2'], 'c13': ['b28479f6', '07d13a8f', '1adce6ef', '64c94865', 'cfef1c29'], 'c16': ['e5ba7672', '07c540c4', 'd4bb7bd8', '3486227d', '776ce399', '27c07bd6', '8efede7f'], 'c18': [np.nan, '21ddcdc9', '55dd3565', '5b885066', '9437f62f', '712d530c', 'cf99e5de', '1d1eb838', 'efa3470f', '4764bf77', '1d04f4a4', '3014a4b1', '04de9d96', 'a153cea2', '6f3756eb', '338f20de', '9653bb65', 'f30f7842', '2b558521', '064f1f80', 'e3b5ceb7', 'a34d2cf6', '083e89d9', '26e97973', '7a45f7f2', '315ba0e1', '2f4b9dd2', '0053530c', 'a18beb4f', 'b87498e2', '07995af6', '4632bcdc', '5b5de845', '75916440', '92524a76', 'd9aa05dc', 'fc134659', '0ec8d23c', 'e22752c5', '609029d1', 'c7dc6720', '8733cf72', 'd0289910', 'e5e1bbb7', '23a4bfcf', 'a8ac0fc0', '276c2365', '85684dc0', 'f44bef3c', '5d097c5a'], 'c19': [np.nan, 'b1252a9d', '5840adea', 'a458ea53'], 'c21': [np.nan, 'ad3062eb', 'c9d4222a'], 'c22': ['32c7478e', '3a171ecb', '423fab69', 'bcdee96c', 'be7c41b4', 'c7dc6720'], 'c24': [np.nan, '001f3601', 'e8b83407', 'ea9a246c', 'cb079c2d', '445bbe3b', '9b3e8820', '2bf691b1']}\n",
    "\n",
    "## Load function\n",
    "def load(path):\n",
    "    # Load DataFrame\n",
    "    df = sqlContext.read.parquet(path)\n",
    "\n",
    "    # ADJUST NUMERIC FEATURES (MAKE FLOAT TO IMPUTE LATER)\n",
    "    for c in int_col_names:\n",
    "        df = df.withColumn(c, df[c].cast('float'))\n",
    "\n",
    "    # ADJUST CATEGORICAL VARIABLES (BIN / KEEP ONLY SPECIFIC COLS)\n",
    "\n",
    "    for c in cat_col_names:\n",
    "        if c not in cat_top_90pct_vals.keys():\n",
    "            df = df.drop(c)\n",
    "        else:\n",
    "            # bin only the top values, call rest 'other'\n",
    "            \n",
    "            vals = sqlContext.createDataFrame(cat_top_90pct_vals[c], StringType()).cache()\n",
    "            df = df.join(broadcast(vals), (df[c] == vals.value), how='left')\n",
    "\n",
    "            # keep matches -- convert non-match to 'other'\n",
    "            new_column_2 = when(\n",
    "                col(c).isNull() & col(\"value\").isNull(), 'null'\n",
    "            ).when(col(c) == col(\"value\"), col('value')).otherwise('other')\n",
    "            df = df.withColumn(c+\"_adj\", new_column_2).drop('value')\n",
    "    \n",
    "    train, test= df.randomSplit([0.8, 0.2], seed=42)\n",
    "    return train, test\n",
    "\n",
    "## Create a spark pipeline\n",
    "def create_pipeline(trainDF):\n",
    "    stages = []\n",
    "    # ********** PIPELINE FOR NUMERIC COLUMNS ************\n",
    "    numerical_cols = ['i' + str(i) for i in range(n_int_cols)]\n",
    "    numerical_imputed_cols = [var + '_imputed' for var in numerical_cols]\n",
    "\n",
    "    imputer_for_cast_vars = Imputer(inputCols = numerical_cols, outputCols = numerical_imputed_cols, strategy='mean')\n",
    "    stages += [imputer_for_cast_vars]\n",
    "\n",
    "    # imputer_for_cast_vars.fit(trainDF).transform(trainDF).take(2)\n",
    "\n",
    "    # ********** PIPELINE FOR CATEGORICAL COLUMNS ************\n",
    "    categoricalColumns = cat_top_90pct_vals.keys()\n",
    "    for categoricalCol in categoricalColumns:\n",
    "        stringIndexer = StringIndexer(inputCol = categoricalCol, outputCol = categoricalCol + 'Index', handleInvalid='keep')\n",
    "        encoder = OneHotEncoderEstimator(inputCols=[stringIndexer.getOutputCol()], outputCols=[categoricalCol + \"_classVec\"])\n",
    "        stages += [stringIndexer, encoder]\n",
    "\n",
    "    # ********** PUT TOGETHER ************    \n",
    "    features = numerical_imputed_cols +  [var + \"_classVec\" for var in categoricalColumns]\n",
    "    vector_assembler = VectorAssembler(inputCols = features, outputCol= \"features\")\n",
    "    stages+=[vector_assembler]\n",
    "\n",
    "    # ********** GENERATE MODEL ************    \n",
    "    lr = LogisticRegression(featuresCol = 'features', labelCol = 'label', maxIter=10)\n",
    "    stages += [lr]\n",
    "\n",
    "    pipeline = Pipeline(stages = stages)\n",
    "    lrModel = pipeline.fit(trainDF)\n",
    "    \n",
    "    return lrModel\n",
    "\n",
    "def create_predictions(pipeline, df):\n",
    "    predictions = pipeline.transform(df)\n",
    "    return predictions\n",
    "\n",
    "\n",
    "def evaluate(predictionAndLabels, pipeline):\n",
    "    # Add in log loss -- only works where we have label\n",
    "    firstelement=udf(lambda v:float(v[1]),FloatType())\n",
    "    predictionAndLabels = predictionAndLabels.withColumn('prob_single_val', firstelement('probability'))\n",
    "    predictionAndLabels = ( \n",
    "        predictionAndLabels.withColumn('logloss', -F.col('label')*F.log(F.col('prob_single_val')) - (1.-F.col('label'))*F.log(1.-F.col('prob_single_val')))\n",
    "                  )\n",
    "\n",
    "    logloss = predictionAndLabels.agg(F.mean('logloss').alias('ll')).collect()[0]['ll']\n",
    "    \n",
    "    log = {}\n",
    "\n",
    "    # Show Validation Score (AUROC)\n",
    "    log['# Obervations'] = predictionAndLabels.count()\n",
    "    evaluator = BinaryClassificationEvaluator(metricName='areaUnderROC')\n",
    "    log['AUROC'] = \"%f\" % evaluator.evaluate(predictionAndLabels)    \n",
    "    print(\"Area under ROC = {}\".format(log['AUROC']))\n",
    "\n",
    "    # Show Validation Score (AUPR)\n",
    "    evaluator = BinaryClassificationEvaluator(metricName='areaUnderPR')\n",
    "    log['AUPR'] = \"%f\" % evaluator.evaluate(predictionAndLabels)\n",
    "    print(\"Area under PR = {}\".format(log['AUPR']))\n",
    "\n",
    "    # Metrics\n",
    "    predictionRDD = predictionAndLabels.select(['label', 'prediction']) \\\n",
    "                            .rdd.map(lambda line: (line[1], float(line[0])))\n",
    "    metrics = MulticlassMetrics(predictionRDD)\n",
    "\n",
    "    # Confusion Matrix\n",
    "    print(metrics.confusionMatrix().toArray())\n",
    "\n",
    "    # Overall statistics\n",
    "    log['precision'] = \"%s\" % metrics.precision()\n",
    "    log['recall'] = \"%s\" % metrics.recall()\n",
    "    log['F1 Measure'] = \"%s\" % metrics.fMeasure()\n",
    "    print(\"[Overall]\\tprecision = %s | recall = %s | F1 Measure = %s\" % \\\n",
    "            (log['precision'], log['recall'], log['F1 Measure']))\n",
    "    log['Log Loss:'] = logloss\n",
    "    print('Log Loss =  {:.4f}'.format(logloss))\n",
    "    \n",
    "    # Statistics by class\n",
    "    labels = [0.0, 1.0]\n",
    "    for label in sorted(labels):\n",
    "        log[label] = {}\n",
    "        log[label]['precision'] = \"%s\" % metrics.precision(label)\n",
    "        log[label]['recall'] = \"%s\" % metrics.recall(label)\n",
    "        log[label]['F1 Measure'] = \"%s\" % metrics.fMeasure(label, \n",
    "                                                           beta=1.0)\n",
    "        print(\"[Class %s]\\tprecision = %s | recall = %s | F1 Measure = %s\" \\\n",
    "                  % (label, log[label]['precision'], \n",
    "                    log[label]['recall'], log[label]['F1 Measure']))\n",
    "\n",
    "    return log\n",
    "\n",
    "\n",
    "trainDF, testDF = load(INPUT_PARQUET_TRAIN_FILE)\n",
    "lr_pipeline = create_pipeline(trainDF)\n",
    "predictions = create_predictions(lr_pipeline, testDF)\n",
    "log = evaluate(predictions, lr_pipeline)\n",
    "\n",
    "print('************ LOG OUTPUT **************:', log)\n",
    "print('************ END LOG OUTPUT **************:')\n"
   ]
  },
  {
   "cell_type": "markdown",
   "metadata": {},
   "source": [
    "## Submit GCP job command ##\n",
    "\n",
    "```python submit_job_to_cluster.py --project_id=${PROJECT_ID} \\\n",
    "         --zone=us-central1-b --cluster_name=barf \\\n",
    "         --gcs_bucket=${BUCKET} --key_file=$HOME/w261.json \\\n",
    "         --create_new_cluster \\\n",
    "         --pyspark_file=/Users/kulkarnir/mids/w261-11-16/main/Assignments/FinalProject/gcpjob.py \\\n",
    "         --instance_type=n1-highmem-4 --worker_nodes=4```\n"
   ]
  },
  {
   "cell_type": "markdown",
   "metadata": {},
   "source": [
    "## Results / Model Improvements / Next Steps"
   ]
  },
  {
   "cell_type": "markdown",
   "metadata": {},
   "source": [
    "After running our Spark pipeline on GCP with the full dataset, we achieved the following results, as indicated in our GCP log output (which can be found in `gcpjob.log`). Here are our evaluation metrics of our model on the held-out test set of 20% of the full training data (9M records). \n",
    "\n",
    "Metric | Score\n",
    "--- | ---\n",
    "Log Loss | 0.5144\n",
    "F1 Measure | 0.7567\n",
    "Area under ROC | 0.7159\n",
    "Area under PR | 0.4614\n",
    "\n",
    "Class | Precision | Recall | F1 Measure\n",
    "--- | --- | --- | ---\n",
    "Class “0” | 0.7663 | 0.9681 | 0.8555\n",
    "Class “1” | 0.6076 | 0.1433 | 0.2319"
   ]
  },
  {
   "cell_type": "markdown",
   "metadata": {},
   "source": [
    "While our Log Loss and overall F1 Measure is fair for our purposes, we notice one major issue with our model performance. We see that the recall for Class 1 (\"click\") is very low, especially compared to the recall for Class 0 (\"no click\"). A recall value this low indicates that we aren't correctly labeling a very high percentage of the true clicks. \n",
    "\n",
    "Potential Reasons for suboptimal performance:\n",
    "Because we chose a simple linear model when the reality is likely that there are many non-linearities, we are likely suffering from a high bias issue. If our goal was to simply maximize the F1 score, we would have chosen a different model (non-linear, perhaps a tree-based approach). Part of our goal was to have interpretability, which we have maintained at the expense of decreased performance metrics. \n",
    "\n",
    "Potential solutions for future iterations to address the performance issues: \n",
    "1. Bring in more features. We are limiting our usage of categorical variables only to those that have relatively few discrete uses. We could explore increasing the number of values each could take on to increase the feature space and complexity.\n",
    "2. Transform the integer variables. While we are currently treating them as counts (because the information about them indicates that they are almost all counts, we may still want to explore binning them by quantile, etc. so we have fewer outliers, as the histograms indicate we have significant spreads.\n",
    "3. Imbalanced Data: One of the reasons that our Class 1 Recall is so low is that we have an imbalace of target value representation in our dataset. The ratio of no-click to click values is 3:1. We could consider down-sampling the majority class and over sampling the minority class to improve the recall and F1-measure of our Class 1 predictions. However since down-sampling may result in loss of information we could consider the BRF (Balanced Random Forest) approach or a Weighted Random Forest approach. \n",
    "\n",
    "### Sources\n",
    "[1] https://statistics.berkeley.edu/sites/default/files/tech-reports/666.pdf\n",
    "   \n",
    "[2] https://www.adrian.idv.hk/2018-01-24-downsample/\n",
    "   \n",
    "[3] https://www.smartinsights.com/internet-advertising/internet-advertising-analytics/display-advertising-clickthrough-rates/"
   ]
  },
  {
   "cell_type": "markdown",
   "metadata": {},
   "source": [
    "# __Section 5__ - Course Concepts"
   ]
  },
  {
   "cell_type": "markdown",
   "metadata": {},
   "source": [
    "This project offered a chance to explore several class concepts in greater detail.\n",
    "\n",
    "#### One-Hot Encoding / Feature Selection\n",
    "\n",
    "We discussed the idea of one-hot encoding as a solution for the document similarity task. One-hot encoding gives us a numerical vector representation for features that are not numeric in their baseline representation. In the vector, 1-s and 0-s represent the presence or absense of a term. The categorical values that we structured into our pipeline are an example of non-numeric features that benefit from codification of one-hot representation. As warned in our homework 3 workbook, the implementation of a pipeline with one-hot encoding significantly increased our feature space [1]. We had to make a thorough assessment of the number of distinct categories for each of the categorical variables in our decision to apply one-hot encoding.\n",
    "\n",
    "#### Normalization\n",
    "Normalization was discussed in Week 5 as a technique to put numeric feature dimensions on a \"more equal footing\". Normalization is accomplished by subtracting the mean of a feature from a value and dividing the difference by the feature standard deviation [2]. We debated normalization of the numeric features in our model. However, with the exception of one numeric feature, we were fairly convinced that the numeric features were counts. Given the assumption of the same type of variable across most columns, we opted against normalization.\n",
    "\n",
    "#### Broadcasting / caching\n",
    "With large dataframes, a standard join is a very expensive operation because they require that matched keys from each dataframe be located on the same partition to be combined locally. Unless the dataframes or RDDs have the same partitioner, a shuffle would be necessary to get keys together. To get around this issue, we used a map-side join to aid with the binning / keeping of only the top categories. [3]\n",
    " \n",
    "#### Scale\n",
    "A big challenge in running these large datasets using a spark pipeline was to tailor our implementation to the availability of the resources in GCP. The key to understanding how to scale and do ML is to understand the relationship between these three vectors Compute, Memory, Network of a cluster in relation to the requirements of our implementation. Given that some of the resource constraints such as total available memory in the spark driver for a particular iteration of our implementation was greater that the available memory in a given node then we'd either had to change the type of the machine with a larger memory footprint or change our implementation to fit witin the aggregated memory constraint given to us. The choice between having multiple workers vs larger workers which essentially is scale out vs scale up. The goal was to find a reasonable balance and a sweet spot to make sure that our algorithm can complete in a reasonable amount of time given the resources and at the same time keep our implemtation simple.  This exercise highilights the challenges faced specifically for large scale workloads given a finite number of resources. We would have liked to spend more time optimizing the implmentation and observe how it relates to the infrastructure being utilized and also understand the bottlenecks in terms of the usage ratios of compute:memory:storage:network for a more optimized cluster utilization.\n",
    "\n",
    "### Sources:\n",
    "[1] HW 3 - Synonym Detection In Spark. https://github.com/UCB-w261/main/blob/master/Assignments/HW3/hw3_Workbook.ipynb \n",
    "\n",
    "[2] W261 - Week 5 Introduction to SPARK, part 2. https://docs.google.com/presentation/d/1X0azuLULPFjnQhvHqLTiiYuBNrPlDNzd_1TYnZksLU4/edit#slide=id.p \n",
    "\n",
    "[3] https://www.oreilly.com/library/view/high-performance-spark/9781491943199/ch04.html"
   ]
  },
  {
   "cell_type": "markdown",
   "metadata": {},
   "source": [
    "# __Appendix__ :\n",
    "\n",
    "GCP cluster log https://github.com/UCB-w261/f19-final-project-f19-team-32/blob/master/gcpjob.log\n",
    "\n",
    "Paper Research Summary https://github.com/UCB-w261/f19-final-project-f19-team-32/blob/master/collateral/CTR-Paper-Research-Summary.pdf"
   ]
  }
 ],
 "metadata": {
  "kernelspec": {
   "display_name": "Python 3",
   "language": "python",
   "name": "python3"
  },
  "language_info": {
   "codemirror_mode": {
    "name": "ipython",
    "version": 3
   },
   "file_extension": ".py",
   "mimetype": "text/x-python",
   "name": "python",
   "nbconvert_exporter": "python",
   "pygments_lexer": "ipython3",
   "version": "3.5.2"
  }
 },
 "nbformat": 4,
 "nbformat_minor": 4
}
