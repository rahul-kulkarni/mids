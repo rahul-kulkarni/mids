{
 "cells": [
  {
   "cell_type": "markdown",
   "metadata": {},
   "source": [
    "## Response Ranking"
   ]
  },
  {
   "cell_type": "code",
   "execution_count": 80,
   "metadata": {},
   "outputs": [],
   "source": [
    "from __future__ import print_function\n",
    "import os\n",
    "import datetime, time, json\n",
    "import numpy as np\n",
    "import pandas as pd\n",
    "import seaborn as sns\n",
    "import matplotlib.pyplot as plt\n",
    "import tensorflow as tf\n",
    "import tensorflow_hub as hub\n",
    "import tensorflow.python.util.deprecation as deprecation\n",
    "deprecation._PRINT_DEPRECATION_WARNINGS = False # Disable the warnings\n",
    "tf.get_logger().setLevel('ERROR')\n",
    "import tensorflow.keras.layers as layers\n",
    "from tensorflow.keras.models import Model\n",
    "from tensorflow.keras.layers import Input, Lambda, Dense, Dropout, BatchNormalization, Dot, Reshape\n",
    "from tensorflow.keras.regularizers import l2\n",
    "from tensorflow.keras import backend\n",
    "from tensorflow.keras.callbacks import Callback, ModelCheckpoint, EarlyStopping\n",
    "import logging\n",
    "logging.getLogger('tensorflow').disabled = True #OPTIONAL - to disable outputs from Tensorflow\n",
    "\n",
    "np.random.seed(10)"
   ]
  },
  {
   "cell_type": "code",
   "execution_count": 81,
   "metadata": {},
   "outputs": [],
   "source": [
    "# Import the Universal Sentence Encoder's TF Hub module\n",
    "embed = hub.load(\"https://tfhub.dev/google/universal-sentence-encoder-qa/3\")"
   ]
  },
  {
   "cell_type": "code",
   "execution_count": 82,
   "metadata": {},
   "outputs": [
    {
     "data": {
      "text/plain": [
       "(96367, 3)"
      ]
     },
     "execution_count": 82,
     "metadata": {},
     "output_type": "execute_result"
    }
   ],
   "source": [
    "rr_df = pd.read_csv('data/rr_data_100k.csv')\n",
    "#rr_df = pd.read_csv('data/rr_data_30k.csv')\n",
    "rr_df.dropna(inplace=True)\n",
    "rr_df.shape"
   ]
  },
  {
   "cell_type": "code",
   "execution_count": 83,
   "metadata": {},
   "outputs": [
    {
     "data": {
      "text/html": [
       "<div>\n",
       "<style scoped>\n",
       "    .dataframe tbody tr th:only-of-type {\n",
       "        vertical-align: middle;\n",
       "    }\n",
       "\n",
       "    .dataframe tbody tr th {\n",
       "        vertical-align: top;\n",
       "    }\n",
       "\n",
       "    .dataframe thead th {\n",
       "        text-align: right;\n",
       "    }\n",
       "</style>\n",
       "<table border=\"1\" class=\"dataframe\">\n",
       "  <thead>\n",
       "    <tr style=\"text-align: right;\">\n",
       "      <th></th>\n",
       "      <th>body</th>\n",
       "      <th>answer</th>\n",
       "      <th>accepted_flag</th>\n",
       "    </tr>\n",
       "  </thead>\n",
       "  <tbody>\n",
       "    <tr>\n",
       "      <td>0</td>\n",
       "      <td>understand modular arithmetic basic mathematic...</td>\n",
       "      <td>mod operator used many different ways case use...</td>\n",
       "      <td>0</td>\n",
       "    </tr>\n",
       "    <tr>\n",
       "      <td>1</td>\n",
       "      <td>understand modular arithmetic basic mathematic...</td>\n",
       "      <td>modular 127 us ensure stay ascii bounds basica...</td>\n",
       "      <td>0</td>\n",
       "    </tr>\n",
       "    <tr>\n",
       "      <td>2</td>\n",
       "      <td>understand modular arithmetic basic mathematic...</td>\n",
       "      <td>parts</td>\n",
       "      <td>1</td>\n",
       "    </tr>\n",
       "    <tr>\n",
       "      <td>3</td>\n",
       "      <td>running numerical simulations main function mu...</td>\n",
       "      <td>could pass dictionary like</td>\n",
       "      <td>0</td>\n",
       "    </tr>\n",
       "    <tr>\n",
       "      <td>4</td>\n",
       "      <td>running numerical simulations main function mu...</td>\n",
       "      <td>nt think really stackoverflow question softwar...</td>\n",
       "      <td>1</td>\n",
       "    </tr>\n",
       "  </tbody>\n",
       "</table>\n",
       "</div>"
      ],
      "text/plain": [
       "                                                body  \\\n",
       "0  understand modular arithmetic basic mathematic...   \n",
       "1  understand modular arithmetic basic mathematic...   \n",
       "2  understand modular arithmetic basic mathematic...   \n",
       "3  running numerical simulations main function mu...   \n",
       "4  running numerical simulations main function mu...   \n",
       "\n",
       "                                              answer  accepted_flag  \n",
       "0  mod operator used many different ways case use...              0  \n",
       "1  modular 127 us ensure stay ascii bounds basica...              0  \n",
       "2                                              parts              1  \n",
       "3                         could pass dictionary like              0  \n",
       "4  nt think really stackoverflow question softwar...              1  "
      ]
     },
     "execution_count": 83,
     "metadata": {},
     "output_type": "execute_result"
    }
   ],
   "source": [
    "rr_df.head()"
   ]
  },
  {
   "cell_type": "code",
   "execution_count": 84,
   "metadata": {},
   "outputs": [],
   "source": [
    "y = rr_df['accepted_flag'].to_numpy()"
   ]
  },
  {
   "cell_type": "code",
   "execution_count": 85,
   "metadata": {},
   "outputs": [
    {
     "name": "stdout",
     "output_type": "stream",
     "text": [
      "(96367,)\n"
     ]
    }
   ],
   "source": [
    "print(y.shape)"
   ]
  },
  {
   "cell_type": "code",
   "execution_count": 86,
   "metadata": {},
   "outputs": [
    {
     "data": {
      "text/html": [
       "<div>\n",
       "<style scoped>\n",
       "    .dataframe tbody tr th:only-of-type {\n",
       "        vertical-align: middle;\n",
       "    }\n",
       "\n",
       "    .dataframe tbody tr th {\n",
       "        vertical-align: top;\n",
       "    }\n",
       "\n",
       "    .dataframe thead th {\n",
       "        text-align: right;\n",
       "    }\n",
       "</style>\n",
       "<table border=\"1\" class=\"dataframe\">\n",
       "  <thead>\n",
       "    <tr style=\"text-align: right;\">\n",
       "      <th></th>\n",
       "      <th>body</th>\n",
       "      <th>answer</th>\n",
       "      <th>accepted_flag</th>\n",
       "    </tr>\n",
       "  </thead>\n",
       "  <tbody>\n",
       "    <tr>\n",
       "      <td>0</td>\n",
       "      <td>understand modular arithmetic basic mathematic...</td>\n",
       "      <td>mod operator used many different ways case use...</td>\n",
       "      <td>0</td>\n",
       "    </tr>\n",
       "    <tr>\n",
       "      <td>1</td>\n",
       "      <td>understand modular arithmetic basic mathematic...</td>\n",
       "      <td>modular 127 us ensure stay ascii bounds basica...</td>\n",
       "      <td>0</td>\n",
       "    </tr>\n",
       "    <tr>\n",
       "      <td>2</td>\n",
       "      <td>understand modular arithmetic basic mathematic...</td>\n",
       "      <td>parts</td>\n",
       "      <td>1</td>\n",
       "    </tr>\n",
       "    <tr>\n",
       "      <td>3</td>\n",
       "      <td>running numerical simulations main function mu...</td>\n",
       "      <td>could pass dictionary like</td>\n",
       "      <td>0</td>\n",
       "    </tr>\n",
       "    <tr>\n",
       "      <td>4</td>\n",
       "      <td>running numerical simulations main function mu...</td>\n",
       "      <td>nt think really stackoverflow question softwar...</td>\n",
       "      <td>1</td>\n",
       "    </tr>\n",
       "  </tbody>\n",
       "</table>\n",
       "</div>"
      ],
      "text/plain": [
       "                                                body  \\\n",
       "0  understand modular arithmetic basic mathematic...   \n",
       "1  understand modular arithmetic basic mathematic...   \n",
       "2  understand modular arithmetic basic mathematic...   \n",
       "3  running numerical simulations main function mu...   \n",
       "4  running numerical simulations main function mu...   \n",
       "\n",
       "                                              answer  accepted_flag  \n",
       "0  mod operator used many different ways case use...              0  \n",
       "1  modular 127 us ensure stay ascii bounds basica...              0  \n",
       "2                                              parts              1  \n",
       "3                         could pass dictionary like              0  \n",
       "4  nt think really stackoverflow question softwar...              1  "
      ]
     },
     "execution_count": 86,
     "metadata": {},
     "output_type": "execute_result"
    }
   ],
   "source": [
    "rr_df.head()"
   ]
  },
  {
   "cell_type": "code",
   "execution_count": 87,
   "metadata": {},
   "outputs": [],
   "source": [
    "X = rr_df.to_numpy()"
   ]
  },
  {
   "cell_type": "code",
   "execution_count": 88,
   "metadata": {},
   "outputs": [
    {
     "name": "stdout",
     "output_type": "stream",
     "text": [
      "(96367, 3)\n"
     ]
    }
   ],
   "source": [
    "print(X.shape)"
   ]
  },
  {
   "cell_type": "markdown",
   "metadata": {},
   "source": [
    "### Build a Train and Test Dataset"
   ]
  },
  {
   "cell_type": "code",
   "execution_count": 89,
   "metadata": {},
   "outputs": [
    {
     "name": "stdout",
     "output_type": "stream",
     "text": [
      "X_train (77093, 3)\n",
      "Y_train (77093,)\n",
      "X_test (19274, 3)\n",
      "y_test (19274,)\n"
     ]
    }
   ],
   "source": [
    "from sklearn.model_selection import train_test_split\n",
    "X_train, X_test, y_train, y_test = train_test_split(X, y,  test_size=0.2, random_state=42)\n",
    "print(\"X_train\", X_train.shape)\n",
    "print(\"Y_train\", y_train.shape)\n",
    "print(\"X_test\", X_test.shape)\n",
    "print(\"y_test\", y_test.shape)"
   ]
  },
  {
   "cell_type": "code",
   "execution_count": 90,
   "metadata": {},
   "outputs": [
    {
     "name": "stdout",
     "output_type": "stream",
     "text": [
      "(77093,) (77093,) (77093,)\n"
     ]
    }
   ],
   "source": [
    "Q_train = X_train[:,0]\n",
    "A_train = X_train[:,1]\n",
    "print(Q_train.shape, A_train.shape,y_train.shape)"
   ]
  },
  {
   "cell_type": "code",
   "execution_count": 91,
   "metadata": {},
   "outputs": [
    {
     "name": "stdout",
     "output_type": "stream",
     "text": [
      "(19274,) (19274,) (19274,)\n"
     ]
    }
   ],
   "source": [
    "Q_test = X_test[:,0]\n",
    "A_test = X_test[:,1]\n",
    "print(Q_test.shape, A_test.shape,y_test.shape)"
   ]
  },
  {
   "cell_type": "code",
   "execution_count": 92,
   "metadata": {},
   "outputs": [
    {
     "name": "stdout",
     "output_type": "stream",
     "text": [
      "['data following form'\n",
      " 'whatever integer input always turns thatman need learn print number first nt work thank guys'\n",
      " 'new scikit playing around'] -- ['using could say awk 1 prevnextprev11 inputfile' 'also use try excepts'\n",
      " 'function returns array object stated documentation array object corresponds indices labels array get prediction line need try something like print labelspredicted']\n"
     ]
    }
   ],
   "source": [
    "print(Q_train[:3],\"--\", A_train[:3])"
   ]
  },
  {
   "cell_type": "markdown",
   "metadata": {},
   "source": [
    "### Utilities"
   ]
  },
  {
   "cell_type": "code",
   "execution_count": 93,
   "metadata": {},
   "outputs": [],
   "source": [
    "def plot_model(model_name, hist):\n",
    "  plt.plot(hist.history['accuracy'])\n",
    "  plt.plot(hist.history['val_accuracy'])\n",
    "  plt.title(model_name + 'model accuracy')\n",
    "  plt.ylabel('accuracy')\n",
    "  plt.xlabel('epoch')\n",
    "  plt.legend(['train', 'test'], loc='upper left')\n",
    "  plt.show()\n",
    "  # summarize history for loss\n",
    "  plt.plot(hist.history['loss'])\n",
    "  plt.plot(hist.history['val_loss'])\n",
    "  plt.title(model_name + 'model loss')\n",
    "  plt.ylabel('loss')\n",
    "  plt.xlabel('epoch')\n",
    "  plt.legend(['train', 'test'], loc='upper left')\n",
    "  plt.show()"
   ]
  },
  {
   "cell_type": "markdown",
   "metadata": {},
   "source": [
    "## Models"
   ]
  },
  {
   "cell_type": "markdown",
   "metadata": {},
   "source": [
    "### Baseline Cosine Similarity"
   ]
  },
  {
   "cell_type": "code",
   "execution_count": 15,
   "metadata": {},
   "outputs": [],
   "source": [
    "from sklearn.metrics.pairwise import cosine_similarity\n",
    "from sklearn.linear_model import LogisticRegression"
   ]
  },
  {
   "cell_type": "code",
   "execution_count": 49,
   "metadata": {},
   "outputs": [],
   "source": [
    "Q_train_lst = Q_train.tolist()\n",
    "A_train_lst = A_train.tolist()"
   ]
  },
  {
   "cell_type": "code",
   "execution_count": 50,
   "metadata": {},
   "outputs": [],
   "source": [
    "X_train_ue = []\n",
    "\n",
    "for i in range(len(Q_train_lst)):\n",
    "    q = [Q_train[i]]\n",
    "    a = [A_train[i]]\n",
    "    X_train_ue.append(cosine_similarity(embed(tf.cast(q, tf.string)), embed(tf.cast(a, tf.string))))"
   ]
  },
  {
   "cell_type": "code",
   "execution_count": 61,
   "metadata": {},
   "outputs": [
    {
     "name": "stdout",
     "output_type": "stream",
     "text": [
      "[[0.08030646]]\n"
     ]
    }
   ],
   "source": [
    "print(X_train_ue[0])"
   ]
  },
  {
   "cell_type": "code",
   "execution_count": 51,
   "metadata": {},
   "outputs": [],
   "source": [
    "X_train_ue_np = np.array(X_train_ue) \n",
    "X_train_ue_np = X_train_ue_np[:, 0]"
   ]
  },
  {
   "cell_type": "code",
   "execution_count": 59,
   "metadata": {},
   "outputs": [
    {
     "name": "stdout",
     "output_type": "stream",
     "text": [
      "[[ 0.08030646]\n",
      " [-0.01254405]\n",
      " [ 0.27926126]\n",
      " ...\n",
      " [ 0.07704539]\n",
      " [ 0.3592642 ]\n",
      " [ 0.3816369 ]]\n"
     ]
    }
   ],
   "source": [
    "print(X_train_ue_np)"
   ]
  },
  {
   "cell_type": "code",
   "execution_count": 52,
   "metadata": {},
   "outputs": [
    {
     "name": "stderr",
     "output_type": "stream",
     "text": [
      "/home/rahul_kulkarni/anaconda3/lib/python3.7/site-packages/sklearn/linear_model/logistic.py:432: FutureWarning: Default solver will be changed to 'lbfgs' in 0.22. Specify a solver to silence this warning.\n",
      "  FutureWarning)\n"
     ]
    }
   ],
   "source": [
    "clf = LogisticRegression(random_state=0).fit(X_train_ue_np, y_train)"
   ]
  },
  {
   "cell_type": "code",
   "execution_count": 53,
   "metadata": {},
   "outputs": [],
   "source": [
    "Q_test_lst = Q_test.tolist()\n",
    "A_test_lst = A_test.tolist()"
   ]
  },
  {
   "cell_type": "code",
   "execution_count": 54,
   "metadata": {},
   "outputs": [],
   "source": [
    "X_test_ue = []\n",
    "for i in range(len(Q_test_lst)):\n",
    "    q = [Q_test[i]]\n",
    "    a = [A_test[i]]\n",
    "    X_test_ue.append(cosine_similarity(embed(tf.cast(q, tf.string)), embed(tf.cast(a, tf.string))))"
   ]
  },
  {
   "cell_type": "code",
   "execution_count": 55,
   "metadata": {},
   "outputs": [],
   "source": [
    "X_test_ue_np = np.array(X_test_ue)\n",
    "X_test_ue_np = X_test_ue_np[:, 0]"
   ]
  },
  {
   "cell_type": "code",
   "execution_count": 146,
   "metadata": {},
   "outputs": [
    {
     "ename": "NameError",
     "evalue": "name 'clf' is not defined",
     "output_type": "error",
     "traceback": [
      "\u001b[0;31m---------------------------------------------------------------------------\u001b[0m",
      "\u001b[0;31mNameError\u001b[0m                                 Traceback (most recent call last)",
      "\u001b[0;32m<ipython-input-146-738510a28020>\u001b[0m in \u001b[0;36m<module>\u001b[0;34m\u001b[0m\n\u001b[0;32m----> 1\u001b[0;31m \u001b[0mclf\u001b[0m\u001b[0;34m.\u001b[0m\u001b[0mscore\u001b[0m\u001b[0;34m(\u001b[0m\u001b[0mX_test_ue_np\u001b[0m\u001b[0;34m,\u001b[0m \u001b[0my_test\u001b[0m\u001b[0;34m)\u001b[0m\u001b[0;34m\u001b[0m\u001b[0;34m\u001b[0m\u001b[0m\n\u001b[0m",
      "\u001b[0;31mNameError\u001b[0m: name 'clf' is not defined"
     ]
    }
   ],
   "source": [
    "clf.score(X_test_ue_np, y_test)"
   ]
  },
  {
   "cell_type": "markdown",
   "metadata": {},
   "source": [
    "### Two Tower Model"
   ]
  },
  {
   "cell_type": "code",
   "execution_count": 17,
   "metadata": {},
   "outputs": [],
   "source": [
    "def UniversalEmbedding(x):\n",
    "    return embed(tf.squeeze(tf.cast(x, tf.string), axis=1))"
   ]
  },
  {
   "cell_type": "code",
   "execution_count": 28,
   "metadata": {},
   "outputs": [],
   "source": [
    "USE_EMBEDDING_SIZE = 512\n",
    "VALIDATION_SPLIT = 0.1\n",
    "DROPOUT = 0.2\n",
    "BATCH_SIZE = 50\n",
    "MODEL_WEIGHTS_FILE = 'data/coda_twotower_model'\n",
    "\n",
    "from tensorflow.keras.optimizers import Adam\n",
    "\n",
    "def build_model_two_tower(activation_function='relu', \n",
    "                  optimizer='adam', \n",
    "                  #kernel_initializer=tf.keras.initializers.he_normal(seed=1), \n",
    "                  #bias_initializer='zeros',\n",
    "                  dropout=0.2):\n",
    "\n",
    "    # Define Input Layer\n",
    "    Q_s = Input(shape=(1,), dtype=\"string\")\n",
    "    \n",
    "    A_s = Input(shape=(1,), dtype=\"string\")\n",
    "        \n",
    "    # Define an embedding layer using USE\n",
    "    Q_e = Lambda(UniversalEmbedding, output_shape=(USE_EMBEDDING_SIZE, ))(Q_s)\n",
    "    \n",
    "      # Define an embedding layer using USE\n",
    "    A_e = Lambda(UniversalEmbedding, output_shape=(USE_EMBEDDING_SIZE, ))(A_s)\n",
    "    \n",
    "    # Define one hidden layer\n",
    "    dense_layer = Dense(1024, \n",
    "                        activation=activation_function,\n",
    "                        #kernel_initializer=kernel_initializer, \n",
    "                        #bias_initializer=bias_initializer,\n",
    "                        name='layer-1')\n",
    "    \n",
    "    # Feed the answer embedding to a dense layer\n",
    "    A_prime = dense_layer(A_e)\n",
    "    #A_prime = Dropout(dropout)(A_prime)\n",
    "    #A_prime = BatchNormalization()(A_prime)\n",
    "    \n",
    "    # Define a second hidden layer\n",
    "    dense_layer_2 = Dense(512,\n",
    "                          activation=activation_function,\n",
    "                          #kernel_initializer=kernel_initializer, \n",
    "                          #bias_initializer=bias_initializer,\n",
    "                          name='layer-2')\n",
    "    \n",
    "    # Feed the previous layer output to dense 2 layer               \n",
    "    A_prime = dense_layer_2(A_prime)\n",
    "    #A_prime = Dropout(dropout)(A_prime)\n",
    "    #A_prime = BatchNormalization()(A_prime)\n",
    "    \n",
    "    # Dot product of Question Embedding and Answer prime\n",
    "    QA = Dot(axes = 1)([Q_e,A_prime])\n",
    "    \n",
    "    result = Reshape((1,), input_shape=(1,1))(QA)\n",
    "    \n",
    "    # Final layer\n",
    "    probs  = Dense(1, activation='sigmoid')(result)\n",
    "\n",
    "    # Build and compile model, input Question and Answer body \n",
    "    two_tower_model = Model(inputs=[Q_s, A_s], outputs=probs)\n",
    "    \n",
    "    opt = Adam(lr=5e-5)\n",
    "    \n",
    "    two_tower_model.compile(loss='binary_crossentropy', optimizer=optimizer, metrics=['accuracy'])\n",
    "    \n",
    "    return two_tower_model"
   ]
  },
  {
   "cell_type": "code",
   "execution_count": 29,
   "metadata": {},
   "outputs": [
    {
     "name": "stdout",
     "output_type": "stream",
     "text": [
      "Model: \"model_1\"\n",
      "__________________________________________________________________________________________________\n",
      "Layer (type)                    Output Shape         Param #     Connected to                     \n",
      "==================================================================================================\n",
      "input_4 (InputLayer)            [(None, 1)]          0                                            \n",
      "__________________________________________________________________________________________________\n",
      "lambda_3 (Lambda)               (None, 512)          0           input_4[0][0]                    \n",
      "__________________________________________________________________________________________________\n",
      "input_3 (InputLayer)            [(None, 1)]          0                                            \n",
      "__________________________________________________________________________________________________\n",
      "layer-1 (Dense)                 (None, 1024)         525312      lambda_3[0][0]                   \n",
      "__________________________________________________________________________________________________\n",
      "lambda_2 (Lambda)               (None, 512)          0           input_3[0][0]                    \n",
      "__________________________________________________________________________________________________\n",
      "layer-2 (Dense)                 (None, 512)          524800      layer-1[0][0]                    \n",
      "__________________________________________________________________________________________________\n",
      "dot_1 (Dot)                     (None, 1)            0           lambda_2[0][0]                   \n",
      "                                                                 layer-2[0][0]                    \n",
      "__________________________________________________________________________________________________\n",
      "reshape_1 (Reshape)             (None, 1)            0           dot_1[0][0]                      \n",
      "__________________________________________________________________________________________________\n",
      "dense_1 (Dense)                 (None, 1)            2           reshape_1[0][0]                  \n",
      "==================================================================================================\n",
      "Total params: 1,050,114\n",
      "Trainable params: 1,050,114\n",
      "Non-trainable params: 0\n",
      "__________________________________________________________________________________________________\n"
     ]
    }
   ],
   "source": [
    "two_tower_model = build_model_two_tower()\n",
    "\n",
    "two_tower_model.summary()"
   ]
  },
  {
   "cell_type": "markdown",
   "metadata": {},
   "source": [
    "#### Train and Evaluate the model"
   ]
  },
  {
   "cell_type": "code",
   "execution_count": 30,
   "metadata": {},
   "outputs": [
    {
     "name": "stdout",
     "output_type": "stream",
     "text": [
      "Starting training at 2020-04-19 00:18:44.021688\n",
      "Train on 209 samples, validate on 24 samples\n",
      "Epoch 1/10\n",
      "209/209 - 43s - loss: 0.6912 - accuracy: 0.5263 - val_loss: 0.6859 - val_accuracy: 0.6667\n",
      "Epoch 2/10\n",
      "209/209 - 1s - loss: 0.6632 - accuracy: 0.6651 - val_loss: 0.6814 - val_accuracy: 0.6667\n",
      "Epoch 3/10\n",
      "209/209 - 1s - loss: 0.6348 - accuracy: 0.6603 - val_loss: 0.6786 - val_accuracy: 0.6667\n",
      "Epoch 4/10\n",
      "209/209 - 1s - loss: 0.6024 - accuracy: 0.6746 - val_loss: 0.6851 - val_accuracy: 0.6250\n",
      "Epoch 5/10\n",
      "209/209 - 1s - loss: 0.5681 - accuracy: 0.7368 - val_loss: 0.6955 - val_accuracy: 0.6250\n",
      "Epoch 6/10\n",
      "209/209 - 1s - loss: 0.5369 - accuracy: 0.7751 - val_loss: 0.7167 - val_accuracy: 0.6250\n",
      "Training ended at 2020-04-19 00:19:33.875797\n",
      "Minutes elapsed: 0.830896\n"
     ]
    }
   ],
   "source": [
    "print(\"Starting training at\", datetime.datetime.now())\n",
    "t0 = time.time()\n",
    "callbacks = [ModelCheckpoint(MODEL_WEIGHTS_FILE, monitor='val_acc', save_best_only=True), \n",
    "             EarlyStopping(monitor='val_loss', patience=3)]\n",
    "history_tt = two_tower_model.fit([Q_train, A_train], \n",
    "                                 y_train, \n",
    "                                 epochs=10,\n",
    "                                 validation_split=VALIDATION_SPLIT,\n",
    "                                 verbose=2,\n",
    "                                 batch_size=BATCH_SIZE,\n",
    "                                 callbacks=callbacks)\n",
    "two_tower_model.save_weights(MODEL_WEIGHTS_FILE)\n",
    "t1 = time.time()\n",
    "print(\"Training ended at\", datetime.datetime.now())\n",
    "print(\"Minutes elapsed: %f\" % ((t1 - t0) / 60.))"
   ]
  },
  {
   "cell_type": "code",
   "execution_count": 31,
   "metadata": {},
   "outputs": [
    {
     "data": {
      "image/png": "[encoded data removed]",
      "text/plain": [
       "<Figure size 432x288 with 1 Axes>"
      ]
     },
     "metadata": {
      "needs_background": "light"
     },
     "output_type": "display_data"
    }
   ],
   "source": [
    "#print(history.history.keys())\n",
    "acc = pd.DataFrame({'epoch': [ i + 1 for i in history_tt.epoch ],\n",
    "                    'training': history_tt.history['accuracy'],\n",
    "                    'validation': history_tt.history['val_accuracy']})\n",
    "ax = acc.plot(x='epoch', grid=True)\n",
    "ax.set_ylabel(\"accuracy\")\n",
    "ax.set_ylim([0.0,1.0]);"
   ]
  },
  {
   "cell_type": "code",
   "execution_count": 32,
   "metadata": {},
   "outputs": [
    {
     "data": {
      "image/png": "[encoded data removed]",
      "text/plain": [
       "<Figure size 432x288 with 1 Axes>"
      ]
     },
     "metadata": {
      "needs_background": "light"
     },
     "output_type": "display_data"
    },
    {
     "data": {
      "image/png": "[encoded data removed]",
      "text/plain": [
       "<Figure size 432x288 with 1 Axes>"
      ]
     },
     "metadata": {
      "needs_background": "light"
     },
     "output_type": "display_data"
    }
   ],
   "source": [
    "plot_model(\"Two Tower Dot Product using USE\", history_tt)"
   ]
  },
  {
   "cell_type": "code",
   "execution_count": 33,
   "metadata": {},
   "outputs": [
    {
     "name": "stdout",
     "output_type": "stream",
     "text": [
      "Maximum accuracy at epoch 3 = 0.6667\n"
     ]
    }
   ],
   "source": [
    "max_val_acc, idx = max((val, idx) for (idx, val) in enumerate(history_tt.history['val_accuracy']))\n",
    "print('Maximum accuracy at epoch', '{:d}'.format(idx+1), '=', '{:.4f}'.format(max_val_acc))"
   ]
  },
  {
   "cell_type": "code",
   "execution_count": 34,
   "metadata": {},
   "outputs": [
    {
     "name": "stdout",
     "output_type": "stream",
     "text": [
      "\n",
      "# Evaluate on test data\n",
      "59/59 [==============================] - 0s 5ms/sample - loss: 0.7104 - accuracy: 0.6102\n",
      "test loss, test acc: [0.7103515772496239, 0.6101695]\n"
     ]
    }
   ],
   "source": [
    "two_tower_model.load_weights(MODEL_WEIGHTS_FILE)  \n",
    "predicts = two_tower_model.predict([Q_test, A_test])\n",
    "print('\\n# Evaluate on test data')\n",
    "results_tt = two_tower_model.evaluate([Q_test, A_test], y_test)\n",
    "print('test loss, test acc:', results_tt)"
   ]
  },
  {
   "cell_type": "markdown",
   "metadata": {},
   "source": [
    "### Cross Attention Model"
   ]
  },
  {
   "cell_type": "code",
   "execution_count": 94,
   "metadata": {
    "scrolled": true
   },
   "outputs": [
    {
     "name": "stdout",
     "output_type": "stream",
     "text": [
      "X_train Concatenated with Q, A (77093,)\n",
      "X_test  Concatenated with Q, A (19274,)\n"
     ]
    }
   ],
   "source": [
    "X_train = X_train[:,0] + X_train[:,1].astype('str')\n",
    "print(\"X_train Concatenated with Q, A\", X_train.shape)\n",
    "X_test = X_test[:,0] + X_test[:,1].astype('str')\n",
    "print(\"X_test  Concatenated with Q, A\", X_test.shape)"
   ]
  },
  {
   "cell_type": "code",
   "execution_count": 28,
   "metadata": {},
   "outputs": [],
   "source": [
    "USE_EMBEDDING_SIZE = 512\n",
    "VALIDATION_SPLIT = 0.1\n",
    "DROPOUT = 0.2\n",
    "BATCH_SIZE = 32\n",
    "MODEL_WEIGHTS_FILE = 'data/coda_rr_crossattn_model'\n",
    "\n",
    "def build_model_cross_attn(activation_function='relu', \n",
    "                  optimizer='adam', \n",
    "                  #kernel_initializer=tf.keras.initializers.he_normal(seed=1), \n",
    "                  #bias_initializer='zeros',\n",
    "                  dropout=0.2):\n",
    "\n",
    "    # Define Input Layer\n",
    "    input_text = Input(shape=(1,), dtype=\"string\")\n",
    "    \n",
    "    # Define an embedding layer using USE\n",
    "    embedding = Lambda(UniversalEmbedding, output_shape=(USE_EMBEDDING_SIZE, ))(input_text)\n",
    "    \n",
    "    # Define one hidden layer\n",
    "    dense_layer = Dense(1024, \n",
    "                          activation=activation_function,\n",
    "                          #kernel_initializer=kernel_initializer, \n",
    "                          #bias_initializer=bias_initializer,\n",
    "                          name='layer-1')\n",
    "    \n",
    "    # Feed the embeddings to the dense layer\n",
    "    dense_output = dense_layer(embedding)\n",
    "    \n",
    "    # Use dropout to avoid overfit \n",
    "    dropout_output = Dropout(dropout)(dense_output)\n",
    "\n",
    "    #Batch normalize\n",
    "    batchnormalized_output = BatchNormalization()(dropout_output)\n",
    "    \n",
    "    # Define a second hidden layer\n",
    "    dense_layer_2 = Dense(512,\n",
    "                          activation=activation_function,\n",
    "                          #kernel_initializer=kernel_initializer, \n",
    "                          #bias_initializer=bias_initializer,\n",
    "                          name='layer-2')\n",
    "    \n",
    "    # Feed the previous layer output to dense 2 layer                \n",
    "    dense_output_2 = dense_layer_2(batchnormalized_output)\n",
    "    \n",
    "    # Use dropout to avoid overfit \n",
    "    dropout_output_2 = Dropout(dropout)(dense_output_2)\n",
    "    \n",
    "    #Batch normalize\n",
    "    batchnormalized_output_2 = BatchNormalization()(dropout_output_2)\n",
    "    \n",
    "    # Final sigmoid layer for prediction probablities\n",
    "    pred = Dense(1, activation='sigmoid')(batchnormalized_output_2)\n",
    "    \n",
    "    # Build and compile model\n",
    "    model_cross_attn = Model(inputs=[input_text], outputs=pred)\n",
    "    \n",
    "    model_cross_attn.compile(loss='binary_crossentropy', optimizer=optimizer, metrics=['accuracy'])\n",
    "    \n",
    "    return model_cross_attn\n"
   ]
  },
  {
   "cell_type": "code",
   "execution_count": 29,
   "metadata": {},
   "outputs": [
    {
     "name": "stdout",
     "output_type": "stream",
     "text": [
      "Model: \"model_1\"\n",
      "_________________________________________________________________\n",
      "Layer (type)                 Output Shape              Param #   \n",
      "=================================================================\n",
      "input_3 (InputLayer)         [(None, 1)]               0         \n",
      "_________________________________________________________________\n",
      "lambda_1 (Lambda)            (None, 512)               0         \n",
      "_________________________________________________________________\n",
      "layer-1 (Dense)              (None, 1024)              525312    \n",
      "_________________________________________________________________\n",
      "dropout (Dropout)            (None, 1024)              0         \n",
      "_________________________________________________________________\n",
      "batch_normalization (BatchNo (None, 1024)              4096      \n",
      "_________________________________________________________________\n",
      "layer-2 (Dense)              (None, 512)               524800    \n",
      "_________________________________________________________________\n",
      "dropout_1 (Dropout)          (None, 512)               0         \n",
      "_________________________________________________________________\n",
      "batch_normalization_1 (Batch (None, 512)               2048      \n",
      "_________________________________________________________________\n",
      "dense_1 (Dense)              (None, 1)                 513       \n",
      "=================================================================\n",
      "Total params: 1,056,769\n",
      "Trainable params: 1,053,697\n",
      "Non-trainable params: 3,072\n",
      "_________________________________________________________________\n"
     ]
    }
   ],
   "source": [
    "model_cross_attn = build_model_cross_attn()\n",
    "\n",
    "model_cross_attn.summary()"
   ]
  },
  {
   "cell_type": "code",
   "execution_count": 23,
   "metadata": {},
   "outputs": [
    {
     "name": "stdout",
     "output_type": "stream",
     "text": [
      "Starting training at 2020-04-17 06:26:36.690541\n",
      "Train on 69383 samples, validate on 7710 samples\n",
      "Epoch 1/10\n"
     ]
    },
    {
     "name": "stderr",
     "output_type": "stream",
     "text": [
      "/home/rahul_kulkarni/anaconda3/lib/python3.7/site-packages/tensorflow_core/python/framework/indexed_slices.py:433: UserWarning: Converting sparse IndexedSlices to a dense Tensor of unknown shape. This may consume a large amount of memory.\n",
      "  \"Converting sparse IndexedSlices to a dense Tensor of unknown shape. \"\n",
      "/home/rahul_kulkarni/anaconda3/lib/python3.7/site-packages/tensorflow_core/python/framework/indexed_slices.py:433: UserWarning: Converting sparse IndexedSlices to a dense Tensor of unknown shape. This may consume a large amount of memory.\n",
      "  \"Converting sparse IndexedSlices to a dense Tensor of unknown shape. \"\n"
     ]
    },
    {
     "name": "stdout",
     "output_type": "stream",
     "text": [
      "69383/69383 - 717s - loss: 0.6490 - accuracy: 0.6405 - val_loss: 0.6461 - val_accuracy: 0.6433\n",
      "Epoch 2/10\n",
      "69383/69383 - 697s - loss: 0.6460 - accuracy: 0.6413 - val_loss: 0.6459 - val_accuracy: 0.6425\n",
      "Epoch 3/10\n",
      "69383/69383 - 707s - loss: 0.6436 - accuracy: 0.6422 - val_loss: 0.6489 - val_accuracy: 0.6363\n",
      "Epoch 4/10\n",
      "69383/69383 - 665s - loss: 0.6392 - accuracy: 0.6447 - val_loss: 0.6509 - val_accuracy: 0.6355\n",
      "Epoch 5/10\n",
      "69383/69383 - 684s - loss: 0.6306 - accuracy: 0.6493 - val_loss: 0.6611 - val_accuracy: 0.6220\n",
      "Training ended at 2020-04-17 07:24:27.603130\n",
      "Minutes elapsed: 57.848538\n"
     ]
    }
   ],
   "source": [
    "print(\"Starting training at\", datetime.datetime.now())\n",
    "t0 = time.time()\n",
    "callbacks = [ModelCheckpoint(MODEL_WEIGHTS_FILE, monitor='val_acc', save_best_only=True),\n",
    "             EarlyStopping(monitor='val_loss', patience=3)]\n",
    "\n",
    "history_ca = model_cross_attn.fit(X_train, \n",
    "                                  y_train, \n",
    "                                  epochs=10,\n",
    "                                  validation_split=VALIDATION_SPLIT,\n",
    "                                  verbose=2,\n",
    "                                  batch_size=BATCH_SIZE,\n",
    "                                  callbacks=callbacks)\n",
    "model_cross_attn.save_weights(MODEL_WEIGHTS_FILE)\n",
    "t1 = time.time()\n",
    "print(\"Training ended at\", datetime.datetime.now())\n",
    "print(\"Minutes elapsed: %f\" % ((t1 - t0) / 60.))"
   ]
  },
  {
   "cell_type": "code",
   "execution_count": 24,
   "metadata": {},
   "outputs": [
    {
     "data": {
      "image/png": "[encoded data removed]",
      "text/plain": [
       "<Figure size 432x288 with 1 Axes>"
      ]
     },
     "metadata": {
      "needs_background": "light"
     },
     "output_type": "display_data"
    },
    {
     "data": {
      "image/png": "[encoded data removed]",
      "text/plain": [
       "<Figure size 432x288 with 1 Axes>"
      ]
     },
     "metadata": {
      "needs_background": "light"
     },
     "output_type": "display_data"
    }
   ],
   "source": [
    "plot_model(\"Cross Attention using USE\", history_ca)"
   ]
  },
  {
   "cell_type": "code",
   "execution_count": 25,
   "metadata": {},
   "outputs": [
    {
     "name": "stdout",
     "output_type": "stream",
     "text": [
      "Maximum accuracy at epoch 1 = 0.6433\n"
     ]
    }
   ],
   "source": [
    "max_val_acc, idx = max((val, idx) for (idx, val) in enumerate(history_ca.history['val_accuracy']))\n",
    "print('Maximum accuracy at epoch', '{:d}'.format(idx+1), '=', '{:.4f}'.format(max_val_acc))"
   ]
  },
  {
   "cell_type": "code",
   "execution_count": 26,
   "metadata": {},
   "outputs": [
    {
     "name": "stdout",
     "output_type": "stream",
     "text": [
      "\n",
      "# Evaluate on test data\n",
      "19274/19274 [==============================] - 95s 5ms/sample - loss: 0.6737 - accuracy: 0.6183\n",
      "test loss, test acc: [0.6737244157446263, 0.618346]\n"
     ]
    }
   ],
   "source": [
    "model_cross_attn.load_weights(MODEL_WEIGHTS_FILE)  \n",
    "predicts = model_cross_attn.predict([Q_test, A_test])\n",
    "print('\\n# Evaluate on test data')\n",
    "results = model_cross_attn.evaluate([Q_test, A_test], y_test)\n",
    "print('test loss, test acc:', results)"
   ]
  },
  {
   "cell_type": "code",
   "execution_count": 95,
   "metadata": {},
   "outputs": [
    {
     "name": "stdout",
     "output_type": "stream",
     "text": [
      "TensorFlow Version: 2.1.0\n",
      "Hub version:  0.8.0\n"
     ]
    }
   ],
   "source": [
    "import bert\n",
    "from bert.tokenization.bert_tokenization import FullTokenizer\n",
    "import sys\n",
    "from tqdm import tqdm\n",
    "from tensorflow.keras.optimizers import Adam\n",
    "from collections import namedtuple\n",
    "print(\"TensorFlow Version:\",tf.__version__)\n",
    "print(\"Hub version: \",hub.__version__)"
   ]
  },
  {
   "cell_type": "code",
   "execution_count": 96,
   "metadata": {},
   "outputs": [],
   "source": [
    "bert_layer=hub.KerasLayer(\"https://tfhub.dev/tensorflow/bert_en_uncased_L-12_H-768_A-12/1\",trainable=True)"
   ]
  },
  {
   "cell_type": "code",
   "execution_count": 97,
   "metadata": {},
   "outputs": [],
   "source": [
    "MAX_SEQ_LEN=128\n",
    "BATCH_SIZE=200\n",
    "VALIDATION_SPLIT=0.1\n",
    "DROPOUT=0.2\n",
    "#MODEL_WEIGHTS_FILE=\"gdrive/My Drive/Colab Notebooks/coda/data/CODA_QS_BERT\"\n",
    "MODEL_WEIGHTS_FILE=\"data/CODA_SS_BERT\"\n",
    "\n",
    "def build_bert_model(activation_function='relu', \n",
    "                     optimizer='adam', \n",
    "                     dropout=0.2):\n",
    "\n",
    "    input_word_ids = Input(shape=(MAX_SEQ_LEN,), dtype=tf.int32, name=\"input_word_ids\")\n",
    "    input_mask = Input(shape=(MAX_SEQ_LEN,), dtype=tf.int32, name=\"input_mask\")\n",
    "    segment_ids = Input(shape=(MAX_SEQ_LEN,), dtype=tf.int32, name=\"segment_ids\")\n",
    "    \n",
    "    pooled_output, sequence_output = bert_layer([input_word_ids, input_mask, segment_ids])\n",
    "    \n",
    "    # Final sigmoid layer for prediction probablities\n",
    "    pred = Dense(1, activation='sigmoid')(pooled_output)\n",
    "    \n",
    "    bert_model = Model(inputs=[input_word_ids, input_mask, segment_ids], outputs=pred)\n",
    "    \n",
    "    opt = Adam(lr=5e-5)\n",
    "    \n",
    "    bert_model.compile(loss='binary_crossentropy', optimizer=opt, metrics=['accuracy'])\n",
    "    \n",
    "    return bert_model"
   ]
  },
  {
   "cell_type": "code",
   "execution_count": 98,
   "metadata": {},
   "outputs": [
    {
     "name": "stdout",
     "output_type": "stream",
     "text": [
      "Model: \"model_4\"\n",
      "__________________________________________________________________________________________________\n",
      "Layer (type)                    Output Shape         Param #     Connected to                     \n",
      "==================================================================================================\n",
      "input_word_ids (InputLayer)     [(None, 128)]        0                                            \n",
      "__________________________________________________________________________________________________\n",
      "input_mask (InputLayer)         [(None, 128)]        0                                            \n",
      "__________________________________________________________________________________________________\n",
      "segment_ids (InputLayer)        [(None, 128)]        0                                            \n",
      "__________________________________________________________________________________________________\n",
      "keras_layer_2 (KerasLayer)      [(None, 768), (None, 109482241   input_word_ids[0][0]             \n",
      "                                                                 input_mask[0][0]                 \n",
      "                                                                 segment_ids[0][0]                \n",
      "__________________________________________________________________________________________________\n",
      "dense_4 (Dense)                 (None, 1)            769         keras_layer_2[0][0]              \n",
      "==================================================================================================\n",
      "Total params: 109,483,010\n",
      "Trainable params: 109,483,009\n",
      "Non-trainable params: 1\n",
      "__________________________________________________________________________________________________\n"
     ]
    }
   ],
   "source": [
    "bert_model = build_bert_model()\n",
    "\n",
    "bert_model.summary()"
   ]
  },
  {
   "cell_type": "code",
   "execution_count": 99,
   "metadata": {},
   "outputs": [],
   "source": [
    "vocab_file=bert_layer.resolved_object.vocab_file.asset_path.numpy()\n",
    "\n",
    "do_lower_case=bert_layer.resolved_object.do_lower_case.numpy()\n",
    "\n",
    "tokenizer=FullTokenizer(vocab_file,do_lower_case)"
   ]
  },
  {
   "cell_type": "code",
   "execution_count": 100,
   "metadata": {},
   "outputs": [],
   "source": [
    "def get_masks(tokens, max_seq_length):\n",
    "    return [1]*len(tokens) + [0] * (max_seq_length - len(tokens))\n",
    "\n",
    "def get_segments(tokens, max_seq_length):\n",
    "    \"\"\"Segments: 0 for the first sequence, 1 for the second\"\"\"\n",
    "    segments = []\n",
    "    current_segment_id = 0\n",
    "    for token in tokens:\n",
    "        segments.append(current_segment_id)\n",
    "        if token == \"[SEP]\":\n",
    "            current_segment_id = 1\n",
    "    return segments + [0] * (max_seq_length - len(tokens))"
   ]
  },
  {
   "cell_type": "code",
   "execution_count": 101,
   "metadata": {},
   "outputs": [],
   "source": [
    "def get_ids(tokens, tokenizer, max_seq_length):\n",
    "    \"\"\"Token ids from Tokenizer vocab\"\"\"\n",
    "    token_ids = tokenizer.convert_tokens_to_ids(tokens,)\n",
    "    input_ids = token_ids + [0] * (max_seq_length-len(token_ids))\n",
    "    return input_ids"
   ]
  },
  {
   "cell_type": "code",
   "execution_count": 102,
   "metadata": {},
   "outputs": [],
   "source": [
    "def create_single_input(sentence,MAX_LEN):\n",
    "  \n",
    "  stokens = tokenizer.tokenize(sentence)\n",
    "  \n",
    "  stokens = stokens[:MAX_LEN]\n",
    "  \n",
    "  stokens = [\"[CLS]\"] + stokens + [\"[SEP]\"]\n",
    " \n",
    "  ids = get_ids(stokens, tokenizer, MAX_SEQ_LEN)\n",
    "  masks = get_masks(stokens, MAX_SEQ_LEN)\n",
    "  segments = get_segments(stokens, MAX_SEQ_LEN)\n",
    "\n",
    "  return ids,masks,segments"
   ]
  },
  {
   "cell_type": "code",
   "execution_count": 103,
   "metadata": {},
   "outputs": [],
   "source": [
    "def create_input_array(sentences):\n",
    "\n",
    "  input_ids, input_masks, input_segments = [], [], []\n",
    "\n",
    "  for sentence in tqdm(sentences,position=0, leave=True):\n",
    "  \n",
    "    ids,masks,segments=create_single_input(sentence,MAX_SEQ_LEN-2)\n",
    "\n",
    "    input_ids.append(ids)\n",
    "    input_masks.append(masks)\n",
    "    input_segments.append(segments)\n",
    "\n",
    "  return [np.asarray(input_ids, dtype=np.int32), \n",
    "            np.asarray(input_masks, dtype=np.int32), \n",
    "            np.asarray(input_segments, dtype=np.int32)]"
   ]
  },
  {
   "cell_type": "code",
   "execution_count": 104,
   "metadata": {},
   "outputs": [
    {
     "name": "stderr",
     "output_type": "stream",
     "text": [
      "100%|██████████| 77093/77093 [01:06<00:00, 1156.06it/s]\n"
     ]
    }
   ],
   "source": [
    "inputs=create_input_array(X_train)"
   ]
  },
  {
   "cell_type": "code",
   "execution_count": 105,
   "metadata": {},
   "outputs": [
    {
     "name": "stdout",
     "output_type": "stream",
     "text": [
      "Starting training at 2020-04-19 01:49:46.471149\n",
      "Train on 69383 samples, validate on 7710 samples\n",
      "Epoch 1/2\n",
      "69383/69383 - 10816s - loss: 0.6498 - accuracy: 0.6399 - val_loss: 0.6420 - val_accuracy: 0.6435\n",
      "Epoch 2/2\n",
      "69383/69383 - 10732s - loss: 0.6356 - accuracy: 0.6418 - val_loss: 0.6419 - val_accuracy: 0.6301\n",
      "Training ended at 2020-04-19 07:49:06.611691\n",
      "Minutes elapsed: 359.335670\n"
     ]
    }
   ],
   "source": [
    "print(\"Starting training at\", datetime.datetime.now())\n",
    "t0 = time.time()\n",
    "callbacks = [ModelCheckpoint(MODEL_WEIGHTS_FILE, monitor='val_acc', save_best_only=True), \n",
    "             EarlyStopping(monitor='val_loss', patience=2)]\n",
    "history_bert = bert_model.fit(inputs, \n",
    "                              y_train, \n",
    "                              epochs=2,\n",
    "                              validation_split=VALIDATION_SPLIT,\n",
    "                              verbose=2,\n",
    "                              batch_size=BATCH_SIZE,\n",
    "                              callbacks=callbacks)\n",
    "bert_model.save_weights(MODEL_WEIGHTS_FILE)\n",
    "t1 = time.time()\n",
    "print(\"Training ended at\", datetime.datetime.now())\n",
    "print(\"Minutes elapsed: %f\" % ((t1 - t0) / 60.))"
   ]
  },
  {
   "cell_type": "code",
   "execution_count": 106,
   "metadata": {},
   "outputs": [
    {
     "data": {
      "image/png": "[encoded data removed]",
      "text/plain": [
       "<Figure size 432x288 with 1 Axes>"
      ]
     },
     "metadata": {
      "needs_background": "light"
     },
     "output_type": "display_data"
    },
    {
     "data": {
      "image/png": "[encoded data removed]",
      "text/plain": [
       "<Figure size 432x288 with 1 Axes>"
      ]
     },
     "metadata": {
      "needs_background": "light"
     },
     "output_type": "display_data"
    }
   ],
   "source": [
    "plot_model(\"Cross Attention using BERT \", history_bert)"
   ]
  },
  {
   "cell_type": "code",
   "execution_count": 107,
   "metadata": {},
   "outputs": [
    {
     "name": "stderr",
     "output_type": "stream",
     "text": [
      "100%|██████████| 19274/19274 [00:16<00:00, 1175.45it/s]\n"
     ]
    },
    {
     "name": "stdout",
     "output_type": "stream",
     "text": [
      "\n",
      "# Evaluate on test data\n",
      "19274/19274 [==============================] - 981s 51ms/sample - loss: 0.6429 - accuracy: 0.6294\n",
      "test loss, test acc: [0.6429365491414325, 0.629449]\n"
     ]
    }
   ],
   "source": [
    "inputs=create_input_array(X_test)\n",
    "bert_model.load_weights(MODEL_WEIGHTS_FILE)  \n",
    "predicts = bert_model.predict(inputs)\n",
    "print('\\n# Evaluate on test data')\n",
    "results = bert_model.evaluate(inputs, y_test)\n",
    "print('test loss, test acc:', results)"
   ]
  },
  {
   "cell_type": "markdown",
   "metadata": {},
   "source": [
    "### Analyze the low accuracy for response ranking"
   ]
  },
  {
   "cell_type": "code",
   "execution_count": 150,
   "metadata": {},
   "outputs": [
    {
     "data": {
      "text/plain": [
       "(array([ 399.,  680., 2368., 4543., 3932., 2629., 2621., 2049.,   40.,\n",
       "          13.]),\n",
       " array([0.1012755 , 0.16189715, 0.2225188 , 0.28314045, 0.3437621 ,\n",
       "        0.40438375, 0.4650054 , 0.525627  , 0.5862487 , 0.6468704 ,\n",
       "        0.707492  ], dtype=float32),\n",
       " <a list of 10 Patch objects>)"
      ]
     },
     "execution_count": 150,
     "metadata": {},
     "output_type": "execute_result"
    },
    {
     "data": {
      "image/png": "[encoded data removed]",
      "text/plain": [
       "<Figure size 432x288 with 1 Axes>"
      ]
     },
     "metadata": {
      "needs_background": "light"
     },
     "output_type": "display_data"
    }
   ],
   "source": [
    "import matplotlib.pyplot as plt\n",
    "from sklearn.metrics import classification_report, confusion_matrix\n",
    "\n",
    "plt.hist(predicts)"
   ]
  },
  {
   "cell_type": "code",
   "execution_count": 145,
   "metadata": {},
   "outputs": [
    {
     "data": {
      "text/plain": [
       "(array([12344.,     0.,     0.,     0.,     0.,     0.,     0.,     0.,\n",
       "            0.,  6930.]),\n",
       " array([0. , 0.1, 0.2, 0.3, 0.4, 0.5, 0.6, 0.7, 0.8, 0.9, 1. ]),\n",
       " <a list of 10 Patch objects>)"
      ]
     },
     "execution_count": 145,
     "metadata": {},
     "output_type": "execute_result"
    },
    {
     "data": {
      "image/png": "[encoded data removed]",
      "text/plain": [
       "<Figure size 432x288 with 1 Axes>"
      ]
     },
     "metadata": {
      "needs_background": "light"
     },
     "output_type": "display_data"
    }
   ],
   "source": [
    "plt.hist(y_test)"
   ]
  },
  {
   "cell_type": "code",
   "execution_count": 143,
   "metadata": {},
   "outputs": [
    {
     "data": {
      "text/plain": [
       "(array([15920.,     0.,     0.,     0.,     0.,     0.,     0.,     0.,\n",
       "            0.,  3354.]),\n",
       " array([0. , 0.1, 0.2, 0.3, 0.4, 0.5, 0.6, 0.7, 0.8, 0.9, 1. ]),\n",
       " <a list of 10 Patch objects>)"
      ]
     },
     "execution_count": 143,
     "metadata": {},
     "output_type": "execute_result"
    },
    {
     "data": {
      "image/png": "[encoded data removed]",
      "text/plain": [
       "<Figure size 432x288 with 1 Axes>"
      ]
     },
     "metadata": {
      "needs_background": "light"
     },
     "output_type": "display_data"
    }
   ],
   "source": [
    "y_pred_bool = (predicts>0.5).astype(int)\n",
    "plt.hist(y_pred_bool)"
   ]
  },
  {
   "cell_type": "code",
   "execution_count": 148,
   "metadata": {},
   "outputs": [
    {
     "name": "stdout",
     "output_type": "stream",
     "text": [
      "              precision    recall  f1-score   support\n",
      "\n",
      "           0       0.66      0.86      0.75     12344\n",
      "           1       0.47      0.23      0.31      6930\n",
      "\n",
      "    accuracy                           0.63     19274\n",
      "   macro avg       0.57      0.54      0.53     19274\n",
      "weighted avg       0.59      0.63      0.59     19274\n",
      "\n"
     ]
    }
   ],
   "source": [
    "print(classification_report(y_test, y_pred_bool))"
   ]
  },
  {
   "cell_type": "code",
   "execution_count": 158,
   "metadata": {},
   "outputs": [
    {
     "name": "stdout",
     "output_type": "stream",
     "text": [
      "[[10561  1783]\n",
      " [ 5359  1571]]\n"
     ]
    }
   ],
   "source": [
    "print(confusion_matrix(y_test, y_pred_bool))"
   ]
  },
  {
   "cell_type": "code",
   "execution_count": 164,
   "metadata": {},
   "outputs": [
    {
     "name": "stdout",
     "output_type": "stream",
     "text": [
      "(19274,)\n"
     ]
    }
   ],
   "source": [
    "print(y_test.shape)"
   ]
  },
  {
   "cell_type": "code",
   "execution_count": 166,
   "metadata": {},
   "outputs": [],
   "source": [
    "y_pred_bool = y_pred_bool.flatten()"
   ]
  },
  {
   "cell_type": "code",
   "execution_count": 167,
   "metadata": {},
   "outputs": [
    {
     "name": "stdout",
     "output_type": "stream",
     "text": [
      "        pred:0  pred:1\n",
      "true:0   10561    1783\n",
      "true:1    5359    1571\n"
     ]
    }
   ],
   "source": [
    "unique_label = np.unique([y_test, y_pred_bool])\n",
    "cmtx = pd.DataFrame(\n",
    "    confusion_matrix(y_test, y_pred_bool, labels=unique_label), \n",
    "    index=['true:{:}'.format(x) for x in unique_label], \n",
    "    columns=['pred:{:}'.format(x) for x in unique_label]\n",
    ")\n",
    "print(cmtx)"
   ]
  },
  {
   "cell_type": "code",
   "execution_count": 202,
   "metadata": {},
   "outputs": [],
   "source": [
    "x = y_test != y_pred_bool.astype(int).flatten()"
   ]
  },
  {
   "cell_type": "code",
   "execution_count": 206,
   "metadata": {},
   "outputs": [],
   "source": [
    "index = np.asarray(np.where(x))"
   ]
  },
  {
   "cell_type": "code",
   "execution_count": 222,
   "metadata": {},
   "outputs": [],
   "source": [
    "sample = (index[0][50:1000:10])"
   ]
  },
  {
   "cell_type": "code",
   "execution_count": 223,
   "metadata": {},
   "outputs": [
    {
     "name": "stdout",
     "output_type": "stream",
     "text": [
      "Print few incorrect predictions\n",
      "\n",
      "problem replacement values column conditional two columnsthink need check trues per rows assign output filtered dataframe boolean mask data1 pd dataframe c payrollotherpayrollsocial true true true false bfalse true true false print data1 b c 0 true false payroll 1 true true 2 true true payroll 3 false false social data1a ballaxis1 output data1a data1b print 0 false 1 true 2 true 3 false dtype bool print data1m b c 1 true true 2 true true payroll 1\n",
      "\n",
      "\n",
      "working create file sharing platform open source software pythonmethod exposed create magnet uri directly link would unusable 1\n",
      "\n",
      "\n",
      "assign columns dataframe equal another column condition metwork row wise 1\n",
      "\n",
      "\n",
      "trying load matplotlib object reportlab codesole reason pdfrw example discussed first answer question bit klunky pdfrw documentation sucks badly due sucky doc example author larry meyn used vectorpdf extension rst2pdf starting point extension really documented either deal quirks rst2pdf well pdfrw general need let rst2pdf display arbitrary rectangle arbitray page preexisting pdf amazing larry managed make work hat 1\n",
      "\n",
      "\n",
      "trying exercise take word check palindrome tried making string list reversing turning back string reverse method nt work reason checked usage correctpython method list operation place eg modifies list apply operation method return valuel 1 2 3 4 lreverse printl 1\n",
      "\n",
      "\n",
      "running os x lion python 27 trying setup pygame work pydev eclipse set pydev use custom installed python default one forced install use 32bit works fine terminal import pygame modules however use pydev gives error also appears running 64bit modeimport sys print x sysmaxsize sysmaxsize 232need instruct eclipse use 32bit python 0\n",
      "\n",
      "\n",
      "trouble monster_room function matter input always choose elif choice elif choice 5 functionneed parse input data number type using raw_input returns stringchoice intraw_input 1\n",
      "\n",
      "\n",
      "given string get number stars two bars given string output 5 code lisx x rangelens sx min_idx lis0 max_idx lis1 count_of_stars smin_idx max_idxcounttry strip count 1\n",
      "\n",
      "\n",
      "hopefully someone shed light issueguess time admit stupidity p 1\n",
      "\n",
      "\n",
      "tried put password generator loop could create wordlist going use assignment mineone way 1\n",
      "\n",
      "\n",
      "feels like really easy solve ca nt get workca nt actually mutate list explicitly assigning entry list words performing nothing recipedef cleaningrecipe punc _ rm_punc lambda strtranslateslower none punc special case strtranslate return maprm_punc recipe remove punctuation blah salt hotsour sauce blah cleaningblah print blah 0\n",
      "\n",
      "\n",
      "rather style enums suppose project still oldbreakfast style enums leftovers python2 daysfrom enum import enum class oldbreakfast ham 0x00 eggs 0x01 pancakes 0x02 class newbreakfastenum ham 0x00 eggs 0x01 pancakes 0x02 def eat food1 oldbreakfast ham food2 newbreakfast ham printfood1 printfood2 eatreplacing old code may need use instead strenum example oldbreakfast ham 0 true newbreakfast ham 0 false 1\n",
      "\n",
      "\n",
      "long list several hundred thousand items numbers want create new list equal size find places consecutive repetitions numbers new list 0 1 values consecutive repeated indexes new list 1 remaining indexes 0 valueuse output repeated 1s length group greater 1 itertools import groupby result_array _ g groupbygiven_array size sum1 g size 1 result_arrayappend0 else result_arrayextend1 size 1\n",
      "\n",
      "\n",
      "using pandas jupiter notebook reading 700 mb csv file takes 69 seconds load testing purposes acceptable need load stays memory duration notebook instancecould look using module purpose import daskdataframe data daskdataframeread_csvyourcsv 1\n",
      "\n",
      "\n",
      "pandas dataframe following column namesrecent versions pandas use string methods index columns strstartswith seems like good fitdfcolumnsstrstartswithtest array true false false false dflocdfcolumnsstrstartswithtest toto test2 riri 0 x x x 1 x x x 0\n",
      "\n",
      "\n",
      "trying import jupiter notebook anaconda environment python 35 warned nt model_selection module conda update scikit learncame across exactly problem updated tried import sklearnmodel_selection importerror appeared 1\n",
      "\n",
      "\n",
      "use dictionary store unique keys mapped unique valuesaccounts size internal hash table roughly proportional number keys account size keys values partly would tricky correctly partly many references objects bit misleading include size might amortized many different dicts instance 1\n",
      "\n",
      "\n",
      "string looks identical list let sayeval consider given string python code return result per string python code something like means two variable 万福广场西 凰花苑 list 万福广场西 凰花苑 1\n",
      "\n",
      "\n",
      "need get rid path variable mac os x lion opened several files add something path find location adds python path output several files path variableopt local binopt local sbinlibrary frameworks pythonframework versions27 binopt local binopt local sbinusers friedrichrvm gems ruby193p362 binusers friedrichrvm gems ruby193p362global binusers friedrichrvm rubies ruby193p362 binusers friedrichrvm binusers friedrichrbenv shimsusers friedrichrbenv binusr local binusr binbinusr sbinsbinusr x11 binusr local git bintrim fixed part path using parameter expansion add end least late enough processed offending path addedpathpathlibraryframeworkspythonframeworkversions27bin 0\n",
      "\n",
      "\n",
      "want make user get list users city ordered post reviews class postmodels model title models textfieldmax_length255 defaulttitle post_owner models foreignkeymyuser on_delete models cascade description models textfieldmax_length255 city models foreignkeycity related_namelocation on_delete models cascade longitude models charfieldmax_length255 image models charfieldmax_length255 defaulthttpswwweltisorg sites default files styles web_quality public default_images photo_default_2png latitude models charfieldmax_length255 created_at models datetimefieldauto_now_add true def count_reactionsself likes_count reactionobjectsfilterpost selfid is_like truecount dislikes_count reactionobjectsfilterpost selfid is_like falsecount return likes_count dislikes_count def ownerself return selfpost_ownerput one query filter city want users myuserobjectsfiltercity your_city_obj calculations users usersannotaterank_pointcountpost__reactions filter qpost__reactions__is_like true countpost__reactions filter qpost__reactions__is_like false finaly order results users usersorder_byrank_point 0\n",
      "\n",
      "\n",
      "hi trying problemshown comments would noticed site owners problem maintainer moron 1\n",
      "\n",
      "\n",
      "big projects dozens different modules lots commonly used functions use many places project examplevariations utils seem common personally packages like myprojfoo myprojbar etc tend myprojutil package module per area intent perhaps myprojutilhttp web related helpers myprojutildata data structure manipulation etc helpers likely reused main code clean separation modules even end single class single function modules makes reuse marginally easier 1\n",
      "\n",
      "\n",
      "string cleaned lxml cleaner links form content like strip links href attribute eguse make easier find tags without href bs4 import beautifulsoup bs html relnofollowlink removeda hrefalinkthis includeda link removeda soup bshtml soupfind_alla href false ireplace_withitext print soup htmlbody link removed hrefalinkthis includeda link removedbodyhtml 0\n",
      "\n",
      "\n",
      "following numpy vector matrix nimport numpy np nparray360 130 1 n nparray60 90 120 30 120 90 1 1 1issue since one dimension transpose still need make shape 13 instead 3 take transpose 1\n",
      "\n",
      "\n",
      "need simplify three numbers much thus need greatest common factorwell something standard library 1\n",
      "\n",
      "\n",
      "suppose need create small dsl would use python describe certain data structure eg like able write something likesure good idea thought give try summarize 1\n",
      "\n",
      "\n",
      "array string values need loop randomly replace 5 elements flip 0 1 flip 1 0try loop 1\n",
      "\n",
      "\n",
      "need store result fetchone separate elements list python detail soppose fetchone retrieves 1lchuvi21lstudent store retrieved result list following format selfres1lchuvi21student tried following codetry use extend method list 1\n",
      "\n",
      "\n",
      "process designing hardware interface python need followssince twisted question suggest using socketserver module 1\n",
      "\n",
      "\n",
      "want make function decorator another function print function call details parameters names effective values current implementationsorry bit messy modified code httpwikipythonorgmoinpythondecoratorlibraryeasy_dump_of_function_arguments 1\n",
      "\n",
      "\n",
      "new python trying make calculator game would like get max integer specific index lists values dictionary key max value camesuggestions answers spot offer simpler old school solution minimal amount work create additional lists sorting figure new python programmer might best served direct transparent approach 1\n",
      "\n",
      "\n",
      "using several programs written java pyhton perl invoking via command lineoption file contain single line could 1\n",
      "\n",
      "\n",
      "using python would like split file contains n sections using delimiters begin enduse dotall flag allow match newlines multiline flag allow match beginning end line assuming content input file stored variable content refindallbeginend content flags dotall multiline 0\n",
      "\n",
      "\n",
      "set simple appjar ui execute button calls function containing code takes minute run injected variable app functionappjar wrapper around python tkinter module standard library 1\n",
      "\n",
      "\n",
      "need execute using python3 capture exit status need especially capturing segmentation fault core dumped status tried ossystemecho 0 0nt need execute would nt useful exit status program return value function ossystem number 35584 documentation os ossystem tells read documentation oswait explainsreturncode subprocesscallaout shell falsereturncode returncode 0xff 0 exit_code returncode 8 printthe program exited normally status formatexit_code else printthe program killed signal formatreturncode 0\n",
      "\n",
      "\n",
      "given python string describing objectattribute separate attributes namespace attributerecently discovered tokenize library tokenizing python source code using library come little code snippet 1\n",
      "\n",
      "\n",
      "trying extract mac addresses nic dell racadm output output likeunderstood correctly search pattern get instance permanentmacaddress get mac addressimport match_inst researchrinstanceid p inst output match_mac researchrpermanentmacaddress p mac output inst match_instgroupdictinst mac match_macgroupdictmac print formatinst mac prints nicslot2 2 1 2484093e2e1b 1\n",
      "\n",
      "\n",
      "using format following csv fileokay use pandas try 0\n",
      "\n",
      "\n",
      "hackerrank often find writing code takes input stdin like test large inputs taking input file site ideally would nt write new code reading file instead reading stdinyes definitely good reuse code 1\n",
      "\n",
      "\n",
      "pandas dataframe lot columns values weekendsincluded random seed 1\n",
      "\n",
      "\n",
      "know perl python tested solution kind log parsing data miningrecently started writing python scripts recently wrote java gc log parser print timestamp gc happened counts etc found python real easy writing kind fields interested parsing syslogs think know looking logspatterns etc becomes easy write script would 1\n",
      "\n",
      "\n",
      "following list collections import counter seqlist 0 6 1 4 4 2 4 1 7 0 4 6 c dictcounterseqlist printccould make following adjustments 1\n",
      "\n",
      "\n",
      "upon updating value method still uses old attribute valueclass email def _ _ init__self name selfname name selfemail selfname hotmailcom def detailsself return fselfname selfemail person emailjames printpersondetails personname michael printpersondetailssimplest fix would make property rather attribute set _ _ init__class email def _ _ init__self name selfname name selfemail selfname hotmailcom property def emailself return fselfnamehotmailcom def detailsself return fselfname selfemail 0\n",
      "\n",
      "\n",
      "getting unexpected ascii characters using library python 3 search_terms ö é ä url httpwwwdomaincomsearch search_terms r requestsgeturlfigured without import statements using method nowfor search_terms r requestsgeturl 1\n",
      "\n",
      "\n",
      "code generates new theta value according function get_new_theta codeedit loop test value 45 would assign value added variable test value 45 calculate adding value 45 loop function would look like def get_new_thetamsg theta theta randomrandint4045 new_theta theta b zipmsg35 msg45 new_value 46 new_value 45 new_value new_theta1 b new_thetaappendnew_value return new_theta 0\n",
      "\n",
      "\n",
      "say function defined thuslooks like looking notations def outer_funcargs kwargs inner_funcargs kwargs 1\n",
      "\n",
      "\n",
      "set 10 python lists formatuse separator parameter names add seriesstrsplit second column dataframe import pandas pd temp uabcdef123123 999hhh pqrrst567aws999poi xyztgt2342352 245hft studef789654 345qqq testing replace pdcompat stringiotemp filenamecsv df pdread_csvpdcompat stringiotemp sep namesab df dfbstrsplit expand true print df 0 1 2 0 123 999 hhh 1 aws 999 poi 2 2352 245 hft 3 654 345 qqq 0\n",
      "\n",
      "\n",
      "codeget offset using current_time datetimeutcnowreplacetzinfo tzgettzasia calcutta td datetimeutcoffsetcurrent_time datetimetimedelta0 19800 tdtotal_seconds 3600 55 0\n",
      "\n",
      "\n",
      "always use parameter scale array original image pixel values 01 specify parameter keraspreprocessingimage import load_img img_to_array imagedatagenerator img load_imgval_00009301jpeg img_arr img_to_arrayimg datagen imagedatageneratorrescale1255 batch datagenflowimg_arr batch_size1 save_to_dirpath save save_prefix1_param save_formatjpegaltered example little plot image print pixel value seems image automagically rescaled back plotted noticed difference input image plotted one assume happens saving 1\n",
      "\n",
      "\n",
      "issue user input totals rainfall adding properlythink nt resetting year missing year worth data total rainfall example provided 131 average approximately 546 ran example got following enter number years collect data 2 nnext enter 12 months rainfall data year 1 enter rainfall month 1 3 enter rainfall month 2 4 enter rainfall month 3 6 enter rainfall month 4 7 enter rainfall month 5 9 enter rainfall month 6 8 enter rainfall month 7 5 enter rainfall month 8 3 enter rainfall month 9 4 enter rainfall month 10 1 enter rainfall month 11 8 enter rainfall month 12 9 nnext enter 12 months rainfall data year 2 enter rainfall month 1 3 enter rainfall month 2 6 enter rainfall month 3 7 enter rainfall month 4 3 enter rainfall month 5 4 enter rainfall month 6 1 enter rainfall month 7 9 enter rainfall month 8 7 enter rainfall month 9 8 enter rainfall month 10 4 enter rainfall month 11 5 enter rainfall month 12 7 nyou entered data 24 months nthe total rainfall collected months 1310 average monthly rainfall collected months 546 0\n",
      "\n",
      "\n",
      "trying parse xml file schemausing import xmletree elementtree et collections import defaultdict tree etparsefilename root treegetroot defaultdictlist tag rootfindallp find tags p attrib dtagattribpappendtagtext dvalues print formati0 i1 0\n",
      "\n",
      "\n",
      "short version number lines input output files equal nt understand adding subtracting lines ie input file 12327 lines output 11903one problem never close output file nothing properly sent need take care files open close properly also close input file though see problems result 1\n",
      "\n",
      "\n",
      "working python appengineuse auto generated integer key generate hash simple way generate hash would convert integer base62 alphanumeric fetch object simply convert decimal back base62 use get_by_id retrieve object 1\n",
      "\n",
      "\n",
      "probably overlooking something looked everywhere way trying join fields values together come separated sql something use mongodbuse wrap two lists together pass dictdictzipfields values 1\n",
      "\n",
      "\n",
      "running command python scripttry 1\n",
      "\n",
      "\n",
      "application server requirements followsway current setup 1\n",
      "\n",
      "\n",
      "looking tensorflow mnist ml beginners tutorial want print training loss every training stepfetch value adding list arguments sessrun example loop could rewritten follows range100 batch_xs batch_ys mnisttrainnext_batch100 cross_entropy tfreduce_sumy _ tflogy _ loss_val sessruntrain_step cross_entropy feed_dictx batch_xs _ batch_ys print loss loss_val 1\n",
      "\n",
      "\n",
      "changed settingspy followsmodify viewspy following 0\n",
      "\n",
      "\n",
      "want search whole directory files contain list regular expressions includes directories pdfs csv files succesfully task searching text files search file types struggle work farca nt open pdf file like expecting plain text file could use something like 1\n",
      "\n",
      "\n",
      "starting two level column dataframe add column second level following waycase manual arrangement would work 1\n",
      "\n",
      "\n",
      "trying create simple gui program python trouble aligning labels program first letter word lines one another tried use anchorw seem trick also hard time getting entry boxes align code well expected gui attached anyone suggestions please let know import tkinter class loan def _ _ init__self create main window selfmain_window tkinter tk selfmain_windowtitleloan calculator create six frames selfintrate_frame tkinter frameselfmain_window selfnumyears_frame tkinter frameselfmain_window selfloanamount_frame tkinter frameselfmain_window selfmonthlypayment_frame tkinter frameselfmain_window selftotalpayment_frame tkinter frameselfmain_window selfbutton_frame tkinter frameselfmain_window create pack widgets interest rate selfintrate_label tkinter labelselfintrate_frame textannual interest rate anchorw selfintrate_entry tkinter entryselfintrate_frame width20 selfintrate_labelpacksideleft selfintrate_entrypacksideleft create pack widgets number years selfnumyears_label tkinter labelselfnumyears_frame textnumber years anchor w selfnumyears_entry tkinter entryselfnumyears_frame width20 selfnumyears_labelpacksideleft selfnumyears_entrypacksideleft create pack widgets loan amount selfloanamount_label tkinter labelselfloanamount_frame textloan amount anchor nw selfloanamount_entry tkinter entryselfloanamount_frame width20 selfloanamount_labelpacksideleft selfloanamount_entrypacksideleft create pack widgets monthly payment selfresult_label tkinter labelselfmonthlypayment_frame textmonthly payment anchorw selfmonthlypayment tkinter stringvar update avg_label selfmonthlypayment_label tkinter labelselfmonthlypayment_frame textvariable selfmonthlypayment selfresult_labelpacksideleft selfmonthlypayment_labelpacksideleft create pack widgets total payment selfresult2_label tkinter labelselftotalpayment_frame texttotal payment anchorw selftotalpayment tkinter stringvar update avg_label selftotalpayment_label tkinter labelselftotalpayment_frame textvariable selftotalpayment selfresult2_labelpacksideleft selftotalpayment_labelpacksideleft create pack widgets button widgets selfcompute_button tkinter buttonselfbutton_frame textcompute payment command selfcalc selfcompute_buttonpacksideleft selfintrate_framepack selfnumyears_framepack selfloanamount_framepack selfmonthlypayment_framepack selftotalpayment_framepack selfbutton_framepack tkintermainloop def calcself get selfintrate floatselfintrate_entryget selfnumyears floatselfnumyears_entryget selfloanamount floatselfloanamount_entryget calculations monthlyintrate selfintrate 1200 monthlypayment selfloanamount monthlyintrate1 1 1 enter image description here1monthlyintrate selfnumyears 12 totalpayment selfmonthlypayment selfnumyears 12 calculates total payment selfmonthlypaymentsetselfmonthlypayment selftotalpaymentsetselftotalpayment loan1 loanmain problem originates frames used never packed pack set option import tkinter class loan def _ _ init__self create main window selfmain_window tkinter tk selfmain_windowtitleloan calculator create six frames selfintrate_frame tkinter frameselfmain_window selfintrate_framepack selfnumyears_frame tkinter frameselfmain_window selfnumyears_framepackfillboth selfloanamount_frame tkinter frameselfmain_window selfloanamount_framepackfillboth selfmonthlypayment_frame tkinter frameselfmain_window selfmonthlypayment_framepackfillboth selftotalpayment_frame tkinter frameselfmain_window selftotalpayment_framepackfillboth selfbutton_frame tkinter frameselfmain_window selfbutton_framepackfillboth create pack widgets interest rate selfintrate_label tkinter labelselfintrate_frame textannual interest rate anchorw selfintrate_entry tkinter entryselfintrate_frame width20 justifyright selfintrate_labelpacksideleft selfintrate_entrypacksideleft create pack widgets number years selfnumyears_label tkinter labelselfnumyears_frame textnumber years selfnumyears_entry tkinter entryselfnumyears_frame justifyright selfnumyears_labelpacksideleft selfnumyears_entrypacksideright create pack widgets loan amount selfloanamount_label tkinter labelselfloanamount_frame textloan amount anchor nw selfloanamount_entry tkinter entryselfloanamount_frame width20 justifyright selfloanamount_labelpacksideleft selfloanamount_entrypacksideright create pack widgets monthly payment selfresult_label tkinter labelselfmonthlypayment_frame textmonthly payment anchorw selfmonthlypayment tkinter stringvar selfmonthlypayment_label tkinter labelselfmonthlypayment_frame textvariable selfmonthlypayment selfresult_labelpacksideleft selfmonthlypayment_labelpacksideright create pack widgets total payment selfresult2_label tkinter labelselftotalpayment_frame texttotal payment anchorw selftotalpayment tkinter stringvar selftotalpayment_label tkinter labelselftotalpayment_frame textvariable selftotalpayment selfresult2_labelpacksideleft selftotalpayment_labelpacksideleft create pack widgets button widgets selfcompute_button tkinter buttonselfbutton_frame textcompute payment command selfcalc selfcompute_buttonpacksideright selfintrate_framepack selfnumyears_framepack selfloanamount_framepack selfmonthlypayment_framepack selftotalpayment_framepack selfbutton_framepack tkintermainloop def calcself get selfintrate floatselfintrate_entryget selfnumyears floatselfnumyears_entryget selfloanamount floatselfloanamount_entryget calculations monthlyintrate selfintrate 1200 monthlypayment selfloanamount monthlyintrate1 1 1 monthlyintrate selfnumyears 12 totalpayment selfmonthlypayment selfnumyears 12 calculates total payment selfmonthlypaymentsetselfmonthlypayment selftotalpaymentsetselftotalpayment loan1 loan 1\n",
      "\n",
      "\n",
      "want turn python string function return true argument equals string codereplacing variable assigning lambda want test printx see issue change variable namestatic_string foo x lambda c cstatic_string assertxfoo assertnot xbar 0\n",
      "\n",
      "\n",
      "generating ical file python publish ftp add url google calendar python script uploads file hopefully google refresh every day eventually add iphone calendar subscriptions google begin vcalendar version20 prodidmy namemy app namesv begin vtimezone tzid sthlm begin standard dtstart20111030t030000 rrule freq yearlybyday1subymonth10 tzoffsetfrom0200 tzoffsetto0100 tzname summer end standard begin daylight dtstart20120325t030000 rrule freq yearlybyday1subymonth3 tzoffsetfrom0100 tzoffsetto0200 tzname winter end daylight end vtimezone begin vevent uidsomegeneratedidmynamemydomain dtstarttzid sthlm20120320t165000 dtendtzid sthlm20120320t170000 summary strange character å description description begin valarm triggerpt60 action display description alert alert end valarm end vevent end vcalendarvalarm working double check end line used n incorrectly shown many examples web 0\n",
      "\n",
      "\n",
      "trying generate random string bits using following codefixing code 1\n",
      "\n",
      "\n",
      "currently working exposing data legacy system web legacy server application sends receives data udp software uses udp send sequential updates given set variables near real time updates every 5 10 ms thus need capture udp data sufficient latest update retrievedquick proof concept app using twisted framework assumes legacy udp service listening localhost8000 start sending udp data response datagram containing send data data 3 32bit integers additionally respond http get port 2080from twistedinternet import protocol defer twistedapplication import service twistedpython import log twistedweb import resource server webserver import struct class legacyprotocolprotocol datagramprotocol def startprotocolself selftransportconnectselfservicelegacyhost selfservicelegacyport selfsendmessagesend data def stopprotocolself assume transport closed tidying need return def datagramreceivedself datagram addr inspect datagram payload sanity checking try val1 val2 val3 structunpackiiidatagram except structerror err problem unpacking data log ignore logerr return selfserviceupdate_dataval1val2val3 def sendmessageself message selftransportwritemessage class legacyvaluesresource resource def _ _ init__self service resource resource__init__self selfservice service selfputchildself def render_getself request data njoinlisli x x selfserviceget_data return htmlheadtitle legacy datatitle bodyh1 datah1ul ulbodyhtml data class protocolgatewayserviceservice service def _ _ init__self legacyhost legacyport selflegacyhost legacyhost selflegacyport legacyport selfudplisteningport none selfhttplisteningport none selflproto none selfreactor none selfdata 123 def startserviceself called application handling selfreactor twistedinternet import reactor selfreactor reactor selfreactorcallwhenrunningselfstartstuff def stopserviceself called application handling defers selfudplisteningport defersappenddefermaybedeferredselfudplisteningportloseconnection selfhttplisteningport defersappenddefermaybedeferredselfhttplisteningportstoplistening return defer deferredlistdefers def startstuffself udp legacy stuff proto legacyprotocol protoservice self selfudplisteningport selfreactorlistenudp0proto website factory webserver sitelegacyvaluesself selfhttplisteningport selfreactorlistentcp2080factory def update_dataselfargs selfdata args def get_dataself return selfdata application service applicationlegacygateway services service iservicecollectionapplication protocolgatewayservice1270018000 ssetserviceparentservices 0\n",
      "\n",
      "\n",
      "want initiate process python script specifically want run commandnohup python myfilepyopen long running process keep pipe expect talk yor launcher script exits longer talk long running process receives exits echo sleep 100 tmp sleepersh 1\n",
      "\n",
      "\n",
      "first things first looked around foundthanks fwrite pointers ok something actually works time ed nop nt raw binary write formatting going 1\n",
      "\n",
      "\n",
      "trying compare value cell pandas dataframe cell immediately obtain value row current row using shiftcomparing first value array rather whole series 1\n",
      "\n",
      "\n",
      "css likewould suggest use moduleimport cssutils pprint import pprint css u body html color blue h1 h2 font size 15em color red h3 h4 h5 font size small dct sheet cssutilsparsestringcss rule sheet selector ruleselectortext styles rulestylecsstext dctselector styles pprintdct 1\n",
      "\n",
      "\n",
      "recently downloaded ubuntu 1404 desktop version alongside windows 10problem today believe issue instructions listed date python installs enabled pip install xgboost 1\n",
      "\n",
      "\n",
      "trying learn make basic game using pygame want import display image png format far attemptgo blits image 00 problem pyimage nt seem built png support 1\n",
      "\n",
      "\n",
      "friends small language competition calculate neural networks c fortran pythonimprove bit sgnw1raveldotw2ravelf 1\n",
      "\n",
      "\n",
      "py file ranalthough nohup work quick dirty solution make proper daemon process need use sysv init running ubuntu 610 fedora 9 upstart 1\n",
      "\n",
      "\n",
      "example like 143 146 152 235 246 468 476 607 615 707 712actually iterate list using indexes iterating get slices create result arraya143 146 152 235 246 468 476 607 615 707 712 groups 32222 res idx0 iterate groups calculate indexes slicing group groups resappendaidx idxgroup increment indexes accordingly idxgroup printres 0\n",
      "\n",
      "\n",
      "set regular expressions flags like multiline ignorecase python 23compile regexp advance pass options second parameter 1\n",
      "\n",
      "\n",
      "recently started small django project developed local machine using sqlite3 database integrated development server copied whole project server running debianrunning production mod_wsgi mod_python new code nt incorporated reload restart webserver 1\n",
      "\n",
      "\n",
      "senior project group designing form django google app engine python wondering way make dynamic form user click button add fields form like section user enters data special tests depending situation could 0 quite tests user going use tests use nt want waste lots space tons fields going blank seen examples done javascript html forms django trouble figuring advice even possible thanksdjango formsets might use httpsdocsdjangoprojectcomendevtopicsformsformsets 1\n",
      "\n",
      "\n",
      "get valueerror non integer stop randrange fixpython use operator operand float returns float badheight1 badheight2 float trying pass float randomrandint causing issue want integers use example badheight1 height96 badheight2 height112 badheight randomrandintbadheight1 badheight2 1\n",
      "\n",
      "\n",
      "way extract word using spaces around likesays httpsdocspythonorg2librarystringhtmlstringsplit 1\n",
      "\n",
      "\n",
      "given following playlistsuser playlist1 tracks name karma policeartist radiohead count 10 name bitter sweet symphonyartist vervecount 20 playlist2 tracks name rock youartist queen count 30 name roxanneartist policecount 50use following code access playlist names artist names 1\n",
      "\n",
      "\n",
      "path variable path cuserssonydesktop finding text files directory saving names list codeescape backslash since special character 1\n",
      "\n",
      "\n",
      "sure missing something obvious defining categories folder names inside content folder click viewing page see folder names eg categ1 categ2 plus misc fine click categ1 see one complete article image links broken localhost8000 category categ1htmlsounds like might problem image urls relative alt textcontent myimagepng 1\n",
      "\n",
      "\n",
      "prompt user input time start finish job need calculate earn given 97 currency hour salary answer also decimals rounded ca nt seem get work thoughcouple things careful rounding occurs every level also occurs math hand pencil reason perform calculations one typically rounding entire calculation performed otherwise one would come vastly different answer pointed 1\n",
      "\n",
      "\n",
      "like get days string using regular expression however days order sure pattern useuse regex 1\n",
      "\n",
      "\n",
      "object program ask user many articles clothing collected day 3 day weekend clothes drive average second weekend average two weekends clothes per daynum_clothes variable type int passing variable parameter sum function 1\n",
      "\n",
      "\n",
      "written autocomplete autocorrect program python 2 written autocorrect program using approach mentioned peter norvig blog write spell checker linkthings come mind 1\n",
      "\n",
      "\n",
      "working webapp2 python project way access session variable jinja2 templates know get session variable pass template use alot handlers want pass session variables time render function looking something like php access direct session values template help would appreciatedwebapp2 jinja2 looks like might need use pass additional globals think correct syntax webapp2_extrasjinja2default_config globals session session 0\n",
      "\n",
      "\n",
      "currently want scrape review website foursquarecom used following codethink problem one pages however get first get data pages way 1\n",
      "\n",
      "\n",
      "want find index string contains another string within list n itemsone line using iterators 1\n",
      "\n",
      "\n",
      "data load code end following formatsplit sort join list 1\n",
      "\n",
      "\n",
      "first thank seeing question please got ta simpler way solve problem two lists call v1 v2 different rangesgoal extract subrange elements based value part elements eg like sublist1 listfilterlambda elt 900 elt0 950 v1 0\n",
      "\n",
      "\n",
      "tough problem ca nt solve millions rows need flag overlapping dates current previous row rows grouped key within grouping need flag rows date1 overlaps date2 previous rowlooks like expected result question fit definition 1\n",
      "\n",
      "\n",
      "writing python code find common characters 2 strings following codeadd condition see letter inside list apppending 1\n",
      "\n",
      "\n",
      "submitting form using post transferring data another view using request post querydict incomplete arrives second viewsession saved default add def question_filterrequest requestmethod post printbefore validation request post requestsessionquestion_data request post requestsessionmodified true return httpresponseredirectreverseqapp question_preview 0\n",
      "\n",
      "\n",
      "want see values list multiple columns pandas dataframeusing dfdfcol_acol_bcol_cisinprocessesany1 0\n",
      "\n",
      "\n"
     ]
    }
   ],
   "source": [
    "print(\"Print few incorrect predictions\\n\")\n",
    "for i in sample:\n",
    "    print(X_test[i], y_test[i])\n",
    "    print(\"\\n\")"
   ]
  },
  {
   "cell_type": "code",
   "execution_count": null,
   "metadata": {},
   "outputs": [],
   "source": []
  }
 ],
 "metadata": {
  "kernelspec": {
   "display_name": "Python 3",
   "language": "python",
   "name": "python3"
  },
  "language_info": {
   "codemirror_mode": {
    "name": "ipython",
    "version": 3
   },
   "file_extension": ".py",
   "mimetype": "text/x-python",
   "name": "python",
   "nbconvert_exporter": "python",
   "pygments_lexer": "ipython3",
   "version": "3.7.4"
  },
  "toc": {
   "base_numbering": 1,
   "nav_menu": {},
   "number_sections": true,
   "sideBar": true,
   "skip_h1_title": false,
   "title_cell": "Table of Contents",
   "title_sidebar": "Contents",
   "toc_cell": false,
   "toc_position": {
    "height": "calc(100% - 180px)",
    "left": "10px",
    "top": "150px",
    "width": "165px"
   },
   "toc_section_display": true,
   "toc_window_display": true
  },
  "varInspector": {
   "cols": {
    "lenName": 16,
    "lenType": 16,
    "lenVar": 40
   },
   "kernels_config": {
    "python": {
     "delete_cmd_postfix": "",
     "delete_cmd_prefix": "del ",
     "library": "var_list.py",
     "varRefreshCmd": "print(var_dic_list())"
    },
    "r": {
     "delete_cmd_postfix": ") ",
     "delete_cmd_prefix": "rm(",
     "library": "var_list.r",
     "varRefreshCmd": "cat(var_dic_list()) "
    }
   },
   "types_to_exclude": [
    "module",
    "function",
    "builtin_function_or_method",
    "instance",
    "_Feature"
   ],
   "window_display": false
  }
 },
 "nbformat": 4,
 "nbformat_minor": 2
}
