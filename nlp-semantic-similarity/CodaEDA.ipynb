{
 "cells": [
  {
   "cell_type": "markdown",
   "metadata": {},
   "source": [
    "# EDA for StackOverflow Dataset"
   ]
  },
  {
   "cell_type": "code",
   "execution_count": 1,
   "metadata": {},
   "outputs": [],
   "source": [
    "from __future__ import unicode_literals\n",
    "import bq_helper\n",
    "from bq_helper import BigQueryHelper\n",
    "import os\n",
    "from platform import python_version\n",
    "import pandas as pd\n",
    "import numpy as np\n",
    "import spacy\n",
    "import matplotlib.pyplot as plt\n",
    "import seaborn as sns"
   ]
  },
  {
   "cell_type": "code",
   "execution_count": 3,
   "metadata": {},
   "outputs": [],
   "source": [
    "#os.environ[\"GOOGLE_APPLICATION_CREDENTIALS\"]=\"/home/rahul_kulkarni/creds.json\"\n",
    "os.environ[\"GOOGLE_APPLICATION_CREDENTIALS\"]=\"/home/rosich/Downloads/w266rosich-512999d6c106.json\""
   ]
  },
  {
   "cell_type": "code",
   "execution_count": 4,
   "metadata": {},
   "outputs": [],
   "source": [
    "##Set up interface to bigquery\n",
    "bq_assistant = BigQueryHelper(\"bigquery-public-data\", \"stackoverflow\")"
   ]
  },
  {
   "cell_type": "markdown",
   "metadata": {},
   "source": [
    "## Run a test query"
   ]
  },
  {
   "cell_type": "code",
   "execution_count": 4,
   "metadata": {},
   "outputs": [],
   "source": [
    "QUERY = \"SELECT q.id, q.title, q.body, q.tags, a.body as answers, a.score FROM `bigquery-public-data.stackoverflow.posts_questions` AS q INNER JOIN `bigquery-public-data.stackoverflow.posts_answers` AS a ON q.id = a.parent_id WHERE q.tags LIKE '%python%' LIMIT 50\"\n",
    "df = bq_assistant.query_to_pandas(QUERY)\n",
    "df.to_csv('data/Original_data.csv')"
   ]
  },
  {
   "cell_type": "code",
   "execution_count": 5,
   "metadata": {},
   "outputs": [
    {
     "data": {
      "text/html": [
       "<div>\n",
       "<style scoped>\n",
       "    .dataframe tbody tr th:only-of-type {\n",
       "        vertical-align: middle;\n",
       "    }\n",
       "\n",
       "    .dataframe tbody tr th {\n",
       "        vertical-align: top;\n",
       "    }\n",
       "\n",
       "    .dataframe thead th {\n",
       "        text-align: right;\n",
       "    }\n",
       "</style>\n",
       "<table border=\"1\" class=\"dataframe\">\n",
       "  <thead>\n",
       "    <tr style=\"text-align: right;\">\n",
       "      <th></th>\n",
       "      <th>Unnamed: 0</th>\n",
       "      <th>id</th>\n",
       "      <th>title</th>\n",
       "      <th>body</th>\n",
       "      <th>tags</th>\n",
       "      <th>answers</th>\n",
       "      <th>score</th>\n",
       "    </tr>\n",
       "  </thead>\n",
       "  <tbody>\n",
       "    <tr>\n",
       "      <td>0</td>\n",
       "      <td>0</td>\n",
       "      <td>30097787</td>\n",
       "      <td>SQLAlchemy long running script: User was holdi...</td>\n",
       "      <td>&lt;p&gt;I have an SQLAlchemy session in a script. T...</td>\n",
       "      <td>python|postgresql|session|transactions|sqlalchemy</td>\n",
       "      <td>&lt;p&gt;I ended up closing the session after (almos...</td>\n",
       "      <td>0</td>\n",
       "    </tr>\n",
       "    <tr>\n",
       "      <td>1</td>\n",
       "      <td>1</td>\n",
       "      <td>29992105</td>\n",
       "      <td>Quick way to find all permutations of a pandas...</td>\n",
       "      <td>&lt;p&gt;I have a DataFrame, and I'd like find all t...</td>\n",
       "      <td>python|sorting|pandas|permutation</td>\n",
       "      <td>&lt;p&gt;Since you're grouping by age, let's do that...</td>\n",
       "      <td>4</td>\n",
       "    </tr>\n",
       "    <tr>\n",
       "      <td>2</td>\n",
       "      <td>2</td>\n",
       "      <td>29992105</td>\n",
       "      <td>Quick way to find all permutations of a pandas...</td>\n",
       "      <td>&lt;p&gt;I have a DataFrame, and I'd like find all t...</td>\n",
       "      <td>python|sorting|pandas|permutation</td>\n",
       "      <td>&lt;p&gt;You can use numpy to sort like&lt;/p&gt;\\n\\n&lt;bloc...</td>\n",
       "      <td>-2</td>\n",
       "    </tr>\n",
       "    <tr>\n",
       "      <td>3</td>\n",
       "      <td>3</td>\n",
       "      <td>29992105</td>\n",
       "      <td>Quick way to find all permutations of a pandas...</td>\n",
       "      <td>&lt;p&gt;I have a DataFrame, and I'd like find all t...</td>\n",
       "      <td>python|sorting|pandas|permutation</td>\n",
       "      <td>&lt;p&gt;Halfway:&lt;/p&gt;\\n\\n&lt;pre&gt;&lt;code&gt;import pandas as...</td>\n",
       "      <td>1</td>\n",
       "    </tr>\n",
       "    <tr>\n",
       "      <td>4</td>\n",
       "      <td>4</td>\n",
       "      <td>29992105</td>\n",
       "      <td>Quick way to find all permutations of a pandas...</td>\n",
       "      <td>&lt;p&gt;I have a DataFrame, and I'd like find all t...</td>\n",
       "      <td>python|sorting|pandas|permutation</td>\n",
       "      <td>&lt;pre&gt;&lt;code&gt;import pandas as pd\\n\\ndf.sort_valu...</td>\n",
       "      <td>-2</td>\n",
       "    </tr>\n",
       "  </tbody>\n",
       "</table>\n",
       "</div>"
      ],
      "text/plain": [
       "   Unnamed: 0        id                                              title  \\\n",
       "0           0  30097787  SQLAlchemy long running script: User was holdi...   \n",
       "1           1  29992105  Quick way to find all permutations of a pandas...   \n",
       "2           2  29992105  Quick way to find all permutations of a pandas...   \n",
       "3           3  29992105  Quick way to find all permutations of a pandas...   \n",
       "4           4  29992105  Quick way to find all permutations of a pandas...   \n",
       "\n",
       "                                                body  \\\n",
       "0  <p>I have an SQLAlchemy session in a script. T...   \n",
       "1  <p>I have a DataFrame, and I'd like find all t...   \n",
       "2  <p>I have a DataFrame, and I'd like find all t...   \n",
       "3  <p>I have a DataFrame, and I'd like find all t...   \n",
       "4  <p>I have a DataFrame, and I'd like find all t...   \n",
       "\n",
       "                                                tags  \\\n",
       "0  python|postgresql|session|transactions|sqlalchemy   \n",
       "1                  python|sorting|pandas|permutation   \n",
       "2                  python|sorting|pandas|permutation   \n",
       "3                  python|sorting|pandas|permutation   \n",
       "4                  python|sorting|pandas|permutation   \n",
       "\n",
       "                                             answers  score  \n",
       "0  <p>I ended up closing the session after (almos...      0  \n",
       "1  <p>Since you're grouping by age, let's do that...      4  \n",
       "2  <p>You can use numpy to sort like</p>\\n\\n<bloc...     -2  \n",
       "3  <p>Halfway:</p>\\n\\n<pre><code>import pandas as...      1  \n",
       "4  <pre><code>import pandas as pd\\n\\ndf.sort_valu...     -2  "
      ]
     },
     "execution_count": 5,
     "metadata": {},
     "output_type": "execute_result"
    }
   ],
   "source": [
    "EN = spacy.load('en_core_web_sm')\n",
    "df = pd.read_csv('data/Original_data.csv')\n",
    "df.head()"
   ]
  },
  {
   "cell_type": "code",
   "execution_count": 7,
   "metadata": {},
   "outputs": [
    {
     "name": "stdout",
     "output_type": "stream",
     "text": [
      "Database shape:(50, 7)\n"
     ]
    }
   ],
   "source": [
    "print('Database shape:' + str(df.shape))"
   ]
  },
  {
   "cell_type": "markdown",
   "metadata": {},
   "source": [
    "## Utility Functions for text preprocessing"
   ]
  },
  {
   "cell_type": "code",
   "execution_count": 43,
   "metadata": {},
   "outputs": [],
   "source": [
    "import re\n",
    "import nltk\n",
    "import inflect\n",
    "from nltk.corpus import stopwords\n",
    "\n",
    "\n",
    "def tokenize_text(text):\n",
    "    \"Apply tokenization using spacy to docstrings.\"\n",
    "    tokens = EN.tokenizer(str(text))\n",
    "    return [token.text.lower() for token in tokens if not token.is_space]\n",
    "\n",
    "def to_lowercase(words):\n",
    "    \"\"\"Convert all characters to lowercase from list of tokenized words\"\"\"\n",
    "    new_words = []\n",
    "    for word in words:\n",
    "        new_word = word.lower()\n",
    "        new_words.append(new_word)\n",
    "    return new_words\n",
    "\n",
    "def remove_punctuation(words):\n",
    "    \"\"\"Remove punctuation from list of tokenized words\"\"\"\n",
    "    new_words = []\n",
    "    for word in words:\n",
    "        new_word = re.sub(r'[^\\w\\s]', '', word)\n",
    "        if new_word != '':\n",
    "            new_words.append(new_word)\n",
    "    return new_words\n",
    "\n",
    "def remove_stopwords(words):\n",
    "    \"\"\"Remove stop words from list of tokenized words\"\"\"\n",
    "    new_words = []\n",
    "    for word in words:\n",
    "        if word not in stopwords.words('english'):\n",
    "            new_words.append(word)\n",
    "    return new_words\n",
    "\n",
    "def normalize(words):\n",
    "    words = to_lowercase(words)\n",
    "    words = remove_punctuation(words)\n",
    "    words = remove_stopwords(words)\n",
    "    return words\n",
    "\n",
    "def tokenize_code(text):\n",
    "    \"A very basic procedure for tokenizing code strings.\"\n",
    "    return RegexpTokenizer(r'\\w+').tokenize(text)\n",
    "\n",
    "def preprocess_text(text):\n",
    "    return ' '.join(normalize(tokenize_text(text)))"
   ]
  },
  {
   "cell_type": "code",
   "execution_count": 9,
   "metadata": {},
   "outputs": [],
   "source": [
    "#nltk.download()"
   ]
  },
  {
   "cell_type": "markdown",
   "metadata": {},
   "source": [
    "# Build the Duplicate Questions Dataset"
   ]
  },
  {
   "cell_type": "code",
   "execution_count": 10,
   "metadata": {},
   "outputs": [],
   "source": [
    "# Pull in DUPLICATE questions\n",
    "QUERY = \"\"\"SELECT q.id, q.title, q.body,\n",
    "    p.related_post_id,\n",
    "    d.title AS dupe_title, d.body AS dupe_body , 1 AS is_dupe\n",
    "FROM `bigquery-public-data.stackoverflow.posts_questions` AS q\n",
    "INNER JOIN `bigquery-public-data.stackoverflow.post_links` AS p\n",
    "ON q.id = p.post_id\n",
    "LEFT JOIN `bigquery-public-data.stackoverflow.posts_questions` AS d\n",
    "ON p.related_post_id = d.id\n",
    "WHERE q.tags LIKE '%python%' AND p.link_type_id = 3\n",
    "LIMIT 100000;\"\"\""
   ]
  },
  {
   "cell_type": "code",
   "execution_count": 11,
   "metadata": {},
   "outputs": [],
   "source": [
    "df1 = bq_assistant.query_to_pandas(QUERY)\n",
    "df1.to_csv('data/dupe_qs_100k.csv', index=False)"
   ]
  },
  {
   "cell_type": "code",
   "execution_count": 12,
   "metadata": {},
   "outputs": [
    {
     "data": {
      "text/html": [
       "<div>\n",
       "<style scoped>\n",
       "    .dataframe tbody tr th:only-of-type {\n",
       "        vertical-align: middle;\n",
       "    }\n",
       "\n",
       "    .dataframe tbody tr th {\n",
       "        vertical-align: top;\n",
       "    }\n",
       "\n",
       "    .dataframe thead th {\n",
       "        text-align: right;\n",
       "    }\n",
       "</style>\n",
       "<table border=\"1\" class=\"dataframe\">\n",
       "  <thead>\n",
       "    <tr style=\"text-align: right;\">\n",
       "      <th></th>\n",
       "      <th>id</th>\n",
       "      <th>title</th>\n",
       "      <th>body</th>\n",
       "      <th>related_post_id</th>\n",
       "      <th>dupe_title</th>\n",
       "      <th>dupe_body</th>\n",
       "      <th>is_dupe</th>\n",
       "    </tr>\n",
       "  </thead>\n",
       "  <tbody>\n",
       "    <tr>\n",
       "      <td>0</td>\n",
       "      <td>16267767</td>\n",
       "      <td>python, writing Json to file</td>\n",
       "      <td>&lt;p&gt;I'm trying to write my first json file. But...</td>\n",
       "      <td>12309269</td>\n",
       "      <td>How do I write JSON data to a file?</td>\n",
       "      <td>&lt;p&gt;I have JSON data stored in the variable &lt;co...</td>\n",
       "      <td>1</td>\n",
       "    </tr>\n",
       "    <tr>\n",
       "      <td>1</td>\n",
       "      <td>52385242</td>\n",
       "      <td>How to read from the 5th line in python csv mo...</td>\n",
       "      <td>&lt;p&gt;for some specific reason, I need to read fr...</td>\n",
       "      <td>27307385</td>\n",
       "      <td>Best way to access the Nth line of csv file</td>\n",
       "      <td>&lt;p&gt;I have to access the Nth line in a CSV file...</td>\n",
       "      <td>1</td>\n",
       "    </tr>\n",
       "    <tr>\n",
       "      <td>2</td>\n",
       "      <td>18907551</td>\n",
       "      <td>How to print a list without it showing bracket...</td>\n",
       "      <td>&lt;p&gt;So say I have a list named &lt;code&gt;myList&lt;/co...</td>\n",
       "      <td>18816813</td>\n",
       "      <td>Adding all the numbers from a list together(no...</td>\n",
       "      <td>&lt;p&gt;say that I have this list:&lt;/p&gt;\\n\\n&lt;pre&gt;&lt;cod...</td>\n",
       "      <td>1</td>\n",
       "    </tr>\n",
       "    <tr>\n",
       "      <td>3</td>\n",
       "      <td>27930262</td>\n",
       "      <td>numpy create masked array from lists of unequa...</td>\n",
       "      <td>&lt;p&gt;I have a list, for example&lt;/p&gt;\\n\\n&lt;pre&gt;&lt;cod...</td>\n",
       "      <td>27890052</td>\n",
       "      <td>Convert and pad a list to numpy array</td>\n",
       "      <td>&lt;p&gt;I have an arbitrarily deeply nested list, w...</td>\n",
       "      <td>1</td>\n",
       "    </tr>\n",
       "    <tr>\n",
       "      <td>4</td>\n",
       "      <td>34683264</td>\n",
       "      <td>Wrong timezone? 30min instead 1hr</td>\n",
       "      <td>&lt;p&gt;With this I'm struggling for some hours now...</td>\n",
       "      <td>27531718</td>\n",
       "      <td>Datetime Timezone conversion using pytz</td>\n",
       "      <td>&lt;p&gt;This is just another post on &lt;code&gt;pytz&lt;/co...</td>\n",
       "      <td>1</td>\n",
       "    </tr>\n",
       "  </tbody>\n",
       "</table>\n",
       "</div>"
      ],
      "text/plain": [
       "         id                                              title  \\\n",
       "0  16267767                       python, writing Json to file   \n",
       "1  52385242  How to read from the 5th line in python csv mo...   \n",
       "2  18907551  How to print a list without it showing bracket...   \n",
       "3  27930262  numpy create masked array from lists of unequa...   \n",
       "4  34683264                  Wrong timezone? 30min instead 1hr   \n",
       "\n",
       "                                                body  related_post_id  \\\n",
       "0  <p>I'm trying to write my first json file. But...         12309269   \n",
       "1  <p>for some specific reason, I need to read fr...         27307385   \n",
       "2  <p>So say I have a list named <code>myList</co...         18816813   \n",
       "3  <p>I have a list, for example</p>\\n\\n<pre><cod...         27890052   \n",
       "4  <p>With this I'm struggling for some hours now...         27531718   \n",
       "\n",
       "                                          dupe_title  \\\n",
       "0                How do I write JSON data to a file?   \n",
       "1        Best way to access the Nth line of csv file   \n",
       "2  Adding all the numbers from a list together(no...   \n",
       "3              Convert and pad a list to numpy array   \n",
       "4            Datetime Timezone conversion using pytz   \n",
       "\n",
       "                                           dupe_body  is_dupe  \n",
       "0  <p>I have JSON data stored in the variable <co...        1  \n",
       "1  <p>I have to access the Nth line in a CSV file...        1  \n",
       "2  <p>say that I have this list:</p>\\n\\n<pre><cod...        1  \n",
       "3  <p>I have an arbitrarily deeply nested list, w...        1  \n",
       "4  <p>This is just another post on <code>pytz</co...        1  "
      ]
     },
     "execution_count": 12,
     "metadata": {},
     "output_type": "execute_result"
    }
   ],
   "source": [
    "df1 = pd.read_csv('data/dupe_qs_100k.csv', encoding = 'utf-8')\n",
    "df1.head()"
   ]
  },
  {
   "cell_type": "code",
   "execution_count": 13,
   "metadata": {},
   "outputs": [],
   "source": [
    "# Pull in RELATED question\n",
    "QUERY = \"\"\"SELECT q.id, q.title, q.body,\n",
    "    p.related_post_id,\n",
    "    d.title AS dupe_title, d.body AS dupe_body , -1 AS is_dupe\n",
    "FROM `bigquery-public-data.stackoverflow.posts_questions` AS q\n",
    "INNER JOIN `bigquery-public-data.stackoverflow.post_links` AS p\n",
    "ON q.id = p.post_id\n",
    "LEFT JOIN `bigquery-public-data.stackoverflow.posts_questions` AS d\n",
    "ON p.related_post_id = d.id\n",
    "WHERE q.tags LIKE '%python%' AND p.link_type_id = 1\n",
    "LIMIT 100000;\"\"\""
   ]
  },
  {
   "cell_type": "code",
   "execution_count": 14,
   "metadata": {},
   "outputs": [],
   "source": [
    "df2 = bq_assistant.query_to_pandas(QUERY)\n",
    "df2.to_csv('data/related_qs_100k.csv', index=False)"
   ]
  },
  {
   "cell_type": "code",
   "execution_count": 15,
   "metadata": {},
   "outputs": [
    {
     "data": {
      "text/html": [
       "<div>\n",
       "<style scoped>\n",
       "    .dataframe tbody tr th:only-of-type {\n",
       "        vertical-align: middle;\n",
       "    }\n",
       "\n",
       "    .dataframe tbody tr th {\n",
       "        vertical-align: top;\n",
       "    }\n",
       "\n",
       "    .dataframe thead th {\n",
       "        text-align: right;\n",
       "    }\n",
       "</style>\n",
       "<table border=\"1\" class=\"dataframe\">\n",
       "  <thead>\n",
       "    <tr style=\"text-align: right;\">\n",
       "      <th></th>\n",
       "      <th>id</th>\n",
       "      <th>title</th>\n",
       "      <th>body</th>\n",
       "      <th>related_post_id</th>\n",
       "      <th>dupe_title</th>\n",
       "      <th>dupe_body</th>\n",
       "      <th>is_dupe</th>\n",
       "    </tr>\n",
       "  </thead>\n",
       "  <tbody>\n",
       "    <tr>\n",
       "      <td>0</td>\n",
       "      <td>56500715</td>\n",
       "      <td>How to solve paramiko output strange format</td>\n",
       "      <td>&lt;p&gt;i'm working on a little automation with pyt...</td>\n",
       "      <td>33291631</td>\n",
       "      <td>Is there a simple way to get rid of junk value...</td>\n",
       "      <td>&lt;p&gt;I am using Python's Paramiko library to SSH...</td>\n",
       "      <td>-1</td>\n",
       "    </tr>\n",
       "    <tr>\n",
       "      <td>1</td>\n",
       "      <td>48226944</td>\n",
       "      <td>Calculate Max of Sum of an annotated field ove...</td>\n",
       "      <td>&lt;p&gt;To keep it simple I have four tables(A, B, ...</td>\n",
       "      <td>43007595</td>\n",
       "      <td>Aggregation of an annotation in GROUP BY in Dj...</td>\n",
       "      <td>&lt;p&gt;&lt;strong&gt;UPDATE&lt;/strong&gt;&lt;/p&gt;\\n\\n&lt;p&gt;Thanks to...</td>\n",
       "      <td>-1</td>\n",
       "    </tr>\n",
       "    <tr>\n",
       "      <td>2</td>\n",
       "      <td>48282894</td>\n",
       "      <td>how to store associative data in python</td>\n",
       "      <td>&lt;p&gt;I am new python and would like to know the ...</td>\n",
       "      <td>9161439</td>\n",
       "      <td>Parse key value pairs in a text file</td>\n",
       "      <td>&lt;p&gt;I am a newbie with Python and I search how ...</td>\n",
       "      <td>-1</td>\n",
       "    </tr>\n",
       "    <tr>\n",
       "      <td>3</td>\n",
       "      <td>43996951</td>\n",
       "      <td>Read very long array from mat with scipy</td>\n",
       "      <td>&lt;p&gt;I have a result file from Dymola (.mat v4) ...</td>\n",
       "      <td>15644859</td>\n",
       "      <td>How to read specific part of large file in Python</td>\n",
       "      <td>&lt;p&gt;Given a large file (hundreds of MB) how wou...</td>\n",
       "      <td>-1</td>\n",
       "    </tr>\n",
       "    <tr>\n",
       "      <td>4</td>\n",
       "      <td>57633222</td>\n",
       "      <td>Decoding data from WIN10 ssh server (response ...</td>\n",
       "      <td>&lt;p&gt;I am using paramiko to connect to a win10 s...</td>\n",
       "      <td>33291631</td>\n",
       "      <td>Is there a simple way to get rid of junk value...</td>\n",
       "      <td>&lt;p&gt;I am using Python's Paramiko library to SSH...</td>\n",
       "      <td>-1</td>\n",
       "    </tr>\n",
       "  </tbody>\n",
       "</table>\n",
       "</div>"
      ],
      "text/plain": [
       "         id                                              title  \\\n",
       "0  56500715        How to solve paramiko output strange format   \n",
       "1  48226944  Calculate Max of Sum of an annotated field ove...   \n",
       "2  48282894            how to store associative data in python   \n",
       "3  43996951           Read very long array from mat with scipy   \n",
       "4  57633222  Decoding data from WIN10 ssh server (response ...   \n",
       "\n",
       "                                                body  related_post_id  \\\n",
       "0  <p>i'm working on a little automation with pyt...         33291631   \n",
       "1  <p>To keep it simple I have four tables(A, B, ...         43007595   \n",
       "2  <p>I am new python and would like to know the ...          9161439   \n",
       "3  <p>I have a result file from Dymola (.mat v4) ...         15644859   \n",
       "4  <p>I am using paramiko to connect to a win10 s...         33291631   \n",
       "\n",
       "                                          dupe_title  \\\n",
       "0  Is there a simple way to get rid of junk value...   \n",
       "1  Aggregation of an annotation in GROUP BY in Dj...   \n",
       "2               Parse key value pairs in a text file   \n",
       "3  How to read specific part of large file in Python   \n",
       "4  Is there a simple way to get rid of junk value...   \n",
       "\n",
       "                                           dupe_body  is_dupe  \n",
       "0  <p>I am using Python's Paramiko library to SSH...       -1  \n",
       "1  <p><strong>UPDATE</strong></p>\\n\\n<p>Thanks to...       -1  \n",
       "2  <p>I am a newbie with Python and I search how ...       -1  \n",
       "3  <p>Given a large file (hundreds of MB) how wou...       -1  \n",
       "4  <p>I am using Python's Paramiko library to SSH...       -1  "
      ]
     },
     "execution_count": 15,
     "metadata": {},
     "output_type": "execute_result"
    }
   ],
   "source": [
    "df2 = pd.read_csv('data/related_qs_100k.csv')\n",
    "df2.head()"
   ]
  },
  {
   "cell_type": "code",
   "execution_count": 16,
   "metadata": {},
   "outputs": [],
   "source": [
    "# Pull in questions that are NOT duplicates or related\n",
    "QUERY = \"\"\"SELECT q.id, q.title, q.body,\n",
    "    p.related_post_id,\n",
    "    d.title AS dupe_title, d.body AS dupe_body , 0 AS is_dupe\n",
    "FROM `bigquery-public-data.stackoverflow.posts_questions` AS q\n",
    "LEFT JOIN `bigquery-public-data.stackoverflow.post_links` AS p\n",
    "ON q.id = p.post_id\n",
    "LEFT JOIN `bigquery-public-data.stackoverflow.posts_questions` AS d\n",
    "ON q.tags = d.tags\n",
    "WHERE q.tags LIKE '%python%' AND d.tags LIKE '%python%' AND p.post_id IS NULL AND q.id <> d.id\n",
    "LIMIT 100000;\"\"\""
   ]
  },
  {
   "cell_type": "code",
   "execution_count": 17,
   "metadata": {},
   "outputs": [
    {
     "name": "stdout",
     "output_type": "stream",
     "text": [
      "(100000, 7)\n"
     ]
    }
   ],
   "source": [
    "df3 = bq_assistant.query_to_pandas(QUERY)\n",
    "print(df3.shape)\n",
    "df3.to_csv('data/nondup_qs_100k.csv', index=False, encoding='utf-8')"
   ]
  },
  {
   "cell_type": "code",
   "execution_count": 18,
   "metadata": {},
   "outputs": [
    {
     "data": {
      "text/html": [
       "<div>\n",
       "<style scoped>\n",
       "    .dataframe tbody tr th:only-of-type {\n",
       "        vertical-align: middle;\n",
       "    }\n",
       "\n",
       "    .dataframe tbody tr th {\n",
       "        vertical-align: top;\n",
       "    }\n",
       "\n",
       "    .dataframe thead th {\n",
       "        text-align: right;\n",
       "    }\n",
       "</style>\n",
       "<table border=\"1\" class=\"dataframe\">\n",
       "  <thead>\n",
       "    <tr style=\"text-align: right;\">\n",
       "      <th></th>\n",
       "      <th>id</th>\n",
       "      <th>title</th>\n",
       "      <th>body</th>\n",
       "      <th>related_post_id</th>\n",
       "      <th>dupe_title</th>\n",
       "      <th>dupe_body</th>\n",
       "      <th>is_dupe</th>\n",
       "    </tr>\n",
       "  </thead>\n",
       "  <tbody>\n",
       "    <tr>\n",
       "      <td>0</td>\n",
       "      <td>24724263</td>\n",
       "      <td>Custom Python Thread Pool Synchrnoization</td>\n",
       "      <td>&lt;p&gt;I'm trying to create a thread pool in pytho...</td>\n",
       "      <td>NaN</td>\n",
       "      <td>Avoiding deadlocks in Python ThreadPoolExecutor</td>\n",
       "      <td>&lt;p&gt;Python documentation provides example code ...</td>\n",
       "      <td>0</td>\n",
       "    </tr>\n",
       "    <tr>\n",
       "      <td>1</td>\n",
       "      <td>24724263</td>\n",
       "      <td>Custom Python Thread Pool Synchrnoization</td>\n",
       "      <td>&lt;p&gt;I'm trying to create a thread pool in pytho...</td>\n",
       "      <td>NaN</td>\n",
       "      <td>A thread pool that lets me know when at least ...</td>\n",
       "      <td>&lt;p&gt;I need to use a thread pool in python, and ...</td>\n",
       "      <td>0</td>\n",
       "    </tr>\n",
       "    <tr>\n",
       "      <td>2</td>\n",
       "      <td>24724263</td>\n",
       "      <td>Custom Python Thread Pool Synchrnoization</td>\n",
       "      <td>&lt;p&gt;I'm trying to create a thread pool in pytho...</td>\n",
       "      <td>NaN</td>\n",
       "      <td>How to stop all threads on KeyboardInterupt wi...</td>\n",
       "      <td>&lt;p&gt;This is my Job class:&lt;/p&gt;\\n\\n&lt;pre&gt;&lt;code&gt;cla...</td>\n",
       "      <td>0</td>\n",
       "    </tr>\n",
       "    <tr>\n",
       "      <td>3</td>\n",
       "      <td>24724263</td>\n",
       "      <td>Custom Python Thread Pool Synchrnoization</td>\n",
       "      <td>&lt;p&gt;I'm trying to create a thread pool in pytho...</td>\n",
       "      <td>NaN</td>\n",
       "      <td>Can't start new thread</td>\n",
       "      <td>&lt;p&gt;I'm processing all the files in a directory...</td>\n",
       "      <td>0</td>\n",
       "    </tr>\n",
       "    <tr>\n",
       "      <td>4</td>\n",
       "      <td>24724263</td>\n",
       "      <td>Custom Python Thread Pool Synchrnoization</td>\n",
       "      <td>&lt;p&gt;I'm trying to create a thread pool in pytho...</td>\n",
       "      <td>NaN</td>\n",
       "      <td>When doing network programming, is there a rul...</td>\n",
       "      <td>&lt;p&gt;Say I have a list of 1000 unique urls, and ...</td>\n",
       "      <td>0</td>\n",
       "    </tr>\n",
       "    <tr>\n",
       "      <td>...</td>\n",
       "      <td>...</td>\n",
       "      <td>...</td>\n",
       "      <td>...</td>\n",
       "      <td>...</td>\n",
       "      <td>...</td>\n",
       "      <td>...</td>\n",
       "      <td>...</td>\n",
       "    </tr>\n",
       "    <tr>\n",
       "      <td>95</td>\n",
       "      <td>10871490</td>\n",
       "      <td>How can I add more items to an EmbeddedDocumen...</td>\n",
       "      <td>&lt;p&gt;I'm trying to check if there is already an ...</td>\n",
       "      <td>NaN</td>\n",
       "      <td>\"AttributeError: 'NoneType' object has no attr...</td>\n",
       "      <td>&lt;p&gt;I have the following Python code to connect...</td>\n",
       "      <td>0</td>\n",
       "    </tr>\n",
       "    <tr>\n",
       "      <td>96</td>\n",
       "      <td>10871490</td>\n",
       "      <td>How can I add more items to an EmbeddedDocumen...</td>\n",
       "      <td>&lt;p&gt;I'm trying to check if there is already an ...</td>\n",
       "      <td>NaN</td>\n",
       "      <td>Using mongoengine in Django. Cannot save insta...</td>\n",
       "      <td>&lt;p&gt;I am trying to create new Document and save...</td>\n",
       "      <td>0</td>\n",
       "    </tr>\n",
       "    <tr>\n",
       "      <td>97</td>\n",
       "      <td>10871490</td>\n",
       "      <td>How can I add more items to an EmbeddedDocumen...</td>\n",
       "      <td>&lt;p&gt;I'm trying to check if there is already an ...</td>\n",
       "      <td>NaN</td>\n",
       "      <td>How to do \"insert if not exist else update\" wi...</td>\n",
       "      <td>&lt;p&gt;I'm working with mongoengine in Django,&lt;br&gt;...</td>\n",
       "      <td>0</td>\n",
       "    </tr>\n",
       "    <tr>\n",
       "      <td>98</td>\n",
       "      <td>10871490</td>\n",
       "      <td>How can I add more items to an EmbeddedDocumen...</td>\n",
       "      <td>&lt;p&gt;I'm trying to check if there is already an ...</td>\n",
       "      <td>NaN</td>\n",
       "      <td>Django: Mongoengine syncdb failed</td>\n",
       "      <td>&lt;p&gt;I am using &lt;a href=\"http://docs.mongoengine...</td>\n",
       "      <td>0</td>\n",
       "    </tr>\n",
       "    <tr>\n",
       "      <td>99</td>\n",
       "      <td>10871490</td>\n",
       "      <td>How can I add more items to an EmbeddedDocumen...</td>\n",
       "      <td>&lt;p&gt;I'm trying to check if there is already an ...</td>\n",
       "      <td>NaN</td>\n",
       "      <td>Matching EmbeddedDocument in EmbeddedDocumentList</td>\n",
       "      <td>&lt;p&gt;so I have this test data for instance in mo...</td>\n",
       "      <td>0</td>\n",
       "    </tr>\n",
       "  </tbody>\n",
       "</table>\n",
       "<p>100 rows × 7 columns</p>\n",
       "</div>"
      ],
      "text/plain": [
       "          id                                              title  \\\n",
       "0   24724263          Custom Python Thread Pool Synchrnoization   \n",
       "1   24724263          Custom Python Thread Pool Synchrnoization   \n",
       "2   24724263          Custom Python Thread Pool Synchrnoization   \n",
       "3   24724263          Custom Python Thread Pool Synchrnoization   \n",
       "4   24724263          Custom Python Thread Pool Synchrnoization   \n",
       "..       ...                                                ...   \n",
       "95  10871490  How can I add more items to an EmbeddedDocumen...   \n",
       "96  10871490  How can I add more items to an EmbeddedDocumen...   \n",
       "97  10871490  How can I add more items to an EmbeddedDocumen...   \n",
       "98  10871490  How can I add more items to an EmbeddedDocumen...   \n",
       "99  10871490  How can I add more items to an EmbeddedDocumen...   \n",
       "\n",
       "                                                 body  related_post_id  \\\n",
       "0   <p>I'm trying to create a thread pool in pytho...              NaN   \n",
       "1   <p>I'm trying to create a thread pool in pytho...              NaN   \n",
       "2   <p>I'm trying to create a thread pool in pytho...              NaN   \n",
       "3   <p>I'm trying to create a thread pool in pytho...              NaN   \n",
       "4   <p>I'm trying to create a thread pool in pytho...              NaN   \n",
       "..                                                ...              ...   \n",
       "95  <p>I'm trying to check if there is already an ...              NaN   \n",
       "96  <p>I'm trying to check if there is already an ...              NaN   \n",
       "97  <p>I'm trying to check if there is already an ...              NaN   \n",
       "98  <p>I'm trying to check if there is already an ...              NaN   \n",
       "99  <p>I'm trying to check if there is already an ...              NaN   \n",
       "\n",
       "                                           dupe_title  \\\n",
       "0     Avoiding deadlocks in Python ThreadPoolExecutor   \n",
       "1   A thread pool that lets me know when at least ...   \n",
       "2   How to stop all threads on KeyboardInterupt wi...   \n",
       "3                              Can't start new thread   \n",
       "4   When doing network programming, is there a rul...   \n",
       "..                                                ...   \n",
       "95  \"AttributeError: 'NoneType' object has no attr...   \n",
       "96  Using mongoengine in Django. Cannot save insta...   \n",
       "97  How to do \"insert if not exist else update\" wi...   \n",
       "98                  Django: Mongoengine syncdb failed   \n",
       "99  Matching EmbeddedDocument in EmbeddedDocumentList   \n",
       "\n",
       "                                            dupe_body  is_dupe  \n",
       "0   <p>Python documentation provides example code ...        0  \n",
       "1   <p>I need to use a thread pool in python, and ...        0  \n",
       "2   <p>This is my Job class:</p>\\n\\n<pre><code>cla...        0  \n",
       "3   <p>I'm processing all the files in a directory...        0  \n",
       "4   <p>Say I have a list of 1000 unique urls, and ...        0  \n",
       "..                                                ...      ...  \n",
       "95  <p>I have the following Python code to connect...        0  \n",
       "96  <p>I am trying to create new Document and save...        0  \n",
       "97  <p>I'm working with mongoengine in Django,<br>...        0  \n",
       "98  <p>I am using <a href=\"http://docs.mongoengine...        0  \n",
       "99  <p>so I have this test data for instance in mo...        0  \n",
       "\n",
       "[100 rows x 7 columns]"
      ]
     },
     "execution_count": 18,
     "metadata": {},
     "output_type": "execute_result"
    }
   ],
   "source": [
    "df3 = pd.read_csv('data/nondup_qs_100k.csv',  encoding = 'utf-8')\n",
    "df3.head(100)"
   ]
  },
  {
   "cell_type": "code",
   "execution_count": 19,
   "metadata": {},
   "outputs": [],
   "source": [
    "frames = [df1, df3]\n",
    "df = pd.concat(frames)"
   ]
  },
  {
   "cell_type": "code",
   "execution_count": 20,
   "metadata": {},
   "outputs": [
    {
     "data": {
      "text/html": [
       "<div>\n",
       "<style scoped>\n",
       "    .dataframe tbody tr th:only-of-type {\n",
       "        vertical-align: middle;\n",
       "    }\n",
       "\n",
       "    .dataframe tbody tr th {\n",
       "        vertical-align: top;\n",
       "    }\n",
       "\n",
       "    .dataframe thead th {\n",
       "        text-align: right;\n",
       "    }\n",
       "</style>\n",
       "<table border=\"1\" class=\"dataframe\">\n",
       "  <thead>\n",
       "    <tr style=\"text-align: right;\">\n",
       "      <th></th>\n",
       "      <th>title</th>\n",
       "      <th>dupe_title</th>\n",
       "      <th>is_dupe</th>\n",
       "    </tr>\n",
       "  </thead>\n",
       "  <tbody>\n",
       "    <tr>\n",
       "      <td>0</td>\n",
       "      <td>python, writing Json to file</td>\n",
       "      <td>How do I write JSON data to a file?</td>\n",
       "      <td>1</td>\n",
       "    </tr>\n",
       "    <tr>\n",
       "      <td>1</td>\n",
       "      <td>How to read from the 5th line in python csv mo...</td>\n",
       "      <td>Best way to access the Nth line of csv file</td>\n",
       "      <td>1</td>\n",
       "    </tr>\n",
       "    <tr>\n",
       "      <td>2</td>\n",
       "      <td>How to print a list without it showing bracket...</td>\n",
       "      <td>Adding all the numbers from a list together(no...</td>\n",
       "      <td>1</td>\n",
       "    </tr>\n",
       "    <tr>\n",
       "      <td>3</td>\n",
       "      <td>numpy create masked array from lists of unequa...</td>\n",
       "      <td>Convert and pad a list to numpy array</td>\n",
       "      <td>1</td>\n",
       "    </tr>\n",
       "    <tr>\n",
       "      <td>4</td>\n",
       "      <td>Wrong timezone? 30min instead 1hr</td>\n",
       "      <td>Datetime Timezone conversion using pytz</td>\n",
       "      <td>1</td>\n",
       "    </tr>\n",
       "    <tr>\n",
       "      <td>...</td>\n",
       "      <td>...</td>\n",
       "      <td>...</td>\n",
       "      <td>...</td>\n",
       "    </tr>\n",
       "    <tr>\n",
       "      <td>99995</td>\n",
       "      <td>Assigning name to lines read from a file</td>\n",
       "      <td>How to store an input from a user into a speci...</td>\n",
       "      <td>0</td>\n",
       "    </tr>\n",
       "    <tr>\n",
       "      <td>99996</td>\n",
       "      <td>Assigning name to lines read from a file</td>\n",
       "      <td>how to convert from longitude and latitude to ...</td>\n",
       "      <td>0</td>\n",
       "    </tr>\n",
       "    <tr>\n",
       "      <td>99997</td>\n",
       "      <td>Assigning name to lines read from a file</td>\n",
       "      <td>Python lists.. Two functions... I have the fir...</td>\n",
       "      <td>0</td>\n",
       "    </tr>\n",
       "    <tr>\n",
       "      <td>99998</td>\n",
       "      <td>Assigning name to lines read from a file</td>\n",
       "      <td>replace a part of file with another file</td>\n",
       "      <td>0</td>\n",
       "    </tr>\n",
       "    <tr>\n",
       "      <td>99999</td>\n",
       "      <td>Assigning name to lines read from a file</td>\n",
       "      <td>For loop Lists function</td>\n",
       "      <td>0</td>\n",
       "    </tr>\n",
       "  </tbody>\n",
       "</table>\n",
       "<p>162760 rows × 3 columns</p>\n",
       "</div>"
      ],
      "text/plain": [
       "                                                   title  \\\n",
       "0                           python, writing Json to file   \n",
       "1      How to read from the 5th line in python csv mo...   \n",
       "2      How to print a list without it showing bracket...   \n",
       "3      numpy create masked array from lists of unequa...   \n",
       "4                      Wrong timezone? 30min instead 1hr   \n",
       "...                                                  ...   \n",
       "99995           Assigning name to lines read from a file   \n",
       "99996           Assigning name to lines read from a file   \n",
       "99997           Assigning name to lines read from a file   \n",
       "99998           Assigning name to lines read from a file   \n",
       "99999           Assigning name to lines read from a file   \n",
       "\n",
       "                                              dupe_title  is_dupe  \n",
       "0                    How do I write JSON data to a file?        1  \n",
       "1            Best way to access the Nth line of csv file        1  \n",
       "2      Adding all the numbers from a list together(no...        1  \n",
       "3                  Convert and pad a list to numpy array        1  \n",
       "4                Datetime Timezone conversion using pytz        1  \n",
       "...                                                  ...      ...  \n",
       "99995  How to store an input from a user into a speci...        0  \n",
       "99996  how to convert from longitude and latitude to ...        0  \n",
       "99997  Python lists.. Two functions... I have the fir...        0  \n",
       "99998           replace a part of file with another file        0  \n",
       "99999                            For loop Lists function        0  \n",
       "\n",
       "[162760 rows x 3 columns]"
      ]
     },
     "execution_count": 20,
     "metadata": {},
     "output_type": "execute_result"
    }
   ],
   "source": [
    "final_df = df.drop(['id','body','related_post_id', 'dupe_body'], axis = 1)\n",
    "final_df"
   ]
  },
  {
   "cell_type": "code",
   "execution_count": 21,
   "metadata": {},
   "outputs": [],
   "source": [
    "final_df.title = final_df.title.apply(lambda x: preprocess_text(x))"
   ]
  },
  {
   "cell_type": "code",
   "execution_count": 22,
   "metadata": {},
   "outputs": [
    {
     "data": {
      "text/html": [
       "<div>\n",
       "<style scoped>\n",
       "    .dataframe tbody tr th:only-of-type {\n",
       "        vertical-align: middle;\n",
       "    }\n",
       "\n",
       "    .dataframe tbody tr th {\n",
       "        vertical-align: top;\n",
       "    }\n",
       "\n",
       "    .dataframe thead th {\n",
       "        text-align: right;\n",
       "    }\n",
       "</style>\n",
       "<table border=\"1\" class=\"dataframe\">\n",
       "  <thead>\n",
       "    <tr style=\"text-align: right;\">\n",
       "      <th></th>\n",
       "      <th>title</th>\n",
       "      <th>dupe_title</th>\n",
       "      <th>is_dupe</th>\n",
       "    </tr>\n",
       "  </thead>\n",
       "  <tbody>\n",
       "    <tr>\n",
       "      <td>0</td>\n",
       "      <td>python writing json file</td>\n",
       "      <td>How do I write JSON data to a file?</td>\n",
       "      <td>1</td>\n",
       "    </tr>\n",
       "    <tr>\n",
       "      <td>1</td>\n",
       "      <td>read 5th line python csv module</td>\n",
       "      <td>Best way to access the Nth line of csv file</td>\n",
       "      <td>1</td>\n",
       "    </tr>\n",
       "    <tr>\n",
       "      <td>2</td>\n",
       "      <td>print list without showing brackets output pyt...</td>\n",
       "      <td>Adding all the numbers from a list together(no...</td>\n",
       "      <td>1</td>\n",
       "    </tr>\n",
       "    <tr>\n",
       "      <td>3</td>\n",
       "      <td>numpy create masked array lists unequal size</td>\n",
       "      <td>Convert and pad a list to numpy array</td>\n",
       "      <td>1</td>\n",
       "    </tr>\n",
       "    <tr>\n",
       "      <td>4</td>\n",
       "      <td>wrong timezone 30min instead 1hr</td>\n",
       "      <td>Datetime Timezone conversion using pytz</td>\n",
       "      <td>1</td>\n",
       "    </tr>\n",
       "    <tr>\n",
       "      <td>...</td>\n",
       "      <td>...</td>\n",
       "      <td>...</td>\n",
       "      <td>...</td>\n",
       "    </tr>\n",
       "    <tr>\n",
       "      <td>99995</td>\n",
       "      <td>assigning name lines read file</td>\n",
       "      <td>How to store an input from a user into a speci...</td>\n",
       "      <td>0</td>\n",
       "    </tr>\n",
       "    <tr>\n",
       "      <td>99996</td>\n",
       "      <td>assigning name lines read file</td>\n",
       "      <td>how to convert from longitude and latitude to ...</td>\n",
       "      <td>0</td>\n",
       "    </tr>\n",
       "    <tr>\n",
       "      <td>99997</td>\n",
       "      <td>assigning name lines read file</td>\n",
       "      <td>Python lists.. Two functions... I have the fir...</td>\n",
       "      <td>0</td>\n",
       "    </tr>\n",
       "    <tr>\n",
       "      <td>99998</td>\n",
       "      <td>assigning name lines read file</td>\n",
       "      <td>replace a part of file with another file</td>\n",
       "      <td>0</td>\n",
       "    </tr>\n",
       "    <tr>\n",
       "      <td>99999</td>\n",
       "      <td>assigning name lines read file</td>\n",
       "      <td>For loop Lists function</td>\n",
       "      <td>0</td>\n",
       "    </tr>\n",
       "  </tbody>\n",
       "</table>\n",
       "<p>162760 rows × 3 columns</p>\n",
       "</div>"
      ],
      "text/plain": [
       "                                                   title  \\\n",
       "0                               python writing json file   \n",
       "1                        read 5th line python csv module   \n",
       "2      print list without showing brackets output pyt...   \n",
       "3           numpy create masked array lists unequal size   \n",
       "4                       wrong timezone 30min instead 1hr   \n",
       "...                                                  ...   \n",
       "99995                     assigning name lines read file   \n",
       "99996                     assigning name lines read file   \n",
       "99997                     assigning name lines read file   \n",
       "99998                     assigning name lines read file   \n",
       "99999                     assigning name lines read file   \n",
       "\n",
       "                                              dupe_title  is_dupe  \n",
       "0                    How do I write JSON data to a file?        1  \n",
       "1            Best way to access the Nth line of csv file        1  \n",
       "2      Adding all the numbers from a list together(no...        1  \n",
       "3                  Convert and pad a list to numpy array        1  \n",
       "4                Datetime Timezone conversion using pytz        1  \n",
       "...                                                  ...      ...  \n",
       "99995  How to store an input from a user into a speci...        0  \n",
       "99996  how to convert from longitude and latitude to ...        0  \n",
       "99997  Python lists.. Two functions... I have the fir...        0  \n",
       "99998           replace a part of file with another file        0  \n",
       "99999                            For loop Lists function        0  \n",
       "\n",
       "[162760 rows x 3 columns]"
      ]
     },
     "execution_count": 22,
     "metadata": {},
     "output_type": "execute_result"
    }
   ],
   "source": [
    "final_df"
   ]
  },
  {
   "cell_type": "code",
   "execution_count": 23,
   "metadata": {},
   "outputs": [],
   "source": [
    "final_df.dupe_title = final_df.dupe_title.apply(lambda x: preprocess_text(x))"
   ]
  },
  {
   "cell_type": "code",
   "execution_count": 24,
   "metadata": {},
   "outputs": [
    {
     "data": {
      "text/html": [
       "<div>\n",
       "<style scoped>\n",
       "    .dataframe tbody tr th:only-of-type {\n",
       "        vertical-align: middle;\n",
       "    }\n",
       "\n",
       "    .dataframe tbody tr th {\n",
       "        vertical-align: top;\n",
       "    }\n",
       "\n",
       "    .dataframe thead th {\n",
       "        text-align: right;\n",
       "    }\n",
       "</style>\n",
       "<table border=\"1\" class=\"dataframe\">\n",
       "  <thead>\n",
       "    <tr style=\"text-align: right;\">\n",
       "      <th></th>\n",
       "      <th>title</th>\n",
       "      <th>dupe_title</th>\n",
       "      <th>is_dupe</th>\n",
       "    </tr>\n",
       "  </thead>\n",
       "  <tbody>\n",
       "    <tr>\n",
       "      <td>0</td>\n",
       "      <td>python writing json file</td>\n",
       "      <td>write json data file</td>\n",
       "      <td>1</td>\n",
       "    </tr>\n",
       "    <tr>\n",
       "      <td>1</td>\n",
       "      <td>read 5th line python csv module</td>\n",
       "      <td>best way access nth line csv file</td>\n",
       "      <td>1</td>\n",
       "    </tr>\n",
       "    <tr>\n",
       "      <td>2</td>\n",
       "      <td>print list without showing brackets output pyt...</td>\n",
       "      <td>adding numbers list togethernot summing python...</td>\n",
       "      <td>1</td>\n",
       "    </tr>\n",
       "    <tr>\n",
       "      <td>3</td>\n",
       "      <td>numpy create masked array lists unequal size</td>\n",
       "      <td>convert pad list numpy array</td>\n",
       "      <td>1</td>\n",
       "    </tr>\n",
       "    <tr>\n",
       "      <td>4</td>\n",
       "      <td>wrong timezone 30min instead 1hr</td>\n",
       "      <td>datetime timezone conversion using pytz</td>\n",
       "      <td>1</td>\n",
       "    </tr>\n",
       "    <tr>\n",
       "      <td>...</td>\n",
       "      <td>...</td>\n",
       "      <td>...</td>\n",
       "      <td>...</td>\n",
       "    </tr>\n",
       "    <tr>\n",
       "      <td>99995</td>\n",
       "      <td>assigning name lines read file</td>\n",
       "      <td>store input user specified index array python</td>\n",
       "      <td>0</td>\n",
       "    </tr>\n",
       "    <tr>\n",
       "      <td>99996</td>\n",
       "      <td>assigning name lines read file</td>\n",
       "      <td>convert longitude latitude country city</td>\n",
       "      <td>0</td>\n",
       "    </tr>\n",
       "    <tr>\n",
       "      <td>99997</td>\n",
       "      <td>assigning name lines read file</td>\n",
       "      <td>python lists two functions firsti think second</td>\n",
       "      <td>0</td>\n",
       "    </tr>\n",
       "    <tr>\n",
       "      <td>99998</td>\n",
       "      <td>assigning name lines read file</td>\n",
       "      <td>replace part file another file</td>\n",
       "      <td>0</td>\n",
       "    </tr>\n",
       "    <tr>\n",
       "      <td>99999</td>\n",
       "      <td>assigning name lines read file</td>\n",
       "      <td>loop lists function</td>\n",
       "      <td>0</td>\n",
       "    </tr>\n",
       "  </tbody>\n",
       "</table>\n",
       "<p>162760 rows × 3 columns</p>\n",
       "</div>"
      ],
      "text/plain": [
       "                                                   title  \\\n",
       "0                               python writing json file   \n",
       "1                        read 5th line python csv module   \n",
       "2      print list without showing brackets output pyt...   \n",
       "3           numpy create masked array lists unequal size   \n",
       "4                       wrong timezone 30min instead 1hr   \n",
       "...                                                  ...   \n",
       "99995                     assigning name lines read file   \n",
       "99996                     assigning name lines read file   \n",
       "99997                     assigning name lines read file   \n",
       "99998                     assigning name lines read file   \n",
       "99999                     assigning name lines read file   \n",
       "\n",
       "                                              dupe_title  is_dupe  \n",
       "0                                   write json data file        1  \n",
       "1                      best way access nth line csv file        1  \n",
       "2      adding numbers list togethernot summing python...        1  \n",
       "3                           convert pad list numpy array        1  \n",
       "4                datetime timezone conversion using pytz        1  \n",
       "...                                                  ...      ...  \n",
       "99995      store input user specified index array python        0  \n",
       "99996            convert longitude latitude country city        0  \n",
       "99997     python lists two functions firsti think second        0  \n",
       "99998                     replace part file another file        0  \n",
       "99999                                loop lists function        0  \n",
       "\n",
       "[162760 rows x 3 columns]"
      ]
     },
     "execution_count": 24,
     "metadata": {},
     "output_type": "execute_result"
    }
   ],
   "source": [
    "final_df"
   ]
  },
  {
   "cell_type": "code",
   "execution_count": 28,
   "metadata": {},
   "outputs": [],
   "source": [
    "final_df.to_csv('data/ss_data_100k.csv', index=False)"
   ]
  },
  {
   "cell_type": "markdown",
   "metadata": {},
   "source": [
    "# Build the Response ranking dataset"
   ]
  },
  {
   "cell_type": "code",
   "execution_count": 7,
   "metadata": {},
   "outputs": [],
   "source": [
    "QUERY = \"\"\"SELECT q.id, q.title, q.body, q.answer_count, a.body as answer,\n",
    "    CASE WHEN q.accepted_answer_id = a.id THEN 1 ELSE 0 END AS accepted_flag\n",
    "FROM `bigquery-public-data.stackoverflow.posts_questions` AS q\n",
    "INNER JOIN `bigquery-public-data.stackoverflow.posts_answers` AS a\n",
    "ON q.id = a.parent_id\n",
    "WHERE q.tags LIKE '%python%' AND q.accepted_answer_id IS NOT NULL AND q.answer_count > 1\n",
    "LIMIT 100000\"\"\""
   ]
  },
  {
   "cell_type": "code",
   "execution_count": 8,
   "metadata": {},
   "outputs": [],
   "source": [
    "df = bq_assistant.query_to_pandas(QUERY)\n",
    "df.to_csv('data/original_answers.csv', index=False)"
   ]
  },
  {
   "cell_type": "code",
   "execution_count": 9,
   "metadata": {},
   "outputs": [
    {
     "data": {
      "text/html": [
       "<div>\n",
       "<style scoped>\n",
       "    .dataframe tbody tr th:only-of-type {\n",
       "        vertical-align: middle;\n",
       "    }\n",
       "\n",
       "    .dataframe tbody tr th {\n",
       "        vertical-align: top;\n",
       "    }\n",
       "\n",
       "    .dataframe thead th {\n",
       "        text-align: right;\n",
       "    }\n",
       "</style>\n",
       "<table border=\"1\" class=\"dataframe\">\n",
       "  <thead>\n",
       "    <tr style=\"text-align: right;\">\n",
       "      <th></th>\n",
       "      <th>id</th>\n",
       "      <th>title</th>\n",
       "      <th>body</th>\n",
       "      <th>answer_count</th>\n",
       "      <th>answer</th>\n",
       "      <th>accepted_flag</th>\n",
       "    </tr>\n",
       "  </thead>\n",
       "  <tbody>\n",
       "    <tr>\n",
       "      <td>0</td>\n",
       "      <td>26496636</td>\n",
       "      <td>Understanding modular arithmetic in encryption...</td>\n",
       "      <td>&lt;p&gt;I understand modular arithmetic in its basi...</td>\n",
       "      <td>3</td>\n",
       "      <td>&lt;p&gt;The mod operator can be used in many differ...</td>\n",
       "      <td>0</td>\n",
       "    </tr>\n",
       "    <tr>\n",
       "      <td>1</td>\n",
       "      <td>26496636</td>\n",
       "      <td>Understanding modular arithmetic in encryption...</td>\n",
       "      <td>&lt;p&gt;I understand modular arithmetic in its basi...</td>\n",
       "      <td>3</td>\n",
       "      <td>&lt;p&gt;The modular of 127 us to ensure you stay in...</td>\n",
       "      <td>0</td>\n",
       "    </tr>\n",
       "    <tr>\n",
       "      <td>2</td>\n",
       "      <td>26496636</td>\n",
       "      <td>Understanding modular arithmetic in encryption...</td>\n",
       "      <td>&lt;p&gt;I understand modular arithmetic in its basi...</td>\n",
       "      <td>3</td>\n",
       "      <td>&lt;p&gt;in the parts \\n&lt;code&gt;\\n        key_c = ord(...</td>\n",
       "      <td>1</td>\n",
       "    </tr>\n",
       "    <tr>\n",
       "      <td>3</td>\n",
       "      <td>55340041</td>\n",
       "      <td>Best practice: how to pass many many arguments...</td>\n",
       "      <td>&lt;p&gt;I am running some &lt;strong&gt;numerical simulat...</td>\n",
       "      <td>2</td>\n",
       "      <td>&lt;p&gt;You could pass in a dictionary like so:&lt;/p&gt;...</td>\n",
       "      <td>0</td>\n",
       "    </tr>\n",
       "    <tr>\n",
       "      <td>4</td>\n",
       "      <td>55340041</td>\n",
       "      <td>Best practice: how to pass many many arguments...</td>\n",
       "      <td>&lt;p&gt;I am running some &lt;strong&gt;numerical simulat...</td>\n",
       "      <td>2</td>\n",
       "      <td>&lt;p&gt;I don't think this is really a StackOverflo...</td>\n",
       "      <td>1</td>\n",
       "    </tr>\n",
       "  </tbody>\n",
       "</table>\n",
       "</div>"
      ],
      "text/plain": [
       "         id                                              title  \\\n",
       "0  26496636  Understanding modular arithmetic in encryption...   \n",
       "1  26496636  Understanding modular arithmetic in encryption...   \n",
       "2  26496636  Understanding modular arithmetic in encryption...   \n",
       "3  55340041  Best practice: how to pass many many arguments...   \n",
       "4  55340041  Best practice: how to pass many many arguments...   \n",
       "\n",
       "                                                body  answer_count  \\\n",
       "0  <p>I understand modular arithmetic in its basi...             3   \n",
       "1  <p>I understand modular arithmetic in its basi...             3   \n",
       "2  <p>I understand modular arithmetic in its basi...             3   \n",
       "3  <p>I am running some <strong>numerical simulat...             2   \n",
       "4  <p>I am running some <strong>numerical simulat...             2   \n",
       "\n",
       "                                              answer  accepted_flag  \n",
       "0  <p>The mod operator can be used in many differ...              0  \n",
       "1  <p>The modular of 127 us to ensure you stay in...              0  \n",
       "2  <p>in the parts \\n<code>\\n        key_c = ord(...              1  \n",
       "3  <p>You could pass in a dictionary like so:</p>...              0  \n",
       "4  <p>I don't think this is really a StackOverflo...              1  "
      ]
     },
     "execution_count": 9,
     "metadata": {},
     "output_type": "execute_result"
    }
   ],
   "source": [
    "df = pd.read_csv('data/original_answers.csv')\n",
    "df.head()"
   ]
  },
  {
   "cell_type": "code",
   "execution_count": 10,
   "metadata": {
    "scrolled": false
   },
   "outputs": [
    {
     "data": {
      "text/html": [
       "<div>\n",
       "<style scoped>\n",
       "    .dataframe tbody tr th:only-of-type {\n",
       "        vertical-align: middle;\n",
       "    }\n",
       "\n",
       "    .dataframe tbody tr th {\n",
       "        vertical-align: top;\n",
       "    }\n",
       "\n",
       "    .dataframe thead th {\n",
       "        text-align: right;\n",
       "    }\n",
       "</style>\n",
       "<table border=\"1\" class=\"dataframe\">\n",
       "  <thead>\n",
       "    <tr style=\"text-align: right;\">\n",
       "      <th></th>\n",
       "      <th>id</th>\n",
       "      <th>title</th>\n",
       "      <th>body</th>\n",
       "      <th>answer_count</th>\n",
       "      <th>answer</th>\n",
       "      <th>accepted_flag</th>\n",
       "    </tr>\n",
       "  </thead>\n",
       "  <tbody>\n",
       "    <tr>\n",
       "      <td>0</td>\n",
       "      <td>26496636</td>\n",
       "      <td>Understanding modular arithmetic in encryption example</td>\n",
       "      <td>&lt;p&gt;I understand modular arithmetic in its basic mathematical form for example:&lt;/p&gt;\\n\\n&lt;pre&gt;&lt;code&gt;38 = 2 mod 12\\n&lt;/code&gt;&lt;/pre&gt;\\n\\n&lt;p&gt;However in the following encryption and decryption code example it is used along with other math and I don't understand what it is used for.&lt;/p&gt;\\n\\n&lt;pre&gt;&lt;code&gt;def encrypt(key, msg):\\n    encryped = []\\n    for i, c in enumerate(msg):\\n        key_c = ord(key[i % len(key)])\\n        msg_c = ord(c)\\n        encryped.append(chr((msg_c + key_c) % 127))\\n    return ''.join(encryped)\\n\\ndef decrypt(key, encryped):\\n    msg = []\\n    for i, c in enumerate(encryped):\\n        key_c = ord(key[i % len(key)])\\n        enc_c = ord(c)\\n        msg.append(chr((enc_c - key_c) % 127))\\n    return ''.join(msg)\\n\\nif __name__ == '__main__':\\n    key = 'This_is_my_awsome_secret_key'\\n    msg = 'Hello world'\\n    encrypted = encrypt(key, msg)\\n    decrypted = decrypt(key, encrypted)\\n\\n    print 'Message:', repr(msg)\\n    print 'Key:', repr(key)\\n    print 'Encrypted:', repr(encrypted)\\n    print 'Decrypted:', repr(decrypted)\\n&lt;/code&gt;&lt;/pre&gt;\\n\\n&lt;p&gt;Can someone explain it to me please?&lt;/p&gt;</td>\n",
       "      <td>3</td>\n",
       "      <td>&lt;p&gt;The mod operator can be used in many different ways. In this case, it is used to constrain certain values and to make them \"rotate\".\\nExample:&lt;/p&gt;\\n\\n&lt;pre&gt;&lt;code&gt;&amp;gt;&amp;gt;&amp;gt; a = [0,1,2,3,4,5]\\n&amp;gt;&amp;gt;&amp;gt; f = lambda x : (x + 4) % 6\\n&amp;gt;&amp;gt;&amp;gt; print map(f,a)\\n[5, 0, 1, 2, 3, 4]\\n&lt;/code&gt;&lt;/pre&gt;\\n\\n&lt;p&gt;As shown here, the function f adds 4 to each index and computes x mod 6 for all the resulting values, yielding an array which effectively has the same values moved 4 places to the right in a circular manner.\\nIn many cases, if we call x mod n, we are saying that we want the values to lie between 0 and n-1. This is often used in hashing functions and other functions where we need some large integers to map to a list index, no larger than the length of the list.&lt;/p&gt;</td>\n",
       "      <td>0</td>\n",
       "    </tr>\n",
       "    <tr>\n",
       "      <td>1</td>\n",
       "      <td>26496636</td>\n",
       "      <td>Understanding modular arithmetic in encryption example</td>\n",
       "      <td>&lt;p&gt;I understand modular arithmetic in its basic mathematical form for example:&lt;/p&gt;\\n\\n&lt;pre&gt;&lt;code&gt;38 = 2 mod 12\\n&lt;/code&gt;&lt;/pre&gt;\\n\\n&lt;p&gt;However in the following encryption and decryption code example it is used along with other math and I don't understand what it is used for.&lt;/p&gt;\\n\\n&lt;pre&gt;&lt;code&gt;def encrypt(key, msg):\\n    encryped = []\\n    for i, c in enumerate(msg):\\n        key_c = ord(key[i % len(key)])\\n        msg_c = ord(c)\\n        encryped.append(chr((msg_c + key_c) % 127))\\n    return ''.join(encryped)\\n\\ndef decrypt(key, encryped):\\n    msg = []\\n    for i, c in enumerate(encryped):\\n        key_c = ord(key[i % len(key)])\\n        enc_c = ord(c)\\n        msg.append(chr((enc_c - key_c) % 127))\\n    return ''.join(msg)\\n\\nif __name__ == '__main__':\\n    key = 'This_is_my_awsome_secret_key'\\n    msg = 'Hello world'\\n    encrypted = encrypt(key, msg)\\n    decrypted = decrypt(key, encrypted)\\n\\n    print 'Message:', repr(msg)\\n    print 'Key:', repr(key)\\n    print 'Encrypted:', repr(encrypted)\\n    print 'Decrypted:', repr(decrypted)\\n&lt;/code&gt;&lt;/pre&gt;\\n\\n&lt;p&gt;Can someone explain it to me please?&lt;/p&gt;</td>\n",
       "      <td>3</td>\n",
       "      <td>&lt;p&gt;The modular of 127 us to ensure you stay in ASCII bounds (basically so it's readable). The modular for encrypted just makes a set up that can be undone, and appear random. However, given the keys simplicity, the encrypt can easily be undone the same way it was done.&lt;/p&gt;\\n\\n&lt;p&gt;I would recommend changing the key to just 'key', and write down the steps of encrypt, then decrypt. The pattern will be obvious after that. If you have any questions, feel free to ask.&lt;/p&gt;</td>\n",
       "      <td>0</td>\n",
       "    </tr>\n",
       "    <tr>\n",
       "      <td>2</td>\n",
       "      <td>26496636</td>\n",
       "      <td>Understanding modular arithmetic in encryption example</td>\n",
       "      <td>&lt;p&gt;I understand modular arithmetic in its basic mathematical form for example:&lt;/p&gt;\\n\\n&lt;pre&gt;&lt;code&gt;38 = 2 mod 12\\n&lt;/code&gt;&lt;/pre&gt;\\n\\n&lt;p&gt;However in the following encryption and decryption code example it is used along with other math and I don't understand what it is used for.&lt;/p&gt;\\n\\n&lt;pre&gt;&lt;code&gt;def encrypt(key, msg):\\n    encryped = []\\n    for i, c in enumerate(msg):\\n        key_c = ord(key[i % len(key)])\\n        msg_c = ord(c)\\n        encryped.append(chr((msg_c + key_c) % 127))\\n    return ''.join(encryped)\\n\\ndef decrypt(key, encryped):\\n    msg = []\\n    for i, c in enumerate(encryped):\\n        key_c = ord(key[i % len(key)])\\n        enc_c = ord(c)\\n        msg.append(chr((enc_c - key_c) % 127))\\n    return ''.join(msg)\\n\\nif __name__ == '__main__':\\n    key = 'This_is_my_awsome_secret_key'\\n    msg = 'Hello world'\\n    encrypted = encrypt(key, msg)\\n    decrypted = decrypt(key, encrypted)\\n\\n    print 'Message:', repr(msg)\\n    print 'Key:', repr(key)\\n    print 'Encrypted:', repr(encrypted)\\n    print 'Decrypted:', repr(decrypted)\\n&lt;/code&gt;&lt;/pre&gt;\\n\\n&lt;p&gt;Can someone explain it to me please?&lt;/p&gt;</td>\n",
       "      <td>3</td>\n",
       "      <td>&lt;p&gt;in the parts \\n&lt;code&gt;\\n        key_c = ord(key[i % len(key)])&lt;/code&gt;&lt;/p&gt;\\n\\n&lt;p&gt;The &lt;code&gt;%&lt;/code&gt; is used to avoid an &lt;code&gt;IndexError&lt;/code&gt; - it just wraps the key around the message when the key is shorter than the message.&lt;/p&gt;\\n\\n&lt;p&gt;In \\n&lt;code&gt;\\n        encryped.append(chr((msg_c + key_c) % 127))&lt;/code&gt;&lt;/p&gt;\\n\\n&lt;p&gt;The &lt;code&gt;%&lt;/code&gt; is used to keep the resulting &lt;code&gt;chr&lt;/code&gt; in the 7-bit &lt;code&gt;ascii&lt;/code&gt; range.&lt;/p&gt;\\n\\n&lt;p&gt;Think about &lt;code&gt;%&lt;/code&gt; here like the clock:\\nwhen it's &lt;code&gt;x&lt;/code&gt; hours later than &lt;code&gt;y&lt;/code&gt; 'o clock, it's &lt;code&gt;(x+y) % 12&lt;/code&gt; 'o clock.&lt;/p&gt;\\n\\n&lt;p&gt;On a side note: I think it must be obvious, I want to mention it nonetheless: this \"cipher\" is of course far away from being secure.&lt;/p&gt;</td>\n",
       "      <td>1</td>\n",
       "    </tr>\n",
       "    <tr>\n",
       "      <td>3</td>\n",
       "      <td>55340041</td>\n",
       "      <td>Best practice: how to pass many many arguments to a function?</td>\n",
       "      <td>&lt;p&gt;I am running some &lt;strong&gt;numerical simulations, in which my main function must receive lots and lots of arguments - I'm talking 10 to 30 arguments&lt;/strong&gt; depending on the simulation to run.&lt;/p&gt;\\n\\n&lt;p&gt;&lt;strong&gt;What are some best practices to handle cases like this?&lt;/strong&gt;\\nDividing the code into, say, 10 functions with 3 arguments each doesn't sound very feasible in my case.&lt;/p&gt;\\n\\n&lt;p&gt;Should this not be the best forum for this type of questions, can you recommend where to ask?&lt;/p&gt;\\n\\n&lt;p&gt;&lt;strong&gt;What I do is create an instance of a class (with no methods), store the inputs as attributes of that instance, then pass the instance - so the function receives only one input&lt;/strong&gt;.&lt;/p&gt;\\n\\n&lt;p&gt;&lt;em&gt;I like this because&lt;/em&gt; the code looks clean, easy to read, and because I find it easy to define and run alternative scenarios.&lt;/p&gt;\\n\\n&lt;p&gt;&lt;em&gt;I dislike it because&lt;/em&gt; accessing class attributes within a function is slower than accessing a local variable (see: &lt;a href=\"https://stackoverflow.com/questions/55251248/how-why-to-optimise-code-by-copying-class-attributes-to-local-variables\"&gt;How / why to optimise code by copying class attributes to local variables?&lt;/a&gt;) and because it is not an efficient use of memory - too much data stored multiple times unnecessarily. &lt;/p&gt;\\n\\n&lt;p&gt;Any thoughts / suggestions / recommendations? Thanks a lot!&lt;/p&gt;\\n\\n&lt;pre&gt;&lt;code&gt;myinput=MyInput()\\nmyinput.input_sql_table = that_sql_table\\nmyinput.input_file = that_input_file\\nmyinput.param1 = param1\\nmyinput.param2 = param2\\nmyoutput = calc(myinput)\\n&lt;/code&gt;&lt;/pre&gt;\\n\\n&lt;p&gt;Alternative scenarios:&lt;/p&gt;\\n\\n&lt;pre&gt;&lt;code&gt;inputs=collections.OrderedDict()\\nscenarios=collections.OrderedDict()\\ninputs['base scenario']=copy.deepcopy(myinput)\\n\\ninputs['param2 = 100']=copy.deepcopy(myinput)\\ninputs['param2 = 100'].param2 = 100\\n# loop through all the inputs and stores the outputs in the ordered dictionary scenarios\\n&lt;/code&gt;&lt;/pre&gt;</td>\n",
       "      <td>2</td>\n",
       "      <td>&lt;p&gt;You could pass in a dictionary like so:&lt;/p&gt;\\n\\n&lt;pre&gt;&lt;code&gt;all_the_kwargs = {kwarg1: 0, kwarg2: 1, kwargN: xyz}\\nsome_func_or_class(**all_the_kwargs)\\n\\ndef some_func_or_class(kwarg1: int = -1, kwarg2: int = 0, kwargN: str = ''):\\n    print(kwarg1, kwarg2, kwargN)\\n&lt;/code&gt;&lt;/pre&gt;\\n\\n&lt;p&gt;Or you could use several named tuples like referenced here: &lt;a href=\"https://stackoverflow.com/questions/34269772/type-hints-in-namedtuple\"&gt;Type hints in namedtuple&lt;/a&gt;&lt;/p&gt;\\n\\n&lt;p&gt;also note that depending on which version of python you are using there may be a limit to the number of arguments you can pass into a function call.&lt;/p&gt;\\n\\n&lt;p&gt;Or you could use just a dictionary:&lt;/p&gt;\\n\\n&lt;pre&gt;&lt;code&gt;def some_func(a_dictionary):\\n   a_dictionary.get('argXYZ', None) # defaults to None if argXYZ doesn't exist\\n&lt;/code&gt;&lt;/pre&gt;</td>\n",
       "      <td>0</td>\n",
       "    </tr>\n",
       "    <tr>\n",
       "      <td>4</td>\n",
       "      <td>55340041</td>\n",
       "      <td>Best practice: how to pass many many arguments to a function?</td>\n",
       "      <td>&lt;p&gt;I am running some &lt;strong&gt;numerical simulations, in which my main function must receive lots and lots of arguments - I'm talking 10 to 30 arguments&lt;/strong&gt; depending on the simulation to run.&lt;/p&gt;\\n\\n&lt;p&gt;&lt;strong&gt;What are some best practices to handle cases like this?&lt;/strong&gt;\\nDividing the code into, say, 10 functions with 3 arguments each doesn't sound very feasible in my case.&lt;/p&gt;\\n\\n&lt;p&gt;Should this not be the best forum for this type of questions, can you recommend where to ask?&lt;/p&gt;\\n\\n&lt;p&gt;&lt;strong&gt;What I do is create an instance of a class (with no methods), store the inputs as attributes of that instance, then pass the instance - so the function receives only one input&lt;/strong&gt;.&lt;/p&gt;\\n\\n&lt;p&gt;&lt;em&gt;I like this because&lt;/em&gt; the code looks clean, easy to read, and because I find it easy to define and run alternative scenarios.&lt;/p&gt;\\n\\n&lt;p&gt;&lt;em&gt;I dislike it because&lt;/em&gt; accessing class attributes within a function is slower than accessing a local variable (see: &lt;a href=\"https://stackoverflow.com/questions/55251248/how-why-to-optimise-code-by-copying-class-attributes-to-local-variables\"&gt;How / why to optimise code by copying class attributes to local variables?&lt;/a&gt;) and because it is not an efficient use of memory - too much data stored multiple times unnecessarily. &lt;/p&gt;\\n\\n&lt;p&gt;Any thoughts / suggestions / recommendations? Thanks a lot!&lt;/p&gt;\\n\\n&lt;pre&gt;&lt;code&gt;myinput=MyInput()\\nmyinput.input_sql_table = that_sql_table\\nmyinput.input_file = that_input_file\\nmyinput.param1 = param1\\nmyinput.param2 = param2\\nmyoutput = calc(myinput)\\n&lt;/code&gt;&lt;/pre&gt;\\n\\n&lt;p&gt;Alternative scenarios:&lt;/p&gt;\\n\\n&lt;pre&gt;&lt;code&gt;inputs=collections.OrderedDict()\\nscenarios=collections.OrderedDict()\\ninputs['base scenario']=copy.deepcopy(myinput)\\n\\ninputs['param2 = 100']=copy.deepcopy(myinput)\\ninputs['param2 = 100'].param2 = 100\\n# loop through all the inputs and stores the outputs in the ordered dictionary scenarios\\n&lt;/code&gt;&lt;/pre&gt;</td>\n",
       "      <td>2</td>\n",
       "      <td>&lt;p&gt;I don't think this is really a StackOverflow question, more of a Software Engineering question. For example &lt;a href=\"https://softwareengineering.stackexchange.com/questions/329688/is-introduce-parameter-object-actually-a-good-pattern\"&gt;check out this question&lt;/a&gt;.&lt;/p&gt;\\n\\n&lt;p&gt;As far as whether or not this is a good design pattern, this is an excellent way to handle a large number of arguments. You mentioned that this isn't very efficient in terms of memory or speed, but I think you're making an improper micro-optimization. &lt;/p&gt;\\n\\n&lt;p&gt;As far as memory is concerned, the overhead of running the Python interpreter is going to dwarf the couple of extra bytes used by instantiating your class.&lt;/p&gt;\\n\\n&lt;p&gt;Unless you have run a profiler and determined that accessing members of that options class is slowing you down, I wouldn't worry about it. This is especially the case because you're using Python. If speed is a real concern, you should be using something else. &lt;/p&gt;\\n\\n&lt;p&gt;You may not be aware of this, but most of the large scale number crunching libraries for Python aren't actually written in Python, they're just wrappers around C/C++ libraries that are much faster.&lt;/p&gt;\\n\\n&lt;p&gt;I recommend reading &lt;a href=\"http://wiki.c2.com/?PrematureOptimization\" rel=\"nofollow noreferrer\"&gt;this article&lt;/a&gt;, it is well established that \"Premature optimization is the root of all evil\".&lt;/p&gt;</td>\n",
       "      <td>1</td>\n",
       "    </tr>\n",
       "    <tr>\n",
       "      <td>5</td>\n",
       "      <td>20805614</td>\n",
       "      <td>Tokenize a mathematical expression in Python</td>\n",
       "      <td>&lt;p&gt;I tried to write a function to tokenize a mathematical expression, converting an input string into a list of tokens, but without success. Is there an easy way to do this in Python? For example, given the expression&lt;/p&gt;\\n\\n&lt;p&gt;sin( 1 + 2 * x ) + tan( 2.123 * x ),&lt;/p&gt;\\n\\n&lt;p&gt;I want to obtain the list&lt;/p&gt;\\n\\n&lt;pre&gt;&lt;code&gt;[ 'sin', '(', '1', '+', '2', '*', 'x', ')', '+', 'tan', '(', '2.123', '*', 'x', ')' ]\\n&lt;/code&gt;&lt;/pre&gt;\\n\\n&lt;p&gt;Thanks in advance!&lt;/p&gt;</td>\n",
       "      <td>2</td>\n",
       "      <td>&lt;p&gt;You can use &lt;code&gt;tokenize&lt;/code&gt;-module. &lt;a href=\"http://docs.python.org/2/library/tokenize.html\" rel=\"nofollow\"&gt;http://docs.python.org/2/library/tokenize.html&lt;/a&gt; Here is an example &lt;/p&gt;\\n\\n&lt;pre&gt;&lt;code&gt;&amp;gt;&amp;gt;&amp;gt; s = \"sin( 1 + 2 * x ) + tan( 2.123 * x \"\\n&amp;gt;&amp;gt;&amp;gt; import tokenize\\n&amp;gt;&amp;gt;&amp;gt; from StringIO import StringIO\\n&amp;gt;&amp;gt;&amp;gt; tokenize.tokenize(StringIO(s).readline)\\n1,0-1,3:    NAME    'sin'\\n1,3-1,4:    OP  '('\\n1,5-1,6:    NUMBER  '1'\\n1,7-1,8:    OP  '+'\\n1,9-1,10:   NUMBER  '2'\\n1,11-1,12:  OP  '*'\\n1,13-1,14:  NAME    'x'\\n1,15-1,16:  OP  ')'\\n1,17-1,18:  OP  '+'\\n1,19-1,22:  NAME    'tan'\\n1,22-1,23:  OP  '('\\n1,24-1,29:  NUMBER  '2.123'\\n1,30-1,31:  OP  '*'\\n1,32-1,33:  NAME    'x'\\n# and now occurs some error you have to catch\\n&lt;/code&gt;&lt;/pre&gt;\\n\\n&lt;p&gt;And there is an other approach using regular expressions:&lt;/p&gt;\\n\\n&lt;p&gt;Here is the link for the explanation of the reg-ex and this site is also a great tool for testing/exploring regex: &lt;a href=\"http://regex101.com/r/bP6kH1\" rel=\"nofollow\"&gt;http://regex101.com/r/bP6kH1&lt;/a&gt;&lt;/p&gt;\\n\\n&lt;pre&gt;&lt;code&gt;&amp;gt;&amp;gt;&amp;gt; s = \"sin( 1 + 2 * x ) + tan( 2.123 * x \"\\n&amp;gt;&amp;gt;&amp;gt; import re\\n&amp;gt;&amp;gt;&amp;gt; re.findall(r\"(\\b\\w*[\\.]?\\w+\\b|[\\(\\)\\+\\*\\-\\/])\", s)\\n['sin', '(', '1', '+', '2', '*', 'x', ')', '+', 'tan', '(', '2.123', '*', 'x']\\n&lt;/code&gt;&lt;/pre&gt;</td>\n",
       "      <td>1</td>\n",
       "    </tr>\n",
       "    <tr>\n",
       "      <td>6</td>\n",
       "      <td>20805614</td>\n",
       "      <td>Tokenize a mathematical expression in Python</td>\n",
       "      <td>&lt;p&gt;I tried to write a function to tokenize a mathematical expression, converting an input string into a list of tokens, but without success. Is there an easy way to do this in Python? For example, given the expression&lt;/p&gt;\\n\\n&lt;p&gt;sin( 1 + 2 * x ) + tan( 2.123 * x ),&lt;/p&gt;\\n\\n&lt;p&gt;I want to obtain the list&lt;/p&gt;\\n\\n&lt;pre&gt;&lt;code&gt;[ 'sin', '(', '1', '+', '2', '*', 'x', ')', '+', 'tan', '(', '2.123', '*', 'x', ')' ]\\n&lt;/code&gt;&lt;/pre&gt;\\n\\n&lt;p&gt;Thanks in advance!&lt;/p&gt;</td>\n",
       "      <td>2</td>\n",
       "      <td>&lt;p&gt;You can use &lt;a href=\"http://pyparsing.wikispaces.com\" rel=\"nofollow\"&gt;pyparsing&lt;/a&gt; to parse an expression of this type:&lt;/p&gt;\\n\\n&lt;pre&gt;&lt;code&gt;from pyparsing import *\\n\\nexpr = Forward()\\n\\ndouble = Word(nums + \".\").setParseAction(lambda t:float(t[0]))\\ninteger = Word(nums).setParseAction(lambda t:int(t[0]))\\nvariable = Word(alphas)\\nstring = dblQuotedString\\nfunccall = Group(variable + \"(\" + Group(Optional(delimitedList(expr))) + \")\")\\narray_func = Group(funccall + \"[\" + Group(delimitedList(expr, \"][\")) + \"]\")\\narray_var = Group(variable + \"[\" + Group(delimitedList(expr, \"][\")) + \"]\")\\n\\noperand = double | string | array_func | funccall | array_var | variable\\n\\nexpop = Literal('^')\\nsignop = oneOf('+ -')\\nmultop = oneOf('* /')\\nplusop = oneOf('+ -')\\n\\nexpr &amp;lt;&amp;lt; operatorPrecedence( operand,\\n[(\"^\", 2, opAssoc.RIGHT),\\n(signop, 1, opAssoc.RIGHT),\\n(multop, 2, opAssoc.LEFT),\\n(plusop, 2, opAssoc.LEFT),]\\n)\\n\\nresult = expr.parseString('sin( 1 + 2 * x ) + tan( 2.123 * x )')\\nprint result\\n&lt;/code&gt;&lt;/pre&gt;\\n\\n&lt;p&gt;Prints:&lt;/p&gt;\\n\\n&lt;pre&gt;&lt;code&gt;[[['sin', '(', [[1.0, '+', [2.0, '*', 'x']]], ')'], '+', ['tan', '(', [[2.123, '*', 'x']], ')']]]\\n&lt;/code&gt;&lt;/pre&gt;\\n\\n&lt;p&gt;It is a nested list to allow operator precedence to be respected. To get the flat list you wanted, just flatten the list:&lt;/p&gt;\\n\\n&lt;pre&gt;&lt;code&gt;import collections\\n\\ndef flatten(l):\\n    for el in l:\\n        if isinstance(el, collections.Iterable) and not isinstance(el, basestring):\\n            for sub in flatten(el):\\n                yield sub\\n        else:\\n            yield el\\n\\nprint list(flatten(result))\\n&lt;/code&gt;&lt;/pre&gt;\\n\\n&lt;p&gt;Prints:&lt;/p&gt;\\n\\n&lt;pre&gt;&lt;code&gt;['sin', '(', 1.0, '+', 2.0, '*', 'x', ')', '+', 'tan', '(', 2.123, '*', 'x', ')']\\n&lt;/code&gt;&lt;/pre&gt;\\n\\n&lt;p&gt;Or, if you just want to tokenize without any respect to operator precedence or structure, you can do that in one line:&lt;/p&gt;\\n\\n&lt;pre&gt;&lt;code&gt;&amp;gt;&amp;gt;&amp;gt; from pyparsing import *\\n&amp;gt;&amp;gt;&amp;gt; OneOrMore(Word(alphas+\"_\", alphanums+\"_\") | Word(printables)).parseString(\"sin( 1 + 2 * x ) + tan( 2.123 * x )\").asList()\\n['sin', '(', '1', '+', '2', '*', 'x', ')', '+', 'tan', '(', '2.123', '*', 'x', ')']\\n&lt;/code&gt;&lt;/pre&gt;</td>\n",
       "      <td>0</td>\n",
       "    </tr>\n",
       "    <tr>\n",
       "      <td>7</td>\n",
       "      <td>32793881</td>\n",
       "      <td>What is the runtime complexity (big O) of the following pseudocode?</td>\n",
       "      <td>&lt;p&gt;I recently had a very, very intense debate about the runtime complexity of a super simple algorithm with a colleague of mine.  In the end we both agreed to disagree but as I've been thinking about this, it's challenged my basic understanding of computer science fundamentals and so I therefore must get additional insight on the matter.&lt;/p&gt;\\n\\n&lt;p&gt;Given the following python, what is the Big-O runtime complexity:&lt;/p&gt;\\n\\n&lt;pre&gt;&lt;code&gt;for c in \"How are you today?\":\\n    print c\\n&lt;/code&gt;&lt;/pre&gt;\\n\\n&lt;p&gt;Now, I immediately called out that this is simply on the order of O(n) aka linear.  Meaning it's dependent on the length of the string so therefore this loop will grow linearly as the length of the string grows.&lt;/p&gt;\\n\\n&lt;p&gt;My colleague then said, \"No, it's constant because we know that for the set of all strings we are dealing with (in our case), the max string is always 255 characters long (in our case), therefore it must be constant.\"  He followed on by saying \"because we have a max upper-bound on character length of the string this results in O(255) which reduces to O(1).\"&lt;/p&gt;\\n\\n&lt;p&gt;Anyways, we went back and fourth and after 45 minutes of both of us drawing sketches we both dead-locked on the issue.&lt;/p&gt;\\n\\n&lt;p&gt;My question is in what world or what math system is the loop above a constant time loop?  If we knew our upper-bound was say 1,000,000 characters and the set of all strings could be anywhere from 0 to 1,000,000 this loop will obviously exhibit linear running times depending on the size of the string.&lt;/p&gt;\\n\\n&lt;p&gt;I additionally asked him if he also thinks the following code is O(1) if the upper-bound size of n is known.  Meaning we are certain this code will only ever operate on a max upper-bound of say 255 characters:&lt;/p&gt;\\n\\n&lt;pre&gt;&lt;code&gt;s = \"How are you today?\"\\nfor c in s:\\n    for d in s:\\n        print c+d\\n&lt;/code&gt;&lt;/pre&gt;\\n\\n&lt;p&gt;He said this is also constant time....even after I explained this is an O(n^2) algorithm and demonstrated that the following code would produce a quadratic curve.&lt;/p&gt;\\n\\n&lt;p&gt;So, am I missing some theoretical concept where any of the above is true depending on how the theory goes?  &lt;strong&gt;Just to be clear his understanding is that I am correct if n is not known.  If the upper-bound of n is always known he is asserting that the two algorithms on this post are both of constant runtime complexity.&lt;/strong&gt;&lt;/p&gt;\\n\\n&lt;p&gt;Just looking to maintain my sanity, but perhaps if I'm wrong there's certainly some additional learning I can benefit from.  My good, good colleague was very convincing. Also, if anybody has additional links or material on the subject specific to this question please add to the comments.&lt;/p&gt;</td>\n",
       "      <td>4</td>\n",
       "      <td>&lt;h2&gt;In your case...&lt;/h2&gt;\\n\\n&lt;p&gt;I am tempted to say that your friend is softly wrong. And that's because of the &lt;em&gt;considerably big additional constant of 256 in O(1) run time&lt;/em&gt;. Your friend said that the execution was O(256). And because we ignore the constants in Big-O, we simply call O(256 * 1) as O(1). It is up to you to decide whether this constant is negligible for you or not.&lt;/p&gt;\\n\\n&lt;hr&gt;\\n\\n&lt;p&gt;I have two strong reasons to say that you are right:&lt;/p&gt;\\n\\n&lt;p&gt;Firstly, for various values of &lt;em&gt;n&lt;/em&gt;, your answer of O(n) (in first code) gives a better approximation of the running-time. For example:&lt;/p&gt;\\n\\n&lt;ol&gt;\\n&lt;li&gt;&lt;strong&gt;For a string of length 4:&lt;/strong&gt; you say run-time is proportional to 4, while you friend says it is proportional to 1 (or 256).&lt;/li&gt;\\n&lt;li&gt;&lt;strong&gt;For string of length 255:&lt;/strong&gt; you say the running time is proportional to 255 while your friend again says that it is constant time.&lt;/li&gt;\\n&lt;/ol&gt;\\n\\n&lt;p&gt;Clearly, &lt;strong&gt;your answer is more accurate in every case&lt;/strong&gt;, even though his answer is not outright wrong.&lt;/p&gt;\\n\\n&lt;p&gt;Secondly, if you go by your friend's method, then in one sense you can cheat and say that since no string can go beyond your RAM + disk size, therefore all processing is in O(1). And that's when the fallacy of your friend's reasoning becomes visible. &lt;em&gt;Yes he is right that running time (assuming 1TB hard disk and 8 GB RAM) is O((1TB + 8GB) *1) = O(1), but you simply cannot ignore the size of your constant in this scenario.&lt;/em&gt;&lt;/p&gt;\\n\\n&lt;hr&gt;\\n\\n&lt;p&gt;&lt;strong&gt;The Big-O complexity does not tell the actual time of execution, but just the simplistic rate of growth of the running time as the value of n increases.&lt;/strong&gt;&lt;/p&gt;</td>\n",
       "      <td>0</td>\n",
       "    </tr>\n",
       "    <tr>\n",
       "      <td>8</td>\n",
       "      <td>32793881</td>\n",
       "      <td>What is the runtime complexity (big O) of the following pseudocode?</td>\n",
       "      <td>&lt;p&gt;I recently had a very, very intense debate about the runtime complexity of a super simple algorithm with a colleague of mine.  In the end we both agreed to disagree but as I've been thinking about this, it's challenged my basic understanding of computer science fundamentals and so I therefore must get additional insight on the matter.&lt;/p&gt;\\n\\n&lt;p&gt;Given the following python, what is the Big-O runtime complexity:&lt;/p&gt;\\n\\n&lt;pre&gt;&lt;code&gt;for c in \"How are you today?\":\\n    print c\\n&lt;/code&gt;&lt;/pre&gt;\\n\\n&lt;p&gt;Now, I immediately called out that this is simply on the order of O(n) aka linear.  Meaning it's dependent on the length of the string so therefore this loop will grow linearly as the length of the string grows.&lt;/p&gt;\\n\\n&lt;p&gt;My colleague then said, \"No, it's constant because we know that for the set of all strings we are dealing with (in our case), the max string is always 255 characters long (in our case), therefore it must be constant.\"  He followed on by saying \"because we have a max upper-bound on character length of the string this results in O(255) which reduces to O(1).\"&lt;/p&gt;\\n\\n&lt;p&gt;Anyways, we went back and fourth and after 45 minutes of both of us drawing sketches we both dead-locked on the issue.&lt;/p&gt;\\n\\n&lt;p&gt;My question is in what world or what math system is the loop above a constant time loop?  If we knew our upper-bound was say 1,000,000 characters and the set of all strings could be anywhere from 0 to 1,000,000 this loop will obviously exhibit linear running times depending on the size of the string.&lt;/p&gt;\\n\\n&lt;p&gt;I additionally asked him if he also thinks the following code is O(1) if the upper-bound size of n is known.  Meaning we are certain this code will only ever operate on a max upper-bound of say 255 characters:&lt;/p&gt;\\n\\n&lt;pre&gt;&lt;code&gt;s = \"How are you today?\"\\nfor c in s:\\n    for d in s:\\n        print c+d\\n&lt;/code&gt;&lt;/pre&gt;\\n\\n&lt;p&gt;He said this is also constant time....even after I explained this is an O(n^2) algorithm and demonstrated that the following code would produce a quadratic curve.&lt;/p&gt;\\n\\n&lt;p&gt;So, am I missing some theoretical concept where any of the above is true depending on how the theory goes?  &lt;strong&gt;Just to be clear his understanding is that I am correct if n is not known.  If the upper-bound of n is always known he is asserting that the two algorithms on this post are both of constant runtime complexity.&lt;/strong&gt;&lt;/p&gt;\\n\\n&lt;p&gt;Just looking to maintain my sanity, but perhaps if I'm wrong there's certainly some additional learning I can benefit from.  My good, good colleague was very convincing. Also, if anybody has additional links or material on the subject specific to this question please add to the comments.&lt;/p&gt;</td>\n",
       "      <td>4</td>\n",
       "      <td>&lt;p&gt;You're both right in a way, but you're more right than your colleague. (&lt;strong&gt;EDIT:&lt;/strong&gt; Nope. On further thought, you're right and your colleage is wrong. See my comment below.) The question really isn't whether N is &lt;i&gt;known&lt;/i&gt;, but whether N can &lt;i&gt;change&lt;/i&gt;. Is &lt;code&gt;s&lt;/code&gt; the input to your algorithm? Then it's O(N) or O(N^2): you know the value of N for this particular input, but a different input would have a different value, so knowing N for this input isn't relevant.&lt;/p&gt;\\n\\n&lt;p&gt;Here's the difference in your two approaches. You're treating this code as if it looked like this:&lt;/p&gt;\\n\\n&lt;pre&gt;&lt;code&gt;def f(s):\\n    for c in s:\\n        print c\\nf(\"How are you today?\")\\n&lt;/code&gt;&lt;/pre&gt;\\n\\n&lt;p&gt;But your colleague is treating it like this:&lt;/p&gt;\\n\\n&lt;pre&gt;&lt;code&gt;def f(some_other_input):\\n    for c in \"How are you today?\":\\n        print c\\nf(\"A different string\")\\n&lt;/code&gt;&lt;/pre&gt;\\n\\n&lt;p&gt;In the latter case, that for loop should be considered O(1), because &lt;em&gt;it's not going to change&lt;/em&gt; with different inputs. In the former case, the algorithm is O(N).&lt;/p&gt;</td>\n",
       "      <td>0</td>\n",
       "    </tr>\n",
       "    <tr>\n",
       "      <td>9</td>\n",
       "      <td>32793881</td>\n",
       "      <td>What is the runtime complexity (big O) of the following pseudocode?</td>\n",
       "      <td>&lt;p&gt;I recently had a very, very intense debate about the runtime complexity of a super simple algorithm with a colleague of mine.  In the end we both agreed to disagree but as I've been thinking about this, it's challenged my basic understanding of computer science fundamentals and so I therefore must get additional insight on the matter.&lt;/p&gt;\\n\\n&lt;p&gt;Given the following python, what is the Big-O runtime complexity:&lt;/p&gt;\\n\\n&lt;pre&gt;&lt;code&gt;for c in \"How are you today?\":\\n    print c\\n&lt;/code&gt;&lt;/pre&gt;\\n\\n&lt;p&gt;Now, I immediately called out that this is simply on the order of O(n) aka linear.  Meaning it's dependent on the length of the string so therefore this loop will grow linearly as the length of the string grows.&lt;/p&gt;\\n\\n&lt;p&gt;My colleague then said, \"No, it's constant because we know that for the set of all strings we are dealing with (in our case), the max string is always 255 characters long (in our case), therefore it must be constant.\"  He followed on by saying \"because we have a max upper-bound on character length of the string this results in O(255) which reduces to O(1).\"&lt;/p&gt;\\n\\n&lt;p&gt;Anyways, we went back and fourth and after 45 minutes of both of us drawing sketches we both dead-locked on the issue.&lt;/p&gt;\\n\\n&lt;p&gt;My question is in what world or what math system is the loop above a constant time loop?  If we knew our upper-bound was say 1,000,000 characters and the set of all strings could be anywhere from 0 to 1,000,000 this loop will obviously exhibit linear running times depending on the size of the string.&lt;/p&gt;\\n\\n&lt;p&gt;I additionally asked him if he also thinks the following code is O(1) if the upper-bound size of n is known.  Meaning we are certain this code will only ever operate on a max upper-bound of say 255 characters:&lt;/p&gt;\\n\\n&lt;pre&gt;&lt;code&gt;s = \"How are you today?\"\\nfor c in s:\\n    for d in s:\\n        print c+d\\n&lt;/code&gt;&lt;/pre&gt;\\n\\n&lt;p&gt;He said this is also constant time....even after I explained this is an O(n^2) algorithm and demonstrated that the following code would produce a quadratic curve.&lt;/p&gt;\\n\\n&lt;p&gt;So, am I missing some theoretical concept where any of the above is true depending on how the theory goes?  &lt;strong&gt;Just to be clear his understanding is that I am correct if n is not known.  If the upper-bound of n is always known he is asserting that the two algorithms on this post are both of constant runtime complexity.&lt;/strong&gt;&lt;/p&gt;\\n\\n&lt;p&gt;Just looking to maintain my sanity, but perhaps if I'm wrong there's certainly some additional learning I can benefit from.  My good, good colleague was very convincing. Also, if anybody has additional links or material on the subject specific to this question please add to the comments.&lt;/p&gt;</td>\n",
       "      <td>4</td>\n",
       "      <td>&lt;p&gt;I think you're both right.&lt;/p&gt;\\n\\n&lt;p&gt;The runtime of the first algorithm is linear in the size of its input. However, if its input is fixed, then its runtime is also fixed.&lt;/p&gt;\\n\\n&lt;p&gt;Big O is all about measuring the behavior of an algorithm &lt;em&gt;as its input changes&lt;/em&gt;. If the input never changes, then Big O is meaningless.&lt;/p&gt;\\n\\n&lt;p&gt;Also: O(n) means that the &lt;strong&gt;upper bound&lt;/strong&gt; of complexity is N. If you want to represent a &lt;strong&gt;tight bound&lt;/strong&gt; then the more precise notation is Θ(n) (theta notation).&lt;/p&gt;</td>\n",
       "      <td>0</td>\n",
       "    </tr>\n",
       "  </tbody>\n",
       "</table>\n",
       "</div>"
      ],
      "text/plain": [
       "         id  \\\n",
       "0  26496636   \n",
       "1  26496636   \n",
       "2  26496636   \n",
       "3  55340041   \n",
       "4  55340041   \n",
       "5  20805614   \n",
       "6  20805614   \n",
       "7  32793881   \n",
       "8  32793881   \n",
       "9  32793881   \n",
       "\n",
       "                                                                 title  \\\n",
       "0  Understanding modular arithmetic in encryption example                \n",
       "1  Understanding modular arithmetic in encryption example                \n",
       "2  Understanding modular arithmetic in encryption example                \n",
       "3  Best practice: how to pass many many arguments to a function?         \n",
       "4  Best practice: how to pass many many arguments to a function?         \n",
       "5  Tokenize a mathematical expression in Python                          \n",
       "6  Tokenize a mathematical expression in Python                          \n",
       "7  What is the runtime complexity (big O) of the following pseudocode?   \n",
       "8  What is the runtime complexity (big O) of the following pseudocode?   \n",
       "9  What is the runtime complexity (big O) of the following pseudocode?   \n",
       "\n",
       "                                                                                                                                                                                                                                                                                                                                                                                                                                                                                                                                                                                                                                                                                                                                                                                                                                                                                                                                                                                                                                                                                                                                                                                                                                                                                                                                                                                                                                                                                                                                                                                                                                                                                                                                                                                                                                                                                                                                                                                                                                                                                                                                                                                                                                                                                                                                                                                                                                                                                                                                                                                                                                                                                                                                                                        body  \\\n",
       "0  <p>I understand modular arithmetic in its basic mathematical form for example:</p>\\n\\n<pre><code>38 = 2 mod 12\\n</code></pre>\\n\\n<p>However in the following encryption and decryption code example it is used along with other math and I don't understand what it is used for.</p>\\n\\n<pre><code>def encrypt(key, msg):\\n    encryped = []\\n    for i, c in enumerate(msg):\\n        key_c = ord(key[i % len(key)])\\n        msg_c = ord(c)\\n        encryped.append(chr((msg_c + key_c) % 127))\\n    return ''.join(encryped)\\n\\ndef decrypt(key, encryped):\\n    msg = []\\n    for i, c in enumerate(encryped):\\n        key_c = ord(key[i % len(key)])\\n        enc_c = ord(c)\\n        msg.append(chr((enc_c - key_c) % 127))\\n    return ''.join(msg)\\n\\nif __name__ == '__main__':\\n    key = 'This_is_my_awsome_secret_key'\\n    msg = 'Hello world'\\n    encrypted = encrypt(key, msg)\\n    decrypted = decrypt(key, encrypted)\\n\\n    print 'Message:', repr(msg)\\n    print 'Key:', repr(key)\\n    print 'Encrypted:', repr(encrypted)\\n    print 'Decrypted:', repr(decrypted)\\n</code></pre>\\n\\n<p>Can someone explain it to me please?</p>                                                                                                                                                                                                                                                                                                                                                                                                                                                                                                                                                                                                                                                                                                                                                                                                                                                                                                                                                                                                                                                                                                                                                                                                                                                                                                                                                                                                                                                                                                                                                                                                                   \n",
       "1  <p>I understand modular arithmetic in its basic mathematical form for example:</p>\\n\\n<pre><code>38 = 2 mod 12\\n</code></pre>\\n\\n<p>However in the following encryption and decryption code example it is used along with other math and I don't understand what it is used for.</p>\\n\\n<pre><code>def encrypt(key, msg):\\n    encryped = []\\n    for i, c in enumerate(msg):\\n        key_c = ord(key[i % len(key)])\\n        msg_c = ord(c)\\n        encryped.append(chr((msg_c + key_c) % 127))\\n    return ''.join(encryped)\\n\\ndef decrypt(key, encryped):\\n    msg = []\\n    for i, c in enumerate(encryped):\\n        key_c = ord(key[i % len(key)])\\n        enc_c = ord(c)\\n        msg.append(chr((enc_c - key_c) % 127))\\n    return ''.join(msg)\\n\\nif __name__ == '__main__':\\n    key = 'This_is_my_awsome_secret_key'\\n    msg = 'Hello world'\\n    encrypted = encrypt(key, msg)\\n    decrypted = decrypt(key, encrypted)\\n\\n    print 'Message:', repr(msg)\\n    print 'Key:', repr(key)\\n    print 'Encrypted:', repr(encrypted)\\n    print 'Decrypted:', repr(decrypted)\\n</code></pre>\\n\\n<p>Can someone explain it to me please?</p>                                                                                                                                                                                                                                                                                                                                                                                                                                                                                                                                                                                                                                                                                                                                                                                                                                                                                                                                                                                                                                                                                                                                                                                                                                                                                                                                                                                                                                                                                                                                                                                                                   \n",
       "2  <p>I understand modular arithmetic in its basic mathematical form for example:</p>\\n\\n<pre><code>38 = 2 mod 12\\n</code></pre>\\n\\n<p>However in the following encryption and decryption code example it is used along with other math and I don't understand what it is used for.</p>\\n\\n<pre><code>def encrypt(key, msg):\\n    encryped = []\\n    for i, c in enumerate(msg):\\n        key_c = ord(key[i % len(key)])\\n        msg_c = ord(c)\\n        encryped.append(chr((msg_c + key_c) % 127))\\n    return ''.join(encryped)\\n\\ndef decrypt(key, encryped):\\n    msg = []\\n    for i, c in enumerate(encryped):\\n        key_c = ord(key[i % len(key)])\\n        enc_c = ord(c)\\n        msg.append(chr((enc_c - key_c) % 127))\\n    return ''.join(msg)\\n\\nif __name__ == '__main__':\\n    key = 'This_is_my_awsome_secret_key'\\n    msg = 'Hello world'\\n    encrypted = encrypt(key, msg)\\n    decrypted = decrypt(key, encrypted)\\n\\n    print 'Message:', repr(msg)\\n    print 'Key:', repr(key)\\n    print 'Encrypted:', repr(encrypted)\\n    print 'Decrypted:', repr(decrypted)\\n</code></pre>\\n\\n<p>Can someone explain it to me please?</p>                                                                                                                                                                                                                                                                                                                                                                                                                                                                                                                                                                                                                                                                                                                                                                                                                                                                                                                                                                                                                                                                                                                                                                                                                                                                                                                                                                                                                                                                                                                                                                                                                   \n",
       "3  <p>I am running some <strong>numerical simulations, in which my main function must receive lots and lots of arguments - I'm talking 10 to 30 arguments</strong> depending on the simulation to run.</p>\\n\\n<p><strong>What are some best practices to handle cases like this?</strong>\\nDividing the code into, say, 10 functions with 3 arguments each doesn't sound very feasible in my case.</p>\\n\\n<p>Should this not be the best forum for this type of questions, can you recommend where to ask?</p>\\n\\n<p><strong>What I do is create an instance of a class (with no methods), store the inputs as attributes of that instance, then pass the instance - so the function receives only one input</strong>.</p>\\n\\n<p><em>I like this because</em> the code looks clean, easy to read, and because I find it easy to define and run alternative scenarios.</p>\\n\\n<p><em>I dislike it because</em> accessing class attributes within a function is slower than accessing a local variable (see: <a href=\"https://stackoverflow.com/questions/55251248/how-why-to-optimise-code-by-copying-class-attributes-to-local-variables\">How / why to optimise code by copying class attributes to local variables?</a>) and because it is not an efficient use of memory - too much data stored multiple times unnecessarily. </p>\\n\\n<p>Any thoughts / suggestions / recommendations? Thanks a lot!</p>\\n\\n<pre><code>myinput=MyInput()\\nmyinput.input_sql_table = that_sql_table\\nmyinput.input_file = that_input_file\\nmyinput.param1 = param1\\nmyinput.param2 = param2\\nmyoutput = calc(myinput)\\n</code></pre>\\n\\n<p>Alternative scenarios:</p>\\n\\n<pre><code>inputs=collections.OrderedDict()\\nscenarios=collections.OrderedDict()\\ninputs['base scenario']=copy.deepcopy(myinput)\\n\\ninputs['param2 = 100']=copy.deepcopy(myinput)\\ninputs['param2 = 100'].param2 = 100\\n# loop through all the inputs and stores the outputs in the ordered dictionary scenarios\\n</code></pre>                                                                                                                                                                                                                                                                                                                                                                                                                                                                                                                                                                                                                                                                                                                                                                                      \n",
       "4  <p>I am running some <strong>numerical simulations, in which my main function must receive lots and lots of arguments - I'm talking 10 to 30 arguments</strong> depending on the simulation to run.</p>\\n\\n<p><strong>What are some best practices to handle cases like this?</strong>\\nDividing the code into, say, 10 functions with 3 arguments each doesn't sound very feasible in my case.</p>\\n\\n<p>Should this not be the best forum for this type of questions, can you recommend where to ask?</p>\\n\\n<p><strong>What I do is create an instance of a class (with no methods), store the inputs as attributes of that instance, then pass the instance - so the function receives only one input</strong>.</p>\\n\\n<p><em>I like this because</em> the code looks clean, easy to read, and because I find it easy to define and run alternative scenarios.</p>\\n\\n<p><em>I dislike it because</em> accessing class attributes within a function is slower than accessing a local variable (see: <a href=\"https://stackoverflow.com/questions/55251248/how-why-to-optimise-code-by-copying-class-attributes-to-local-variables\">How / why to optimise code by copying class attributes to local variables?</a>) and because it is not an efficient use of memory - too much data stored multiple times unnecessarily. </p>\\n\\n<p>Any thoughts / suggestions / recommendations? Thanks a lot!</p>\\n\\n<pre><code>myinput=MyInput()\\nmyinput.input_sql_table = that_sql_table\\nmyinput.input_file = that_input_file\\nmyinput.param1 = param1\\nmyinput.param2 = param2\\nmyoutput = calc(myinput)\\n</code></pre>\\n\\n<p>Alternative scenarios:</p>\\n\\n<pre><code>inputs=collections.OrderedDict()\\nscenarios=collections.OrderedDict()\\ninputs['base scenario']=copy.deepcopy(myinput)\\n\\ninputs['param2 = 100']=copy.deepcopy(myinput)\\ninputs['param2 = 100'].param2 = 100\\n# loop through all the inputs and stores the outputs in the ordered dictionary scenarios\\n</code></pre>                                                                                                                                                                                                                                                                                                                                                                                                                                                                                                                                                                                                                                                                                                                                                                                      \n",
       "5  <p>I tried to write a function to tokenize a mathematical expression, converting an input string into a list of tokens, but without success. Is there an easy way to do this in Python? For example, given the expression</p>\\n\\n<p>sin( 1 + 2 * x ) + tan( 2.123 * x ),</p>\\n\\n<p>I want to obtain the list</p>\\n\\n<pre><code>[ 'sin', '(', '1', '+', '2', '*', 'x', ')', '+', 'tan', '(', '2.123', '*', 'x', ')' ]\\n</code></pre>\\n\\n<p>Thanks in advance!</p>                                                                                                                                                                                                                                                                                                                                                                                                                                                                                                                                                                                                                                                                                                                                                                                                                                                                                                                                                                                                                                                                                                                                                                                                                                                                                                                                                                                                                                                                                                                                                                                                                                                                                                                                                                                                                                                                                                                                                                                                                                                                                                                                                                                                                                                                                                            \n",
       "6  <p>I tried to write a function to tokenize a mathematical expression, converting an input string into a list of tokens, but without success. Is there an easy way to do this in Python? For example, given the expression</p>\\n\\n<p>sin( 1 + 2 * x ) + tan( 2.123 * x ),</p>\\n\\n<p>I want to obtain the list</p>\\n\\n<pre><code>[ 'sin', '(', '1', '+', '2', '*', 'x', ')', '+', 'tan', '(', '2.123', '*', 'x', ')' ]\\n</code></pre>\\n\\n<p>Thanks in advance!</p>                                                                                                                                                                                                                                                                                                                                                                                                                                                                                                                                                                                                                                                                                                                                                                                                                                                                                                                                                                                                                                                                                                                                                                                                                                                                                                                                                                                                                                                                                                                                                                                                                                                                                                                                                                                                                                                                                                                                                                                                                                                                                                                                                                                                                                                                                                            \n",
       "7  <p>I recently had a very, very intense debate about the runtime complexity of a super simple algorithm with a colleague of mine.  In the end we both agreed to disagree but as I've been thinking about this, it's challenged my basic understanding of computer science fundamentals and so I therefore must get additional insight on the matter.</p>\\n\\n<p>Given the following python, what is the Big-O runtime complexity:</p>\\n\\n<pre><code>for c in \"How are you today?\":\\n    print c\\n</code></pre>\\n\\n<p>Now, I immediately called out that this is simply on the order of O(n) aka linear.  Meaning it's dependent on the length of the string so therefore this loop will grow linearly as the length of the string grows.</p>\\n\\n<p>My colleague then said, \"No, it's constant because we know that for the set of all strings we are dealing with (in our case), the max string is always 255 characters long (in our case), therefore it must be constant.\"  He followed on by saying \"because we have a max upper-bound on character length of the string this results in O(255) which reduces to O(1).\"</p>\\n\\n<p>Anyways, we went back and fourth and after 45 minutes of both of us drawing sketches we both dead-locked on the issue.</p>\\n\\n<p>My question is in what world or what math system is the loop above a constant time loop?  If we knew our upper-bound was say 1,000,000 characters and the set of all strings could be anywhere from 0 to 1,000,000 this loop will obviously exhibit linear running times depending on the size of the string.</p>\\n\\n<p>I additionally asked him if he also thinks the following code is O(1) if the upper-bound size of n is known.  Meaning we are certain this code will only ever operate on a max upper-bound of say 255 characters:</p>\\n\\n<pre><code>s = \"How are you today?\"\\nfor c in s:\\n    for d in s:\\n        print c+d\\n</code></pre>\\n\\n<p>He said this is also constant time....even after I explained this is an O(n^2) algorithm and demonstrated that the following code would produce a quadratic curve.</p>\\n\\n<p>So, am I missing some theoretical concept where any of the above is true depending on how the theory goes?  <strong>Just to be clear his understanding is that I am correct if n is not known.  If the upper-bound of n is always known he is asserting that the two algorithms on this post are both of constant runtime complexity.</strong></p>\\n\\n<p>Just looking to maintain my sanity, but perhaps if I'm wrong there's certainly some additional learning I can benefit from.  My good, good colleague was very convincing. Also, if anybody has additional links or material on the subject specific to this question please add to the comments.</p>   \n",
       "8  <p>I recently had a very, very intense debate about the runtime complexity of a super simple algorithm with a colleague of mine.  In the end we both agreed to disagree but as I've been thinking about this, it's challenged my basic understanding of computer science fundamentals and so I therefore must get additional insight on the matter.</p>\\n\\n<p>Given the following python, what is the Big-O runtime complexity:</p>\\n\\n<pre><code>for c in \"How are you today?\":\\n    print c\\n</code></pre>\\n\\n<p>Now, I immediately called out that this is simply on the order of O(n) aka linear.  Meaning it's dependent on the length of the string so therefore this loop will grow linearly as the length of the string grows.</p>\\n\\n<p>My colleague then said, \"No, it's constant because we know that for the set of all strings we are dealing with (in our case), the max string is always 255 characters long (in our case), therefore it must be constant.\"  He followed on by saying \"because we have a max upper-bound on character length of the string this results in O(255) which reduces to O(1).\"</p>\\n\\n<p>Anyways, we went back and fourth and after 45 minutes of both of us drawing sketches we both dead-locked on the issue.</p>\\n\\n<p>My question is in what world or what math system is the loop above a constant time loop?  If we knew our upper-bound was say 1,000,000 characters and the set of all strings could be anywhere from 0 to 1,000,000 this loop will obviously exhibit linear running times depending on the size of the string.</p>\\n\\n<p>I additionally asked him if he also thinks the following code is O(1) if the upper-bound size of n is known.  Meaning we are certain this code will only ever operate on a max upper-bound of say 255 characters:</p>\\n\\n<pre><code>s = \"How are you today?\"\\nfor c in s:\\n    for d in s:\\n        print c+d\\n</code></pre>\\n\\n<p>He said this is also constant time....even after I explained this is an O(n^2) algorithm and demonstrated that the following code would produce a quadratic curve.</p>\\n\\n<p>So, am I missing some theoretical concept where any of the above is true depending on how the theory goes?  <strong>Just to be clear his understanding is that I am correct if n is not known.  If the upper-bound of n is always known he is asserting that the two algorithms on this post are both of constant runtime complexity.</strong></p>\\n\\n<p>Just looking to maintain my sanity, but perhaps if I'm wrong there's certainly some additional learning I can benefit from.  My good, good colleague was very convincing. Also, if anybody has additional links or material on the subject specific to this question please add to the comments.</p>   \n",
       "9  <p>I recently had a very, very intense debate about the runtime complexity of a super simple algorithm with a colleague of mine.  In the end we both agreed to disagree but as I've been thinking about this, it's challenged my basic understanding of computer science fundamentals and so I therefore must get additional insight on the matter.</p>\\n\\n<p>Given the following python, what is the Big-O runtime complexity:</p>\\n\\n<pre><code>for c in \"How are you today?\":\\n    print c\\n</code></pre>\\n\\n<p>Now, I immediately called out that this is simply on the order of O(n) aka linear.  Meaning it's dependent on the length of the string so therefore this loop will grow linearly as the length of the string grows.</p>\\n\\n<p>My colleague then said, \"No, it's constant because we know that for the set of all strings we are dealing with (in our case), the max string is always 255 characters long (in our case), therefore it must be constant.\"  He followed on by saying \"because we have a max upper-bound on character length of the string this results in O(255) which reduces to O(1).\"</p>\\n\\n<p>Anyways, we went back and fourth and after 45 minutes of both of us drawing sketches we both dead-locked on the issue.</p>\\n\\n<p>My question is in what world or what math system is the loop above a constant time loop?  If we knew our upper-bound was say 1,000,000 characters and the set of all strings could be anywhere from 0 to 1,000,000 this loop will obviously exhibit linear running times depending on the size of the string.</p>\\n\\n<p>I additionally asked him if he also thinks the following code is O(1) if the upper-bound size of n is known.  Meaning we are certain this code will only ever operate on a max upper-bound of say 255 characters:</p>\\n\\n<pre><code>s = \"How are you today?\"\\nfor c in s:\\n    for d in s:\\n        print c+d\\n</code></pre>\\n\\n<p>He said this is also constant time....even after I explained this is an O(n^2) algorithm and demonstrated that the following code would produce a quadratic curve.</p>\\n\\n<p>So, am I missing some theoretical concept where any of the above is true depending on how the theory goes?  <strong>Just to be clear his understanding is that I am correct if n is not known.  If the upper-bound of n is always known he is asserting that the two algorithms on this post are both of constant runtime complexity.</strong></p>\\n\\n<p>Just looking to maintain my sanity, but perhaps if I'm wrong there's certainly some additional learning I can benefit from.  My good, good colleague was very convincing. Also, if anybody has additional links or material on the subject specific to this question please add to the comments.</p>   \n",
       "\n",
       "   answer_count  \\\n",
       "0  3              \n",
       "1  3              \n",
       "2  3              \n",
       "3  2              \n",
       "4  2              \n",
       "5  2              \n",
       "6  2              \n",
       "7  4              \n",
       "8  4              \n",
       "9  4              \n",
       "\n",
       "                                                                                                                                                                                                                                                                                                                                                                                                                                                                                                                                                                                                                                                                                                                                                                                                                                                                                                                                                                                                                                                                                                                                                                                                                                                                                                                                                                                                                                                                                                                                                                                                                                                                                                                                                                                                                                                                                                                                                                                                                                                                                                                                                                                                                           answer  \\\n",
       "0  <p>The mod operator can be used in many different ways. In this case, it is used to constrain certain values and to make them \"rotate\".\\nExample:</p>\\n\\n<pre><code>&gt;&gt;&gt; a = [0,1,2,3,4,5]\\n&gt;&gt;&gt; f = lambda x : (x + 4) % 6\\n&gt;&gt;&gt; print map(f,a)\\n[5, 0, 1, 2, 3, 4]\\n</code></pre>\\n\\n<p>As shown here, the function f adds 4 to each index and computes x mod 6 for all the resulting values, yielding an array which effectively has the same values moved 4 places to the right in a circular manner.\\nIn many cases, if we call x mod n, we are saying that we want the values to lie between 0 and n-1. This is often used in hashing functions and other functions where we need some large integers to map to a list index, no larger than the length of the list.</p>                                                                                                                                                                                                                                                                                                                                                                                                                                                                                                                                                                                                                                                                                                                                                                                                                                                                                                                                                                                                                                                                                                                                                                                                                                                                                                                                                                                                                           \n",
       "1  <p>The modular of 127 us to ensure you stay in ASCII bounds (basically so it's readable). The modular for encrypted just makes a set up that can be undone, and appear random. However, given the keys simplicity, the encrypt can easily be undone the same way it was done.</p>\\n\\n<p>I would recommend changing the key to just 'key', and write down the steps of encrypt, then decrypt. The pattern will be obvious after that. If you have any questions, feel free to ask.</p>                                                                                                                                                                                                                                                                                                                                                                                                                                                                                                                                                                                                                                                                                                                                                                                                                                                                                                                                                                                                                                                                                                                                                                                                                                                                                                                                                                                                                                                                                                                                                                                                                                                                                                                                            \n",
       "2  <p>in the parts \\n<code>\\n        key_c = ord(key[i % len(key)])</code></p>\\n\\n<p>The <code>%</code> is used to avoid an <code>IndexError</code> - it just wraps the key around the message when the key is shorter than the message.</p>\\n\\n<p>In \\n<code>\\n        encryped.append(chr((msg_c + key_c) % 127))</code></p>\\n\\n<p>The <code>%</code> is used to keep the resulting <code>chr</code> in the 7-bit <code>ascii</code> range.</p>\\n\\n<p>Think about <code>%</code> here like the clock:\\nwhen it's <code>x</code> hours later than <code>y</code> 'o clock, it's <code>(x+y) % 12</code> 'o clock.</p>\\n\\n<p>On a side note: I think it must be obvious, I want to mention it nonetheless: this \"cipher\" is of course far away from being secure.</p>                                                                                                                                                                                                                                                                                                                                                                                                                                                                                                                                                                                                                                                                                                                                                                                                                                                                                                                                                                                                                                                                                                                                                                                                                                                                                                                                                                                                                                                               \n",
       "3  <p>You could pass in a dictionary like so:</p>\\n\\n<pre><code>all_the_kwargs = {kwarg1: 0, kwarg2: 1, kwargN: xyz}\\nsome_func_or_class(**all_the_kwargs)\\n\\ndef some_func_or_class(kwarg1: int = -1, kwarg2: int = 0, kwargN: str = ''):\\n    print(kwarg1, kwarg2, kwargN)\\n</code></pre>\\n\\n<p>Or you could use several named tuples like referenced here: <a href=\"https://stackoverflow.com/questions/34269772/type-hints-in-namedtuple\">Type hints in namedtuple</a></p>\\n\\n<p>also note that depending on which version of python you are using there may be a limit to the number of arguments you can pass into a function call.</p>\\n\\n<p>Or you could use just a dictionary:</p>\\n\\n<pre><code>def some_func(a_dictionary):\\n   a_dictionary.get('argXYZ', None) # defaults to None if argXYZ doesn't exist\\n</code></pre>                                                                                                                                                                                                                                                                                                                                                                                                                                                                                                                                                                                                                                                                                                                                                                                                                                                                                                                                                                                                                                                                                                                                                                                                                                                                                                                                                                                              \n",
       "4  <p>I don't think this is really a StackOverflow question, more of a Software Engineering question. For example <a href=\"https://softwareengineering.stackexchange.com/questions/329688/is-introduce-parameter-object-actually-a-good-pattern\">check out this question</a>.</p>\\n\\n<p>As far as whether or not this is a good design pattern, this is an excellent way to handle a large number of arguments. You mentioned that this isn't very efficient in terms of memory or speed, but I think you're making an improper micro-optimization. </p>\\n\\n<p>As far as memory is concerned, the overhead of running the Python interpreter is going to dwarf the couple of extra bytes used by instantiating your class.</p>\\n\\n<p>Unless you have run a profiler and determined that accessing members of that options class is slowing you down, I wouldn't worry about it. This is especially the case because you're using Python. If speed is a real concern, you should be using something else. </p>\\n\\n<p>You may not be aware of this, but most of the large scale number crunching libraries for Python aren't actually written in Python, they're just wrappers around C/C++ libraries that are much faster.</p>\\n\\n<p>I recommend reading <a href=\"http://wiki.c2.com/?PrematureOptimization\" rel=\"nofollow noreferrer\">this article</a>, it is well established that \"Premature optimization is the root of all evil\".</p>                                                                                                                                                                                                                                                                                                                                                                                                                                                                                                                                                                                                                                                                                                                                                                                           \n",
       "5  <p>You can use <code>tokenize</code>-module. <a href=\"http://docs.python.org/2/library/tokenize.html\" rel=\"nofollow\">http://docs.python.org/2/library/tokenize.html</a> Here is an example </p>\\n\\n<pre><code>&gt;&gt;&gt; s = \"sin( 1 + 2 * x ) + tan( 2.123 * x \"\\n&gt;&gt;&gt; import tokenize\\n&gt;&gt;&gt; from StringIO import StringIO\\n&gt;&gt;&gt; tokenize.tokenize(StringIO(s).readline)\\n1,0-1,3:    NAME    'sin'\\n1,3-1,4:    OP  '('\\n1,5-1,6:    NUMBER  '1'\\n1,7-1,8:    OP  '+'\\n1,9-1,10:   NUMBER  '2'\\n1,11-1,12:  OP  '*'\\n1,13-1,14:  NAME    'x'\\n1,15-1,16:  OP  ')'\\n1,17-1,18:  OP  '+'\\n1,19-1,22:  NAME    'tan'\\n1,22-1,23:  OP  '('\\n1,24-1,29:  NUMBER  '2.123'\\n1,30-1,31:  OP  '*'\\n1,32-1,33:  NAME    'x'\\n# and now occurs some error you have to catch\\n</code></pre>\\n\\n<p>And there is an other approach using regular expressions:</p>\\n\\n<p>Here is the link for the explanation of the reg-ex and this site is also a great tool for testing/exploring regex: <a href=\"http://regex101.com/r/bP6kH1\" rel=\"nofollow\">http://regex101.com/r/bP6kH1</a></p>\\n\\n<pre><code>&gt;&gt;&gt; s = \"sin( 1 + 2 * x ) + tan( 2.123 * x \"\\n&gt;&gt;&gt; import re\\n&gt;&gt;&gt; re.findall(r\"(\\b\\w*[\\.]?\\w+\\b|[\\(\\)\\+\\*\\-\\/])\", s)\\n['sin', '(', '1', '+', '2', '*', 'x', ')', '+', 'tan', '(', '2.123', '*', 'x']\\n</code></pre>                                                                                                                                                                                                                                                                                                                                                                                                                                                                                                                                                                                                                                                                                                                                                                                                                                                                  \n",
       "6  <p>You can use <a href=\"http://pyparsing.wikispaces.com\" rel=\"nofollow\">pyparsing</a> to parse an expression of this type:</p>\\n\\n<pre><code>from pyparsing import *\\n\\nexpr = Forward()\\n\\ndouble = Word(nums + \".\").setParseAction(lambda t:float(t[0]))\\ninteger = Word(nums).setParseAction(lambda t:int(t[0]))\\nvariable = Word(alphas)\\nstring = dblQuotedString\\nfunccall = Group(variable + \"(\" + Group(Optional(delimitedList(expr))) + \")\")\\narray_func = Group(funccall + \"[\" + Group(delimitedList(expr, \"][\")) + \"]\")\\narray_var = Group(variable + \"[\" + Group(delimitedList(expr, \"][\")) + \"]\")\\n\\noperand = double | string | array_func | funccall | array_var | variable\\n\\nexpop = Literal('^')\\nsignop = oneOf('+ -')\\nmultop = oneOf('* /')\\nplusop = oneOf('+ -')\\n\\nexpr &lt;&lt; operatorPrecedence( operand,\\n[(\"^\", 2, opAssoc.RIGHT),\\n(signop, 1, opAssoc.RIGHT),\\n(multop, 2, opAssoc.LEFT),\\n(plusop, 2, opAssoc.LEFT),]\\n)\\n\\nresult = expr.parseString('sin( 1 + 2 * x ) + tan( 2.123 * x )')\\nprint result\\n</code></pre>\\n\\n<p>Prints:</p>\\n\\n<pre><code>[[['sin', '(', [[1.0, '+', [2.0, '*', 'x']]], ')'], '+', ['tan', '(', [[2.123, '*', 'x']], ')']]]\\n</code></pre>\\n\\n<p>It is a nested list to allow operator precedence to be respected. To get the flat list you wanted, just flatten the list:</p>\\n\\n<pre><code>import collections\\n\\ndef flatten(l):\\n    for el in l:\\n        if isinstance(el, collections.Iterable) and not isinstance(el, basestring):\\n            for sub in flatten(el):\\n                yield sub\\n        else:\\n            yield el\\n\\nprint list(flatten(result))\\n</code></pre>\\n\\n<p>Prints:</p>\\n\\n<pre><code>['sin', '(', 1.0, '+', 2.0, '*', 'x', ')', '+', 'tan', '(', 2.123, '*', 'x', ')']\\n</code></pre>\\n\\n<p>Or, if you just want to tokenize without any respect to operator precedence or structure, you can do that in one line:</p>\\n\\n<pre><code>&gt;&gt;&gt; from pyparsing import *\\n&gt;&gt;&gt; OneOrMore(Word(alphas+\"_\", alphanums+\"_\") | Word(printables)).parseString(\"sin( 1 + 2 * x ) + tan( 2.123 * x )\").asList()\\n['sin', '(', '1', '+', '2', '*', 'x', ')', '+', 'tan', '(', '2.123', '*', 'x', ')']\\n</code></pre>   \n",
       "7  <h2>In your case...</h2>\\n\\n<p>I am tempted to say that your friend is softly wrong. And that's because of the <em>considerably big additional constant of 256 in O(1) run time</em>. Your friend said that the execution was O(256). And because we ignore the constants in Big-O, we simply call O(256 * 1) as O(1). It is up to you to decide whether this constant is negligible for you or not.</p>\\n\\n<hr>\\n\\n<p>I have two strong reasons to say that you are right:</p>\\n\\n<p>Firstly, for various values of <em>n</em>, your answer of O(n) (in first code) gives a better approximation of the running-time. For example:</p>\\n\\n<ol>\\n<li><strong>For a string of length 4:</strong> you say run-time is proportional to 4, while you friend says it is proportional to 1 (or 256).</li>\\n<li><strong>For string of length 255:</strong> you say the running time is proportional to 255 while your friend again says that it is constant time.</li>\\n</ol>\\n\\n<p>Clearly, <strong>your answer is more accurate in every case</strong>, even though his answer is not outright wrong.</p>\\n\\n<p>Secondly, if you go by your friend's method, then in one sense you can cheat and say that since no string can go beyond your RAM + disk size, therefore all processing is in O(1). And that's when the fallacy of your friend's reasoning becomes visible. <em>Yes he is right that running time (assuming 1TB hard disk and 8 GB RAM) is O((1TB + 8GB) *1) = O(1), but you simply cannot ignore the size of your constant in this scenario.</em></p>\\n\\n<hr>\\n\\n<p><strong>The Big-O complexity does not tell the actual time of execution, but just the simplistic rate of growth of the running time as the value of n increases.</strong></p>                                                                                                                                                                                                                                                                                                                                                                                                                                                                     \n",
       "8  <p>You're both right in a way, but you're more right than your colleague. (<strong>EDIT:</strong> Nope. On further thought, you're right and your colleage is wrong. See my comment below.) The question really isn't whether N is <i>known</i>, but whether N can <i>change</i>. Is <code>s</code> the input to your algorithm? Then it's O(N) or O(N^2): you know the value of N for this particular input, but a different input would have a different value, so knowing N for this input isn't relevant.</p>\\n\\n<p>Here's the difference in your two approaches. You're treating this code as if it looked like this:</p>\\n\\n<pre><code>def f(s):\\n    for c in s:\\n        print c\\nf(\"How are you today?\")\\n</code></pre>\\n\\n<p>But your colleague is treating it like this:</p>\\n\\n<pre><code>def f(some_other_input):\\n    for c in \"How are you today?\":\\n        print c\\nf(\"A different string\")\\n</code></pre>\\n\\n<p>In the latter case, that for loop should be considered O(1), because <em>it's not going to change</em> with different inputs. In the former case, the algorithm is O(N).</p>                                                                                                                                                                                                                                                                                                                                                                                                                                                                                                                                                                                                                                                                                                                                                                                                                                                                                                                                                                                                                                                                                                                   \n",
       "9  <p>I think you're both right.</p>\\n\\n<p>The runtime of the first algorithm is linear in the size of its input. However, if its input is fixed, then its runtime is also fixed.</p>\\n\\n<p>Big O is all about measuring the behavior of an algorithm <em>as its input changes</em>. If the input never changes, then Big O is meaningless.</p>\\n\\n<p>Also: O(n) means that the <strong>upper bound</strong> of complexity is N. If you want to represent a <strong>tight bound</strong> then the more precise notation is Θ(n) (theta notation).</p>                                                                                                                                                                                                                                                                                                                                                                                                                                                                                                                                                                                                                                                                                                                                                                                                                                                                                                                                                                                                                                                                                                                                                                                                                                                                                                                                                                                                                                                                                                                                                                                                                                                                               \n",
       "\n",
       "   accepted_flag  \n",
       "0  0              \n",
       "1  0              \n",
       "2  1              \n",
       "3  0              \n",
       "4  1              \n",
       "5  1              \n",
       "6  0              \n",
       "7  0              \n",
       "8  0              \n",
       "9  0              "
      ]
     },
     "execution_count": 10,
     "metadata": {},
     "output_type": "execute_result"
    }
   ],
   "source": [
    "#indexNames = df[df['accepted_flag'] == 0].index\n",
    "# Delete these row indexes from dataFrame\n",
    "#df.drop(indexNames , inplace=True)\n",
    "pd.set_option('display.max_colwidth', -1)\n",
    "df.head(10)"
   ]
  },
  {
   "cell_type": "code",
   "execution_count": 11,
   "metadata": {},
   "outputs": [],
   "source": [
    "from bs4 import BeautifulSoup\n",
    "\n",
    "question_list = [] \n",
    "answer_list = []\n",
    "accepted_flag = []\n",
    "\n",
    "for i, row in df.iterrows():\n",
    "    # Question body\n",
    "    content = row.body\n",
    "    soup = BeautifulSoup(content, 'lxml')\n",
    "    if soup.code: soup.code.decompose()\n",
    "    tag_p = soup.p\n",
    "    tag_pre = soup.pre\n",
    "    text = ''\n",
    "    if tag_p: text = text + tag_p.get_text()\n",
    "    if tag_pre: text = text + tag_pre.get_text()\n",
    "    question_list.append(str(text))\n",
    "    \n",
    "    # Answers\n",
    "    content = row.answer\n",
    "    soup = BeautifulSoup(content, 'lxml')\n",
    "    if soup.code: soup.code.decompose()\n",
    "    tag_p = soup.p\n",
    "    tag_pre = soup.pre\n",
    "    text = ''\n",
    "    if tag_p: text = text + tag_p.get_text()\n",
    "    if tag_pre: text = text + tag_pre.get_text()\n",
    "    answer_list.append(text)\n",
    "    \n",
    "    # Accepted flag\n",
    "    accepted_flag.append(row.accepted_flag)\n",
    "\n",
    "df_post = pd.DataFrame({'body': question_list, 'answer' : answer_list, 'accepted_flag' : accepted_flag})"
   ]
  },
  {
   "cell_type": "code",
   "execution_count": 12,
   "metadata": {},
   "outputs": [],
   "source": [
    "df_post.body = df_post.body.apply(lambda x: preprocess_text(x))"
   ]
  },
  {
   "cell_type": "code",
   "execution_count": 13,
   "metadata": {},
   "outputs": [],
   "source": [
    "df_post.answer = df_post.answer.apply(lambda x: preprocess_text(x))"
   ]
  },
  {
   "cell_type": "code",
   "execution_count": 14,
   "metadata": {},
   "outputs": [
    {
     "data": {
      "text/html": [
       "<div>\n",
       "<style scoped>\n",
       "    .dataframe tbody tr th:only-of-type {\n",
       "        vertical-align: middle;\n",
       "    }\n",
       "\n",
       "    .dataframe tbody tr th {\n",
       "        vertical-align: top;\n",
       "    }\n",
       "\n",
       "    .dataframe thead th {\n",
       "        text-align: right;\n",
       "    }\n",
       "</style>\n",
       "<table border=\"1\" class=\"dataframe\">\n",
       "  <thead>\n",
       "    <tr style=\"text-align: right;\">\n",
       "      <th></th>\n",
       "      <th>body</th>\n",
       "      <th>answer</th>\n",
       "      <th>accepted_flag</th>\n",
       "    </tr>\n",
       "  </thead>\n",
       "  <tbody>\n",
       "    <tr>\n",
       "      <td>0</td>\n",
       "      <td>understand modular arithmetic basic mathematical form example</td>\n",
       "      <td>mod operator used many different ways case used constrain certain values make rotate example</td>\n",
       "      <td>0</td>\n",
       "    </tr>\n",
       "    <tr>\n",
       "      <td>1</td>\n",
       "      <td>understand modular arithmetic basic mathematical form example</td>\n",
       "      <td>modular 127 us ensure stay ascii bounds basically readable modular encrypted makes set undone appear random however given keys simplicity encrypt easily undone way done</td>\n",
       "      <td>0</td>\n",
       "    </tr>\n",
       "    <tr>\n",
       "      <td>2</td>\n",
       "      <td>understand modular arithmetic basic mathematical form example</td>\n",
       "      <td>parts</td>\n",
       "      <td>1</td>\n",
       "    </tr>\n",
       "    <tr>\n",
       "      <td>3</td>\n",
       "      <td>running numerical simulations main function must receive lots lots arguments talking 10 30 arguments depending simulation run</td>\n",
       "      <td>could pass dictionary like</td>\n",
       "      <td>0</td>\n",
       "    </tr>\n",
       "    <tr>\n",
       "      <td>4</td>\n",
       "      <td>running numerical simulations main function must receive lots lots arguments talking 10 30 arguments depending simulation run</td>\n",
       "      <td>nt think really stackoverflow question software engineering question example check question</td>\n",
       "      <td>1</td>\n",
       "    </tr>\n",
       "  </tbody>\n",
       "</table>\n",
       "</div>"
      ],
      "text/plain": [
       "                                                                                                                            body  \\\n",
       "0  understand modular arithmetic basic mathematical form example                                                                   \n",
       "1  understand modular arithmetic basic mathematical form example                                                                   \n",
       "2  understand modular arithmetic basic mathematical form example                                                                   \n",
       "3  running numerical simulations main function must receive lots lots arguments talking 10 30 arguments depending simulation run   \n",
       "4  running numerical simulations main function must receive lots lots arguments talking 10 30 arguments depending simulation run   \n",
       "\n",
       "                                                                                                                                                                     answer  \\\n",
       "0  mod operator used many different ways case used constrain certain values make rotate example                                                                               \n",
       "1  modular 127 us ensure stay ascii bounds basically readable modular encrypted makes set undone appear random however given keys simplicity encrypt easily undone way done   \n",
       "2  parts                                                                                                                                                                      \n",
       "3  could pass dictionary like                                                                                                                                                 \n",
       "4  nt think really stackoverflow question software engineering question example check question                                                                                \n",
       "\n",
       "   accepted_flag  \n",
       "0  0              \n",
       "1  0              \n",
       "2  1              \n",
       "3  0              \n",
       "4  1              "
      ]
     },
     "execution_count": 14,
     "metadata": {},
     "output_type": "execute_result"
    }
   ],
   "source": [
    "df_post.head()"
   ]
  },
  {
   "cell_type": "code",
   "execution_count": 48,
   "metadata": {},
   "outputs": [
    {
     "ename": "NameError",
     "evalue": "name 'df_post' is not defined",
     "output_type": "error",
     "traceback": [
      "\u001b[0;31m---------------------------------------------------------------------------\u001b[0m",
      "\u001b[0;31mNameError\u001b[0m                                 Traceback (most recent call last)",
      "\u001b[0;32m<ipython-input-48-a5c6f6d2121d>\u001b[0m in \u001b[0;36m<module>\u001b[0;34m\u001b[0m\n\u001b[0;32m----> 1\u001b[0;31m \u001b[0mdf_post\u001b[0m\u001b[0;34m.\u001b[0m\u001b[0mto_csv\u001b[0m\u001b[0;34m(\u001b[0m\u001b[0;34m'data/rr_data_100k.csv'\u001b[0m\u001b[0;34m,\u001b[0m \u001b[0mindex\u001b[0m\u001b[0;34m=\u001b[0m\u001b[0;32mFalse\u001b[0m\u001b[0;34m)\u001b[0m\u001b[0;34m\u001b[0m\u001b[0;34m\u001b[0m\u001b[0m\n\u001b[0m",
      "\u001b[0;31mNameError\u001b[0m: name 'df_post' is not defined"
     ]
    }
   ],
   "source": [
    "df_post.to_csv('data/rr_data_100k.csv', index=False)"
   ]
  },
  {
   "cell_type": "markdown",
   "metadata": {},
   "source": [
    "# Other EDA"
   ]
  },
  {
   "cell_type": "markdown",
   "metadata": {},
   "source": [
    "# Duplicate Questions Data Set"
   ]
  },
  {
   "cell_type": "code",
   "execution_count": 68,
   "metadata": {},
   "outputs": [],
   "source": [
    "# Load in data from file if not already loaded\n",
    "dupe_df = pd.read_csv('data/ss_data_100k.csv')"
   ]
  },
  {
   "cell_type": "code",
   "execution_count": 69,
   "metadata": {},
   "outputs": [
    {
     "data": {
      "text/html": [
       "<div>\n",
       "<style scoped>\n",
       "    .dataframe tbody tr th:only-of-type {\n",
       "        vertical-align: middle;\n",
       "    }\n",
       "\n",
       "    .dataframe tbody tr th {\n",
       "        vertical-align: top;\n",
       "    }\n",
       "\n",
       "    .dataframe thead th {\n",
       "        text-align: right;\n",
       "    }\n",
       "</style>\n",
       "<table border=\"1\" class=\"dataframe\">\n",
       "  <thead>\n",
       "    <tr style=\"text-align: right;\">\n",
       "      <th></th>\n",
       "      <th>is_dupe</th>\n",
       "    </tr>\n",
       "  </thead>\n",
       "  <tbody>\n",
       "    <tr>\n",
       "      <td>count</td>\n",
       "      <td>162760.000000</td>\n",
       "    </tr>\n",
       "    <tr>\n",
       "      <td>mean</td>\n",
       "      <td>0.385598</td>\n",
       "    </tr>\n",
       "    <tr>\n",
       "      <td>std</td>\n",
       "      <td>0.486738</td>\n",
       "    </tr>\n",
       "    <tr>\n",
       "      <td>min</td>\n",
       "      <td>0.000000</td>\n",
       "    </tr>\n",
       "    <tr>\n",
       "      <td>25%</td>\n",
       "      <td>0.000000</td>\n",
       "    </tr>\n",
       "    <tr>\n",
       "      <td>50%</td>\n",
       "      <td>0.000000</td>\n",
       "    </tr>\n",
       "    <tr>\n",
       "      <td>75%</td>\n",
       "      <td>1.000000</td>\n",
       "    </tr>\n",
       "    <tr>\n",
       "      <td>max</td>\n",
       "      <td>1.000000</td>\n",
       "    </tr>\n",
       "  </tbody>\n",
       "</table>\n",
       "</div>"
      ],
      "text/plain": [
       "             is_dupe\n",
       "count  162760.000000\n",
       "mean        0.385598\n",
       "std         0.486738\n",
       "min         0.000000\n",
       "25%         0.000000\n",
       "50%         0.000000\n",
       "75%         1.000000\n",
       "max         1.000000"
      ]
     },
     "execution_count": 69,
     "metadata": {},
     "output_type": "execute_result"
    }
   ],
   "source": [
    "dupe_df.describe()"
   ]
  },
  {
   "cell_type": "code",
   "execution_count": 70,
   "metadata": {},
   "outputs": [],
   "source": [
    "dupe_df = dupe_df.drop(columns=['is_dupe'])"
   ]
  },
  {
   "cell_type": "code",
   "execution_count": 71,
   "metadata": {},
   "outputs": [
    {
     "data": {
      "text/html": [
       "<div>\n",
       "<style scoped>\n",
       "    .dataframe tbody tr th:only-of-type {\n",
       "        vertical-align: middle;\n",
       "    }\n",
       "\n",
       "    .dataframe tbody tr th {\n",
       "        vertical-align: top;\n",
       "    }\n",
       "\n",
       "    .dataframe thead th {\n",
       "        text-align: right;\n",
       "    }\n",
       "</style>\n",
       "<table border=\"1\" class=\"dataframe\">\n",
       "  <thead>\n",
       "    <tr style=\"text-align: right;\">\n",
       "      <th></th>\n",
       "      <th>variable</th>\n",
       "      <th>value</th>\n",
       "    </tr>\n",
       "  </thead>\n",
       "  <tbody>\n",
       "    <tr>\n",
       "      <td>0</td>\n",
       "      <td>title</td>\n",
       "      <td>python convert string zeros ones binary</td>\n",
       "    </tr>\n",
       "    <tr>\n",
       "      <td>1</td>\n",
       "      <td>title</td>\n",
       "      <td>range returns word</td>\n",
       "    </tr>\n",
       "    <tr>\n",
       "      <td>2</td>\n",
       "      <td>title</td>\n",
       "      <td>solve error typeerror ca nt convert int object...</td>\n",
       "    </tr>\n",
       "    <tr>\n",
       "      <td>3</td>\n",
       "      <td>title</td>\n",
       "      <td>zip function python 3</td>\n",
       "    </tr>\n",
       "    <tr>\n",
       "      <td>4</td>\n",
       "      <td>title</td>\n",
       "      <td>display string representation objects list</td>\n",
       "    </tr>\n",
       "  </tbody>\n",
       "</table>\n",
       "</div>"
      ],
      "text/plain": [
       "  variable                                              value\n",
       "0    title            python convert string zeros ones binary\n",
       "1    title                                 range returns word\n",
       "2    title  solve error typeerror ca nt convert int object...\n",
       "3    title                              zip function python 3\n",
       "4    title         display string representation objects list"
      ]
     },
     "execution_count": 71,
     "metadata": {},
     "output_type": "execute_result"
    }
   ],
   "source": [
    "dupe_df = pd.melt(dupe_df)\n",
    "dupe_df.head()"
   ]
  },
  {
   "cell_type": "code",
   "execution_count": 72,
   "metadata": {},
   "outputs": [
    {
     "data": {
      "text/plain": [
       "title         162760\n",
       "dupe_title    162760\n",
       "Name: variable, dtype: int64"
      ]
     },
     "execution_count": 72,
     "metadata": {},
     "output_type": "execute_result"
    }
   ],
   "source": [
    "dupe_df['value'] = dupe_df['value'].astype(str)\n",
    "dupe_df['variable'].value_counts()"
   ]
  },
  {
   "cell_type": "code",
   "execution_count": 74,
   "metadata": {},
   "outputs": [],
   "source": [
    "dupe_df['word_count'] = dupe_df['value'].apply(lambda x: len(str(x).split()))"
   ]
  },
  {
   "cell_type": "code",
   "execution_count": 78,
   "metadata": {},
   "outputs": [
    {
     "data": {
      "text/plain": [
       "<matplotlib.axes._subplots.AxesSubplot at 0x7f679a5908>"
      ]
     },
     "execution_count": 78,
     "metadata": {},
     "output_type": "execute_result"
    },
    {
     "data": {
      "image/png": "[encoded data removed]",
      "text/plain": [
       "<Figure size 432x288 with 1 Axes>"
      ]
     },
     "metadata": {
      "needs_background": "light"
     },
     "output_type": "display_data"
    }
   ],
   "source": [
    "dupe_df.plot.hist(bins=20)"
   ]
  },
  {
   "cell_type": "code",
   "execution_count": 79,
   "metadata": {},
   "outputs": [
    {
     "data": {
      "text/plain": [
       "Text(0.5, 0, 'Word Count')"
      ]
     },
     "execution_count": 79,
     "metadata": {},
     "output_type": "execute_result"
    },
    {
     "data": {
      "image/png": "[encoded data removed]",
      "text/plain": [
       "<Figure size 720x360 with 1 Axes>"
      ]
     },
     "metadata": {
      "needs_background": "light"
     },
     "output_type": "display_data"
    }
   ],
   "source": [
    "fig, ax = plt.subplots(1,1,figsize=(10,5))\n",
    "sns.boxplot(x = 'word_count', data = dupe_df, orient=\"h\")\n",
    "plt.title('Title Word Count', fontsize = 18)\n",
    "plt.xlabel(\"Word Count\", fontsize = 14)"
   ]
  },
  {
   "cell_type": "code",
   "execution_count": 77,
   "metadata": {},
   "outputs": [
    {
     "data": {
      "text/plain": [
       "python       121978\n",
       "string        37449\n",
       "list          34703\n",
       "flask         26294\n",
       "using         19305\n",
       "file          18219\n",
       "error         16513\n",
       "function      14752\n",
       "pandas        12796\n",
       "dataframe     10612\n",
       "get           10569\n",
       "values         9847\n",
       "nt             9527\n",
       "value          9387\n",
       "lists          9102\n",
       "data           8890\n",
       "_              8439\n",
       "variable       8410\n",
       "multiple       8390\n",
       "django         8093\n",
       "dtype: int64"
      ]
     },
     "execution_count": 77,
     "metadata": {},
     "output_type": "execute_result"
    }
   ],
   "source": [
    "#Most common words in questions\n",
    "pd.Series(' '.join(dupe_df['value']).lower().split()).value_counts()[:20]"
   ]
  },
  {
   "cell_type": "code",
   "execution_count": 81,
   "metadata": {},
   "outputs": [
    {
     "data": {
      "text/plain": [
       "23833"
      ]
     },
     "execution_count": 81,
     "metadata": {},
     "output_type": "execute_result"
    }
   ],
   "source": [
    "#Number of unique words in questions\n",
    "pd.Series(' '.join(dupe_df['value']).lower().split()).nunique()"
   ]
  },
  {
   "cell_type": "markdown",
   "metadata": {},
   "source": [
    "# Question and Answer Data Set"
   ]
  },
  {
   "cell_type": "code",
   "execution_count": 7,
   "metadata": {},
   "outputs": [],
   "source": [
    "rr_df = pd.read_csv('data/rr_data_100k.csv')"
   ]
  },
  {
   "cell_type": "code",
   "execution_count": 8,
   "metadata": {},
   "outputs": [
    {
     "data": {
      "text/html": [
       "<div>\n",
       "<style scoped>\n",
       "    .dataframe tbody tr th:only-of-type {\n",
       "        vertical-align: middle;\n",
       "    }\n",
       "\n",
       "    .dataframe tbody tr th {\n",
       "        vertical-align: top;\n",
       "    }\n",
       "\n",
       "    .dataframe thead th {\n",
       "        text-align: right;\n",
       "    }\n",
       "</style>\n",
       "<table border=\"1\" class=\"dataframe\">\n",
       "  <thead>\n",
       "    <tr style=\"text-align: right;\">\n",
       "      <th></th>\n",
       "      <th>id</th>\n",
       "      <th>title</th>\n",
       "      <th>body</th>\n",
       "      <th>answer_count</th>\n",
       "      <th>answer</th>\n",
       "      <th>accepted_flag</th>\n",
       "    </tr>\n",
       "  </thead>\n",
       "  <tbody>\n",
       "    <tr>\n",
       "      <td>0</td>\n",
       "      <td>23366047</td>\n",
       "      <td>Modifying a .py file within Python</td>\n",
       "      <td>p program imports py file contains lists dicti...</td>\n",
       "      <td>2</td>\n",
       "      <td>p instead directly editing py files within py ...</td>\n",
       "      <td>1</td>\n",
       "    </tr>\n",
       "    <tr>\n",
       "      <td>1</td>\n",
       "      <td>23366047</td>\n",
       "      <td>Modifying a .py file within Python</td>\n",
       "      <td>p program imports py file contains lists dicti...</td>\n",
       "      <td>2</td>\n",
       "      <td>p use sqlite pickle module instead allow easie...</td>\n",
       "      <td>0</td>\n",
       "    </tr>\n",
       "    <tr>\n",
       "      <td>2</td>\n",
       "      <td>23588038</td>\n",
       "      <td>What is a good way to support Python 2 in a Py...</td>\n",
       "      <td>p ive written library python 3 recently pull r...</td>\n",
       "      <td>3</td>\n",
       "      <td>p simplest way support python 2 python 3 code ...</td>\n",
       "      <td>0</td>\n",
       "    </tr>\n",
       "    <tr>\n",
       "      <td>3</td>\n",
       "      <td>23588038</td>\n",
       "      <td>What is a good way to support Python 2 in a Py...</td>\n",
       "      <td>p ive written library python 3 recently pull r...</td>\n",
       "      <td>3</td>\n",
       "      <td>p ive released library python 27 well way use ...</td>\n",
       "      <td>1</td>\n",
       "    </tr>\n",
       "    <tr>\n",
       "      <td>4</td>\n",
       "      <td>23588038</td>\n",
       "      <td>What is a good way to support Python 2 in a Py...</td>\n",
       "      <td>p ive written library python 3 recently pull r...</td>\n",
       "      <td>3</td>\n",
       "      <td>p would invest much effort supporting python 2...</td>\n",
       "      <td>0</td>\n",
       "    </tr>\n",
       "  </tbody>\n",
       "</table>\n",
       "</div>"
      ],
      "text/plain": [
       "         id                                              title  \\\n",
       "0  23366047                 Modifying a .py file within Python   \n",
       "1  23366047                 Modifying a .py file within Python   \n",
       "2  23588038  What is a good way to support Python 2 in a Py...   \n",
       "3  23588038  What is a good way to support Python 2 in a Py...   \n",
       "4  23588038  What is a good way to support Python 2 in a Py...   \n",
       "\n",
       "                                                body  answer_count  \\\n",
       "0  p program imports py file contains lists dicti...             2   \n",
       "1  p program imports py file contains lists dicti...             2   \n",
       "2  p ive written library python 3 recently pull r...             3   \n",
       "3  p ive written library python 3 recently pull r...             3   \n",
       "4  p ive written library python 3 recently pull r...             3   \n",
       "\n",
       "                                              answer  accepted_flag  \n",
       "0  p instead directly editing py files within py ...              1  \n",
       "1  p use sqlite pickle module instead allow easie...              0  \n",
       "2  p simplest way support python 2 python 3 code ...              0  \n",
       "3  p ive released library python 27 well way use ...              1  \n",
       "4  p would invest much effort supporting python 2...              0  "
      ]
     },
     "execution_count": 8,
     "metadata": {},
     "output_type": "execute_result"
    }
   ],
   "source": [
    "rr_df.head()"
   ]
  },
  {
   "cell_type": "code",
   "execution_count": 9,
   "metadata": {},
   "outputs": [
    {
     "data": {
      "text/html": [
       "<div>\n",
       "<style scoped>\n",
       "    .dataframe tbody tr th:only-of-type {\n",
       "        vertical-align: middle;\n",
       "    }\n",
       "\n",
       "    .dataframe tbody tr th {\n",
       "        vertical-align: top;\n",
       "    }\n",
       "\n",
       "    .dataframe thead th {\n",
       "        text-align: right;\n",
       "    }\n",
       "</style>\n",
       "<table border=\"1\" class=\"dataframe\">\n",
       "  <thead>\n",
       "    <tr style=\"text-align: right;\">\n",
       "      <th></th>\n",
       "      <th>id</th>\n",
       "      <th>answer_count</th>\n",
       "      <th>accepted_flag</th>\n",
       "    </tr>\n",
       "  </thead>\n",
       "  <tbody>\n",
       "    <tr>\n",
       "      <td>count</td>\n",
       "      <td>1.000000e+05</td>\n",
       "      <td>100000.00000</td>\n",
       "      <td>100000.000000</td>\n",
       "    </tr>\n",
       "    <tr>\n",
       "      <td>mean</td>\n",
       "      <td>2.939938e+07</td>\n",
       "      <td>3.81014</td>\n",
       "      <td>0.354260</td>\n",
       "    </tr>\n",
       "    <tr>\n",
       "      <td>std</td>\n",
       "      <td>1.845394e+07</td>\n",
       "      <td>3.78078</td>\n",
       "      <td>0.478291</td>\n",
       "    </tr>\n",
       "    <tr>\n",
       "      <td>min</td>\n",
       "      <td>1.476000e+03</td>\n",
       "      <td>2.00000</td>\n",
       "      <td>0.000000</td>\n",
       "    </tr>\n",
       "    <tr>\n",
       "      <td>25%</td>\n",
       "      <td>1.229954e+07</td>\n",
       "      <td>2.00000</td>\n",
       "      <td>0.000000</td>\n",
       "    </tr>\n",
       "    <tr>\n",
       "      <td>50%</td>\n",
       "      <td>2.999474e+07</td>\n",
       "      <td>3.00000</td>\n",
       "      <td>0.000000</td>\n",
       "    </tr>\n",
       "    <tr>\n",
       "      <td>75%</td>\n",
       "      <td>4.642853e+07</td>\n",
       "      <td>4.00000</td>\n",
       "      <td>1.000000</td>\n",
       "    </tr>\n",
       "    <tr>\n",
       "      <td>max</td>\n",
       "      <td>5.912163e+07</td>\n",
       "      <td>63.00000</td>\n",
       "      <td>1.000000</td>\n",
       "    </tr>\n",
       "  </tbody>\n",
       "</table>\n",
       "</div>"
      ],
      "text/plain": [
       "                 id  answer_count  accepted_flag\n",
       "count  1.000000e+05  100000.00000  100000.000000\n",
       "mean   2.939938e+07       3.81014       0.354260\n",
       "std    1.845394e+07       3.78078       0.478291\n",
       "min    1.476000e+03       2.00000       0.000000\n",
       "25%    1.229954e+07       2.00000       0.000000\n",
       "50%    2.999474e+07       3.00000       0.000000\n",
       "75%    4.642853e+07       4.00000       1.000000\n",
       "max    5.912163e+07      63.00000       1.000000"
      ]
     },
     "execution_count": 9,
     "metadata": {},
     "output_type": "execute_result"
    }
   ],
   "source": [
    "rr_df.describe()"
   ]
  },
  {
   "cell_type": "code",
   "execution_count": 10,
   "metadata": {},
   "outputs": [],
   "source": [
    "rr_df['body_word_count'] = rr_df['body'].apply(lambda x: len(str(x).split()))\n",
    "rr_df['answer_word_count'] = rr_df['answer'].apply(lambda x: len(str(x).split()))"
   ]
  },
  {
   "cell_type": "code",
   "execution_count": 11,
   "metadata": {},
   "outputs": [
    {
     "data": {
      "text/html": [
       "<div>\n",
       "<style scoped>\n",
       "    .dataframe tbody tr th:only-of-type {\n",
       "        vertical-align: middle;\n",
       "    }\n",
       "\n",
       "    .dataframe tbody tr th {\n",
       "        vertical-align: top;\n",
       "    }\n",
       "\n",
       "    .dataframe thead th {\n",
       "        text-align: right;\n",
       "    }\n",
       "</style>\n",
       "<table border=\"1\" class=\"dataframe\">\n",
       "  <thead>\n",
       "    <tr style=\"text-align: right;\">\n",
       "      <th></th>\n",
       "      <th>id</th>\n",
       "      <th>title</th>\n",
       "      <th>body</th>\n",
       "      <th>answer_count</th>\n",
       "      <th>answer</th>\n",
       "      <th>accepted_flag</th>\n",
       "      <th>body_word_count</th>\n",
       "      <th>answer_word_count</th>\n",
       "    </tr>\n",
       "  </thead>\n",
       "  <tbody>\n",
       "    <tr>\n",
       "      <td>0</td>\n",
       "      <td>23366047</td>\n",
       "      <td>Modifying a .py file within Python</td>\n",
       "      <td>p program imports py file contains lists dicti...</td>\n",
       "      <td>2</td>\n",
       "      <td>p instead directly editing py files within py ...</td>\n",
       "      <td>1</td>\n",
       "      <td>50</td>\n",
       "      <td>97</td>\n",
       "    </tr>\n",
       "    <tr>\n",
       "      <td>1</td>\n",
       "      <td>23366047</td>\n",
       "      <td>Modifying a .py file within Python</td>\n",
       "      <td>p program imports py file contains lists dicti...</td>\n",
       "      <td>2</td>\n",
       "      <td>p use sqlite pickle module instead allow easie...</td>\n",
       "      <td>0</td>\n",
       "      <td>50</td>\n",
       "      <td>14</td>\n",
       "    </tr>\n",
       "    <tr>\n",
       "      <td>2</td>\n",
       "      <td>23588038</td>\n",
       "      <td>What is a good way to support Python 2 in a Py...</td>\n",
       "      <td>p ive written library python 3 recently pull r...</td>\n",
       "      <td>3</td>\n",
       "      <td>p simplest way support python 2 python 3 code ...</td>\n",
       "      <td>0</td>\n",
       "      <td>90</td>\n",
       "      <td>29</td>\n",
       "    </tr>\n",
       "    <tr>\n",
       "      <td>3</td>\n",
       "      <td>23588038</td>\n",
       "      <td>What is a good way to support Python 2 in a Py...</td>\n",
       "      <td>p ive written library python 3 recently pull r...</td>\n",
       "      <td>3</td>\n",
       "      <td>p ive released library python 27 well way use ...</td>\n",
       "      <td>1</td>\n",
       "      <td>90</td>\n",
       "      <td>77</td>\n",
       "    </tr>\n",
       "    <tr>\n",
       "      <td>4</td>\n",
       "      <td>23588038</td>\n",
       "      <td>What is a good way to support Python 2 in a Py...</td>\n",
       "      <td>p ive written library python 3 recently pull r...</td>\n",
       "      <td>3</td>\n",
       "      <td>p would invest much effort supporting python 2...</td>\n",
       "      <td>0</td>\n",
       "      <td>90</td>\n",
       "      <td>196</td>\n",
       "    </tr>\n",
       "  </tbody>\n",
       "</table>\n",
       "</div>"
      ],
      "text/plain": [
       "         id                                              title  \\\n",
       "0  23366047                 Modifying a .py file within Python   \n",
       "1  23366047                 Modifying a .py file within Python   \n",
       "2  23588038  What is a good way to support Python 2 in a Py...   \n",
       "3  23588038  What is a good way to support Python 2 in a Py...   \n",
       "4  23588038  What is a good way to support Python 2 in a Py...   \n",
       "\n",
       "                                                body  answer_count  \\\n",
       "0  p program imports py file contains lists dicti...             2   \n",
       "1  p program imports py file contains lists dicti...             2   \n",
       "2  p ive written library python 3 recently pull r...             3   \n",
       "3  p ive written library python 3 recently pull r...             3   \n",
       "4  p ive written library python 3 recently pull r...             3   \n",
       "\n",
       "                                              answer  accepted_flag  \\\n",
       "0  p instead directly editing py files within py ...              1   \n",
       "1  p use sqlite pickle module instead allow easie...              0   \n",
       "2  p simplest way support python 2 python 3 code ...              0   \n",
       "3  p ive released library python 27 well way use ...              1   \n",
       "4  p would invest much effort supporting python 2...              0   \n",
       "\n",
       "   body_word_count  answer_word_count  \n",
       "0               50                 97  \n",
       "1               50                 14  \n",
       "2               90                 29  \n",
       "3               90                 77  \n",
       "4               90                196  "
      ]
     },
     "execution_count": 11,
     "metadata": {},
     "output_type": "execute_result"
    }
   ],
   "source": [
    "rr_df.head()"
   ]
  },
  {
   "cell_type": "code",
   "execution_count": 13,
   "metadata": {},
   "outputs": [],
   "source": [
    "rr_qs_df = rr_df.drop(['answer','accepted_flag','answer_word_count'], axis = 1).drop_duplicates()"
   ]
  },
  {
   "cell_type": "code",
   "execution_count": 25,
   "metadata": {},
   "outputs": [
    {
     "data": {
      "text/html": [
       "<div>\n",
       "<style scoped>\n",
       "    .dataframe tbody tr th:only-of-type {\n",
       "        vertical-align: middle;\n",
       "    }\n",
       "\n",
       "    .dataframe tbody tr th {\n",
       "        vertical-align: top;\n",
       "    }\n",
       "\n",
       "    .dataframe thead th {\n",
       "        text-align: right;\n",
       "    }\n",
       "</style>\n",
       "<table border=\"1\" class=\"dataframe\">\n",
       "  <thead>\n",
       "    <tr style=\"text-align: right;\">\n",
       "      <th></th>\n",
       "      <th>id</th>\n",
       "      <th>answer_count</th>\n",
       "      <th>body_word_count</th>\n",
       "    </tr>\n",
       "  </thead>\n",
       "  <tbody>\n",
       "    <tr>\n",
       "      <td>count</td>\n",
       "      <td>3.542700e+04</td>\n",
       "      <td>35427.000000</td>\n",
       "      <td>35427.000000</td>\n",
       "    </tr>\n",
       "    <tr>\n",
       "      <td>mean</td>\n",
       "      <td>3.188610e+07</td>\n",
       "      <td>2.822706</td>\n",
       "      <td>106.563638</td>\n",
       "    </tr>\n",
       "    <tr>\n",
       "      <td>std</td>\n",
       "      <td>1.777055e+07</td>\n",
       "      <td>1.669525</td>\n",
       "      <td>111.808452</td>\n",
       "    </tr>\n",
       "    <tr>\n",
       "      <td>min</td>\n",
       "      <td>1.476000e+03</td>\n",
       "      <td>2.000000</td>\n",
       "      <td>4.000000</td>\n",
       "    </tr>\n",
       "    <tr>\n",
       "      <td>25%</td>\n",
       "      <td>1.624743e+07</td>\n",
       "      <td>2.000000</td>\n",
       "      <td>51.000000</td>\n",
       "    </tr>\n",
       "    <tr>\n",
       "      <td>50%</td>\n",
       "      <td>3.358543e+07</td>\n",
       "      <td>2.000000</td>\n",
       "      <td>80.000000</td>\n",
       "    </tr>\n",
       "    <tr>\n",
       "      <td>75%</td>\n",
       "      <td>4.798433e+07</td>\n",
       "      <td>3.000000</td>\n",
       "      <td>128.000000</td>\n",
       "    </tr>\n",
       "    <tr>\n",
       "      <td>max</td>\n",
       "      <td>5.912163e+07</td>\n",
       "      <td>63.000000</td>\n",
       "      <td>4703.000000</td>\n",
       "    </tr>\n",
       "  </tbody>\n",
       "</table>\n",
       "</div>"
      ],
      "text/plain": [
       "                 id  answer_count  body_word_count\n",
       "count  3.542700e+04  35427.000000     35427.000000\n",
       "mean   3.188610e+07      2.822706       106.563638\n",
       "std    1.777055e+07      1.669525       111.808452\n",
       "min    1.476000e+03      2.000000         4.000000\n",
       "25%    1.624743e+07      2.000000        51.000000\n",
       "50%    3.358543e+07      2.000000        80.000000\n",
       "75%    4.798433e+07      3.000000       128.000000\n",
       "max    5.912163e+07     63.000000      4703.000000"
      ]
     },
     "execution_count": 25,
     "metadata": {},
     "output_type": "execute_result"
    }
   ],
   "source": [
    "rr_qs_df.describe()"
   ]
  },
  {
   "cell_type": "code",
   "execution_count": 19,
   "metadata": {},
   "outputs": [
    {
     "data": {
      "text/plain": [
       "<matplotlib.axes._subplots.AxesSubplot at 0x7f727b8d68>"
      ]
     },
     "execution_count": 19,
     "metadata": {},
     "output_type": "execute_result"
    },
    {
     "data": {
      "image/png": "[encoded data removed]",
      "text/plain": [
       "<Figure size 432x288 with 1 Axes>"
      ]
     },
     "metadata": {
      "needs_background": "light"
     },
     "output_type": "display_data"
    }
   ],
   "source": [
    "rr_qs_df['answer_count'].plot.hist()"
   ]
  },
  {
   "cell_type": "code",
   "execution_count": 27,
   "metadata": {},
   "outputs": [
    {
     "data": {
      "text/plain": [
       "Text(0.5, 0, '# of Answers')"
      ]
     },
     "execution_count": 27,
     "metadata": {},
     "output_type": "execute_result"
    },
    {
     "data": {
      "image/png": "[encoded data removed]",
      "text/plain": [
       "<Figure size 720x360 with 1 Axes>"
      ]
     },
     "metadata": {
      "needs_background": "light"
     },
     "output_type": "display_data"
    }
   ],
   "source": [
    "fig, ax = plt.subplots(1,1,figsize=(10,5))\n",
    "sns.boxplot(x = 'answer_count', data = rr_qs_df.loc[(rr_qs_df['answer_count'] < 20)], orient=\"h\")\n",
    "plt.title('Answers Per Question', fontsize = 18)\n",
    "plt.xlabel(\"# of Answers\", fontsize = 14)"
   ]
  },
  {
   "cell_type": "code",
   "execution_count": 22,
   "metadata": {},
   "outputs": [
    {
     "data": {
      "text/plain": [
       "<matplotlib.axes._subplots.AxesSubplot at 0x7f72710a58>"
      ]
     },
     "execution_count": 22,
     "metadata": {},
     "output_type": "execute_result"
    },
    {
     "data": {
      "image/png": "[encoded data removed]",
      "text/plain": [
       "<Figure size 432x288 with 1 Axes>"
      ]
     },
     "metadata": {
      "needs_background": "light"
     },
     "output_type": "display_data"
    }
   ],
   "source": [
    "rr_qs_df['body_word_count'].plot.hist(bins=20)"
   ]
  },
  {
   "cell_type": "code",
   "execution_count": 24,
   "metadata": {},
   "outputs": [
    {
     "data": {
      "text/plain": [
       "Text(0.5, 0, 'Body Word Count')"
      ]
     },
     "execution_count": 24,
     "metadata": {},
     "output_type": "execute_result"
    },
    {
     "data": {
      "image/png": "[encoded data removed]",
      "text/plain": [
       "<Figure size 720x360 with 1 Axes>"
      ]
     },
     "metadata": {
      "needs_background": "light"
     },
     "output_type": "display_data"
    }
   ],
   "source": [
    "fig, ax = plt.subplots(1,1,figsize=(10,5))\n",
    "sns.boxplot(x = 'body_word_count', data = rr_qs_df.loc[(rr_qs_df['body_word_count'] < 500)] , orient=\"h\")\n",
    "plt.title('Body Word Count Per Question', fontsize = 18)\n",
    "plt.xlabel(\"Body Word Count\", fontsize = 14)"
   ]
  },
  {
   "cell_type": "code",
   "execution_count": 36,
   "metadata": {},
   "outputs": [
    {
     "data": {
      "text/plain": [
       "p          171470\n",
       "codepre     63246\n",
       "code        51829\n",
       "precode     51767\n",
       "_           38838\n",
       "1           36915\n",
       "0           33007\n",
       "file        24251\n",
       "python      23577\n",
       "import      22778\n",
       "2           22121\n",
       "def         20142\n",
       "like        18170\n",
       "line        17538\n",
       "nt          17167\n",
       "return      16518\n",
       "3           16077\n",
       "print       15596\n",
       "want        15389\n",
       "list        14846\n",
       "dtype: int64"
      ]
     },
     "execution_count": 36,
     "metadata": {},
     "output_type": "execute_result"
    }
   ],
   "source": [
    "#Most common words in body\n",
    "pd.Series(' '.join(rr_qs_df['body']).lower().split()).value_counts()[:20]"
   ]
  },
  {
   "cell_type": "code",
   "execution_count": 37,
   "metadata": {},
   "outputs": [
    {
     "data": {
      "text/plain": [
       "411941"
      ]
     },
     "execution_count": 37,
     "metadata": {},
     "output_type": "execute_result"
    }
   ],
   "source": [
    "#Number of unique words in questions\n",
    "pd.Series(' '.join(rr_qs_df['body']).lower().split()).nunique()"
   ]
  },
  {
   "cell_type": "code",
   "execution_count": null,
   "metadata": {},
   "outputs": [],
   "source": [
    "#Answers"
   ]
  },
  {
   "cell_type": "code",
   "execution_count": 35,
   "metadata": {},
   "outputs": [
    {
     "data": {
      "text/html": [
       "<div>\n",
       "<style scoped>\n",
       "    .dataframe tbody tr th:only-of-type {\n",
       "        vertical-align: middle;\n",
       "    }\n",
       "\n",
       "    .dataframe tbody tr th {\n",
       "        vertical-align: top;\n",
       "    }\n",
       "\n",
       "    .dataframe thead th {\n",
       "        text-align: right;\n",
       "    }\n",
       "</style>\n",
       "<table border=\"1\" class=\"dataframe\">\n",
       "  <thead>\n",
       "    <tr style=\"text-align: right;\">\n",
       "      <th></th>\n",
       "      <th>accepted_flag</th>\n",
       "      <th>0</th>\n",
       "      <th>1</th>\n",
       "    </tr>\n",
       "  </thead>\n",
       "  <tbody>\n",
       "    <tr>\n",
       "      <td rowspan=\"8\" valign=\"top\">answer_word_count</td>\n",
       "      <td>count</td>\n",
       "      <td>64574.000000</td>\n",
       "      <td>35426.000000</td>\n",
       "    </tr>\n",
       "    <tr>\n",
       "      <td>mean</td>\n",
       "      <td>59.571159</td>\n",
       "      <td>81.955626</td>\n",
       "    </tr>\n",
       "    <tr>\n",
       "      <td>std</td>\n",
       "      <td>64.125589</td>\n",
       "      <td>86.456852</td>\n",
       "    </tr>\n",
       "    <tr>\n",
       "      <td>min</td>\n",
       "      <td>2.000000</td>\n",
       "      <td>2.000000</td>\n",
       "    </tr>\n",
       "    <tr>\n",
       "      <td>25%</td>\n",
       "      <td>24.000000</td>\n",
       "      <td>33.000000</td>\n",
       "    </tr>\n",
       "    <tr>\n",
       "      <td>50%</td>\n",
       "      <td>42.000000</td>\n",
       "      <td>58.000000</td>\n",
       "    </tr>\n",
       "    <tr>\n",
       "      <td>75%</td>\n",
       "      <td>72.000000</td>\n",
       "      <td>101.000000</td>\n",
       "    </tr>\n",
       "    <tr>\n",
       "      <td>max</td>\n",
       "      <td>1894.000000</td>\n",
       "      <td>2163.000000</td>\n",
       "    </tr>\n",
       "  </tbody>\n",
       "</table>\n",
       "</div>"
      ],
      "text/plain": [
       "accepted_flag                       0             1\n",
       "answer_word_count count  64574.000000  35426.000000\n",
       "                  mean      59.571159     81.955626\n",
       "                  std       64.125589     86.456852\n",
       "                  min        2.000000      2.000000\n",
       "                  25%       24.000000     33.000000\n",
       "                  50%       42.000000     58.000000\n",
       "                  75%       72.000000    101.000000\n",
       "                  max     1894.000000   2163.000000"
      ]
     },
     "execution_count": 35,
     "metadata": {},
     "output_type": "execute_result"
    }
   ],
   "source": [
    "rr_as_df = rr_df.filter(['answer','accepted_flag','answer_word_count'], axis=1)\n",
    "rr_as_df.groupby(['accepted_flag']).describe().T"
   ]
  },
  {
   "cell_type": "code",
   "execution_count": 48,
   "metadata": {},
   "outputs": [
    {
     "data": {
      "text/plain": [
       "array([<matplotlib.axes._subplots.AxesSubplot object at 0x7f71e7bc50>,\n",
       "       <matplotlib.axes._subplots.AxesSubplot object at 0x7f71e8a5f8>],\n",
       "      dtype=object)"
      ]
     },
     "execution_count": 48,
     "metadata": {},
     "output_type": "execute_result"
    },
    {
     "data": {
      "image/png": "[encoded data removed]",
      "text/plain": [
       "<Figure size 432x288 with 2 Axes>"
      ]
     },
     "metadata": {
      "needs_background": "light"
     },
     "output_type": "display_data"
    }
   ],
   "source": [
    "rr_as_df['answer_word_count'].hist(by=rr_as_df['accepted_flag'])"
   ]
  },
  {
   "cell_type": "code",
   "execution_count": 51,
   "metadata": {},
   "outputs": [
    {
     "data": {
      "text/plain": [
       "Text(0, 0.5, 'Accepted Answer Flag')"
      ]
     },
     "execution_count": 51,
     "metadata": {},
     "output_type": "execute_result"
    },
    {
     "data": {
      "image/png": "[encoded data removed]",
      "text/plain": [
       "<Figure size 720x360 with 1 Axes>"
      ]
     },
     "metadata": {
      "needs_background": "light"
     },
     "output_type": "display_data"
    }
   ],
   "source": [
    "fig, ax = plt.subplots(1,1,figsize=(10,5))\n",
    "sns.boxplot(x = 'answer_word_count', y='accepted_flag',data = rr_as_df.loc[(rr_as_df['answer_word_count'] < 1000)] , orient=\"h\")\n",
    "plt.title('Answer Word Count', fontsize = 18)\n",
    "plt.xlabel(\"Answer Word Count\", fontsize = 14)\n",
    "plt.ylabel(\"Accepted Answer Flag\", fontsize = 14)"
   ]
  },
  {
   "cell_type": "code",
   "execution_count": 52,
   "metadata": {},
   "outputs": [
    {
     "data": {
      "text/plain": [
       "p          280055\n",
       "code       155882\n",
       "codepre    131727\n",
       "precode    107618\n",
       "1           71355\n",
       "_           57947\n",
       "0           54014\n",
       "import      46028\n",
       "2           44802\n",
       "use         44138\n",
       "def         39402\n",
       "python      36260\n",
       "3           34572\n",
       "return      34504\n",
       "x           28933\n",
       "nt          28258\n",
       "print       25797\n",
       "list        25097\n",
       "gtgtgt      24792\n",
       "using       24505\n",
       "dtype: int64"
      ]
     },
     "execution_count": 52,
     "metadata": {},
     "output_type": "execute_result"
    }
   ],
   "source": [
    "#Most common words in answers\n",
    "pd.Series(' '.join(rr_as_df['answer']).lower().split()).value_counts()[:20]"
   ]
  },
  {
   "cell_type": "code",
   "execution_count": 53,
   "metadata": {},
   "outputs": [
    {
     "data": {
      "text/plain": [
       "627627"
      ]
     },
     "execution_count": 53,
     "metadata": {},
     "output_type": "execute_result"
    }
   ],
   "source": [
    "#Number of unique words in answers\n",
    "pd.Series(' '.join(rr_as_df['answer']).lower().split()).nunique()"
   ]
  }
 ],
 "metadata": {
  "kernelspec": {
   "display_name": "Python 3",
   "language": "python",
   "name": "python3"
  },
  "language_info": {
   "codemirror_mode": {
    "name": "ipython",
    "version": 3
   },
   "file_extension": ".py",
   "mimetype": "text/x-python",
   "name": "python",
   "nbconvert_exporter": "python",
   "pygments_lexer": "ipython3",
   "version": "3.6.9"
  },
  "toc": {
   "base_numbering": 1,
   "nav_menu": {},
   "number_sections": true,
   "sideBar": true,
   "skip_h1_title": false,
   "title_cell": "Table of Contents",
   "title_sidebar": "Contents",
   "toc_cell": false,
   "toc_position": {
    "height": "calc(100% - 180px)",
    "left": "10px",
    "top": "150px",
    "width": "165px"
   },
   "toc_section_display": true,
   "toc_window_display": true
  },
  "varInspector": {
   "cols": {
    "lenName": 16,
    "lenType": 16,
    "lenVar": 40
   },
   "kernels_config": {
    "python": {
     "delete_cmd_postfix": "",
     "delete_cmd_prefix": "del ",
     "library": "var_list.py",
     "varRefreshCmd": "print(var_dic_list())"
    },
    "r": {
     "delete_cmd_postfix": ") ",
     "delete_cmd_prefix": "rm(",
     "library": "var_list.r",
     "varRefreshCmd": "cat(var_dic_list()) "
    }
   },
   "types_to_exclude": [
    "module",
    "function",
    "builtin_function_or_method",
    "instance",
    "_Feature"
   ],
   "window_display": false
  }
 },
 "nbformat": 4,
 "nbformat_minor": 2
}
