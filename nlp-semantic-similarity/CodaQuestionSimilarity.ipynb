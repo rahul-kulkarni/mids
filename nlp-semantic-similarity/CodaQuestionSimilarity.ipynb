{
 "cells": [
  {
   "cell_type": "markdown",
   "metadata": {
    "colab_type": "text",
    "id": "view-in-github"
   },
   "source": [
    "<a href=\"https://colab.research.google.com/github/rahul-kulkarni/w266-spring-2020-project/blob/master/CodaQuestionSimilarity-final.ipynb\" target=\"_parent\"><img src=\"https://colab.research.google.com/assets/colab-badge.svg\" alt=\"Open In Colab\"/></a>"
   ]
  },
  {
   "cell_type": "markdown",
   "metadata": {
    "colab_type": "text",
    "id": "10120aHS4WbV"
   },
   "source": [
    "## Introduction"
   ]
  },
  {
   "cell_type": "markdown",
   "metadata": {
    "colab_type": "text",
    "id": "QfJv7lFp4WbW"
   },
   "source": [
    "We implement the Question Similarity task in this notebook. The question similarity dataset generated from our EDA that labels the duplicate questions is used to train our model. We describe our three models starting with a baseline version."
   ]
  },
  {
   "cell_type": "code",
   "execution_count": 22,
   "metadata": {
    "colab": {
     "base_uri": "https://localhost:8080/",
     "height": 34
    },
    "colab_type": "code",
    "id": "D_jtc4G_4WbX",
    "outputId": "813884e9-3e38-4216-ed68-931dd81f65e6"
   },
   "outputs": [],
   "source": [
    "from __future__ import print_function\n",
    "import os\n",
    "import datetime, time, json\n",
    "import numpy as np\n",
    "import pandas as pd\n",
    "import seaborn as sns\n",
    "import matplotlib.pyplot as plt\n",
    "import tensorflow as tf\n",
    "import tensorflow_hub as hub\n",
    "import tensorflow.python.util.deprecation as deprecation\n",
    "deprecation._PRINT_DEPRECATION_WARNINGS = False # Disable the warnings\n",
    "\n",
    "import tensorflow.keras.layers as layers\n",
    "from tensorflow.keras.models import Model\n",
    "from tensorflow.keras.layers import Input, Lambda, Dense, Dropout, Dot, BatchNormalization, Reshape\n",
    "from tensorflow.keras.regularizers import l2\n",
    "from tensorflow.keras import backend\n",
    "from tensorflow.keras.callbacks import Callback, ModelCheckpoint, TensorBoard, EarlyStopping\n",
    "tf.get_logger().setLevel('ERROR')\n",
    "\n",
    "#from google.colab import drive \n",
    "#drive.mount('/content/gdrive')\n"
   ]
  },
  {
   "cell_type": "markdown",
   "metadata": {
    "colab_type": "text",
    "id": "F2mDpGHI4Wba"
   },
   "source": [
    "## Load the duplicate questions dataset"
   ]
  },
  {
   "cell_type": "code",
   "execution_count": 23,
   "metadata": {
    "colab": {},
    "colab_type": "code",
    "id": "OzW7DNJY4Wba"
   },
   "outputs": [],
   "source": [
    "dupe_df = pd.read_csv('data/dupe_df_100k.csv')\n",
    "#dup_df_path ='gdrive/My Drive/Colab Notebooks/coda/data/dupe_df_100k.csv'\n",
    "#dupe_df = pd.read_csv(dup_df_path)\n",
    "dupe_df.dropna(inplace=True)"
   ]
  },
  {
   "cell_type": "markdown",
   "metadata": {
    "colab_type": "text",
    "id": "e_VaM0Fn4Wbd"
   },
   "source": [
    "### Print Sample Duplicates"
   ]
  },
  {
   "cell_type": "code",
   "execution_count": 24,
   "metadata": {
    "colab": {
     "base_uri": "https://localhost:8080/",
     "height": 359
    },
    "colab_type": "code",
    "id": "PdkQtgX34Wbd",
    "outputId": "556de77c-d34a-446f-aecd-ebfaed796c88"
   },
   "outputs": [
    {
     "data": {
      "text/html": [
       "<div>\n",
       "<style scoped>\n",
       "    .dataframe tbody tr th:only-of-type {\n",
       "        vertical-align: middle;\n",
       "    }\n",
       "\n",
       "    .dataframe tbody tr th {\n",
       "        vertical-align: top;\n",
       "    }\n",
       "\n",
       "    .dataframe thead th {\n",
       "        text-align: right;\n",
       "    }\n",
       "</style>\n",
       "<table border=\"1\" class=\"dataframe\">\n",
       "  <thead>\n",
       "    <tr style=\"text-align: right;\">\n",
       "      <th></th>\n",
       "      <th>title</th>\n",
       "      <th>dupe_title</th>\n",
       "      <th>is_dupe</th>\n",
       "    </tr>\n",
       "  </thead>\n",
       "  <tbody>\n",
       "    <tr>\n",
       "      <td>0</td>\n",
       "      <td>python writing json file</td>\n",
       "      <td>write json data file</td>\n",
       "      <td>1</td>\n",
       "    </tr>\n",
       "    <tr>\n",
       "      <td>1</td>\n",
       "      <td>read 5th line python csv module</td>\n",
       "      <td>best way access nth line csv file</td>\n",
       "      <td>1</td>\n",
       "    </tr>\n",
       "    <tr>\n",
       "      <td>2</td>\n",
       "      <td>print list without showing brackets output pyt...</td>\n",
       "      <td>adding numbers list togethernot summing python...</td>\n",
       "      <td>1</td>\n",
       "    </tr>\n",
       "    <tr>\n",
       "      <td>3</td>\n",
       "      <td>numpy create masked array lists unequal size</td>\n",
       "      <td>convert pad list numpy array</td>\n",
       "      <td>1</td>\n",
       "    </tr>\n",
       "    <tr>\n",
       "      <td>4</td>\n",
       "      <td>wrong timezone 30min instead 1hr</td>\n",
       "      <td>datetime timezone conversion using pytz</td>\n",
       "      <td>1</td>\n",
       "    </tr>\n",
       "    <tr>\n",
       "      <td>5</td>\n",
       "      <td>python open window set parent insensitive</td>\n",
       "      <td>pygobject glade send window front</td>\n",
       "      <td>1</td>\n",
       "    </tr>\n",
       "    <tr>\n",
       "      <td>6</td>\n",
       "      <td>import mysqldb fails os x 1082 mountain lion p...</td>\n",
       "      <td>install mysqldb python data access library mys...</td>\n",
       "      <td>1</td>\n",
       "    </tr>\n",
       "    <tr>\n",
       "      <td>7</td>\n",
       "      <td>python saving api result json file</td>\n",
       "      <td>write json data file</td>\n",
       "      <td>1</td>\n",
       "    </tr>\n",
       "    <tr>\n",
       "      <td>8</td>\n",
       "      <td>delimiter python3x regex pattern</td>\n",
       "      <td>regex differ php python</td>\n",
       "      <td>1</td>\n",
       "    </tr>\n",
       "    <tr>\n",
       "      <td>9</td>\n",
       "      <td>python matplotlib create subplots</td>\n",
       "      <td>remove gaps subplots matplotlib</td>\n",
       "      <td>1</td>\n",
       "    </tr>\n",
       "  </tbody>\n",
       "</table>\n",
       "</div>"
      ],
      "text/plain": [
       "                                               title  \\\n",
       "0                           python writing json file   \n",
       "1                    read 5th line python csv module   \n",
       "2  print list without showing brackets output pyt...   \n",
       "3       numpy create masked array lists unequal size   \n",
       "4                   wrong timezone 30min instead 1hr   \n",
       "5          python open window set parent insensitive   \n",
       "6  import mysqldb fails os x 1082 mountain lion p...   \n",
       "7                 python saving api result json file   \n",
       "8                   delimiter python3x regex pattern   \n",
       "9                  python matplotlib create subplots   \n",
       "\n",
       "                                          dupe_title  is_dupe  \n",
       "0                               write json data file        1  \n",
       "1                  best way access nth line csv file        1  \n",
       "2  adding numbers list togethernot summing python...        1  \n",
       "3                       convert pad list numpy array        1  \n",
       "4            datetime timezone conversion using pytz        1  \n",
       "5                  pygobject glade send window front        1  \n",
       "6  install mysqldb python data access library mys...        1  \n",
       "7                               write json data file        1  \n",
       "8                            regex differ php python        1  \n",
       "9                    remove gaps subplots matplotlib        1  "
      ]
     },
     "execution_count": 24,
     "metadata": {},
     "output_type": "execute_result"
    }
   ],
   "source": [
    "dupe_df.head(10)"
   ]
  },
  {
   "cell_type": "markdown",
   "metadata": {
    "colab_type": "text",
    "id": "h9Wgae6W4Wbg"
   },
   "source": [
    "### Print sample non-duplicates"
   ]
  },
  {
   "cell_type": "code",
   "execution_count": 25,
   "metadata": {
    "colab": {
     "base_uri": "https://localhost:8080/",
     "height": 359
    },
    "colab_type": "code",
    "id": "pTwjJ43e4Wbh",
    "outputId": "e18f0b44-11fc-4019-ebaf-aa28430319c8"
   },
   "outputs": [
    {
     "data": {
      "text/html": [
       "<div>\n",
       "<style scoped>\n",
       "    .dataframe tbody tr th:only-of-type {\n",
       "        vertical-align: middle;\n",
       "    }\n",
       "\n",
       "    .dataframe tbody tr th {\n",
       "        vertical-align: top;\n",
       "    }\n",
       "\n",
       "    .dataframe thead th {\n",
       "        text-align: right;\n",
       "    }\n",
       "</style>\n",
       "<table border=\"1\" class=\"dataframe\">\n",
       "  <thead>\n",
       "    <tr style=\"text-align: right;\">\n",
       "      <th></th>\n",
       "      <th>title</th>\n",
       "      <th>dupe_title</th>\n",
       "      <th>is_dupe</th>\n",
       "    </tr>\n",
       "  </thead>\n",
       "  <tbody>\n",
       "    <tr>\n",
       "      <td>162750</td>\n",
       "      <td>assigning name lines read file</td>\n",
       "      <td>python code generate alternative python code</td>\n",
       "      <td>0</td>\n",
       "    </tr>\n",
       "    <tr>\n",
       "      <td>162751</td>\n",
       "      <td>assigning name lines read file</td>\n",
       "      <td>sum numbers 1 5 loop</td>\n",
       "      <td>0</td>\n",
       "    </tr>\n",
       "    <tr>\n",
       "      <td>162752</td>\n",
       "      <td>assigning name lines read file</td>\n",
       "      <td>compare elements position array</td>\n",
       "      <td>0</td>\n",
       "    </tr>\n",
       "    <tr>\n",
       "      <td>162753</td>\n",
       "      <td>assigning name lines read file</td>\n",
       "      <td>term bound means class method</td>\n",
       "      <td>0</td>\n",
       "    </tr>\n",
       "    <tr>\n",
       "      <td>162754</td>\n",
       "      <td>assigning name lines read file</td>\n",
       "      <td>python list element syntax</td>\n",
       "      <td>0</td>\n",
       "    </tr>\n",
       "    <tr>\n",
       "      <td>162755</td>\n",
       "      <td>assigning name lines read file</td>\n",
       "      <td>store input user specified index array python</td>\n",
       "      <td>0</td>\n",
       "    </tr>\n",
       "    <tr>\n",
       "      <td>162756</td>\n",
       "      <td>assigning name lines read file</td>\n",
       "      <td>convert longitude latitude country city</td>\n",
       "      <td>0</td>\n",
       "    </tr>\n",
       "    <tr>\n",
       "      <td>162757</td>\n",
       "      <td>assigning name lines read file</td>\n",
       "      <td>python lists two functions firsti think second</td>\n",
       "      <td>0</td>\n",
       "    </tr>\n",
       "    <tr>\n",
       "      <td>162758</td>\n",
       "      <td>assigning name lines read file</td>\n",
       "      <td>replace part file another file</td>\n",
       "      <td>0</td>\n",
       "    </tr>\n",
       "    <tr>\n",
       "      <td>162759</td>\n",
       "      <td>assigning name lines read file</td>\n",
       "      <td>loop lists function</td>\n",
       "      <td>0</td>\n",
       "    </tr>\n",
       "  </tbody>\n",
       "</table>\n",
       "</div>"
      ],
      "text/plain": [
       "                                 title  \\\n",
       "162750  assigning name lines read file   \n",
       "162751  assigning name lines read file   \n",
       "162752  assigning name lines read file   \n",
       "162753  assigning name lines read file   \n",
       "162754  assigning name lines read file   \n",
       "162755  assigning name lines read file   \n",
       "162756  assigning name lines read file   \n",
       "162757  assigning name lines read file   \n",
       "162758  assigning name lines read file   \n",
       "162759  assigning name lines read file   \n",
       "\n",
       "                                            dupe_title  is_dupe  \n",
       "162750    python code generate alternative python code        0  \n",
       "162751                            sum numbers 1 5 loop        0  \n",
       "162752                 compare elements position array        0  \n",
       "162753                   term bound means class method        0  \n",
       "162754                      python list element syntax        0  \n",
       "162755   store input user specified index array python        0  \n",
       "162756         convert longitude latitude country city        0  \n",
       "162757  python lists two functions firsti think second        0  \n",
       "162758                  replace part file another file        0  \n",
       "162759                             loop lists function        0  "
      ]
     },
     "execution_count": 25,
     "metadata": {},
     "output_type": "execute_result"
    }
   ],
   "source": [
    "dupe_df.tail(10)"
   ]
  },
  {
   "cell_type": "markdown",
   "metadata": {
    "colab_type": "text",
    "id": "s4V0DFbW4Wbj"
   },
   "source": [
    "## Build our X and y"
   ]
  },
  {
   "cell_type": "code",
   "execution_count": 26,
   "metadata": {
    "colab": {
     "base_uri": "https://localhost:8080/",
     "height": 34
    },
    "colab_type": "code",
    "id": "7digMlgp4Wbj",
    "outputId": "e5e75a64-bf03-43b1-d771-6f07e75bcf73"
   },
   "outputs": [
    {
     "name": "stdout",
     "output_type": "stream",
     "text": [
      "(162677,) (162677, 2)\n"
     ]
    }
   ],
   "source": [
    "# Get Labels\n",
    "y = dupe_df['is_dupe'].to_numpy()\n",
    "\n",
    "# Question title and dupe title\n",
    "dupe_df = dupe_df.drop(['is_dupe'], axis = 1)\n",
    "X = dupe_df.to_numpy()\n",
    "\n",
    "print(y.shape, X.shape)"
   ]
  },
  {
   "cell_type": "markdown",
   "metadata": {
    "colab_type": "text",
    "id": "V4a5xpfq4Wbm"
   },
   "source": [
    "## Validate using Universal Sentence Encoder "
   ]
  },
  {
   "cell_type": "markdown",
   "metadata": {
    "colab_type": "text",
    "id": "xXM4Tn1t4Wbm"
   },
   "source": [
    "### Load universal sentence encoder (USE) from TF HUB"
   ]
  },
  {
   "cell_type": "code",
   "execution_count": 0,
   "metadata": {
    "colab": {},
    "colab_type": "code",
    "id": "N1l4abRJ4Wbn"
   },
   "outputs": [],
   "source": [
    "# Import the Universal Sentence Encoder's TF Hub module\n",
    "embed = hub.load(\"https://tfhub.dev/google/universal-sentence-encoder/4\")"
   ]
  },
  {
   "cell_type": "code",
   "execution_count": 18,
   "metadata": {
    "colab": {
     "base_uri": "https://localhost:8080/",
     "height": 1000
    },
    "colab_type": "code",
    "id": "l3T_gG-r4Wbp",
    "outputId": "45b465f6-0157-4bf8-e4b3-274ba6fde7e7"
   },
   "outputs": [
    {
     "name": "stdout",
     "output_type": "stream",
     "text": [
      "(16, 512)\n",
      "Question: splash screen move bar\n",
      "Embedding size: 512\n",
      "Embedding: [-0.04143122583627701, 0.039064109325408936, -0.04476099833846092, ...]\n",
      "\n",
      "Question: tkinter mouse drag window without borders eg overridedirect1\n",
      "Embedding size: 512\n",
      "Embedding: [0.02780076675117016, -0.06536060571670532, 0.058783818036317825, ...]\n",
      "\n",
      "Question: pandas groupbynth function abnormal behaviour nan\n",
      "Embedding size: 512\n",
      "Embedding: [0.021077416837215424, -0.06760544329881668, 0.03229514881968498, ...]\n",
      "\n",
      "Question: pandas sum time interval group excluding overlaps\n",
      "Embedding size: 512\n",
      "Embedding: [-0.046837177127599716, -0.07595676183700562, 0.03853143751621246, ...]\n",
      "\n",
      "Question: robustly parse wikitables rowspan colspan pandas dataframe\n",
      "Embedding size: 512\n",
      "Embedding: [0.015776928514242172, -0.06958452612161636, 0.03150045871734619, ...]\n",
      "\n",
      "Question: tr rowspan\n",
      "Embedding size: 512\n",
      "Embedding: [0.04754408821463585, -0.06223956495523453, 0.08156958222389221, ...]\n",
      "\n",
      "Question: inserting data dictionary raw_input dynamically\n",
      "Embedding size: 512\n",
      "Embedding: [0.0760662779211998, -0.053287073969841, 0.02262507565319538, ...]\n",
      "\n",
      "Question: merging two dictionaries\n",
      "Embedding size: 512\n",
      "Embedding: [0.040608808398246765, -0.07586052268743515, -0.01840899884700775, ...]\n",
      "\n",
      "Question: nt piece code execute order\n",
      "Embedding size: 512\n",
      "Embedding: [-0.03701770305633545, -0.017904801294207573, -0.007146391551941633, ...]\n",
      "\n",
      "Question: printing line timesleep\n",
      "Embedding size: 512\n",
      "Embedding: [0.05509278550744057, -0.005940747447311878, 0.024617698043584824, ...]\n",
      "\n",
      "Question: ca nt make table pandas\n",
      "Embedding size: 512\n",
      "Embedding: [-0.03833100199699402, -0.08214260637760162, -0.007245146203786135, ...]\n",
      "\n",
      "Question: transform 2d numpy array row column value pandas dataframe\n",
      "Embedding size: 512\n",
      "Embedding: [-0.037863630801439285, -0.061977699398994446, 0.05546651780605316, ...]\n",
      "\n",
      "Question: python pivot table conditional count\n",
      "Embedding size: 512\n",
      "Embedding: [-0.053160540759563446, -0.07345885783433914, -0.005593559704720974, ...]\n",
      "\n",
      "Question: way update pandaspivot_table without reconstructing\n",
      "Embedding size: 512\n",
      "Embedding: [0.004039464518427849, -0.07446165382862091, -0.016563458368182182, ...]\n",
      "\n",
      "Question: efficient way merging data frames custom conditions\n",
      "Embedding size: 512\n",
      "Embedding: [0.02463395707309246, -0.07861410826444626, -0.019172335043549538, ...]\n",
      "\n",
      "Question: change column values dataframe python\n",
      "Embedding size: 512\n",
      "Embedding: [-0.020476993173360825, -0.06902006268501282, 0.02501518651843071, ...]\n",
      "\n"
     ]
    }
   ],
   "source": [
    "# Build a small list of question titles and corrosponding duplicates\n",
    "dupe_df_sample = dupe_df.sample(8)\n",
    "messages = []\n",
    "for i, row in dupe_df_sample.iterrows():\n",
    "    messages.append(row['title'])\n",
    "    messages.append(row['dupe_title'])\n",
    "\n",
    "message_embeddings = embed(messages)\n",
    "print(message_embeddings.shape)\n",
    "      \n",
    "for i, message_embedding in enumerate(np.array(message_embeddings).tolist()):\n",
    "    print(\"Question: {}\".format(messages[i]))\n",
    "    print(\"Embedding size: {}\".format(len(message_embedding)))\n",
    "    message_embedding_snippet = \", \".join(\n",
    "            (str(x) for x in message_embedding[:3]))\n",
    "    print(\"Embedding: [{}, ...]\\n\".format(message_embedding_snippet))"
   ]
  },
  {
   "cell_type": "markdown",
   "metadata": {
    "colab_type": "text",
    "id": "r8xF-Pxt4Wbr"
   },
   "source": [
    "### Plot a similarity matrix "
   ]
  },
  {
   "cell_type": "code",
   "execution_count": 0,
   "metadata": {
    "colab": {},
    "colab_type": "code",
    "id": "7-T9iFpH4Wbs"
   },
   "outputs": [],
   "source": [
    "def plot_similarity(labels, features, rotation):\n",
    "  corr = np.inner(features, features)\n",
    "  sns.set(font_scale=1.2)\n",
    "  g = sns.heatmap(\n",
    "      corr,\n",
    "      xticklabels=labels,\n",
    "      yticklabels=labels,\n",
    "      vmin=0,\n",
    "      vmax=1,\n",
    "      cmap=\"YlOrRd\")\n",
    "  g.set_xticklabels(labels, rotation=rotation)\n",
    "  g.set_title(\"Semantic Textual Similarity\")\n"
   ]
  },
  {
   "cell_type": "code",
   "execution_count": 20,
   "metadata": {
    "colab": {
     "base_uri": "https://localhost:8080/",
     "height": 700
    },
    "colab_type": "code",
    "id": "lgRjsrr94Wbt",
    "outputId": "1928eddb-08f0-481a-a660-9d437b5e194e"
   },
   "outputs": [
    {
     "data": {
      "image/png": "[encoded data removed]",
      "text/plain": [
       "<Figure size 432x288 with 2 Axes>"
      ]
     },
     "metadata": {
      "tags": []
     },
     "output_type": "display_data"
    }
   ],
   "source": [
    "plot_similarity(messages, message_embeddings, 90)"
   ]
  },
  {
   "cell_type": "markdown",
   "metadata": {
    "colab_type": "text",
    "id": "KD50J6dg4Wbv"
   },
   "source": [
    "## Build a Train and Test set"
   ]
  },
  {
   "cell_type": "code",
   "execution_count": 27,
   "metadata": {
    "colab": {
     "base_uri": "https://localhost:8080/",
     "height": 187
    },
    "colab_type": "code",
    "id": "GaoLKFAe4Wbw",
    "outputId": "e5041432-8e37-4ae9-90be-26ac4966d01b"
   },
   "outputs": [
    {
     "name": "stdout",
     "output_type": "stream",
     "text": [
      "X_train (130141, 2)\n",
      "Y_train (130141,)\n",
      "X_train_split (130141, 2)\n",
      "X_test_split (32536, 2)\n",
      "y_train_split (130141,)\n",
      "y_test_split (32536,)\n",
      "X_train Concatenated with Q1, Q2 (130141,)\n",
      "X_test  Concatenated with Q1, Q2 (32536,)\n",
      "y_train (130141,)\n",
      "y_test (32536,)\n"
     ]
    }
   ],
   "source": [
    "# Split into train and test set\n",
    "\n",
    "from sklearn.model_selection import train_test_split\n",
    "X_train, X_test, y_train, y_test = train_test_split(X, y,  test_size=0.2, random_state=42)\n",
    "print(\"X_train\", X_train.shape)\n",
    "print(\"Y_train\", y_train.shape)\n",
    "\n",
    "# Keep separated train and test sets\n",
    "X_train_split = X_train.copy()\n",
    "X_test_split = X_test.copy()\n",
    "y_train_split = y_train.copy()\n",
    "y_test_split = y_test.copy()\n",
    "\n",
    "print(\"X_train_split\", X_train_split.shape)\n",
    "print(\"X_test_split\", X_test_split.shape)\n",
    "print(\"y_train_split\", y_train_split.shape)\n",
    "print(\"y_test_split\", y_test_split.shape)\n",
    "\n",
    "X_train = X_train[:,0] + X_train[:,1].astype('str')\n",
    "print(\"X_train Concatenated with Q1, Q2\", X_train.shape)\n",
    "X_test = X_test[:,0] + X_test[:,1].astype('str')\n",
    "print(\"X_test  Concatenated with Q1, Q2\", X_test.shape)\n",
    "\n",
    "print(\"y_train\", y_train.shape)\n",
    "print(\"y_test\", y_test.shape)"
   ]
  },
  {
   "cell_type": "markdown",
   "metadata": {
    "colab_type": "text",
    "id": "7Ju53bXN4Wby"
   },
   "source": [
    "## Build Model "
   ]
  },
  {
   "cell_type": "markdown",
   "metadata": {
    "colab_type": "text",
    "id": "2qk51igv4Wby"
   },
   "source": [
    "Here we build three models, the first one is a simple baseline model, model 1 is a improvement over the baseline and model 2 is our final optimized model"
   ]
  },
  {
   "cell_type": "markdown",
   "metadata": {
    "colab_type": "text",
    "id": "QEnsfTzP4Wby"
   },
   "source": [
    "### Baseline Model: USE with Cosine Similarity"
   ]
  },
  {
   "cell_type": "code",
   "execution_count": 0,
   "metadata": {
    "colab": {},
    "colab_type": "code",
    "id": "JXAPwsr_4Wbz"
   },
   "outputs": [],
   "source": [
    "from sklearn.metrics.pairwise import cosine_similarity\n",
    "from sklearn.linear_model import LogisticRegression"
   ]
  },
  {
   "cell_type": "code",
   "execution_count": 0,
   "metadata": {
    "colab": {},
    "colab_type": "code",
    "id": "jVgzwfMv4Wb0"
   },
   "outputs": [],
   "source": [
    "Q_train = X_train_split[:, 0].tolist()\n",
    "D_train = X_train_split[:, 1].tolist()"
   ]
  },
  {
   "cell_type": "code",
   "execution_count": 0,
   "metadata": {
    "colab": {},
    "colab_type": "code",
    "id": "iT6ATvgi4Wb2"
   },
   "outputs": [],
   "source": [
    "X_train_ue = []\n",
    "\n",
    "for i in range(len(Q_train)):\n",
    "    q = [Q_train[i]]\n",
    "    d = [D_train[i]]\n",
    "    X_train_ue.append(cosine_similarity(embed(tf.cast(q, tf.string)), embed(tf.cast(d, tf.string))))"
   ]
  },
  {
   "cell_type": "code",
   "execution_count": 0,
   "metadata": {
    "colab": {},
    "colab_type": "code",
    "id": "zLWW6GV84Wb5"
   },
   "outputs": [],
   "source": [
    "X_train_ue_np = np.array(X_train_ue) \n",
    "X_train_ue_np = X_train_ue_np[:, 0]"
   ]
  },
  {
   "cell_type": "code",
   "execution_count": 0,
   "metadata": {
    "colab": {},
    "colab_type": "code",
    "id": "nSTPbv_s4Wb6"
   },
   "outputs": [],
   "source": [
    "Q_test = X_test_split[:, 0].tolist()\n",
    "D_test = X_test_split[:, 1].tolist()"
   ]
  },
  {
   "cell_type": "code",
   "execution_count": 0,
   "metadata": {
    "colab": {},
    "colab_type": "code",
    "id": "x0WbyxH94Wb8"
   },
   "outputs": [],
   "source": [
    "X_test_ue = []\n",
    "\n",
    "for i in range(len(Q_test)):\n",
    "    q = [Q_test[i]]\n",
    "    d = [D_test[i]]\n",
    "    X_test_ue.append(cosine_similarity(embed(tf.cast(q, tf.string)), embed(tf.cast(d, tf.string))))"
   ]
  },
  {
   "cell_type": "code",
   "execution_count": 0,
   "metadata": {
    "colab": {},
    "colab_type": "code",
    "id": "XwX816yS4Wb-"
   },
   "outputs": [],
   "source": [
    "X_test_ue_np = np.array(X_test_ue)\n",
    "X_test_ue_np = X_test_ue_np[:, 0]"
   ]
  },
  {
   "cell_type": "code",
   "execution_count": 0,
   "metadata": {
    "colab": {},
    "colab_type": "code",
    "id": "gL5LwiTj4WcA"
   },
   "outputs": [],
   "source": [
    "clf = LogisticRegression(random_state=0).fit(X_train_ue_np, y_train)"
   ]
  },
  {
   "cell_type": "code",
   "execution_count": 32,
   "metadata": {
    "colab": {
     "base_uri": "https://localhost:8080/",
     "height": 34
    },
    "colab_type": "code",
    "id": "nw1RTpOs4WcB",
    "outputId": "dd367242-838a-4ba1-dabc-768bb5d1d27a"
   },
   "outputs": [
    {
     "data": {
      "text/plain": [
       "0.6487890336857635"
      ]
     },
     "execution_count": 32,
     "metadata": {
      "tags": []
     },
     "output_type": "execute_result"
    }
   ],
   "source": [
    "clf.score(X_test_ue_np, y_test)"
   ]
  },
  {
   "cell_type": "markdown",
   "metadata": {
    "colab_type": "text",
    "id": "IPkLQds34WcD"
   },
   "source": [
    "### Model-1: Two Tower Dot Product with USE"
   ]
  },
  {
   "cell_type": "code",
   "execution_count": 28,
   "metadata": {
    "colab": {},
    "colab_type": "code",
    "id": "DpXSQsSp2Mta"
   },
   "outputs": [],
   "source": [
    "def plot_model(model_name):\n",
    "  plt.plot(history.history['accuracy'])\n",
    "  plt.plot(history.history['val_accuracy'])\n",
    "  plt.title(model_name + 'model accuracy')\n",
    "  plt.ylabel('accuracy')\n",
    "  plt.xlabel('epoch')\n",
    "  plt.legend(['train', 'test'], loc='upper left')\n",
    "  plt.show()\n",
    "  # summarize history for loss\n",
    "  plt.plot(history.history['loss'])\n",
    "  plt.plot(history.history['val_loss'])\n",
    "  plt.title(model_name + 'model loss')\n",
    "  plt.ylabel('loss')\n",
    "  plt.xlabel('epoch')\n",
    "  plt.legend(['train', 'test'], loc='upper left')\n",
    "  plt.show()"
   ]
  },
  {
   "cell_type": "code",
   "execution_count": 0,
   "metadata": {
    "colab": {},
    "colab_type": "code",
    "id": "CJJ1EBYs4WcD"
   },
   "outputs": [],
   "source": [
    "def UniversalEmbedding(x):\n",
    "    return embed(tf.squeeze(tf.cast(x, tf.string)))"
   ]
  },
  {
   "cell_type": "code",
   "execution_count": 0,
   "metadata": {
    "colab": {},
    "colab_type": "code",
    "id": "_sG8Dcf94WcF"
   },
   "outputs": [],
   "source": [
    "USE_EMBEDDING_SIZE = 512\n",
    "VALIDATION_SPLIT = 0.1\n",
    "DROPOUT = 0.2\n",
    "BATCH_SIZE = 200\n",
    "#MODEL_WEIGHTS_FILE = 'data/coda_model_two_tower.h5'\n",
    "MODEL_WEIGHTS_FILE=\"gdrive/My Drive/Colab Notebooks/coda/data/CODA_QS_TWO_TOWER\"\n",
    "\n",
    "def build_two_tower_model(activation_function='relu', \n",
    "                  optimizer='adam', \n",
    "                  kernel_initializer=tf.keras.initializers.he_normal(seed=1), \n",
    "                  bias_initializer='zeros',\n",
    "                  dropout=0.2):\n",
    "\n",
    "    # Define Input Layer\n",
    "    Q0 = Input(shape=(1,), dtype=\"string\")\n",
    "    \n",
    "    Q1 = Input(shape=(1,), dtype=\"string\")\n",
    "        \n",
    "    # Define an embedding layer using USE\n",
    "    Q0_e = Lambda(UniversalEmbedding, output_shape=(USE_EMBEDDING_SIZE, ))(Q0)\n",
    "    \n",
    "    # Define an embedding layer using USE\n",
    "    Q1_e = Lambda(UniversalEmbedding, output_shape=(USE_EMBEDDING_SIZE, ))(Q1)\n",
    "    \n",
    "    # Define one hidden layer\n",
    "    dense_layer = Dense(100, \n",
    "                        activation=activation_function,\n",
    "                        kernel_initializer=kernel_initializer, \n",
    "                        bias_initializer=bias_initializer,\n",
    "                        name='layer-1')\n",
    "    \n",
    "    # Feed the answer embedding to a dense layer\n",
    "    Q1_prime = dense_layer(Q1_e)\n",
    "    Q1_prime = Dropout(dropout)(Q1_prime)\n",
    "    Q1_prime = BatchNormalization()(Q1_prime)\n",
    "    \n",
    "    # Define a second hidden layer\n",
    "    dense_layer_2 = Dense(512,\n",
    "                          activation=activation_function,\n",
    "                          kernel_initializer=kernel_initializer, \n",
    "                          bias_initializer=bias_initializer,\n",
    "                          name='layer-2')\n",
    "    \n",
    "    # Feed the previous layer output to dense 2 layer               \n",
    "    Q1_prime = dense_layer_2(Q1_prime)\n",
    "    Q1_prime = Dropout(dropout)(Q1_prime)\n",
    "    Q1_prime = BatchNormalization()(Q1_prime)\n",
    "    \n",
    "    # Dot product of Question Embedding and Answer prime\n",
    "    QA = Dot(axes = 1)([Q0_e,Q1_prime])\n",
    "    \n",
    "    result = Reshape((1,), input_shape=(1,1))(QA)\n",
    "    \n",
    "    # Final layer\n",
    "    probs  = Dense(1, activation='sigmoid')(result)\n",
    "\n",
    "    # Build and compile model, input Question and Answer body \n",
    "    two_tower_model = Model(inputs=[Q0, Q1], outputs=probs)\n",
    "    \n",
    "    two_tower_model.compile(loss='binary_crossentropy', optimizer=optimizer, metrics=['accuracy'])\n",
    "    \n",
    "    return two_tower_model"
   ]
  },
  {
   "cell_type": "code",
   "execution_count": 74,
   "metadata": {
    "colab": {
     "base_uri": "https://localhost:8080/",
     "height": 612
    },
    "colab_type": "code",
    "id": "HH21Bgsh4WcG",
    "outputId": "8e2d0f33-7aad-4a76-d70d-5f3a70bcdaae"
   },
   "outputs": [
    {
     "name": "stdout",
     "output_type": "stream",
     "text": [
      "Model: \"model_6\"\n",
      "__________________________________________________________________________________________________\n",
      "Layer (type)                    Output Shape         Param #     Connected to                     \n",
      "==================================================================================================\n",
      "input_12 (InputLayer)           [(None, 1)]          0                                            \n",
      "__________________________________________________________________________________________________\n",
      "lambda_11 (Lambda)              (None, 512)          0           input_12[0][0]                   \n",
      "__________________________________________________________________________________________________\n",
      "layer-1 (Dense)                 (None, 100)          51300       lambda_11[0][0]                  \n",
      "__________________________________________________________________________________________________\n",
      "dropout_12 (Dropout)            (None, 100)          0           layer-1[0][0]                    \n",
      "__________________________________________________________________________________________________\n",
      "batch_normalization_12 (BatchNo (None, 100)          400         dropout_12[0][0]                 \n",
      "__________________________________________________________________________________________________\n",
      "layer-2 (Dense)                 (None, 512)          51712       batch_normalization_12[0][0]     \n",
      "__________________________________________________________________________________________________\n",
      "input_11 (InputLayer)           [(None, 1)]          0                                            \n",
      "__________________________________________________________________________________________________\n",
      "dropout_13 (Dropout)            (None, 512)          0           layer-2[0][0]                    \n",
      "__________________________________________________________________________________________________\n",
      "lambda_10 (Lambda)              (None, 512)          0           input_11[0][0]                   \n",
      "__________________________________________________________________________________________________\n",
      "batch_normalization_13 (BatchNo (None, 512)          2048        dropout_13[0][0]                 \n",
      "__________________________________________________________________________________________________\n",
      "dot_4 (Dot)                     (None, 1)            0           lambda_10[0][0]                  \n",
      "                                                                 batch_normalization_13[0][0]     \n",
      "__________________________________________________________________________________________________\n",
      "reshape_4 (Reshape)             (None, 1)            0           dot_4[0][0]                      \n",
      "__________________________________________________________________________________________________\n",
      "dense_6 (Dense)                 (None, 1)            2           reshape_4[0][0]                  \n",
      "==================================================================================================\n",
      "Total params: 105,462\n",
      "Trainable params: 104,238\n",
      "Non-trainable params: 1,224\n",
      "__________________________________________________________________________________________________\n"
     ]
    }
   ],
   "source": [
    "two_tower_model = build_two_tower_model()\n",
    "\n",
    "two_tower_model.summary()"
   ]
  },
  {
   "cell_type": "code",
   "execution_count": 40,
   "metadata": {
    "colab": {
     "base_uri": "https://localhost:8080/",
     "height": 884
    },
    "colab_type": "code",
    "id": "_-mthRrO4WcI",
    "outputId": "48eef9c6-889f-469f-95fd-0f7b49ad8a3b"
   },
   "outputs": [
    {
     "name": "stdout",
     "output_type": "stream",
     "text": [
      "Starting training at 2020-04-16 16:32:43.168649\n",
      "Epoch 1/25\n",
      "WARNING:tensorflow:Can save best model only with val_acc available, skipping.\n"
     ]
    },
    {
     "name": "stderr",
     "output_type": "stream",
     "text": [
      "WARNING:tensorflow:Can save best model only with val_acc available, skipping.\n"
     ]
    },
    {
     "name": "stdout",
     "output_type": "stream",
     "text": [
      "586/586 - 16s - loss: 0.4089 - accuracy: 0.8121 - val_loss: 0.3115 - val_accuracy: 0.8738\n",
      "Epoch 2/25\n",
      "WARNING:tensorflow:Can save best model only with val_acc available, skipping.\n"
     ]
    },
    {
     "name": "stderr",
     "output_type": "stream",
     "text": [
      "WARNING:tensorflow:Can save best model only with val_acc available, skipping.\n"
     ]
    },
    {
     "name": "stdout",
     "output_type": "stream",
     "text": [
      "586/586 - 16s - loss: 0.2707 - accuracy: 0.8902 - val_loss: 0.2162 - val_accuracy: 0.9172\n",
      "Epoch 3/25\n",
      "WARNING:tensorflow:Can save best model only with val_acc available, skipping.\n"
     ]
    },
    {
     "name": "stderr",
     "output_type": "stream",
     "text": [
      "WARNING:tensorflow:Can save best model only with val_acc available, skipping.\n"
     ]
    },
    {
     "name": "stdout",
     "output_type": "stream",
     "text": [
      "586/586 - 16s - loss: 0.2218 - accuracy: 0.9123 - val_loss: 0.1901 - val_accuracy: 0.9295\n",
      "Epoch 4/25\n",
      "WARNING:tensorflow:Can save best model only with val_acc available, skipping.\n"
     ]
    },
    {
     "name": "stderr",
     "output_type": "stream",
     "text": [
      "WARNING:tensorflow:Can save best model only with val_acc available, skipping.\n"
     ]
    },
    {
     "name": "stdout",
     "output_type": "stream",
     "text": [
      "586/586 - 16s - loss: 0.1931 - accuracy: 0.9241 - val_loss: 0.1730 - val_accuracy: 0.9345\n",
      "Epoch 5/25\n",
      "WARNING:tensorflow:Can save best model only with val_acc available, skipping.\n"
     ]
    },
    {
     "name": "stderr",
     "output_type": "stream",
     "text": [
      "WARNING:tensorflow:Can save best model only with val_acc available, skipping.\n"
     ]
    },
    {
     "name": "stdout",
     "output_type": "stream",
     "text": [
      "586/586 - 16s - loss: 0.1712 - accuracy: 0.9327 - val_loss: 0.1640 - val_accuracy: 0.9396\n",
      "Epoch 6/25\n",
      "WARNING:tensorflow:Can save best model only with val_acc available, skipping.\n"
     ]
    },
    {
     "name": "stderr",
     "output_type": "stream",
     "text": [
      "WARNING:tensorflow:Can save best model only with val_acc available, skipping.\n"
     ]
    },
    {
     "name": "stdout",
     "output_type": "stream",
     "text": [
      "586/586 - 16s - loss: 0.1572 - accuracy: 0.9391 - val_loss: 0.1560 - val_accuracy: 0.9429\n",
      "Epoch 7/25\n",
      "WARNING:tensorflow:Can save best model only with val_acc available, skipping.\n"
     ]
    },
    {
     "name": "stderr",
     "output_type": "stream",
     "text": [
      "WARNING:tensorflow:Can save best model only with val_acc available, skipping.\n"
     ]
    },
    {
     "name": "stdout",
     "output_type": "stream",
     "text": [
      "586/586 - 16s - loss: 0.1450 - accuracy: 0.9445 - val_loss: 0.1529 - val_accuracy: 0.9441\n",
      "Epoch 8/25\n",
      "WARNING:tensorflow:Can save best model only with val_acc available, skipping.\n"
     ]
    },
    {
     "name": "stderr",
     "output_type": "stream",
     "text": [
      "WARNING:tensorflow:Can save best model only with val_acc available, skipping.\n"
     ]
    },
    {
     "name": "stdout",
     "output_type": "stream",
     "text": [
      "586/586 - 16s - loss: 0.1370 - accuracy: 0.9464 - val_loss: 0.1506 - val_accuracy: 0.9443\n",
      "Epoch 9/25\n",
      "WARNING:tensorflow:Can save best model only with val_acc available, skipping.\n"
     ]
    },
    {
     "name": "stderr",
     "output_type": "stream",
     "text": [
      "WARNING:tensorflow:Can save best model only with val_acc available, skipping.\n"
     ]
    },
    {
     "name": "stdout",
     "output_type": "stream",
     "text": [
      "586/586 - 16s - loss: 0.1294 - accuracy: 0.9504 - val_loss: 0.1483 - val_accuracy: 0.9461\n",
      "Epoch 10/25\n",
      "WARNING:tensorflow:Can save best model only with val_acc available, skipping.\n"
     ]
    },
    {
     "name": "stderr",
     "output_type": "stream",
     "text": [
      "WARNING:tensorflow:Can save best model only with val_acc available, skipping.\n"
     ]
    },
    {
     "name": "stdout",
     "output_type": "stream",
     "text": [
      "586/586 - 16s - loss: 0.1241 - accuracy: 0.9521 - val_loss: 0.1437 - val_accuracy: 0.9475\n",
      "Epoch 11/25\n",
      "WARNING:tensorflow:Can save best model only with val_acc available, skipping.\n"
     ]
    },
    {
     "name": "stderr",
     "output_type": "stream",
     "text": [
      "WARNING:tensorflow:Can save best model only with val_acc available, skipping.\n"
     ]
    },
    {
     "name": "stdout",
     "output_type": "stream",
     "text": [
      "586/586 - 16s - loss: 0.1180 - accuracy: 0.9547 - val_loss: 0.1461 - val_accuracy: 0.9468\n",
      "Epoch 12/25\n",
      "WARNING:tensorflow:Can save best model only with val_acc available, skipping.\n"
     ]
    },
    {
     "name": "stderr",
     "output_type": "stream",
     "text": [
      "WARNING:tensorflow:Can save best model only with val_acc available, skipping.\n"
     ]
    },
    {
     "name": "stdout",
     "output_type": "stream",
     "text": [
      "586/586 - 16s - loss: 0.1112 - accuracy: 0.9578 - val_loss: 0.1470 - val_accuracy: 0.9489\n",
      "Training ended at 2020-04-16 16:36:00.470062\n",
      "Minutes elapsed: 3.288354\n"
     ]
    }
   ],
   "source": [
    "print(\"Starting training at\", datetime.datetime.now())\n",
    "t0 = time.time()\n",
    "callbacks = [ModelCheckpoint(MODEL_WEIGHTS_FILE, monitor='val_acc', save_best_only=True),\n",
    "             EarlyStopping(monitor='val_loss', patience=2)]\n",
    "\n",
    "history = two_tower_model.fit([X_train_split[:, 0], X_train_split[:, 1]], \n",
    "                    y_train_split, \n",
    "                    epochs=25,\n",
    "                    validation_split=VALIDATION_SPLIT,\n",
    "                    verbose=2,\n",
    "                    batch_size=BATCH_SIZE,\n",
    "                    callbacks=callbacks)\n",
    "two_tower_model.save_weights(MODEL_WEIGHTS_FILE)\n",
    "t1 = time.time()\n",
    "print(\"Training ended at\", datetime.datetime.now())\n",
    "print(\"Minutes elapsed: %f\" % ((t1 - t0) / 60.))"
   ]
  },
  {
   "cell_type": "code",
   "execution_count": 0,
   "metadata": {
    "colab": {},
    "colab_type": "code",
    "id": "wgfHPf0X4WcL",
    "outputId": "ea21e4a7-cfc5-4768-ba36-1cf421c6d1e2"
   },
   "outputs": [
    {
     "name": "stdout",
     "output_type": "stream",
     "text": [
      "Maximum accuracy at epoch 21 = 0.9519\n"
     ]
    }
   ],
   "source": [
    "max_val_acc, idx = max((val, idx) for (idx, val) in enumerate(history.history['val_accuracy']))\n",
    "print('Maximum accuracy at epoch', '{:d}'.format(idx+1), '=', '{:.4f}'.format(max_val_acc))"
   ]
  },
  {
   "cell_type": "code",
   "execution_count": 67,
   "metadata": {
    "colab": {
     "base_uri": "https://localhost:8080/",
     "height": 595
    },
    "colab_type": "code",
    "id": "_28LnTq_3DGw",
    "outputId": "9f8e362b-e65e-4378-8bbe-648c4745dd9c"
   },
   "outputs": [
    {
     "data": {
      "image/png": "[encoded data removed]",
      "text/plain": [
       "<Figure size 432x288 with 1 Axes>"
      ]
     },
     "metadata": {
      "tags": []
     },
     "output_type": "display_data"
    },
    {
     "data": {
      "image/png": "[encoded data removed]",
      "text/plain": [
       "<Figure size 432x288 with 1 Axes>"
      ]
     },
     "metadata": {
      "tags": []
     },
     "output_type": "display_data"
    }
   ],
   "source": [
    "plot_model(\"Two-Tower Dot Product using USE: \")"
   ]
  },
  {
   "cell_type": "code",
   "execution_count": 53,
   "metadata": {
    "colab": {
     "base_uri": "https://localhost:8080/",
     "height": 85
    },
    "colab_type": "code",
    "id": "j1UgyYHJ4WcN",
    "outputId": "09f6c8f1-be4c-4075-e84d-af88f178e670"
   },
   "outputs": [
    {
     "name": "stdout",
     "output_type": "stream",
     "text": [
      "\n",
      "# Evaluate on test data\n",
      "1017/1017 [==============================] - 7s 7ms/step - loss: 0.1477 - accuracy: 0.9461\n",
      "test loss, test acc: [0.14773626625537872, 0.9461212158203125]\n"
     ]
    }
   ],
   "source": [
    "two_tower_model.load_weights(MODEL_WEIGHTS_FILE)  \n",
    "predicts = two_tower_model.predict([X_test_split[:, 0], X_test_split[:, 1]])\n",
    "print('\\n# Evaluate on test data')\n",
    "results = two_tower_model.evaluate([X_test_split[:, 0], X_test_split[:, 1]], y_test_split)\n",
    "print('test loss, test acc:', results)"
   ]
  },
  {
   "cell_type": "markdown",
   "metadata": {
    "colab_type": "text",
    "id": "jfBL-1x44WcO"
   },
   "source": [
    "### Model-2 : Cross Attention with Concatenation with USE"
   ]
  },
  {
   "cell_type": "code",
   "execution_count": 0,
   "metadata": {
    "colab": {},
    "colab_type": "code",
    "id": "wA8ekUEP4WcO"
   },
   "outputs": [],
   "source": [
    "USE_EMBEDDING_SIZE = 512\n",
    "VALIDATION_SPLIT = 0.1\n",
    "DROPOUT = 0.2\n",
    "BATCH_SIZE = 256\n",
    "#MODEL_WEIGHTS_FILE = 'data/coda_model_two_tower.h5'\n",
    "MODEL_WEIGHTS_FILE=\"gdrive/My Drive/Colab Notebooks/coda/data/CODA_QS_CROSS_ATTN\"\n",
    "\n",
    "\n",
    "def build_cross_attn_model(activation_function='relu', \n",
    "                  optimizer='adam', \n",
    "                  kernel_initializer=tf.keras.initializers.he_normal(seed=1), \n",
    "                  bias_initializer='zeros',\n",
    "                  dropout=0.2):\n",
    "\n",
    "    # Define Input Layer\n",
    "    input_text = Input(shape=(1,), dtype=\"string\")\n",
    "    \n",
    "    # Define an embedding layer using USE\n",
    "    embedding = Lambda(UniversalEmbedding, output_shape=(USE_EMBEDDING_SIZE, ))(input_text)\n",
    "    \n",
    "    # Define one hidden layer\n",
    "    dense_layer = Dense(256, \n",
    "                          activation=activation_function,\n",
    "                          kernel_initializer=kernel_initializer, \n",
    "                          bias_initializer=bias_initializer,\n",
    "                          name='layer-1')\n",
    "    \n",
    "    # Feed the embeddings to the dense layer\n",
    "    dense_output = dense_layer(embedding)\n",
    "    \n",
    "    # Use dropout to avoid overfit \n",
    "    dropout_output = Dropout(dropout)(dense_output)\n",
    "\n",
    "    #Batch normalize\n",
    "    batchnormalized_output = BatchNormalization()(dropout_output)\n",
    "    \n",
    "    # Define a second hidden layer\n",
    "    dense_layer_2 = Dense(256,\n",
    "                          activation=activation_function,\n",
    "                          kernel_initializer=kernel_initializer, \n",
    "                          bias_initializer=bias_initializer,\n",
    "                          name='layer-2')\n",
    "    \n",
    "    # Feed the previous layer output to dense 2 layer                \n",
    "    dense_output_2 = dense_layer_2(batchnormalized_output)\n",
    "    \n",
    "    # Use dropout to avoid overfit \n",
    "    dropout_output_2 = Dropout(dropout)(dense_output_2)\n",
    "    \n",
    "    #Batch normalize\n",
    "    batchnormalized_output_2 = BatchNormalization()(dropout_output_2)\n",
    "    \n",
    "    # Final sigmoid layer for prediction probablities\n",
    "    pred = Dense(1, activation='sigmoid')(batchnormalized_output_2)\n",
    "    \n",
    "    # Build and compile model\n",
    "    cross_attn_model = Model(inputs=[input_text], outputs=pred)\n",
    "    \n",
    "    cross_attn_model.compile(loss='binary_crossentropy', optimizer=optimizer, metrics=['accuracy'])\n",
    "    \n",
    "    return cross_attn_model\n"
   ]
  },
  {
   "cell_type": "code",
   "execution_count": 75,
   "metadata": {
    "colab": {
     "base_uri": "https://localhost:8080/",
     "height": 459
    },
    "colab_type": "code",
    "id": "4UIMk_334WcQ",
    "outputId": "3cc4be31-3cbe-4fec-a47f-8c8c49ef1ce8"
   },
   "outputs": [
    {
     "name": "stdout",
     "output_type": "stream",
     "text": [
      "Model: \"model_7\"\n",
      "_________________________________________________________________\n",
      "Layer (type)                 Output Shape              Param #   \n",
      "=================================================================\n",
      "input_13 (InputLayer)        [(None, 1)]               0         \n",
      "_________________________________________________________________\n",
      "lambda_12 (Lambda)           (None, 512)               0         \n",
      "_________________________________________________________________\n",
      "layer-1 (Dense)              (None, 256)               131328    \n",
      "_________________________________________________________________\n",
      "dropout_14 (Dropout)         (None, 256)               0         \n",
      "_________________________________________________________________\n",
      "batch_normalization_14 (Batc (None, 256)               1024      \n",
      "_________________________________________________________________\n",
      "layer-2 (Dense)              (None, 256)               65792     \n",
      "_________________________________________________________________\n",
      "dropout_15 (Dropout)         (None, 256)               0         \n",
      "_________________________________________________________________\n",
      "batch_normalization_15 (Batc (None, 256)               1024      \n",
      "_________________________________________________________________\n",
      "dense_7 (Dense)              (None, 1)                 257       \n",
      "=================================================================\n",
      "Total params: 199,425\n",
      "Trainable params: 198,401\n",
      "Non-trainable params: 1,024\n",
      "_________________________________________________________________\n"
     ]
    }
   ],
   "source": [
    "cross_attn_model = build_cross_attn_model()\n",
    "\n",
    "cross_attn_model.summary()"
   ]
  },
  {
   "cell_type": "markdown",
   "metadata": {
    "colab_type": "text",
    "id": "aU6tkAAI4WcS"
   },
   "source": [
    "#### Train the model"
   ]
  },
  {
   "cell_type": "code",
   "execution_count": 59,
   "metadata": {
    "colab": {
     "base_uri": "https://localhost:8080/",
     "height": 816
    },
    "colab_type": "code",
    "id": "4HXTrFIR4WcS",
    "outputId": "a2791cf1-3fe1-43b7-c66a-1ed347d9d868"
   },
   "outputs": [
    {
     "name": "stdout",
     "output_type": "stream",
     "text": [
      "Starting training at 2020-04-16 16:47:09.464449\n",
      "Epoch 1/30\n",
      "WARNING:tensorflow:Can save best model only with val_acc available, skipping.\n"
     ]
    },
    {
     "name": "stderr",
     "output_type": "stream",
     "text": [
      "WARNING:tensorflow:Can save best model only with val_acc available, skipping.\n"
     ]
    },
    {
     "name": "stdout",
     "output_type": "stream",
     "text": [
      "458/458 - 14s - loss: 0.3649 - accuracy: 0.8392 - val_loss: 0.3598 - val_accuracy: 0.8950\n",
      "Epoch 2/30\n",
      "WARNING:tensorflow:Can save best model only with val_acc available, skipping.\n"
     ]
    },
    {
     "name": "stderr",
     "output_type": "stream",
     "text": [
      "WARNING:tensorflow:Can save best model only with val_acc available, skipping.\n"
     ]
    },
    {
     "name": "stdout",
     "output_type": "stream",
     "text": [
      "458/458 - 14s - loss: 0.2403 - accuracy: 0.9018 - val_loss: 0.2039 - val_accuracy: 0.9206\n",
      "Epoch 3/30\n",
      "WARNING:tensorflow:Can save best model only with val_acc available, skipping.\n"
     ]
    },
    {
     "name": "stderr",
     "output_type": "stream",
     "text": [
      "WARNING:tensorflow:Can save best model only with val_acc available, skipping.\n"
     ]
    },
    {
     "name": "stdout",
     "output_type": "stream",
     "text": [
      "458/458 - 13s - loss: 0.1939 - accuracy: 0.9225 - val_loss: 0.1796 - val_accuracy: 0.9282\n",
      "Epoch 4/30\n",
      "WARNING:tensorflow:Can save best model only with val_acc available, skipping.\n"
     ]
    },
    {
     "name": "stderr",
     "output_type": "stream",
     "text": [
      "WARNING:tensorflow:Can save best model only with val_acc available, skipping.\n"
     ]
    },
    {
     "name": "stdout",
     "output_type": "stream",
     "text": [
      "458/458 - 14s - loss: 0.1638 - accuracy: 0.9353 - val_loss: 0.1633 - val_accuracy: 0.9376\n",
      "Epoch 5/30\n",
      "WARNING:tensorflow:Can save best model only with val_acc available, skipping.\n"
     ]
    },
    {
     "name": "stderr",
     "output_type": "stream",
     "text": [
      "WARNING:tensorflow:Can save best model only with val_acc available, skipping.\n"
     ]
    },
    {
     "name": "stdout",
     "output_type": "stream",
     "text": [
      "458/458 - 13s - loss: 0.1418 - accuracy: 0.9451 - val_loss: 0.1652 - val_accuracy: 0.9364\n",
      "Epoch 6/30\n",
      "WARNING:tensorflow:Can save best model only with val_acc available, skipping.\n"
     ]
    },
    {
     "name": "stderr",
     "output_type": "stream",
     "text": [
      "WARNING:tensorflow:Can save best model only with val_acc available, skipping.\n"
     ]
    },
    {
     "name": "stdout",
     "output_type": "stream",
     "text": [
      "458/458 - 14s - loss: 0.1276 - accuracy: 0.9499 - val_loss: 0.1428 - val_accuracy: 0.9456\n",
      "Epoch 7/30\n",
      "WARNING:tensorflow:Can save best model only with val_acc available, skipping.\n"
     ]
    },
    {
     "name": "stderr",
     "output_type": "stream",
     "text": [
      "WARNING:tensorflow:Can save best model only with val_acc available, skipping.\n"
     ]
    },
    {
     "name": "stdout",
     "output_type": "stream",
     "text": [
      "458/458 - 13s - loss: 0.1132 - accuracy: 0.9559 - val_loss: 0.1605 - val_accuracy: 0.9405\n",
      "Epoch 8/30\n",
      "WARNING:tensorflow:Can save best model only with val_acc available, skipping.\n"
     ]
    },
    {
     "name": "stderr",
     "output_type": "stream",
     "text": [
      "WARNING:tensorflow:Can save best model only with val_acc available, skipping.\n"
     ]
    },
    {
     "name": "stdout",
     "output_type": "stream",
     "text": [
      "458/458 - 14s - loss: 0.1047 - accuracy: 0.9597 - val_loss: 0.1426 - val_accuracy: 0.9471\n",
      "Epoch 9/30\n",
      "WARNING:tensorflow:Can save best model only with val_acc available, skipping.\n"
     ]
    },
    {
     "name": "stderr",
     "output_type": "stream",
     "text": [
      "WARNING:tensorflow:Can save best model only with val_acc available, skipping.\n"
     ]
    },
    {
     "name": "stdout",
     "output_type": "stream",
     "text": [
      "458/458 - 14s - loss: 0.0968 - accuracy: 0.9626 - val_loss: 0.1390 - val_accuracy: 0.9464\n",
      "Epoch 10/30\n",
      "WARNING:tensorflow:Can save best model only with val_acc available, skipping.\n"
     ]
    },
    {
     "name": "stderr",
     "output_type": "stream",
     "text": [
      "WARNING:tensorflow:Can save best model only with val_acc available, skipping.\n"
     ]
    },
    {
     "name": "stdout",
     "output_type": "stream",
     "text": [
      "458/458 - 13s - loss: 0.0887 - accuracy: 0.9658 - val_loss: 0.1395 - val_accuracy: 0.9488\n",
      "Epoch 11/30\n",
      "WARNING:tensorflow:Can save best model only with val_acc available, skipping.\n"
     ]
    },
    {
     "name": "stderr",
     "output_type": "stream",
     "text": [
      "WARNING:tensorflow:Can save best model only with val_acc available, skipping.\n"
     ]
    },
    {
     "name": "stdout",
     "output_type": "stream",
     "text": [
      "458/458 - 14s - loss: 0.0822 - accuracy: 0.9684 - val_loss: 0.1467 - val_accuracy: 0.9513\n",
      "Training ended at 2020-04-16 16:49:41.484847\n",
      "Minutes elapsed: 2.533670\n"
     ]
    }
   ],
   "source": [
    "print(\"Starting training at\", datetime.datetime.now())\n",
    "t0 = time.time()\n",
    "callbacks = [ModelCheckpoint(MODEL_WEIGHTS_FILE, monitor='val_acc', save_best_only=True),\n",
    "              EarlyStopping(monitor='val_loss', patience=2)]\n",
    "\n",
    "history = cross_attn_model.fit(X_train, \n",
    "                    y_train, \n",
    "                    epochs=30,\n",
    "                    validation_split=VALIDATION_SPLIT,\n",
    "                    verbose=2,\n",
    "                    batch_size=BATCH_SIZE,\n",
    "                    callbacks=callbacks)\n",
    "cross_attn_model.save_weights(MODEL_WEIGHTS_FILE)\n",
    "t1 = time.time()\n",
    "print(\"Training ended at\", datetime.datetime.now())\n",
    "print(\"Minutes elapsed: %f\" % ((t1 - t0) / 60.))"
   ]
  },
  {
   "cell_type": "code",
   "execution_count": 66,
   "metadata": {
    "colab": {
     "base_uri": "https://localhost:8080/",
     "height": 595
    },
    "colab_type": "code",
    "id": "zYvJjEIz5ff_",
    "outputId": "a4a967d5-a0c4-42e0-f5e1-4ebd3cf5be4a"
   },
   "outputs": [
    {
     "data": {
      "image/png": "[encoded data removed]",
      "text/plain": [
       "<Figure size 432x288 with 1 Axes>"
      ]
     },
     "metadata": {
      "tags": []
     },
     "output_type": "display_data"
    },
    {
     "data": {
      "image/png": "[encoded data removed]",
      "text/plain": [
       "<Figure size 432x288 with 1 Axes>"
      ]
     },
     "metadata": {
      "tags": []
     },
     "output_type": "display_data"
    }
   ],
   "source": [
    "plot_model(\"Cross Attention using USE: \")"
   ]
  },
  {
   "cell_type": "code",
   "execution_count": 61,
   "metadata": {
    "colab": {
     "base_uri": "https://localhost:8080/",
     "height": 34
    },
    "colab_type": "code",
    "id": "Bh682aKN4WcV",
    "outputId": "40afed12-3259-45bb-94e2-344ba0592ab6"
   },
   "outputs": [
    {
     "name": "stdout",
     "output_type": "stream",
     "text": [
      "Maximum accuracy at epoch 11 = 0.9513\n"
     ]
    }
   ],
   "source": [
    "max_val_acc, idx = max((val, idx) for (idx, val) in enumerate(history.history['val_accuracy']))\n",
    "print('Maximum accuracy at epoch', '{:d}'.format(idx+1), '=', '{:.4f}'.format(max_val_acc))"
   ]
  },
  {
   "cell_type": "markdown",
   "metadata": {
    "colab_type": "text",
    "id": "uKOUHr544WcX"
   },
   "source": [
    "#### Test the model"
   ]
  },
  {
   "cell_type": "code",
   "execution_count": 64,
   "metadata": {
    "colab": {
     "base_uri": "https://localhost:8080/",
     "height": 85
    },
    "colab_type": "code",
    "id": "k3_QqVxG4WcX",
    "outputId": "07262418-bd4e-49b1-98d9-a5b309cb6487"
   },
   "outputs": [
    {
     "name": "stdout",
     "output_type": "stream",
     "text": [
      "\n",
      "# Evaluate on test data\n",
      "1017/1017 [==============================] - 8s 8ms/step - loss: 0.1493 - accuracy: 0.9490\n",
      "test loss, test acc: [0.1492963433265686, 0.9490103125572205]\n"
     ]
    }
   ],
   "source": [
    "cross_attn_model.load_weights(MODEL_WEIGHTS_FILE)  \n",
    "predicts = cross_attn_model.predict(X_test)\n",
    "print('\\n# Evaluate on test data')\n",
    "results = cross_attn_model.evaluate(X_test, y_test)\n",
    "print('test loss, test acc:', results)"
   ]
  },
  {
   "cell_type": "markdown",
   "metadata": {
    "colab_type": "text",
    "id": "DJJc9e5M4WcZ"
   },
   "source": [
    "### Model-3: Bert Based Cross Attention "
   ]
  },
  {
   "cell_type": "code",
   "execution_count": 21,
   "metadata": {
    "colab": {},
    "colab_type": "code",
    "id": "M3Z0WKgMP1Gu"
   },
   "outputs": [
    {
     "name": "stdout",
     "output_type": "stream",
     "text": [
      "Requirement already satisfied: bert-tensorflow in /home/rahul_kulkarni/anaconda3/lib/python3.7/site-packages (1.0.1)\n",
      "Requirement already satisfied: six in /home/rahul_kulkarni/anaconda3/lib/python3.7/site-packages (from bert-tensorflow) (1.14.0)\n",
      "Requirement already satisfied: bert-for-tf2 in /home/rahul_kulkarni/anaconda3/lib/python3.7/site-packages (0.14.1)\n",
      "Requirement already satisfied: py-params>=0.9.6 in /home/rahul_kulkarni/anaconda3/lib/python3.7/site-packages (from bert-for-tf2) (0.9.7)\n",
      "Requirement already satisfied: params-flow>=0.8.0 in /home/rahul_kulkarni/anaconda3/lib/python3.7/site-packages (from bert-for-tf2) (0.8.0)\n",
      "Requirement already satisfied: tqdm in /home/rahul_kulkarni/anaconda3/lib/python3.7/site-packages (from params-flow>=0.8.0->bert-for-tf2) (4.36.1)\n",
      "Requirement already satisfied: numpy in /home/rahul_kulkarni/anaconda3/lib/python3.7/site-packages (from params-flow>=0.8.0->bert-for-tf2) (1.17.2)\n",
      "Requirement already satisfied: sentencepiece in /home/rahul_kulkarni/anaconda3/lib/python3.7/site-packages (0.1.85)\n"
     ]
    }
   ],
   "source": [
    "!pip install bert-tensorflow\n",
    "!pip install bert-for-tf2\n",
    "!pip install sentencepiece"
   ]
  },
  {
   "cell_type": "code",
   "execution_count": 35,
   "metadata": {
    "colab": {
     "base_uri": "https://localhost:8080/",
     "height": 51
    },
    "colab_type": "code",
    "id": "jGCFUqs84WcZ",
    "outputId": "ccd05689-0ea4-4cb7-bcd6-a86559e35dbc"
   },
   "outputs": [
    {
     "name": "stdout",
     "output_type": "stream",
     "text": [
      "TensorFlow Version: 2.1.0\n",
      "Hub version:  0.8.0\n"
     ]
    }
   ],
   "source": [
    "import bert\n",
    "from bert.tokenization.bert_tokenization import FullTokenizer\n",
    "import sys\n",
    "from tqdm import tqdm\n",
    "from tensorflow.keras.optimizers import Adam\n",
    "from collections import namedtuple\n",
    "print(\"TensorFlow Version:\",tf.__version__)\n",
    "print(\"Hub version: \",hub.__version__)"
   ]
  },
  {
   "cell_type": "code",
   "execution_count": 30,
   "metadata": {
    "colab": {},
    "colab_type": "code",
    "id": "joKlZdcU4Wcb"
   },
   "outputs": [],
   "source": [
    "bert_layer=hub.KerasLayer(\"https://tfhub.dev/tensorflow/bert_en_uncased_L-12_H-768_A-12/1\",trainable=True)"
   ]
  },
  {
   "cell_type": "code",
   "execution_count": 43,
   "metadata": {
    "colab": {},
    "colab_type": "code",
    "id": "HDfJf0ua4Wcd"
   },
   "outputs": [],
   "source": [
    "MAX_SEQ_LEN=128\n",
    "BATCH_SIZE=200\n",
    "VALIDATION_SPLIT=0.1\n",
    "DROPOUT=0.2\n",
    "MODEL_WEIGHTS_FILE=\"gdrive/My Drive/Colab Notebooks/coda/data/CODA_QS_BERT\"\n",
    "\n",
    "\n",
    "def build_bert_model(activation_function='relu', \n",
    "                  optimizer='adam', \n",
    "                  #kernel_initializer=tf.keras.initializers.he_normal(seed=1), \n",
    "                  #bias_initializer='zeros',\n",
    "                  dropout=0.2):\n",
    "\n",
    "    input_word_ids = Input(shape=(MAX_SEQ_LEN,), dtype=tf.int32, name=\"input_word_ids\")\n",
    "    input_mask = Input(shape=(MAX_SEQ_LEN,), dtype=tf.int32, name=\"input_mask\")\n",
    "    segment_ids = Input(shape=(MAX_SEQ_LEN,), dtype=tf.int32, name=\"segment_ids\")\n",
    "    \n",
    "    pooled_output, sequence_output = bert_layer([input_word_ids, input_mask, segment_ids])\n",
    "    \n",
    "    # Final sigmoid layer for prediction probablities\n",
    "    pred = Dense(1, activation='sigmoid')(pooled_output)\n",
    "    \n",
    "    bert_model = Model(inputs=[input_word_ids, input_mask, segment_ids], outputs=pred)\n",
    "    \n",
    "    opt = Adam(lr=5e-5)\n",
    "    \n",
    "    bert_model.compile(loss='binary_crossentropy', optimizer=opt, metrics=['accuracy'])\n",
    "    \n",
    "    return bert_model"
   ]
  },
  {
   "cell_type": "code",
   "execution_count": 44,
   "metadata": {
    "colab": {
     "base_uri": "https://localhost:8080/",
     "height": 357
    },
    "colab_type": "code",
    "id": "SI4kKvfA4Wce",
    "outputId": "55a46ecb-1dc2-4335-e173-a990f2145165"
   },
   "outputs": [
    {
     "name": "stdout",
     "output_type": "stream",
     "text": [
      "Model: \"model_2\"\n",
      "__________________________________________________________________________________________________\n",
      "Layer (type)                    Output Shape         Param #     Connected to                     \n",
      "==================================================================================================\n",
      "input_word_ids (InputLayer)     [(None, 128)]        0                                            \n",
      "__________________________________________________________________________________________________\n",
      "input_mask (InputLayer)         [(None, 128)]        0                                            \n",
      "__________________________________________________________________________________________________\n",
      "segment_ids (InputLayer)        [(None, 128)]        0                                            \n",
      "__________________________________________________________________________________________________\n",
      "keras_layer_1 (KerasLayer)      [(None, 768), (None, 109482241   input_word_ids[0][0]             \n",
      "                                                                 input_mask[0][0]                 \n",
      "                                                                 segment_ids[0][0]                \n",
      "__________________________________________________________________________________________________\n",
      "dense_2 (Dense)                 (None, 1)            769         keras_layer_1[1][0]              \n",
      "==================================================================================================\n",
      "Total params: 109,483,010\n",
      "Trainable params: 109,483,009\n",
      "Non-trainable params: 1\n",
      "__________________________________________________________________________________________________\n"
     ]
    }
   ],
   "source": [
    "bert_model = build_bert_model()\n",
    "\n",
    "bert_model.summary()"
   ]
  },
  {
   "cell_type": "code",
   "execution_count": 36,
   "metadata": {
    "colab": {},
    "colab_type": "code",
    "id": "E0yp0zvf4Wch"
   },
   "outputs": [],
   "source": [
    "#FullTokenizer=bert.bert_tokenization.FullTokenizer\n",
    "\n",
    "vocab_file=bert_layer.resolved_object.vocab_file.asset_path.numpy()\n",
    "\n",
    "do_lower_case=bert_layer.resolved_object.do_lower_case.numpy()\n",
    "\n",
    "tokenizer=FullTokenizer(vocab_file,do_lower_case)"
   ]
  },
  {
   "cell_type": "code",
   "execution_count": 37,
   "metadata": {
    "colab": {},
    "colab_type": "code",
    "id": "W3YGBsLp4Wcj"
   },
   "outputs": [],
   "source": [
    "def get_masks(tokens, max_seq_length):\n",
    "    return [1]*len(tokens) + [0] * (max_seq_length - len(tokens))\n",
    "\n",
    "def get_segments(tokens, max_seq_length):\n",
    "    \"\"\"Segments: 0 for the first sequence, 1 for the second\"\"\"\n",
    "    segments = []\n",
    "    current_segment_id = 0\n",
    "    for token in tokens:\n",
    "        segments.append(current_segment_id)\n",
    "        if token == \"[SEP]\":\n",
    "            current_segment_id = 1\n",
    "    return segments + [0] * (max_seq_length - len(tokens))"
   ]
  },
  {
   "cell_type": "code",
   "execution_count": 38,
   "metadata": {
    "colab": {},
    "colab_type": "code",
    "id": "pXino_nZ4Wck"
   },
   "outputs": [],
   "source": [
    "def get_ids(tokens, tokenizer, max_seq_length):\n",
    "    \"\"\"Token ids from Tokenizer vocab\"\"\"\n",
    "    token_ids = tokenizer.convert_tokens_to_ids(tokens,)\n",
    "    input_ids = token_ids + [0] * (max_seq_length-len(token_ids))\n",
    "    return input_ids"
   ]
  },
  {
   "cell_type": "code",
   "execution_count": 39,
   "metadata": {
    "colab": {},
    "colab_type": "code",
    "id": "XnwtfSCd4Wcm"
   },
   "outputs": [],
   "source": [
    "def create_single_input(sentence,MAX_LEN):\n",
    "  \n",
    "  stokens = tokenizer.tokenize(sentence)\n",
    "  \n",
    "  stokens = stokens[:MAX_LEN]\n",
    "  \n",
    "  stokens = [\"[CLS]\"] + stokens + [\"[SEP]\"]\n",
    " \n",
    "  ids = get_ids(stokens, tokenizer, MAX_SEQ_LEN)\n",
    "  masks = get_masks(stokens, MAX_SEQ_LEN)\n",
    "  segments = get_segments(stokens, MAX_SEQ_LEN)\n",
    "\n",
    "  return ids,masks,segments"
   ]
  },
  {
   "cell_type": "code",
   "execution_count": 40,
   "metadata": {
    "colab": {},
    "colab_type": "code",
    "id": "ahOPY9q04Wco"
   },
   "outputs": [],
   "source": [
    "def create_input_array(sentences):\n",
    "\n",
    "  input_ids, input_masks, input_segments = [], [], []\n",
    "\n",
    "  for sentence in tqdm(sentences,position=0, leave=True):\n",
    "  \n",
    "    ids,masks,segments=create_single_input(sentence,MAX_SEQ_LEN-2)\n",
    "\n",
    "    input_ids.append(ids)\n",
    "    input_masks.append(masks)\n",
    "    input_segments.append(segments)\n",
    "\n",
    "  return [np.asarray(input_ids, dtype=np.int32), \n",
    "            np.asarray(input_masks, dtype=np.int32), \n",
    "            np.asarray(input_segments, dtype=np.int32)]"
   ]
  },
  {
   "cell_type": "code",
   "execution_count": 41,
   "metadata": {
    "colab": {
     "base_uri": "https://localhost:8080/",
     "height": 34
    },
    "colab_type": "code",
    "id": "xwsYfnnN4Wcq",
    "outputId": "663bd5b7-d23c-4d91-b47c-49a36e4c4adb"
   },
   "outputs": [
    {
     "name": "stderr",
     "output_type": "stream",
     "text": [
      "100%|██████████| 130141/130141 [00:37<00:00, 3448.67it/s]\n"
     ]
    }
   ],
   "source": [
    "inputs=create_input_array(X_train)"
   ]
  },
  {
   "cell_type": "code",
   "execution_count": 45,
   "metadata": {
    "colab": {
     "base_uri": "https://localhost:8080/",
     "height": 187
    },
    "colab_type": "code",
    "id": "7O8mm0Kz4Wct",
    "outputId": "8c684225-3f99-476b-bf49-8caa6524a274"
   },
   "outputs": [
    {
     "name": "stdout",
     "output_type": "stream",
     "text": [
      "Starting training at 2020-04-17 16:31:08.463756\n",
      "Train on 117126 samples, validate on 13015 samples\n",
      "Epoch 1/3\n",
      "117126/117126 - 18382s - loss: 0.1056 - accuracy: 0.9566 - val_loss: 0.0374 - val_accuracy: 0.9875\n",
      "Epoch 2/3\n",
      "117126/117126 - 18074s - loss: 0.0134 - accuracy: 0.9961 - val_loss: 0.0248 - val_accuracy: 0.9933\n",
      "Epoch 3/3\n",
      "117126/117126 - 17976s - loss: 0.0083 - accuracy: 0.9975 - val_loss: 0.0217 - val_accuracy: 0.9942\n",
      "Training ended at 2020-04-18 07:38:21.567597\n",
      "Minutes elapsed: 907.218394\n"
     ]
    }
   ],
   "source": [
    "print(\"Starting training at\", datetime.datetime.now())\n",
    "t0 = time.time()\n",
    "callbacks = [ModelCheckpoint(MODEL_WEIGHTS_FILE, monitor='val_acc', save_best_only=True), \n",
    "             EarlyStopping(monitor='val_loss', patience=2)]\n",
    "history = bert_model.fit(inputs, \n",
    "                    y_train, \n",
    "                    epochs=3,\n",
    "                    validation_split=VALIDATION_SPLIT,\n",
    "                    verbose=2,\n",
    "                    batch_size=BATCH_SIZE,\n",
    "                    callbacks=callbacks\n",
    "                    )\n",
    "bert_model.save_weights(MODEL_WEIGHTS_FILE)\n",
    "t1 = time.time()\n",
    "print(\"Training ended at\", datetime.datetime.now())\n",
    "print(\"Minutes elapsed: %f\" % ((t1 - t0) / 60.))"
   ]
  },
  {
   "cell_type": "code",
   "execution_count": 46,
   "metadata": {
    "colab": {},
    "colab_type": "code",
    "id": "OY949GtA6HUE"
   },
   "outputs": [
    {
     "data": {
      "image/png": "[encoded data removed]",
      "text/plain": [
       "<Figure size 432x288 with 1 Axes>"
      ]
     },
     "metadata": {
      "needs_background": "light"
     },
     "output_type": "display_data"
    },
    {
     "data": {
      "image/png": "[encoded data removed]",
      "text/plain": [
       "<Figure size 432x288 with 1 Axes>"
      ]
     },
     "metadata": {
      "needs_background": "light"
     },
     "output_type": "display_data"
    }
   ],
   "source": [
    "plot_model(\"Cross Attention using BERT \")"
   ]
  },
  {
   "cell_type": "code",
   "execution_count": 47,
   "metadata": {
    "colab": {
     "base_uri": "https://localhost:8080/",
     "height": 102
    },
    "colab_type": "code",
    "id": "YpZlT4aQujik",
    "outputId": "50705fa4-557e-4eee-d1a0-b4e97374b478"
   },
   "outputs": [
    {
     "name": "stderr",
     "output_type": "stream",
     "text": [
      "100%|██████████| 32536/32536 [00:09<00:00, 3586.37it/s]\n"
     ]
    },
    {
     "name": "stdout",
     "output_type": "stream",
     "text": [
      "\n",
      "# Evaluate on test data\n",
      "32536/32536 [==============================] - 1670s 51ms/sample - loss: 0.0205 - accuracy: 0.9948\n",
      "test loss, test acc: [0.020538683364120063, 0.9948365]\n"
     ]
    }
   ],
   "source": [
    "inputs=create_input_array(X_test)\n",
    "bert_model.load_weights(MODEL_WEIGHTS_FILE)  \n",
    "predicts = bert_model.predict(inputs)\n",
    "print('\\n# Evaluate on test data')\n",
    "results = bert_model.evaluate(inputs, y_test)\n",
    "print('test loss, test acc:', results)"
   ]
  },
  {
   "cell_type": "code",
   "execution_count": null,
   "metadata": {},
   "outputs": [],
   "source": []
  }
 ],
 "metadata": {
  "accelerator": "TPU",
  "colab": {
   "include_colab_link": true,
   "machine_shape": "hm",
   "name": "CodaQuestionSimilarity-final.ipynb",
   "provenance": []
  },
  "kernelspec": {
   "display_name": "Python 3",
   "language": "python",
   "name": "python3"
  },
  "language_info": {
   "codemirror_mode": {
    "name": "ipython",
    "version": 3
   },
   "file_extension": ".py",
   "mimetype": "text/x-python",
   "name": "python",
   "nbconvert_exporter": "python",
   "pygments_lexer": "ipython3",
   "version": "3.7.4"
  },
  "toc": {
   "base_numbering": 1,
   "nav_menu": {},
   "number_sections": true,
   "sideBar": true,
   "skip_h1_title": false,
   "title_cell": "Table of Contents",
   "title_sidebar": "Contents",
   "toc_cell": false,
   "toc_position": {
    "height": "calc(100% - 180px)",
    "left": "10px",
    "top": "150px",
    "width": "165px"
   },
   "toc_section_display": true,
   "toc_window_display": true
  },
  "varInspector": {
   "cols": {
    "lenName": 16,
    "lenType": 16,
    "lenVar": 40
   },
   "kernels_config": {
    "python": {
     "delete_cmd_postfix": "",
     "delete_cmd_prefix": "del ",
     "library": "var_list.py",
     "varRefreshCmd": "print(var_dic_list())"
    },
    "r": {
     "delete_cmd_postfix": ") ",
     "delete_cmd_prefix": "rm(",
     "library": "var_list.r",
     "varRefreshCmd": "cat(var_dic_list()) "
    }
   },
   "types_to_exclude": [
    "module",
    "function",
    "builtin_function_or_method",
    "instance",
    "_Feature"
   ],
   "window_display": false
  }
 },
 "nbformat": 4,
 "nbformat_minor": 1
}
